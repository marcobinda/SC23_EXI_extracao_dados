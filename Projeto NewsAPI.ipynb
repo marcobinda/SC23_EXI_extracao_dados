{
 "cells": [
  {
   "cell_type": "code",
   "execution_count": null,
   "metadata": {
    "application/vnd.databricks.v1+cell": {
     "cellMetadata": {
      "byteLimit": 2048000,
      "rowLimit": 10000
     },
     "inputWidgets": {},
     "nuid": "b1d134a2-1d0d-4d3e-ab23-de37e82538e9",
     "showTitle": false,
     "title": ""
    }
   },
   "outputs": [],
   "source": [
    "import requests\n",
    "from pyspark.sql import SparkSession\n",
    "from pyspark.sql.functions import *\n",
    "from pyspark.sql.types import IntegerType, StringType, StructType, StructField, MapType\n",
    "from array import array\n",
    "\n",
    "spark = SparkSession.builder.appName('example').getOrCreate()"
   ]
  },
  {
   "cell_type": "code",
   "execution_count": null,
   "metadata": {
    "application/vnd.databricks.v1+cell": {
     "cellMetadata": {
      "byteLimit": 2048000,
      "rowLimit": 10000
     },
     "inputWidgets": {},
     "nuid": "6353a03a-8eb2-494b-a963-a7033ee28ca0",
     "showTitle": false,
     "title": ""
    }
   },
   "outputs": [
    {
     "name": "stdout",
     "output_type": "stream",
     "text": [
      "Out[6]: {'status': 'ok',\n",
      " 'totalResults': 56,\n",
      " 'articles': [{'source': {'id': 'wired', 'name': 'Wired'},\n",
      "   'author': 'Amit Katwala',\n",
      "   'title': 'DeepMind’s New AI Can Predict Genetic Diseases',\n",
      "   'description': 'AlphaMissense, a new model from Google’s artificial intelligence team, analyzes the effects of DNA mutations and will accelerate research into rare diseases.',\n",
      "   'url': 'https://www.wired.com/story/deepmind-ai-alphamissense-genetics-rare-diseases/',\n",
      "   'urlToImage': 'https://media.wired.com/photos/6509abd0d7ea654c08913301/191:100/w_1280,c_limit/digitized-dna-helix-science-GettyImages-85757934.jpg',\n",
      "   'publishedAt': '2023-09-19T14:35:23Z',\n",
      "   'content': 'About 10 years ago, iga Avsec was a PhD physics student who found himself taking a crash course in genomics via a university module on machine learning. He was soon working in a lab that studied rare… [+2913 chars]'},\n",
      "  {'source': {'id': 'the-next-web', 'name': 'The Next Web'},\n",
      "   'author': 'Ioanna Lykiardopoulou',\n",
      "   'title': 'DeepMind’s new AI tool can predict genetic diseases',\n",
      "   'description': 'Google DeepMind has unveiled its novel AI tool that can predict whether DNA mutations are likely to cause genetic diseases. The ambition is that it will\\xa0 facilitate faster diagnosis and development of life-saving treatments. The new AI model, called AlphaMiss…',\n",
      "   'url': 'https://thenextweb.com/news/deepminds-ai-tool-predicts-genetic-diseases',\n",
      "   'urlToImage': 'https://img-cdn.tnwcdn.com/image/tnw-blurple?filter_last=1&fit=1280%2C640&url=https%3A%2F%2Fcdn0.tnwcdn.com%2Fwp-content%2Fblogs.dir%2F1%2Ffiles%2F2023%2F09%2FUntitled-design-14-10.jpg&signature=d5b222e3ee9bcffe5f162236598b4ad2',\n",
      "   'publishedAt': '2023-09-20T11:44:36Z',\n",
      "   'content': 'Google DeepMind has unveiled its novel AI tool that can predict whether DNA mutations are likely to cause genetic diseases. The ambition is that it will\\xa0 facilitate faster diagnosis and development o… [+2103 chars]'},\n",
      "  {'source': {'id': None, 'name': 'ReadWrite'},\n",
      "   'author': 'Muhammad Sohaib Saleem',\n",
      "   'title': 'From Sci-Fi to Reality: The Roadmap of AI Development and Its Future Potential',\n",
      "   'description': 'Artificial Intelligence has come a long way since its conceptualization in science fiction. What was once an imaginative idea is […]\\nThe post From Sci-Fi to Reality: The Roadmap of AI Development and Its Future Potential appeared first on ReadWrite.',\n",
      "   'url': 'https://readwrite.com/from-sci-fi-to-reality-the-roadmap-of-ai-development-and-its-future-potential/',\n",
      "   'urlToImage': 'https://readwrite.com/wp-content/uploads/2023/08/Roadmap-of-AI-Development.jpg',\n",
      "   'publishedAt': '2023-09-25T20:00:51Z',\n",
      "   'content': 'Artificial Intelligence has come a long way since its conceptualization in science fiction. What was once an imaginative idea is now a reality, revolutionizing various aspects of our lives. From self… [+8873 chars]'},\n",
      "  {'source': {'id': None, 'name': 'Phys.Org'},\n",
      "   'author': 'Science X',\n",
      "   'title': 'Google AI tool predicts danger of genetic mutations',\n",
      "   'description': \"Researchers at Google DeepMind, the tech giant's artificial intelligence arm, on Tuesday introduced a tool that predicts whether genetic mutations are likely to cause harm, a breakthrough that could help research into rare diseases.\",\n",
      "   'url': 'https://phys.org/news/2023-09-google-ai-tool-danger-genetic.html',\n",
      "   'urlToImage': 'https://scx2.b-cdn.net/gfx/news/2023/googles-new-ai-tool-ca.jpg',\n",
      "   'publishedAt': '2023-09-20T08:35:47Z',\n",
      "   'content': \"Researchers at Google DeepMind, the tech giant's artificial intelligence arm, on Tuesday introduced a tool that predicts whether genetic mutations are likely to cause harm, a breakthrough that could … [+3103 chars]\"},\n",
      "  {'source': {'id': None, 'name': 'Euronews'},\n",
      "   'author': None,\n",
      "   'title': 'What’s AlphaMissense? This new Google DeepMind tool analyses genetic mutations',\n",
      "   'description': 'AlphaMissense promises to predict how dangerous a genetic mutation is.',\n",
      "   'url': 'https://www.euronews.com/next/2023/09/21/whats-alphamissense-this-new-google-deepmind-tool-analyses-genetic-mutations',\n",
      "   'urlToImage': 'https://static.euronews.com/articles/stories/07/91/15/00/1000x563_cmsv2_68a11ed3-f436-563a-b400-8121903fecc3-7911500.jpg',\n",
      "   'publishedAt': '2023-09-21T14:02:13Z',\n",
      "   'content': 'AlphaMissense promises to predict how dangerous a genetic mutation is.\\r\\n Researchers at DeepMind, one of Googles artificial intelligence (AI) companies, presented a new tool that predicts whether or … [+2308 chars]'},\n",
      "  {'source': {'id': None, 'name': 'Wired.co.uk'},\n",
      "   'author': 'Amit Katwala',\n",
      "   'title': 'DeepMind’s New AI Can Predict Genetic Diseases',\n",
      "   'description': 'AlphaMissense, a new model from Google’s artificial intelligence team, analyzes the effects of DNA mutations and will accelerate research into rare diseases.',\n",
      "   'url': 'https://www.wired.co.uk/article/deepmind-ai-alphamissense-genetics-rare-diseases',\n",
      "   'urlToImage': 'https://media.wired.co.uk/photos/6508b2210178e37fb4a68568/16:9/w_1280,c_limit/digitized-dna-helix-science-GettyImages-85757934.jpg',\n",
      "   'publishedAt': '2023-09-19T14:33:25Z',\n",
      "   'content': 'About 10 years ago, iga Avsec was a PhD physics student who found himself taking a crash course in genomics via a university module on machine learning. He was soon working in a lab that studied rare… [+4707 chars]'},\n",
      "  {'source': {'id': None, 'name': 'Singularity Hub'},\n",
      "   'author': 'Shelly Fan',\n",
      "   'title': 'DeepMind AI Hunts Down the DNA Mutations Behind Genetic Disease',\n",
      "   'description': 'Proteins are like Spider-Man in the multiverse. The underlying story is the same: each building block of a protein is based on a three-letter DNA code. However, change one letter, and the same protein becomes a different version of itself. If we’re lucky, som…',\n",
      "   'url': 'https://singularityhub.com/2023/09/21/deepmind-ai-hunts-down-the-dna-mutations-behind-genetic-disease/',\n",
      "   'urlToImage': 'https://singularityhub.com/wp-content/uploads/2023/09/deepmind-dna-double-helix-visualization.jpeg',\n",
      "   'publishedAt': '2023-09-21T20:27:27Z',\n",
      "   'content': 'Proteins are like Spider-Man in the multiverse.\\r\\nThe underlying story is the same: each building block of a protein is based on a three-letter DNA code. However, change one letter, and the same prote… [+6771 chars]'},\n",
      "  {'source': {'id': None, 'name': 'Forbes'},\n",
      "   'author': 'Steve Nouri, Forbes Councils Member, \\n Steve Nouri, Forbes Councils Member\\n https://www.forbes.com/sites/forbestechcouncil/people/stevenouri/',\n",
      "   'title': 'Generative AI Drugs Are Coming',\n",
      "   'description': 'The merging of deep, quality data and expertise with increasingly sophisticated AI capabilities has the potential to truly shift the future of medicine.',\n",
      "   'url': 'https://www.forbes.com/sites/forbestechcouncil/2023/09/05/generative-ai-drugs-are-coming/',\n",
      "   'urlToImage': 'https://imageio.forbes.com/specials-images/imageserve/64f22325ebec7ec31b17ee9b/0x0.jpg?format=jpg&width=1200',\n",
      "   'publishedAt': '2023-09-05T11:45:00Z',\n",
      "   'content': 'Steve is the Founder of GenAI Works and AI4Diversity. He is an AI expert, tech evangelist, and influencer.\\r\\ngetty\\r\\nJust as ChatGPT is turning text directions into new written materials, or just as DA… [+6523 chars]'},\n",
      "  {'source': {'id': None, 'name': 'Forbes'},\n",
      "   'author': 'Ariel Katz, Forbes Councils Member, \\n Ariel Katz, Forbes Councils Member\\n https://www.forbes.com/sites/forbestechcouncil/people/arielkatz/',\n",
      "   'title': '10 Ways AI Is Advancing Healthcare',\n",
      "   'description': 'Though there are challenges to be understood and overcome, AI is significantly improving the healthcare landscape.',\n",
      "   'url': 'https://www.forbes.com/sites/forbestechcouncil/2023/09/19/10-ways-ai-is-advancing-healthcare/',\n",
      "   'urlToImage': 'https://imageio.forbes.com/specials-images/imageserve/62bc54b6d9785913bcd547b5/0x0.jpg?format=jpg&width=1200',\n",
      "   'publishedAt': '2023-09-19T14:00:00Z',\n",
      "   'content': 'Ariel Katz, CEO and cofounder of H1.\\r\\ngetty\\r\\nThe explosion of generative AI in healthcarelargely due to the exponential growth of medical data, a shortage of healthcare providers and advancements in … [+6893 chars]'},\n",
      "  {'source': {'id': None, 'name': 'International Business Times'},\n",
      "   'author': 'AFP News',\n",
      "   'title': 'Google AI Tool Predicts Danger Of Genetic Mutations',\n",
      "   'description': \"Researchers at Google DeepMind, the tech giant's artificial intelligence arm, on Tuesday introduced a tool that predicts whether genetic mutations are likely to cause harm, a breakthrough that could help research into rare diseases.\",\n",
      "   'url': 'https://www.ibtimes.com/google-ai-tool-predicts-danger-genetic-mutations-3712362',\n",
      "   'urlToImage': 'https://d.ibtimes.com/en/full/4487127/googles-new-ai-tool-can-read-dna-like-language-see-immediately-if-word-substitution-will.jpg',\n",
      "   'publishedAt': '2023-09-19T20:57:36Z',\n",
      "   'content': \"Researchers at Google DeepMind, the tech giant's artificial intelligence arm, on Tuesday introduced a tool that predicts whether genetic mutations are likely to cause harm, a breakthrough that could … [+2437 chars]\"},\n",
      "  {'source': {'id': None, 'name': 'Forbes'},\n",
      "   'author': 'Alex Knapp, Forbes Staff, \\n Alex Knapp, Forbes Staff\\n https://www.forbes.com/sites/alexknapp/',\n",
      "   'title': 'Retinal Imaging And Machine Learning Honored In The 2023 Lasker Awards',\n",
      "   'description': 'The Lasker Foundation’s annual awards for medical research honor the inventors of optical coherence tomography and more.',\n",
      "   'url': 'https://www.forbes.com/sites/alexknapp/2023/09/21/retinal-imaging-and-machine-learning-honored-in-the-2023-lasker-awards/',\n",
      "   'urlToImage': 'https://imageio.forbes.com/specials-images/imageserve/650bc8ed984021daef9b1326/0x0.jpg?format=jpg&width=1200',\n",
      "   'publishedAt': '2023-09-21T13:00:00Z',\n",
      "   'content': 'Professor James Fujimoto\\r\\nJake Belcher Courtesy The Lasker Foundation\\r\\nThe Lasker Foundations annual awards for medical research honor the inventors of optical coherence tomography, DeepMinds AlphaFo… [+5081 chars]'},\n",
      "  {'source': {'id': None, 'name': 'Bangkok Post'},\n",
      "   'author': 'AFP',\n",
      "   'title': 'Google AI tool predicts danger of genetic mutations',\n",
      "   'description': \"WASHINGTON - Researchers at Google DeepMind, the tech giant's artificial intelligence arm, on Tuesday introduced a tool that predicts whether genetic mutations are likely to cause harm, a breakthrough that could help research into rare diseases.\",\n",
      "   'url': 'https://www.bangkokpost.com/world/2650034/google-ai-tool-predicts-danger-of-genetic-mutations',\n",
      "   'urlToImage': 'https://static.bangkokpost.com/media/content/20230920/c1_4897722_700.jpg',\n",
      "   'publishedAt': '2023-09-19T21:45:00Z',\n",
      "   'content': \"WASHINGTON - Researchers at Google DeepMind, the tech giant's artificial intelligence arm, on Tuesday introduced a tool that predicts whether genetic mutations are likely to cause harm, a breakthroug… [+2450 chars]\"},\n",
      "  {'source': {'id': None, 'name': 'Japan Today'},\n",
      "   'author': None,\n",
      "   'title': 'Google AI tool predicts danger of genetic mutations',\n",
      "   'description': \"Researchers at Google DeepMind, the tech giant's artificial intelligence arm, on Tuesday introduced a tool that predicts whether genetic mutations are likely to cause harm, a breakthrough that could help research into rare diseases. The findings are &quot;ano…\",\n",
      "   'url': 'https://japantoday.com/category/features/health/google-ai-tool-predicts-danger-of-genetic-mutations1',\n",
      "   'urlToImage': None,\n",
      "   'publishedAt': '2023-09-19T21:43:46Z',\n",
      "   'content': \"Researchers at Google DeepMind, the tech giant's artificial intelligence arm, on Tuesday introduced a tool that predicts whether genetic mutations are likely to cause harm, a breakthrough that could … [+2449 chars]\"},\n",
      "  {'source': {'id': None, 'name': 'Moneycontrol'},\n",
      "   'author': 'Lisa Jarvis',\n",
      "   'title': 'Google DeepMind#39;s AI tool could pinpoint our genetic faults',\n",
      "   'description': 'Thereâ\\x80\\x99s been plenty of worrying about the damage AI could do, but discoveries like the GoogleÂ\\xa0tool that can pluck harmful genome mutations from thousands of minute-but-benign onesÂ\\xa0show how AI can accelerate progress on the most vexing questions about huma…',\n",
      "   'url': 'https://www.moneycontrol.com/news/opinion/google-deepminds-ai-tool-could-pinpoint-our-genetic-faults-11401241.html',\n",
      "   'urlToImage': 'https://images.moneycontrol.com/static-mcnews/2023/08/Collage-Maker-30-Aug-2023-10-48-AM-3714-770x433.jpg',\n",
      "   'publishedAt': '2023-09-21T04:35:15Z',\n",
      "   'content': \"Its becoming increasingly clear that scientists are only scratching the surface of what artificial intelligence can teach us about human biology and disease. Case in point: new work by Alphabet's AI … [+4751 chars]\"},\n",
      "  {'source': {'id': None, 'name': 'CNA'},\n",
      "   'author': None,\n",
      "   'title': 'Google AI tool predicts danger of genetic mutations',\n",
      "   'description': \"WASHINGTON: Researchers at Google DeepMind, the tech giant's artificial intelligence arm, on Tuesday (Sep 19) introduced a tool that predicts whether genetic mutations are likely to cause harm, a breakthrough that could help research into rare diseases. The f…\",\n",
      "   'url': 'https://www.channelnewsasia.com/business/google-ai-tool-predicts-danger-genetic-mutations-3784016',\n",
      "   'urlToImage': 'https://onecms-res.cloudinary.com/image/upload/s--zj9ea8EA--/fl_relative,g_south_east,l_one-cms:core:watermark:afp_watermark,w_0.1/f_auto,q_auto/c_fill,g_auto,h_676,w_1200/v1/one-cms/core/71f081542f99c3723b161996288590399f4945a3.jpg?itok=JTlUK7-G',\n",
      "   'publishedAt': '2023-09-19T22:11:01Z',\n",
      "   'content': \"WASHINGTON: Researchers at Google DeepMind, the tech giant's artificial intelligence arm, on Tuesday (Sep 19) introduced a tool that predicts whether genetic mutations are likely to cause harm, a bre… [+2462 chars]\"},\n",
      "  {'source': {'id': None, 'name': 'TweakTown'},\n",
      "   'author': 'Jak Connor',\n",
      "   'title': \"Google's new AI breakthrough is a 'big step forward' to creating 'life-saving treatments'\",\n",
      "   'description': \"Google's AI firm has designed an artificial intelligence system to detect abnormal genetic mutations that can lead to diseases emerging. Continue reading at TweakTown >\",\n",
      "   'url': 'https://www.tweaktown.com/news/93431/googles-new-ai-breakthrough-is-big-step-forward-to-creating-life-saving-treatments/index.html',\n",
      "   'urlToImage': 'https://static.tweaktown.com/news/9/3/93431_58959_google-says-its-new-ai-can-pinpoint-which-genes-are-likely-to-cause-disease_full.jpg',\n",
      "   'publishedAt': '2023-09-25T04:07:03Z',\n",
      "   'content': 'Google DeepMind has created a new AI system that is capable of detecting genetic mutations that may lead to diseases.\\r\\nA new study published in the journal Science details a new AI model called Alpha… [+1822 chars]'},\n",
      "  {'source': {'id': 'new-scientist', 'name': 'New Scientist'},\n",
      "   'author': 'Michael Le Page',\n",
      "   'title': 'DeepMind AI can predict if DNA mutations are likely to be harmful',\n",
      "   'description': 'By working out which small mutations will probably be damaging, DeepMind’s AlphaMissense system could help doctors identify the cause of genetic diseases',\n",
      "   'url': 'https://www.newscientist.com/article/2392821-deepmind-ai-can-predict-if-dna-mutations-are-likely-to-be-harmful/',\n",
      "   'urlToImage': 'https://images.newscientist.com/wp-content/uploads/2023/09/19142523/SEI_172303762.jpg',\n",
      "   'publishedAt': '2023-09-19T15:30:21Z',\n",
      "   'content': 'DeepMind’s AlphaMissense AI can predict whether mutations will affect how proteins such as haemoglobin subunit beta (left) or cystic fibrosis transmembrane conductance regulator (right) will function… [+3548 chars]'},\n",
      "  {'source': {'id': None, 'name': 'Forbes'},\n",
      "   'author': 'Rob Toews, Contributor, \\n Rob Toews, Contributor\\n https://www.forbes.com/sites/robtoews/',\n",
      "   'title': 'Transformers Revolutionized AI. What Will Replace Them?',\n",
      "   'description': 'No technology remains dominant forever.',\n",
      "   'url': 'https://www.forbes.com/sites/robtoews/2023/09/03/transformers-revolutionized-ai-what-will-replace-them/',\n",
      "   'urlToImage': 'https://imageio.forbes.com/specials-images/imageserve/64f3b2b43d727bdfbf85cc97/0x0.jpg?format=jpg&width=1200',\n",
      "   'publishedAt': '2023-09-03T22:00:00Z',\n",
      "   'content': 'The transformer, today\\'s dominant AI architecture, has interesting parallels to the alien language ... [+] in the 2016 science fiction film \"Arrival.\"\\r\\nParamount Pictures\\r\\nIf modern artificial intell… [+20795 chars]'},\n",
      "  {'source': {'id': None, 'name': 'Livemint'},\n",
      "   'author': 'mint',\n",
      "   'title': 'Google’s AlphaFold has a new tool to track genetic mutations',\n",
      "   'description': 'Last year’s AI breakthrough is showing what it can do for health',\n",
      "   'url': 'https://www.livemint.com/opinion/online-views/googles-alphafold-has-a-new-tool-to-track-genetic-mutations-11695306099645.html',\n",
      "   'urlToImage': 'https://www.livemint.com/lm-img/img/2023/09/21/600x338/2-0-950951326-genome-0_1679732768848_1695307674193.jpg',\n",
      "   'publishedAt': '2023-09-21T14:51:02Z',\n",
      "   'content': 'Its becoming clear that scientists are only scratching the surface of what artificial intelligence (AI) can teach us about human biology and disease. Case in point: new work by Alphabets AI subsidiar… [+4506 chars]'},\n",
      "  {'source': {'id': None, 'name': 'Biztoc.com'},\n",
      "   'author': 'ft.com',\n",
      "   'title': 'DeepMind uses AI to predict harmful genetic mutations in humans',\n",
      "   'description': 'First example of artificial intelligence helping to accelerate diagnosis of diseases caused by genetic variants',\n",
      "   'url': 'https://biztoc.com/x/9ceb51271e409210',\n",
      "   'urlToImage': 'https://c.biztoc.com/p/9ceb51271e409210/s.webp',\n",
      "   'publishedAt': '2023-09-19T15:42:11Z',\n",
      "   'content': 'First example of artificial intelligence helping to accelerate diagnosis of diseases caused by genetic variants\\r\\nThis story appeared on ft.com, .'},\n",
      "  {'source': {'id': None, 'name': 'NDTV News'},\n",
      "   'author': None,\n",
      "   'title': \"Google's New AI Tool Predicts Danger Of Genetic Mutations\",\n",
      "   'description': \"Researchers at Google DeepMind, the tech giant's artificial intelligence arm, on Tuesday introduced a tool that predicts whether genetic mutations are likely to cause harm, a breakthrough that could help research into rare diseases.\",\n",
      "   'url': 'https://www.ndtv.com/science/google-new-ai-tool-predicts-danger-of-genetic-mutations-4405728',\n",
      "   'urlToImage': 'https://c.ndtvimg.com/2023-09/40cmfqso_google-generic_625x300_04_September_23.jpg',\n",
      "   'publishedAt': '2023-09-20T01:51:26Z',\n",
      "   'content': \"Washington: Researchers at Google DeepMind, the tech giant's artificial intelligence arm, on Tuesday introduced a tool that predicts whether genetic mutations are likely to cause harm, a breakthrough… [+2573 chars]\"},\n",
      "  {'source': {'id': None, 'name': 'Gadgets360.com'},\n",
      "   'author': 'Agence France-Presse',\n",
      "   'title': 'Google DeepMind AI Tool Predicts Whether Genetic Mutations Are Likely to Cause Harm',\n",
      "   'description': \"Researchers at Google DeepMind, the tech giant's artificial intelligence arm, on Tuesday introduced a tool that predicts whether genetic mutations are likely to cause harm, a breakthrough that could help research into rare diseases.\",\n",
      "   'url': 'https://www.gadgets360.com/internet/news/google-deepmind-ai-tool-predicts-genetic-mutation-dangers-rare-diseases-research-4406178',\n",
      "   'urlToImage': 'https://i.gadgets360cdn.com/large/google_reuters_1694582304835.jpg',\n",
      "   'publishedAt': '2023-09-20T06:22:52Z',\n",
      "   'content': \"Researchers at Google DeepMind, the tech giant's artificial intelligence arm, on Tuesday introduced a tool that predicts whether genetic mutations are likely to cause harm, a breakthrough that could … [+2515 chars]\"},\n",
      "  {'source': {'id': None, 'name': 'Cloudtweaks.com'},\n",
      "   'author': 'Gary Bernstein',\n",
      "   'title': 'The Age of AI Benefits: A Global Transformation',\n",
      "   'description': 'Artificial Intelligence (AI) has emerged as a transformative force that is reshaping industries, improving our daily lives, and pushing the boundaries of human potential. This cutting-edge technology is no longer confined to science fiction; it has become an …',\n",
      "   'url': 'https://cloudtweaks.com/2023/09/age-ai-benefits-global-transformation/',\n",
      "   'urlToImage': 'https://cloudtweaks.com/wp-content/uploads/2020/10/Gary-Bernstein.jpg',\n",
      "   'publishedAt': '2023-09-05T10:07:40Z',\n",
      "   'content': 'Artificial Intelligence (AI) has emerged as a transformative force that is reshaping industries, improving our daily lives, and pushing the boundaries of human potential. This cutting-edge technology… [+7082 chars]'},\n",
      "  {'source': {'id': None, 'name': 'Cryptopolitan'},\n",
      "   'author': 'John Palmer',\n",
      "   'title': 'Deep Genomics Unveils Groundbreaking AI Foundation Model for RNA Therapeutics',\n",
      "   'description': 'Deep Genomics, a pioneering AI-driven drug development company, has introduced an innovative AI foundation model called BigRNA. This transformative model, based on deep learning, represents a significant leap forward in the discovery of RNA biology and therap…',\n",
      "   'url': 'https://www.cryptopolitan.com/deep-genomics-unveils-ai-foundation/',\n",
      "   'urlToImage': 'https://img.cryptopolitan.com/wp-content/uploads/2023/09/image-2023-09-27T145209.477-1.jpg',\n",
      "   'publishedAt': '2023-09-27T14:11:06Z',\n",
      "   'content': '<ul><li>Deep Genomics introduces BigRNA, a groundbreaking AI foundation model for RNA therapeutics, with immense potential for revolutionizing drug discovery.</li><li>BigRNA’s versatility, extensive … [+5733 chars]'},\n",
      "  {'source': {'id': None, 'name': 'Dataversity.net'},\n",
      "   'author': 'Paramita (Guha) Ghosh',\n",
      "   'title': 'Machine Learning Use Cases for Data Management',\n",
      "   'description': 'In 2023,\\xa0machine learning\\xa0(ML) is a powerful enabler for Data Management, revolutionizing the way organizations handle and analyze vast amounts of data. ML, a subset of artificial intelligence (AI), offers various approaches to tackle Data Management challeng…',\n",
      "   'url': 'https://www.dataversity.net/machine-learning-use-cases-data-management/',\n",
      "   'urlToImage': 'https://d3an9kf42ylj3p.cloudfront.net/uploads/2017/08/pg_MLusecases_aug23.jpg',\n",
      "   'publishedAt': '2023-08-31T07:35:00Z',\n",
      "   'content': 'In 2023,\\xa0machine learning\\xa0(ML) is a powerful enabler for Data Management, revolutionizing the way organizations handle and analyze vast amounts of data. ML, a subset of artificial intelligence (AI), … [+14744 chars]'},\n",
      "  {'source': {'id': None, 'name': 'GlobeNewswire'},\n",
      "   'author': 'XCELLENT INSIGHTS LLP',\n",
      "   'title': 'Global Precision Medicine Market Size to Reach USD 148.2 Billion in 2032 | Xcellent Insights',\n",
      "   'description': 'Pune, Sept. 26, 2023 (GLOBE NEWSWIRE) -- The Global Precision Medicine Market\\r\\n has witnessed remarkable growth, reaching a size of approximately USD 57.69 billion in 2022, and is projected to further expand to USD 110.9 billion with a robust CAGR of 11.5% du…',\n",
      "   'url': 'https://www.globenewswire.com/news-release/2023/09/25/2749076/0/en/Global-Precision-Medicine-Market-Size-to-Reach-USD-148-2-Billion-in-2032-Xcellent-Insights.html',\n",
      "   'urlToImage': 'https://ml.globenewswire.com/Resource/Download/20e20a5a-19cb-40c4-97ab-6a8a15c225be',\n",
      "   'publishedAt': '2023-09-25T23:02:00Z',\n",
      "   'content': 'Pune, Sept. 26, 2023 (GLOBE NEWSWIRE) -- The Global Precision Medicine Market\\r\\n has witnessed remarkable growth, reaching a size of approximately USD 57.69 billion in 2022, and is projected to furthe… [+10510 chars]'},\n",
      "  {'source': {'id': 'the-times-of-india', 'name': 'The Times of India'},\n",
      "   'author': 'The Feed',\n",
      "   'title': 'Mark Zuckerberg and Dr Priscilla Chan aim to eradicate all diseases by 2100',\n",
      "   'description': 'Mark Zuckerberg and his wife, Priscilla Chan, plan to eradicate all human diseases by 2100 through their foundation, The Chan Zuckerberg Initiative. They aim to create a computing system that utilises artificial intelligence (AI) to study cell behavior and de…',\n",
      "   'url': 'https://economictimes.indiatimes.com/news/new-updates/mark-zuckerberg-and-his-wife-aim-to-eradicate-all-diseases-by-2100/articleshow/103958277.cms',\n",
      "   'urlToImage': 'https://img.etimg.com/thumb/msid-103959042,width-1200,height-630,imgsize-85548,overlay-economictimes/photo.jpg',\n",
      "   'publishedAt': '2023-09-26T10:09:23Z',\n",
      "   'content': 'Mark Zuckerberg and his wife Dr. Priscilla Chan plan to eradicate all human diseases by 2100 through their foundation, The Chan Zuckerberg Initiative (CZI). The foundation intends to create a special… [+2691 chars]'},\n",
      "  {'source': {'id': None, 'name': 'Americanthinker.com'},\n",
      "   'author': None,\n",
      "   'title': 'Look at all the ways AI is changing transportation and health care',\n",
      "   'description': 'Artificial intelligence, now subject to congressional scrutiny and billionaire powwows in recent news stories, changing everything, it seems, and in ways that may surprise us.\\r\\n\\r\\nPerhaps the most noticeable way that AI will change how we do things&nb...',\n",
      "   'url': 'https://www.americanthinker.com/blog/2023/09/ai_is_changing_transportation_and_healthcare.html',\n",
      "   'urlToImage': 'https://www.americanthinker.com/images/bucket/2023-09/\n",
      "\n",
      "*** WARNING: max output size exceeded, skipping output. ***\n",
      "\n",
      "po-will-help-nzs-rare-night-parrot-survive-212451',\n",
      "   'urlToImage': 'https://images.theconversation.com/files/545418/original/file-20230829-22497-o5cpnd.jpg?ixlib=rb-1.1.0&rect=0%2C417%2C5358%2C2679&q=45&auto=format&w=1356&h=668&fit=crop',\n",
      "   'publishedAt': '2023-08-30T04:13:18Z',\n",
      "   'content': 'Shutterstock/FeatherStalker Don\\r\\nThe genetic mapping of almost the entire kākāpō population has shed new light on specific traits that will help conservation biologists in their efforts to save the c… [+5858 chars]'},\n",
      "  {'source': {'id': None, 'name': 'Marketscreener.com'},\n",
      "   'author': 'GlobeNewswire',\n",
      "   'title': \"Gain Therapeutics to Present at the Cambridge Healthtech Institute's 2nd Annual Neurodegeneration Targets Conference\",\n",
      "   'description': '(marketscreener.com) BETHESDA, Md., Sept. 20, 2023 -- Gain Therapeutics, Inc., , a biotechnology company leading the discovery and development of the next generation of allosteric small molecule therapies, today announced that Matthias Alder, Chief Executive …',\n",
      "   'url': 'https://www.marketscreener.com/quote/stock/GAIN-THERAPEUTICS-INC-120780704/news/Gain-Therapeutics-to-Present-at-the-Cambridge-Healthtech-Institute-s-2nd-Annual-Neurodegeneration-Ta-44889216/',\n",
      "   'urlToImage': 'https://www.marketscreener.com/images/twitter_MS_fdnoir.png',\n",
      "   'publishedAt': '2023-09-20T20:06:02Z',\n",
      "   'content': 'BETHESDA, Md., Sept. 20, 2023 (GLOBE NEWSWIRE) -- Gain Therapeutics, Inc., (Nasdaq: GANX) (Gain, or the Company), a biotechnology company leading the discovery and development of the next generation … [+6995 chars]'},\n",
      "  {'source': {'id': None, 'name': 'GlobeNewswire'},\n",
      "   'author': 'Gain Therapeutics, Inc.',\n",
      "   'title': 'Gain Therapeutics to Present at the Cambridge Healthtech Institute’s 2nd Annual Neurodegeneration Targets Conference',\n",
      "   'description': 'BETHESDA, Md., Sept. 20, 2023 (GLOBE NEWSWIRE) -- Gain Therapeutics, Inc., (Nasdaq: GANX) (“Gain”, or the “Company”), a biotechnology company leading the discovery and development of the next generation of allosteric small molecule therapies, today announced …',\n",
      "   'url': 'https://www.globenewswire.com/news-release/2023/09/20/2746852/0/en/Gain-Therapeutics-to-Present-at-the-Cambridge-Healthtech-Institute-s-2nd-Annual-Neurodegeneration-Targets-Conference.html',\n",
      "   'urlToImage': 'https://ml.globenewswire.com/Resource/Download/b08fa984-9f20-4aa1-a174-b9f6165d50fa',\n",
      "   'publishedAt': '2023-09-20T20:05:00Z',\n",
      "   'content': 'BETHESDA, Md., Sept. 20, 2023 (GLOBE NEWSWIRE) -- Gain Therapeutics, Inc., (Nasdaq: GANX) (Gain, or the Company), a biotechnology company leading the discovery and development of the next generation … [+6995 chars]'},\n",
      "  {'source': {'id': None, 'name': 'GlobeNewswire'},\n",
      "   'author': 'Research and Markets',\n",
      "   'title': 'Unlocking the Future of Gene Fusion Testing: Advancements Project Market to Reach $897.6 Million by 2033',\n",
      "   'description': 'Dublin, Aug. 30, 2023 (GLOBE NEWSWIRE) -- The \"Gene Fusion Testing Market - A Global and Regional Analysis: Focus on by Category, Technology, Indication, End User, and Region - Analysis and Forecast, 2023-2033\" report has been added to ResearchAndMarkets.com\\'…',\n",
      "   'url': 'https://www.globenewswire.com/news-release/2023/08/30/2734481/28124/en/Unlocking-the-Future-of-Gene-Fusion-Testing-Advancements-Project-Market-to-Reach-897-6-Million-by-2033.html',\n",
      "   'urlToImage': 'https://ml.globenewswire.com/Resource/Download/908fb457-7f8e-4a08-9081-5565e3dfb3d7',\n",
      "   'publishedAt': '2023-08-30T13:38:00Z',\n",
      "   'content': 'Dublin, Aug. 30, 2023 (GLOBE NEWSWIRE) -- The \"Gene Fusion Testing Market - A Global and Regional Analysis: Focus on by Category, Technology, Indication, End User, and Region - Analysis and Forecast,… [+5035 chars]'},\n",
      "  {'source': {'id': None, 'name': 'GlobeNewswire'},\n",
      "   'author': 'Precedence Research',\n",
      "   'title': 'Artificial Intelligence (AI) in Cancer Diagnostics Market to Surpass USD 2,084.34 Million by 2032',\n",
      "   'description': 'The global artificial intelligence (AI) in cancer diagnostics market was valued at USD 892.23 million in 2022 and is estimated to surpass around USD 2,084.34 million by 2032, growing at a healthy CAGR of 9.35% from 2023 to 2032. The global artificial intellig…',\n",
      "   'url': 'https://www.globenewswire.com/news-release/2023/08/29/2733677/0/en/Artificial-Intelligence-AI-in-Cancer-Diagnostics-Market-to-Surpass-USD-2-084-34-Million-by-2032.html',\n",
      "   'urlToImage': 'https://ml.globenewswire.com/Resource/Download/501140d4-82c8-4a65-82a7-8466b5188635',\n",
      "   'publishedAt': '2023-08-29T15:30:00Z',\n",
      "   'content': 'Ottawa, Aug. 29, 2023 (GLOBE NEWSWIRE) -- The global artificial intelligence (AI) in cancer diagnostics market revenue is projected to reach around USD 1,466.72 million by 2029, a Study published by … [+17038 chars]'},\n",
      "  {'source': {'id': None, 'name': 'Marketscreener.com'},\n",
      "   'author': 'GlobeNewswire',\n",
      "   'title': 'Gain Therapeutics Receives Approval to Commence Phase 1 Clinical Study of GT-02287 from the Human Research Ethics Committee (HREC) in Australia',\n",
      "   'description': '(marketscreener.com) \\xa0 \\xa0 \\xa0 \\xa0 \\xa0 \\xa0 \\xa0 \\xa0\\xa0First drug candidate identified with Gain’s proprietary computational drug discovery platform SEE-Tx® to enter clinical development phase BETHESDA, Md., Sept. 12, 2023 -- Gain Therapeutics, Inc. , a biotechnology company l…',\n",
      "   'url': 'https://www.marketscreener.com/quote/stock/GAIN-THERAPEUTICS-INC-120780704/news/Gain-Therapeutics-Receives-Approval-to-Commence-Phase-1-Clinical-Study-of-GT-02287-from-the-Human-Re-44824294/',\n",
      "   'urlToImage': 'https://www.marketscreener.com/images/twitter_MS_fdnoir.png',\n",
      "   'publishedAt': '2023-09-12T13:26:02Z',\n",
      "   'content': 'First drug candidate identified with Gains proprietary computational drug discovery platform SEE-Tx® to enter clinical development phase\\r\\nBETHESDA, Md., Sept. 12, 2023 (GLOBE NEWSWIRE) -- Gain Therap… [+7640 chars]'},\n",
      "  {'source': {'id': None, 'name': 'GlobeNewswire'},\n",
      "   'author': 'Gain Therapeutics, Inc.',\n",
      "   'title': 'Gain Therapeutics Receives Approval to Commence Phase 1 Clinical Study of GT-02287 from the Human Research Ethics Committee (HREC) in Australia',\n",
      "   'description': 'First drug candidate identified with Gain’s proprietary computational drug discovery platform SEE-Tx® to enter clinical development phase...',\n",
      "   'url': 'https://www.globenewswire.com/news-release/2023/09/12/2741790/0/en/Gain-Therapeutics-Receives-Approval-to-Commence-Phase-1-Clinical-Study-of-GT-02287-from-the-Human-Research-Ethics-Committee-HREC-in-Australia.html',\n",
      "   'urlToImage': 'https://ml.globenewswire.com/Resource/Download/b08fa984-9f20-4aa1-a174-b9f6165d50fa',\n",
      "   'publishedAt': '2023-09-12T13:25:00Z',\n",
      "   'content': 'First drug candidate identified with Gains proprietary computational drug discovery platform SEE-Tx® to enter clinical development phase\\r\\nBETHESDA, Md., Sept. 12, 2023 (GLOBE NEWSWIRE) -- Gain Therap… [+7640 chars]'},\n",
      "  {'source': {'id': None, 'name': 'Phys.Org'},\n",
      "   'author': 'Angela Nicoletti',\n",
      "   'title': 'Matchmaking (with AI) to help proteins pair up',\n",
      "   'description': 'Successful matchmaking with protein molecules is like all other kinds of matchmaking: The two must click for it to work.',\n",
      "   'url': 'https://phys.org/news/2023-09-matchmaking-ai-proteins-pair.html',\n",
      "   'urlToImage': 'https://scx2.b-cdn.net/gfx/news/2023/matchmaking-with-ai-to-1.jpg',\n",
      "   'publishedAt': '2023-09-14T14:20:04Z',\n",
      "   'content': 'Successful matchmaking with protein molecules is like all other kinds of matchmaking: The two must click for it to work.\\r\\nExcept for proteinsthe estimated 200 million unique molecular building blocks… [+6085 chars]'},\n",
      "  {'source': {'id': None, 'name': 'National Institutes of Health'},\n",
      "   'author': None,\n",
      "   'title': 'Notice of Upcoming Prize Competition Announcement for the Complement-Animal Research in Experimentation (Complement-ARIE) Challenge',\n",
      "   'description': 'NIH Funding Opportunities and Notices in the NIH Guide for Grants and Contracts: Notice of Upcoming Prize Competition Announcement for the Complement-Animal Research in Experimentation (Complement-ARIE) Challenge NOT-RM-23-025. RMOD',\n",
      "   'url': 'https://grants.nih.gov/grants/guide/notice-files/NOT-RM-23-025.html',\n",
      "   'urlToImage': None,\n",
      "   'publishedAt': '2023-09-20T08:36:17Z',\n",
      "   'content': 'The NIH Common Fund is beginning a strategic planning process for a potential Complement-Animal Research In Experimentation (Complement-ARIE) program to catalyze the development, standardization, val… [+12503 chars]'},\n",
      "  {'source': {'id': None, 'name': 'PRNewswire'},\n",
      "   'author': None,\n",
      "   'title': 'From AI to Patient Advocacy: The Comprehensive Orphan Drugs and Rare Diseases Conference: London, United Kingdom - October 9-10, 2023',\n",
      "   'description': 'DUBLIN, Sept. 22, 2023 /PRNewswire/ -- ResearchAndMarkets.com announces the 4th Annual Orphan Drugs and Rare Diseases Conference, scheduled for October 9-10 in London, UK. This prestigious event offers an in-depth exploration into the ever-evolving world of o…',\n",
      "   'url': 'https://www.prnewswire.com/news-releases/from-ai-to-patient-advocacy-the-comprehensive-orphan-drugs-and-rare-diseases-conference-london-united-kingdom---october-9-10-2023-301936108.html',\n",
      "   'urlToImage': 'https://mma.prnewswire.com/media/539438/Research_and_Markets_Logo.jpg?p=facebook',\n",
      "   'publishedAt': '2023-09-22T23:45:00Z',\n",
      "   'content': 'DUBLIN, Sept. 22, 2023 /PRNewswire/ -- ResearchAndMarkets.com announces the 4th Annual Orphan Drugs and Rare Diseases Conference, scheduled for October 9-10 in London, UK. This prestigious event offe… [+4959 chars]'},\n",
      "  {'source': {'id': None, 'name': 'Marketscreener.com'},\n",
      "   'author': 'GlobeNewswire',\n",
      "   'title': \"Gain Therapeutics Presents New Preclinical Data Demonstrating a Reduction of Plasma Neurodegeneration Biomarker NfL after Administration of its Drug Candidate GT-02287 in GBA1 Parkinson's Disease Model\",\n",
      "   'description': '(marketscreener.com) Treatment with GT-02287 also restored glucocerebrosidase enzymatic function, reduced aggregated α-synuclein, neuroinflammation and neuronal death, increased dopamine levels and improved motor function Data presented at the International C…',\n",
      "   'url': 'https://www.marketscreener.com/quote/stock/GAIN-THERAPEUTICS-INC-120780704/news/Gain-Therapeutics-Presents-New-Preclinical-Data-Demonstrating-a-Reduction-of-Plasma-Neurodegeneratio-44710839/',\n",
      "   'urlToImage': 'https://www.marketscreener.com/images/twitter_MS_fdblanc.png',\n",
      "   'publishedAt': '2023-08-28T11:01:02Z',\n",
      "   'content': 'Treatment with GT-02287 also restored glucocerebrosidase (GCase) enzymatic function, reduced aggregated -synuclein, neuroinflammation and neuronal death, increased dopamine levels and improved motor … [+8782 chars]'},\n",
      "  {'source': {'id': None, 'name': 'GlobeNewswire'},\n",
      "   'author': 'Gain Therapeutics, Inc.',\n",
      "   'title': 'Gain Therapeutics Presents New Preclinical Data Demonstrating a Reduction of Plasma Neurodegeneration Biomarker NfL after Administration of its Drug Candidate GT-02287 in GBA1 Parkinson’s Disease Model',\n",
      "   'description': 'Treatment with GT-02287 also restored glucocerebrosidase (GCase) enzymatic function, reduced aggregated α-synuclein, neuroinflammation and neuronal death, increased dopamine levels and improved motor function',\n",
      "   'url': 'https://www.globenewswire.com/news-release/2023/08/28/2732467/0/en/Gain-Therapeutics-Presents-New-Preclinical-Data-Demonstrating-a-Reduction-of-Plasma-Neurodegeneration-Biomarker-NfL-after-Administration-of-its-Drug-Candidate-GT-02287-in-GBA1-Park.html',\n",
      "   'urlToImage': 'https://ml.globenewswire.com/Resource/Download/b08fa984-9f20-4aa1-a174-b9f6165d50fa',\n",
      "   'publishedAt': '2023-08-28T11:00:00Z',\n",
      "   'content': 'Treatment with GT-02287 also restored glucocerebrosidase (GCase) enzymatic function, reduced aggregated -synuclein, neuroinflammation and neuronal death, increased dopamine levels and improved motor … [+8782 chars]'},\n",
      "  {'source': {'id': None, 'name': 'GlobeNewswire'},\n",
      "   'author': 'Transparency Market Research',\n",
      "   'title': 'Clinical Trials Market to Exceed USD 83.5 billion by 2030, Garnering 5.4% CAGR – Exclusive Report by Transparency Market Research',\n",
      "   'description': 'The clinical trials market is expanding, driven by increased drug development activities and advancements in trial design and technology. The clinical trials market is expanding, driven by increased drug development activities and advancements in trial design…',\n",
      "   'url': 'https://www.globenewswire.com/news-release/2023/09/27/2750351/32656/en/Clinical-Trials-Market-to-Exceed-USD-83-5-billion-by-2030-Garnering-5-4-CAGR-Exclusive-Report-by-Transparency-Market-Research.html',\n",
      "   'urlToImage': 'https://ml.globenewswire.com/Resource/Download/27b21b27-620b-4cae-8360-605a9662092b',\n",
      "   'publishedAt': '2023-09-27T12:13:00Z',\n",
      "   'content': 'Wilmington, Delaware, United States, Sept. 27, 2023 (GLOBE NEWSWIRE) -- Transparency Market Research Inc. - The clinical trials market was estimated to have acquired US$ 46.7 billion in 2019. It is a… [+7821 chars]'},\n",
      "  {'source': {'id': None, 'name': 'Slashdot.org'},\n",
      "   'author': 'feedfeeder',\n",
      "   'title': 'DeepMind’s New AI Can Predict Genetic Diseases',\n",
      "   'description': 'AlphaMissense, a new model from Google&rsquo;s artificial intelligence team, analyzes the effects of DNA mutations and will accelerate research into rare diseases.',\n",
      "   'url': 'https://slashdot.org/firehose.pl?op=view&amp;id=171854934',\n",
      "   'urlToImage': None,\n",
      "   'publishedAt': '2023-09-19T14:52:29Z',\n",
      "   'content': 'The Fine Print: The following comments are owned by whoever posted them. We are not responsible for them in any way.'},\n",
      "  {'source': {'id': None, 'name': 'Plos.org'},\n",
      "   'author': 'Weiguang Liu, Rafael Delalibera Rodrigues, Jianglong Yan, Yu-tao Zhu, Everson José de Freitas Pereira, Gen Li, Qiusheng Zheng, Liang Zhao',\n",
      "   'title': 'Complex network-based classification of radiographic images for COVID-19 diagnosis',\n",
      "   'description': 'In this work, we present a network-based technique for chest X-ray image classification to help the diagnosis and prognosis of patients with COVID-19. From visual inspection, we perceive that healthy and COVID-19 chest radiographic images present different le…',\n",
      "   'url': 'https://journals.plos.org/plosone/article?id=10.1371/journal.pone.0290968',\n",
      "   'urlToImage': 'https://journals.plos.org/plosone/article/figure/image?id=10.1371/journal.pone.0290968.g010&size=inline',\n",
      "   'publishedAt': '2023-09-01T14:00:00Z',\n",
      "   'content': 'Abstract\\r\\nIn this work, we present a network-based technique for chest X-ray image classification to help the diagnosis and prognosis of patients with COVID-19. From visual inspection, we perceive th… [+72655 chars]'},\n",
      "  {'source': {'id': None, 'name': 'National Institutes of Health'},\n",
      "   'author': None,\n",
      "   'title': 'Fc-Dependent Mechanisms of Antibody-Mediated Killing (R01 Clinical Trial Not Allowed)',\n",
      "   'description': 'Funding Opportunity RFA-AI-23-054 from the NIH Guide for Grants and Contracts. The purpose of this notice of funding opportunity (NOFO) is to support basic research that will elucidate mechanisms of Fc-mediated antibody functions, including antibody-dependent…',\n",
      "   'url': 'https://grants.nih.gov/grants/guide/rfa-files/RFA-AI-23-054.html',\n",
      "   'urlToImage': None,\n",
      "   'publishedAt': '2023-09-26T08:17:39Z',\n",
      "   'content': 'Participating Organization(s) \\r\\nNational Institutes of Health (NIH)\\r\\nComponents of Participating Organizations \\r\\nNational Institute of Allergy and Infectious Diseases (NIAID) \\r\\nFunding Opportunity Ti… [+56961 chars]'},\n",
      "  {'source': {'id': None, 'name': 'Mercola.com'},\n",
      "   'author': 'communities@mercola.com (Dr. Joseph Mercola)',\n",
      "   'title': \"'ChatGPT' for Biology? A Dictatorship of Engineers\",\n",
      "   'description': 'Hopefully, [the ultimate search engine Google was building] would never have a bug like HAL did where he killed the occupants of the spaceship. ~ Sergey Brin (NewsHour with Jim Lehrer, November 2002)1\\r\\n\\n\\n\\nAs if the ChatGPT craze weren’t bad enough, the $$$$$ …',\n",
      "   'url': 'https://articles.mercola.com/sites/articles/archive/2023/09/01/chatgpt-for-biology.aspx',\n",
      "   'urlToImage': 'https://media.mercola.com/ImageServer/Public/2023/August/FB/chatgpt-for-biology-fb.jpg',\n",
      "   'publishedAt': '2023-09-01T00:00:00Z',\n",
      "   'content': 'Mercola proudly supports these charities and organizations. View All \\r\\nDisclaimer: The entire contents of this website are based upon the opinions of Dr. Mercola, unless otherwise noted. Individual a… [+1007 chars]'},\n",
      "  {'source': {'id': None, 'name': 'Plos.org'},\n",
      "   'author': 'Zeleke Tesema, Belay Deribe, Mekonnen Tilahun, Alemu Kefale, Getachew Worku Alebachew, Kefyalew Alemayehu, Tesfaye Getachew, Damitie Kebede, Mengistie Taye, Solomon Gizaw',\n",
      "   'title': 'Estimation of crossbreeding and genetic parameters for reproductive traits of Boer x Central Highland goats in Ethiopia',\n",
      "   'description': 'Additive genetic and non-additive parameters for reproductive traits of Boer x Central Highland goats were estimated. Pedigree and performance records comprised of Central Highland and their crosses with Boer goats were collected from 2009 to 2018 in the Siri…',\n",
      "   'url': 'https://journals.plos.org/plosone/article?id=10.1371/journal.pone.0291996',\n",
      "   'urlToImage': 'https://journals.plos.org/plosone/article/figure/image?id=10.1371/journal.pone.0291996.t005&size=inline',\n",
      "   'publishedAt': '2023-09-27T14:00:00Z',\n",
      "   'content': 'Ethics statement\\r\\nPrior to the study, data collection formats and procedures were reviewed and approved by the Researchers of Amhara Regional Agricultural Research Institute, Ethiopia (number Ls/Ru-3… [+7926 chars]'},\n",
      "  {'source': {'id': None, 'name': 'The BMJ'},\n",
      "   'author': 'Wang, S., Chen, R., Wang, S., Kong, D., Cao, R., Lin, C., Luo, L., Huang, J., Zhang, Q., Yu, H., Ding, Y. L.',\n",
      "   'title': 'Comparative study on risk prediction model of type 2 diabetes based on machine learning theory: a cross-sectional study',\n",
      "   'description': 'Objectives To compare the prediction effects of six models based on machine learning theories, which can provide a methodological reference for predicting the risk of type 2 diabetes mellitus (T2DM).\\n\\nSetting and participants This study was based on the monit…',\n",
      "   'url': 'https://bmjopen.bmj.com/content/13/8/e069018?rss=1',\n",
      "   'urlToImage': 'https://bmjopen.bmj.com/pages/wp-content/uploads/sites/7/2019/07/bmjopen-default-cover.png',\n",
      "   'publishedAt': '2023-08-29T15:35:18Z',\n",
      "   'content': 'Introduction\\r\\nDiabetes mellitus (DM) is a metabolic disease characterised by a disorder of blood glucose metabolism, which is one of the major public health problems in the 21st century.1 In 2021, th… [+12451 chars]'},\n",
      "  {'source': {'id': None, 'name': 'Plos.org'},\n",
      "   'author': 'Ricki Lewis, PhD',\n",
      "   'title': 'Why I’m Not Worried that ChatGTP Will Replace Me as a Biology Textbook Author',\n",
      "   'description': 'I just used ChatGTP for the first time. Initially, I was concerned about my future as the chatbot near-instantaneously answered my queries…\\nThe post Why I’m Not Worried that ChatGTP Will Replace Me as a Biology Textbook Author appeared first on DNA Science.',\n",
      "   'url': 'https://dnascience.plos.org/2023/09/07/why-im-not-worried-that-chatgtp-will-replace-me-as-a-biology-textbook-author/',\n",
      "   'urlToImage': 'https://dnascience.plos.org/wp-content/uploads/sites/12/2023/09/21317439_10212350530232026_9068783055137048892_n.jpg',\n",
      "   'publishedAt': '2023-09-07T18:45:31Z',\n",
      "   'content': 'I just used ChatGTP for the first time. Initially, I was concerned about my future as the chatbot near-instantaneously answered my queries on increasingly obscure terms from my field, genetics. Stump… [+11215 chars]'},\n",
      "  {'source': {'id': None, 'name': 'IPWatchdog.com'},\n",
      "   'author': 'Ben Hsing',\n",
      "   'title': 'Artificial Intelligence in Drug Development: Patent Considerations',\n",
      "   'description': 'Artificial intelligence (AI) is a field of computer science that creates software or models that mimic human reasoning or inference. Machine learning is a subset of AI which uses algorithms trained on massive amounts of data to allow the computer to learn wit…',\n",
      "   'url': 'https://ipwatchdog.com/2023/09/25/artificial-intelligence-drug-development-patent-considerations/id=167125/',\n",
      "   'urlToImage': 'https://ipwatchdog.com/wp-content/uploads/2023/09/Depositphotos_657443750_XL.jpg',\n",
      "   'publishedAt': '2023-09-25T12:15:22Z',\n",
      "   'content': 'The transformative potential of AI, encompassing machine learning and generative capabilities, holds great promise for revolutionizing drug discovery and development. This promising horizon is accomp… [+16440 chars]'},\n",
      "  {'source': {'id': None, 'name': 'Plos.org'},\n",
      "   'author': 'Antonio Charlys da Costa, Maria C. Mendes-Correa, Tania Regina Tozetto-Mendoza, Lucy S. Villas-Boas, Anderson Vicente de Paula, Heuder Gustavo Oliveira Paiao, Fabio E. Leal, Noely E. Ferreira, Layla Honorato, Elcio Leal, Giuliano Grandi, Vanessa dos Santos Morais, Erika R. Manuli, Ester C. Sabino, Steven S. Witkin',\n",
      "   'title': 'Detailed characterization of Redondovirus in saliva of SARS-CoV-2-infected individuals in Sao Paulo, Brazil',\n",
      "   'description': 'Background Redondovirus (ReDoV) is a DNA virus present in the respiratory tract of many healthy individuals. Since SARS-CoV-2, the virus responsible for COVID-19, also primarily infects the same site, we evaluated whether ReDoV was present at increased freque…',\n",
      "   'url': 'https://journals.plos.org/plosone/article?id=10.1371/journal.pone.0291027',\n",
      "   'urlToImage': 'https://journals.plos.org/plosone/article/figure/image?id=10.1371/journal.pone.0291027.g001&size=inline',\n",
      "   'publishedAt': '2023-08-31T14:00:00Z',\n",
      "   'content': 'Abstract\\r\\nBackground\\r\\nRedondovirus (ReDoV) is a DNA virus present in the respiratory tract of many healthy individuals. Since SARS-CoV-2, the virus responsible for COVID-19, also primarily infects th… [+24787 chars]'},\n",
      "  {'source': {'id': None, 'name': 'Plos.org'},\n",
      "   'author': 'Zhaohong Huang, Xinyue Cui, Yuhao Xia, Kailong Zhao, Guijun Zhang',\n",
      "   'title': 'Pathfinder: Protein folding pathway prediction based on conformational sampling',\n",
      "   'description': 'Author summary The study of protein folding mechanism is an important part of basic science and has vital significance in many aspects. The key to the study of protein folding mechanism is to capture the conformational changes from the fast protein folding pr…',\n",
      "   'url': 'https://journals.plos.org/ploscompbiol/article?id=10.1371/journal.pcbi.1011438',\n",
      "   'urlToImage': 'https://journals.plos.org/ploscompbiol/article/figure/image?id=10.1371/journal.pcbi.1011438.g007&size=inline',\n",
      "   'publishedAt': '2023-09-11T14:00:00Z',\n",
      "   'content': 'Abstract\\r\\nThe study of protein folding mechanism is a challenge in molecular biology, which is of great significance for revealing the movement rules of biological macromolecules, understanding the p… [+51456 chars]'},\n",
      "  {'source': {'id': None, 'name': 'Plos.org'},\n",
      "   'author': 'Bayarbaatar Amgalan, Chi-Ping Day, Teresa M. Przytycka',\n",
      "   'title': 'Exploring tumor-normal cross-talk with TranNet: Role of the environment in tumor progression',\n",
      "   'description': 'Author summary In oncological studies, control samples are usually biopsied from tumor-adjacent normal tissue. However, there is an increasing understanding that such samples represent a state that is intermediate between tumor and normal, and is influenced b…',\n",
      "   'url': 'https://journals.plos.org/ploscompbiol/article?id=10.1371/journal.pcbi.1011472',\n",
      "   'urlToImage': 'https://journals.plos.org/ploscompbiol/article/figure/image?id=10.1371/journal.pcbi.1011472.g007&size=inline',\n",
      "   'publishedAt': '2023-09-18T14:00:00Z',\n",
      "   'content': 'Abstract\\r\\nThere is a growing awareness that tumor-adjacent normal tissues used as control samples in cancer studies do not represent fully healthy tissues. Instead, they are intermediates between hea… [+61681 chars]'},\n",
      "  {'source': {'id': None, 'name': 'Plos.org'},\n",
      "   'author': 'Shotaro Asano, Ryo Asaoka, Akio Oishi, Yuri Fujino, Hiroshi Murata, Keiko Azuma, Manabu Miyata, Ryo Obata, Tatsuya Inoue',\n",
      "   'title': 'Investigating the clinical validity of the guided progression analysis definition with 10–2 visual field in retinitis pigmentosa',\n",
      "   'description': 'Purpose To investigate the clinical validity of the Guided Progression Analysis definition (GPAD) and cluster-based definition (CBD) with the Humphrey Field Analyzer (HFA) 10–2 test in retinitis pigmentosa (RP).   Methods Ten non-progressive RP visual fields …',\n",
      "   'url': 'https://journals.plos.org/plosone/article?id=10.1371/journal.pone.0291208',\n",
      "   'urlToImage': 'https://journals.plos.org/plosone/article/figure/image?id=10.1371/journal.pone.0291208.g004&size=inline',\n",
      "   'publishedAt': '2023-09-08T14:00:00Z',\n",
      "   'content': 'Abstract\\r\\nPurpose\\r\\nTo investigate the clinical validity of the Guided Progression Analysis definition (GPAD) and cluster-based definition (CBD) with the Humphrey Field Analyzer (HFA) 102 test in reti… [+32571 chars]'}]}"
     ]
    }
   ],
   "source": [
    "result = requests.get(\"https://newsapi.org/v2/everything?q=''AI' + 'Predict' + 'Genetic Diseases''&apiKey=\").json()\n",
    "result"
   ]
  },
  {
   "cell_type": "code",
   "execution_count": null,
   "metadata": {
    "application/vnd.databricks.v1+cell": {
     "cellMetadata": {
      "byteLimit": 2048000,
      "rowLimit": 10000
     },
     "inputWidgets": {},
     "nuid": "5bed3528-ae07-4224-b1b8-2f85de987c1c",
     "showTitle": false,
     "title": ""
    }
   },
   "outputs": [
    {
     "name": "stdout",
     "output_type": "stream",
     "text": [
      "Out[7]: [{'source': {'id': 'wired', 'name': 'Wired'},\n",
      "  'author': 'Amit Katwala',\n",
      "  'title': 'DeepMind’s New AI Can Predict Genetic Diseases',\n",
      "  'description': 'AlphaMissense, a new model from Google’s artificial intelligence team, analyzes the effects of DNA mutations and will accelerate research into rare diseases.',\n",
      "  'url': 'https://www.wired.com/story/deepmind-ai-alphamissense-genetics-rare-diseases/',\n",
      "  'urlToImage': 'https://media.wired.com/photos/6509abd0d7ea654c08913301/191:100/w_1280,c_limit/digitized-dna-helix-science-GettyImages-85757934.jpg',\n",
      "  'publishedAt': '2023-09-19T14:35:23Z',\n",
      "  'content': 'About 10 years ago, iga Avsec was a PhD physics student who found himself taking a crash course in genomics via a university module on machine learning. He was soon working in a lab that studied rare… [+2913 chars]'},\n",
      " {'source': {'id': 'the-next-web', 'name': 'The Next Web'},\n",
      "  'author': 'Ioanna Lykiardopoulou',\n",
      "  'title': 'DeepMind’s new AI tool can predict genetic diseases',\n",
      "  'description': 'Google DeepMind has unveiled its novel AI tool that can predict whether DNA mutations are likely to cause genetic diseases. The ambition is that it will\\xa0 facilitate faster diagnosis and development of life-saving treatments. The new AI model, called AlphaMiss…',\n",
      "  'url': 'https://thenextweb.com/news/deepminds-ai-tool-predicts-genetic-diseases',\n",
      "  'urlToImage': 'https://img-cdn.tnwcdn.com/image/tnw-blurple?filter_last=1&fit=1280%2C640&url=https%3A%2F%2Fcdn0.tnwcdn.com%2Fwp-content%2Fblogs.dir%2F1%2Ffiles%2F2023%2F09%2FUntitled-design-14-10.jpg&signature=d5b222e3ee9bcffe5f162236598b4ad2',\n",
      "  'publishedAt': '2023-09-20T11:44:36Z',\n",
      "  'content': 'Google DeepMind has unveiled its novel AI tool that can predict whether DNA mutations are likely to cause genetic diseases. The ambition is that it will\\xa0 facilitate faster diagnosis and development o… [+2103 chars]'},\n",
      " {'source': {'id': None, 'name': 'ReadWrite'},\n",
      "  'author': 'Muhammad Sohaib Saleem',\n",
      "  'title': 'From Sci-Fi to Reality: The Roadmap of AI Development and Its Future Potential',\n",
      "  'description': 'Artificial Intelligence has come a long way since its conceptualization in science fiction. What was once an imaginative idea is […]\\nThe post From Sci-Fi to Reality: The Roadmap of AI Development and Its Future Potential appeared first on ReadWrite.',\n",
      "  'url': 'https://readwrite.com/from-sci-fi-to-reality-the-roadmap-of-ai-development-and-its-future-potential/',\n",
      "  'urlToImage': 'https://readwrite.com/wp-content/uploads/2023/08/Roadmap-of-AI-Development.jpg',\n",
      "  'publishedAt': '2023-09-25T20:00:51Z',\n",
      "  'content': 'Artificial Intelligence has come a long way since its conceptualization in science fiction. What was once an imaginative idea is now a reality, revolutionizing various aspects of our lives. From self… [+8873 chars]'},\n",
      " {'source': {'id': None, 'name': 'Phys.Org'},\n",
      "  'author': 'Science X',\n",
      "  'title': 'Google AI tool predicts danger of genetic mutations',\n",
      "  'description': \"Researchers at Google DeepMind, the tech giant's artificial intelligence arm, on Tuesday introduced a tool that predicts whether genetic mutations are likely to cause harm, a breakthrough that could help research into rare diseases.\",\n",
      "  'url': 'https://phys.org/news/2023-09-google-ai-tool-danger-genetic.html',\n",
      "  'urlToImage': 'https://scx2.b-cdn.net/gfx/news/2023/googles-new-ai-tool-ca.jpg',\n",
      "  'publishedAt': '2023-09-20T08:35:47Z',\n",
      "  'content': \"Researchers at Google DeepMind, the tech giant's artificial intelligence arm, on Tuesday introduced a tool that predicts whether genetic mutations are likely to cause harm, a breakthrough that could … [+3103 chars]\"},\n",
      " {'source': {'id': None, 'name': 'Euronews'},\n",
      "  'author': None,\n",
      "  'title': 'What’s AlphaMissense? This new Google DeepMind tool analyses genetic mutations',\n",
      "  'description': 'AlphaMissense promises to predict how dangerous a genetic mutation is.',\n",
      "  'url': 'https://www.euronews.com/next/2023/09/21/whats-alphamissense-this-new-google-deepmind-tool-analyses-genetic-mutations',\n",
      "  'urlToImage': 'https://static.euronews.com/articles/stories/07/91/15/00/1000x563_cmsv2_68a11ed3-f436-563a-b400-8121903fecc3-7911500.jpg',\n",
      "  'publishedAt': '2023-09-21T14:02:13Z',\n",
      "  'content': 'AlphaMissense promises to predict how dangerous a genetic mutation is.\\r\\n Researchers at DeepMind, one of Googles artificial intelligence (AI) companies, presented a new tool that predicts whether or … [+2308 chars]'},\n",
      " {'source': {'id': None, 'name': 'Wired.co.uk'},\n",
      "  'author': 'Amit Katwala',\n",
      "  'title': 'DeepMind’s New AI Can Predict Genetic Diseases',\n",
      "  'description': 'AlphaMissense, a new model from Google’s artificial intelligence team, analyzes the effects of DNA mutations and will accelerate research into rare diseases.',\n",
      "  'url': 'https://www.wired.co.uk/article/deepmind-ai-alphamissense-genetics-rare-diseases',\n",
      "  'urlToImage': 'https://media.wired.co.uk/photos/6508b2210178e37fb4a68568/16:9/w_1280,c_limit/digitized-dna-helix-science-GettyImages-85757934.jpg',\n",
      "  'publishedAt': '2023-09-19T14:33:25Z',\n",
      "  'content': 'About 10 years ago, iga Avsec was a PhD physics student who found himself taking a crash course in genomics via a university module on machine learning. He was soon working in a lab that studied rare… [+4707 chars]'},\n",
      " {'source': {'id': None, 'name': 'Singularity Hub'},\n",
      "  'author': 'Shelly Fan',\n",
      "  'title': 'DeepMind AI Hunts Down the DNA Mutations Behind Genetic Disease',\n",
      "  'description': 'Proteins are like Spider-Man in the multiverse. The underlying story is the same: each building block of a protein is based on a three-letter DNA code. However, change one letter, and the same protein becomes a different version of itself. If we’re lucky, som…',\n",
      "  'url': 'https://singularityhub.com/2023/09/21/deepmind-ai-hunts-down-the-dna-mutations-behind-genetic-disease/',\n",
      "  'urlToImage': 'https://singularityhub.com/wp-content/uploads/2023/09/deepmind-dna-double-helix-visualization.jpeg',\n",
      "  'publishedAt': '2023-09-21T20:27:27Z',\n",
      "  'content': 'Proteins are like Spider-Man in the multiverse.\\r\\nThe underlying story is the same: each building block of a protein is based on a three-letter DNA code. However, change one letter, and the same prote… [+6771 chars]'},\n",
      " {'source': {'id': None, 'name': 'Forbes'},\n",
      "  'author': 'Steve Nouri, Forbes Councils Member, \\n Steve Nouri, Forbes Councils Member\\n https://www.forbes.com/sites/forbestechcouncil/people/stevenouri/',\n",
      "  'title': 'Generative AI Drugs Are Coming',\n",
      "  'description': 'The merging of deep, quality data and expertise with increasingly sophisticated AI capabilities has the potential to truly shift the future of medicine.',\n",
      "  'url': 'https://www.forbes.com/sites/forbestechcouncil/2023/09/05/generative-ai-drugs-are-coming/',\n",
      "  'urlToImage': 'https://imageio.forbes.com/specials-images/imageserve/64f22325ebec7ec31b17ee9b/0x0.jpg?format=jpg&width=1200',\n",
      "  'publishedAt': '2023-09-05T11:45:00Z',\n",
      "  'content': 'Steve is the Founder of GenAI Works and AI4Diversity. He is an AI expert, tech evangelist, and influencer.\\r\\ngetty\\r\\nJust as ChatGPT is turning text directions into new written materials, or just as DA… [+6523 chars]'},\n",
      " {'source': {'id': None, 'name': 'Forbes'},\n",
      "  'author': 'Ariel Katz, Forbes Councils Member, \\n Ariel Katz, Forbes Councils Member\\n https://www.forbes.com/sites/forbestechcouncil/people/arielkatz/',\n",
      "  'title': '10 Ways AI Is Advancing Healthcare',\n",
      "  'description': 'Though there are challenges to be understood and overcome, AI is significantly improving the healthcare landscape.',\n",
      "  'url': 'https://www.forbes.com/sites/forbestechcouncil/2023/09/19/10-ways-ai-is-advancing-healthcare/',\n",
      "  'urlToImage': 'https://imageio.forbes.com/specials-images/imageserve/62bc54b6d9785913bcd547b5/0x0.jpg?format=jpg&width=1200',\n",
      "  'publishedAt': '2023-09-19T14:00:00Z',\n",
      "  'content': 'Ariel Katz, CEO and cofounder of H1.\\r\\ngetty\\r\\nThe explosion of generative AI in healthcarelargely due to the exponential growth of medical data, a shortage of healthcare providers and advancements in … [+6893 chars]'},\n",
      " {'source': {'id': None, 'name': 'International Business Times'},\n",
      "  'author': 'AFP News',\n",
      "  'title': 'Google AI Tool Predicts Danger Of Genetic Mutations',\n",
      "  'description': \"Researchers at Google DeepMind, the tech giant's artificial intelligence arm, on Tuesday introduced a tool that predicts whether genetic mutations are likely to cause harm, a breakthrough that could help research into rare diseases.\",\n",
      "  'url': 'https://www.ibtimes.com/google-ai-tool-predicts-danger-genetic-mutations-3712362',\n",
      "  'urlToImage': 'https://d.ibtimes.com/en/full/4487127/googles-new-ai-tool-can-read-dna-like-language-see-immediately-if-word-substitution-will.jpg',\n",
      "  'publishedAt': '2023-09-19T20:57:36Z',\n",
      "  'content': \"Researchers at Google DeepMind, the tech giant's artificial intelligence arm, on Tuesday introduced a tool that predicts whether genetic mutations are likely to cause harm, a breakthrough that could … [+2437 chars]\"},\n",
      " {'source': {'id': None, 'name': 'Forbes'},\n",
      "  'author': 'Alex Knapp, Forbes Staff, \\n Alex Knapp, Forbes Staff\\n https://www.forbes.com/sites/alexknapp/',\n",
      "  'title': 'Retinal Imaging And Machine Learning Honored In The 2023 Lasker Awards',\n",
      "  'description': 'The Lasker Foundation’s annual awards for medical research honor the inventors of optical coherence tomography and more.',\n",
      "  'url': 'https://www.forbes.com/sites/alexknapp/2023/09/21/retinal-imaging-and-machine-learning-honored-in-the-2023-lasker-awards/',\n",
      "  'urlToImage': 'https://imageio.forbes.com/specials-images/imageserve/650bc8ed984021daef9b1326/0x0.jpg?format=jpg&width=1200',\n",
      "  'publishedAt': '2023-09-21T13:00:00Z',\n",
      "  'content': 'Professor James Fujimoto\\r\\nJake Belcher Courtesy The Lasker Foundation\\r\\nThe Lasker Foundations annual awards for medical research honor the inventors of optical coherence tomography, DeepMinds AlphaFo… [+5081 chars]'},\n",
      " {'source': {'id': None, 'name': 'Bangkok Post'},\n",
      "  'author': 'AFP',\n",
      "  'title': 'Google AI tool predicts danger of genetic mutations',\n",
      "  'description': \"WASHINGTON - Researchers at Google DeepMind, the tech giant's artificial intelligence arm, on Tuesday introduced a tool that predicts whether genetic mutations are likely to cause harm, a breakthrough that could help research into rare diseases.\",\n",
      "  'url': 'https://www.bangkokpost.com/world/2650034/google-ai-tool-predicts-danger-of-genetic-mutations',\n",
      "  'urlToImage': 'https://static.bangkokpost.com/media/content/20230920/c1_4897722_700.jpg',\n",
      "  'publishedAt': '2023-09-19T21:45:00Z',\n",
      "  'content': \"WASHINGTON - Researchers at Google DeepMind, the tech giant's artificial intelligence arm, on Tuesday introduced a tool that predicts whether genetic mutations are likely to cause harm, a breakthroug… [+2450 chars]\"},\n",
      " {'source': {'id': None, 'name': 'Japan Today'},\n",
      "  'author': None,\n",
      "  'title': 'Google AI tool predicts danger of genetic mutations',\n",
      "  'description': \"Researchers at Google DeepMind, the tech giant's artificial intelligence arm, on Tuesday introduced a tool that predicts whether genetic mutations are likely to cause harm, a breakthrough that could help research into rare diseases. The findings are &quot;ano…\",\n",
      "  'url': 'https://japantoday.com/category/features/health/google-ai-tool-predicts-danger-of-genetic-mutations1',\n",
      "  'urlToImage': None,\n",
      "  'publishedAt': '2023-09-19T21:43:46Z',\n",
      "  'content': \"Researchers at Google DeepMind, the tech giant's artificial intelligence arm, on Tuesday introduced a tool that predicts whether genetic mutations are likely to cause harm, a breakthrough that could … [+2449 chars]\"},\n",
      " {'source': {'id': None, 'name': 'Moneycontrol'},\n",
      "  'author': 'Lisa Jarvis',\n",
      "  'title': 'Google DeepMind#39;s AI tool could pinpoint our genetic faults',\n",
      "  'description': 'Thereâ\\x80\\x99s been plenty of worrying about the damage AI could do, but discoveries like the GoogleÂ\\xa0tool that can pluck harmful genome mutations from thousands of minute-but-benign onesÂ\\xa0show how AI can accelerate progress on the most vexing questions about huma…',\n",
      "  'url': 'https://www.moneycontrol.com/news/opinion/google-deepminds-ai-tool-could-pinpoint-our-genetic-faults-11401241.html',\n",
      "  'urlToImage': 'https://images.moneycontrol.com/static-mcnews/2023/08/Collage-Maker-30-Aug-2023-10-48-AM-3714-770x433.jpg',\n",
      "  'publishedAt': '2023-09-21T04:35:15Z',\n",
      "  'content': \"Its becoming increasingly clear that scientists are only scratching the surface of what artificial intelligence can teach us about human biology and disease. Case in point: new work by Alphabet's AI … [+4751 chars]\"},\n",
      " {'source': {'id': None, 'name': 'CNA'},\n",
      "  'author': None,\n",
      "  'title': 'Google AI tool predicts danger of genetic mutations',\n",
      "  'description': \"WASHINGTON: Researchers at Google DeepMind, the tech giant's artificial intelligence arm, on Tuesday (Sep 19) introduced a tool that predicts whether genetic mutations are likely to cause harm, a breakthrough that could help research into rare diseases. The f…\",\n",
      "  'url': 'https://www.channelnewsasia.com/business/google-ai-tool-predicts-danger-genetic-mutations-3784016',\n",
      "  'urlToImage': 'https://onecms-res.cloudinary.com/image/upload/s--zj9ea8EA--/fl_relative,g_south_east,l_one-cms:core:watermark:afp_watermark,w_0.1/f_auto,q_auto/c_fill,g_auto,h_676,w_1200/v1/one-cms/core/71f081542f99c3723b161996288590399f4945a3.jpg?itok=JTlUK7-G',\n",
      "  'publishedAt': '2023-09-19T22:11:01Z',\n",
      "  'content': \"WASHINGTON: Researchers at Google DeepMind, the tech giant's artificial intelligence arm, on Tuesday (Sep 19) introduced a tool that predicts whether genetic mutations are likely to cause harm, a bre… [+2462 chars]\"},\n",
      " {'source': {'id': None, 'name': 'TweakTown'},\n",
      "  'author': 'Jak Connor',\n",
      "  'title': \"Google's new AI breakthrough is a 'big step forward' to creating 'life-saving treatments'\",\n",
      "  'description': \"Google's AI firm has designed an artificial intelligence system to detect abnormal genetic mutations that can lead to diseases emerging. Continue reading at TweakTown >\",\n",
      "  'url': 'https://www.tweaktown.com/news/93431/googles-new-ai-breakthrough-is-big-step-forward-to-creating-life-saving-treatments/index.html',\n",
      "  'urlToImage': 'https://static.tweaktown.com/news/9/3/93431_58959_google-says-its-new-ai-can-pinpoint-which-genes-are-likely-to-cause-disease_full.jpg',\n",
      "  'publishedAt': '2023-09-25T04:07:03Z',\n",
      "  'content': 'Google DeepMind has created a new AI system that is capable of detecting genetic mutations that may lead to diseases.\\r\\nA new study published in the journal Science details a new AI model called Alpha… [+1822 chars]'},\n",
      " {'source': {'id': 'new-scientist', 'name': 'New Scientist'},\n",
      "  'author': 'Michael Le Page',\n",
      "  'title': 'DeepMind AI can predict if DNA mutations are likely to be harmful',\n",
      "  'description': 'By working out which small mutations will probably be damaging, DeepMind’s AlphaMissense system could help doctors identify the cause of genetic diseases',\n",
      "  'url': 'https://www.newscientist.com/article/2392821-deepmind-ai-can-predict-if-dna-mutations-are-likely-to-be-harmful/',\n",
      "  'urlToImage': 'https://images.newscientist.com/wp-content/uploads/2023/09/19142523/SEI_172303762.jpg',\n",
      "  'publishedAt': '2023-09-19T15:30:21Z',\n",
      "  'content': 'DeepMind’s AlphaMissense AI can predict whether mutations will affect how proteins such as haemoglobin subunit beta (left) or cystic fibrosis transmembrane conductance regulator (right) will function… [+3548 chars]'},\n",
      " {'source': {'id': None, 'name': 'Forbes'},\n",
      "  'author': 'Rob Toews, Contributor, \\n Rob Toews, Contributor\\n https://www.forbes.com/sites/robtoews/',\n",
      "  'title': 'Transformers Revolutionized AI. What Will Replace Them?',\n",
      "  'description': 'No technology remains dominant forever.',\n",
      "  'url': 'https://www.forbes.com/sites/robtoews/2023/09/03/transformers-revolutionized-ai-what-will-replace-them/',\n",
      "  'urlToImage': 'https://imageio.forbes.com/specials-images/imageserve/64f3b2b43d727bdfbf85cc97/0x0.jpg?format=jpg&width=1200',\n",
      "  'publishedAt': '2023-09-03T22:00:00Z',\n",
      "  'content': 'The transformer, today\\'s dominant AI architecture, has interesting parallels to the alien language ... [+] in the 2016 science fiction film \"Arrival.\"\\r\\nParamount Pictures\\r\\nIf modern artificial intell… [+20795 chars]'},\n",
      " {'source': {'id': None, 'name': 'Livemint'},\n",
      "  'author': 'mint',\n",
      "  'title': 'Google’s AlphaFold has a new tool to track genetic mutations',\n",
      "  'description': 'Last year’s AI breakthrough is showing what it can do for health',\n",
      "  'url': 'https://www.livemint.com/opinion/online-views/googles-alphafold-has-a-new-tool-to-track-genetic-mutations-11695306099645.html',\n",
      "  'urlToImage': 'https://www.livemint.com/lm-img/img/2023/09/21/600x338/2-0-950951326-genome-0_1679732768848_1695307674193.jpg',\n",
      "  'publishedAt': '2023-09-21T14:51:02Z',\n",
      "  'content': 'Its becoming clear that scientists are only scratching the surface of what artificial intelligence (AI) can teach us about human biology and disease. Case in point: new work by Alphabets AI subsidiar… [+4506 chars]'},\n",
      " {'source': {'id': None, 'name': 'Biztoc.com'},\n",
      "  'author': 'ft.com',\n",
      "  'title': 'DeepMind uses AI to predict harmful genetic mutations in humans',\n",
      "  'description': 'First example of artificial intelligence helping to accelerate diagnosis of diseases caused by genetic variants',\n",
      "  'url': 'https://biztoc.com/x/9ceb51271e409210',\n",
      "  'urlToImage': 'https://c.biztoc.com/p/9ceb51271e409210/s.webp',\n",
      "  'publishedAt': '2023-09-19T15:42:11Z',\n",
      "  'content': 'First example of artificial intelligence helping to accelerate diagnosis of diseases caused by genetic variants\\r\\nThis story appeared on ft.com, .'},\n",
      " {'source': {'id': None, 'name': 'NDTV News'},\n",
      "  'author': None,\n",
      "  'title': \"Google's New AI Tool Predicts Danger Of Genetic Mutations\",\n",
      "  'description': \"Researchers at Google DeepMind, the tech giant's artificial intelligence arm, on Tuesday introduced a tool that predicts whether genetic mutations are likely to cause harm, a breakthrough that could help research into rare diseases.\",\n",
      "  'url': 'https://www.ndtv.com/science/google-new-ai-tool-predicts-danger-of-genetic-mutations-4405728',\n",
      "  'urlToImage': 'https://c.ndtvimg.com/2023-09/40cmfqso_google-generic_625x300_04_September_23.jpg',\n",
      "  'publishedAt': '2023-09-20T01:51:26Z',\n",
      "  'content': \"Washington: Researchers at Google DeepMind, the tech giant's artificial intelligence arm, on Tuesday introduced a tool that predicts whether genetic mutations are likely to cause harm, a breakthrough… [+2573 chars]\"},\n",
      " {'source': {'id': None, 'name': 'Gadgets360.com'},\n",
      "  'author': 'Agence France-Presse',\n",
      "  'title': 'Google DeepMind AI Tool Predicts Whether Genetic Mutations Are Likely to Cause Harm',\n",
      "  'description': \"Researchers at Google DeepMind, the tech giant's artificial intelligence arm, on Tuesday introduced a tool that predicts whether genetic mutations are likely to cause harm, a breakthrough that could help research into rare diseases.\",\n",
      "  'url': 'https://www.gadgets360.com/internet/news/google-deepmind-ai-tool-predicts-genetic-mutation-dangers-rare-diseases-research-4406178',\n",
      "  'urlToImage': 'https://i.gadgets360cdn.com/large/google_reuters_1694582304835.jpg',\n",
      "  'publishedAt': '2023-09-20T06:22:52Z',\n",
      "  'content': \"Researchers at Google DeepMind, the tech giant's artificial intelligence arm, on Tuesday introduced a tool that predicts whether genetic mutations are likely to cause harm, a breakthrough that could … [+2515 chars]\"},\n",
      " {'source': {'id': None, 'name': 'Cloudtweaks.com'},\n",
      "  'author': 'Gary Bernstein',\n",
      "  'title': 'The Age of AI Benefits: A Global Transformation',\n",
      "  'description': 'Artificial Intelligence (AI) has emerged as a transformative force that is reshaping industries, improving our daily lives, and pushing the boundaries of human potential. This cutting-edge technology is no longer confined to science fiction; it has become an …',\n",
      "  'url': 'https://cloudtweaks.com/2023/09/age-ai-benefits-global-transformation/',\n",
      "  'urlToImage': 'https://cloudtweaks.com/wp-content/uploads/2020/10/Gary-Bernstein.jpg',\n",
      "  'publishedAt': '2023-09-05T10:07:40Z',\n",
      "  'content': 'Artificial Intelligence (AI) has emerged as a transformative force that is reshaping industries, improving our daily lives, and pushing the boundaries of human potential. This cutting-edge technology… [+7082 chars]'},\n",
      " {'source': {'id': None, 'name': 'Cryptopolitan'},\n",
      "  'author': 'John Palmer',\n",
      "  'title': 'Deep Genomics Unveils Groundbreaking AI Foundation Model for RNA Therapeutics',\n",
      "  'description': 'Deep Genomics, a pioneering AI-driven drug development company, has introduced an innovative AI foundation model called BigRNA. This transformative model, based on deep learning, represents a significant leap forward in the discovery of RNA biology and therap…',\n",
      "  'url': 'https://www.cryptopolitan.com/deep-genomics-unveils-ai-foundation/',\n",
      "  'urlToImage': 'https://img.cryptopolitan.com/wp-content/uploads/2023/09/image-2023-09-27T145209.477-1.jpg',\n",
      "  'publishedAt': '2023-09-27T14:11:06Z',\n",
      "  'content': '<ul><li>Deep Genomics introduces BigRNA, a groundbreaking AI foundation model for RNA therapeutics, with immense potential for revolutionizing drug discovery.</li><li>BigRNA’s versatility, extensive … [+5733 chars]'},\n",
      " {'source': {'id': None, 'name': 'Dataversity.net'},\n",
      "  'author': 'Paramita (Guha) Ghosh',\n",
      "  'title': 'Machine Learning Use Cases for Data Management',\n",
      "  'description': 'In 2023,\\xa0machine learning\\xa0(ML) is a powerful enabler for Data Management, revolutionizing the way organizations handle and analyze vast amounts of data. ML, a subset of artificial intelligence (AI), offers various approaches to tackle Data Management challeng…',\n",
      "  'url': 'https://www.dataversity.net/machine-learning-use-cases-data-management/',\n",
      "  'urlToImage': 'https://d3an9kf42ylj3p.cloudfront.net/uploads/2017/08/pg_MLusecases_aug23.jpg',\n",
      "  'publishedAt': '2023-08-31T07:35:00Z',\n",
      "  'content': 'In 2023,\\xa0machine learning\\xa0(ML) is a powerful enabler for Data Management, revolutionizing the way organizations handle and analyze vast amounts of data. ML, a subset of artificial intelligence (AI), … [+14744 chars]'},\n",
      " {'source': {'id': None, 'name': 'GlobeNewswire'},\n",
      "  'author': 'XCELLENT INSIGHTS LLP',\n",
      "  'title': 'Global Precision Medicine Market Size to Reach USD 148.2 Billion in 2032 | Xcellent Insights',\n",
      "  'description': 'Pune, Sept. 26, 2023 (GLOBE NEWSWIRE) -- The Global Precision Medicine Market\\r\\n has witnessed remarkable growth, reaching a size of approximately USD 57.69 billion in 2022, and is projected to further expand to USD 110.9 billion with a robust CAGR of 11.5% du…',\n",
      "  'url': 'https://www.globenewswire.com/news-release/2023/09/25/2749076/0/en/Global-Precision-Medicine-Market-Size-to-Reach-USD-148-2-Billion-in-2032-Xcellent-Insights.html',\n",
      "  'urlToImage': 'https://ml.globenewswire.com/Resource/Download/20e20a5a-19cb-40c4-97ab-6a8a15c225be',\n",
      "  'publishedAt': '2023-09-25T23:02:00Z',\n",
      "  'content': 'Pune, Sept. 26, 2023 (GLOBE NEWSWIRE) -- The Global Precision Medicine Market\\r\\n has witnessed remarkable growth, reaching a size of approximately USD 57.69 billion in 2022, and is projected to furthe… [+10510 chars]'},\n",
      " {'source': {'id': 'the-times-of-india', 'name': 'The Times of India'},\n",
      "  'author': 'The Feed',\n",
      "  'title': 'Mark Zuckerberg and Dr Priscilla Chan aim to eradicate all diseases by 2100',\n",
      "  'description': 'Mark Zuckerberg and his wife, Priscilla Chan, plan to eradicate all human diseases by 2100 through their foundation, The Chan Zuckerberg Initiative. They aim to create a computing system that utilises artificial intelligence (AI) to study cell behavior and de…',\n",
      "  'url': 'https://economictimes.indiatimes.com/news/new-updates/mark-zuckerberg-and-his-wife-aim-to-eradicate-all-diseases-by-2100/articleshow/103958277.cms',\n",
      "  'urlToImage': 'https://img.etimg.com/thumb/msid-103959042,width-1200,height-630,imgsize-85548,overlay-economictimes/photo.jpg',\n",
      "  'publishedAt': '2023-09-26T10:09:23Z',\n",
      "  'content': 'Mark Zuckerberg and his wife Dr. Priscilla Chan plan to eradicate all human diseases by 2100 through their foundation, The Chan Zuckerberg Initiative (CZI). The foundation intends to create a special… [+2691 chars]'},\n",
      " {'source': {'id': None, 'name': 'Americanthinker.com'},\n",
      "  'author': None,\n",
      "  'title': 'Look at all the ways AI is changing transportation and health care',\n",
      "  'description': 'Artificial intelligence, now subject to congressional scrutiny and billionaire powwows in recent news stories, changing everything, it seems, and in ways that may surprise us.\\r\\n\\r\\nPerhaps the most noticeable way that AI will change how we do things&nb...',\n",
      "  'url': 'https://www.americanthinker.com/blog/2023/09/ai_is_changing_transportation_and_healthcare.html',\n",
      "  'urlToImage': 'https://www.americanthinker.com/images/bucket/2023-09/248870.jpg',\n",
      "  'publishedAt': '2023-09-16T05:00:00Z',\n",
      "  'content': 'Artificial intelligence, now subject to congressional scrutiny and billionaire powwows in recent news stories, changing everything, it seems, and in ways that may surprise us.\\r\\nPerhaps the most notic… [\n",
      "\n",
      "*** WARNING: max output size exceeded, skipping output. ***\n",
      "\n",
      " saved the flightless parrots from extinction. Genome data now reveals the genetic reasons behind these problems.',\n",
      "  'url': 'https://theconversation.com/how-gene-mapping-almost-all-remaining-kakapo-will-help-nzs-rare-night-parrot-survive-212451',\n",
      "  'urlToImage': 'https://images.theconversation.com/files/545418/original/file-20230829-22497-o5cpnd.jpg?ixlib=rb-1.1.0&rect=0%2C417%2C5358%2C2679&q=45&auto=format&w=1356&h=668&fit=crop',\n",
      "  'publishedAt': '2023-08-30T04:13:18Z',\n",
      "  'content': 'Shutterstock/FeatherStalker Don\\r\\nThe genetic mapping of almost the entire kākāpō population has shed new light on specific traits that will help conservation biologists in their efforts to save the c… [+5858 chars]'},\n",
      " {'source': {'id': None, 'name': 'Marketscreener.com'},\n",
      "  'author': 'GlobeNewswire',\n",
      "  'title': \"Gain Therapeutics to Present at the Cambridge Healthtech Institute's 2nd Annual Neurodegeneration Targets Conference\",\n",
      "  'description': '(marketscreener.com) BETHESDA, Md., Sept. 20, 2023 -- Gain Therapeutics, Inc., , a biotechnology company leading the discovery and development of the next generation of allosteric small molecule therapies, today announced that Matthias Alder, Chief Executive …',\n",
      "  'url': 'https://www.marketscreener.com/quote/stock/GAIN-THERAPEUTICS-INC-120780704/news/Gain-Therapeutics-to-Present-at-the-Cambridge-Healthtech-Institute-s-2nd-Annual-Neurodegeneration-Ta-44889216/',\n",
      "  'urlToImage': 'https://www.marketscreener.com/images/twitter_MS_fdnoir.png',\n",
      "  'publishedAt': '2023-09-20T20:06:02Z',\n",
      "  'content': 'BETHESDA, Md., Sept. 20, 2023 (GLOBE NEWSWIRE) -- Gain Therapeutics, Inc., (Nasdaq: GANX) (Gain, or the Company), a biotechnology company leading the discovery and development of the next generation … [+6995 chars]'},\n",
      " {'source': {'id': None, 'name': 'GlobeNewswire'},\n",
      "  'author': 'Gain Therapeutics, Inc.',\n",
      "  'title': 'Gain Therapeutics to Present at the Cambridge Healthtech Institute’s 2nd Annual Neurodegeneration Targets Conference',\n",
      "  'description': 'BETHESDA, Md., Sept. 20, 2023 (GLOBE NEWSWIRE) -- Gain Therapeutics, Inc., (Nasdaq: GANX) (“Gain”, or the “Company”), a biotechnology company leading the discovery and development of the next generation of allosteric small molecule therapies, today announced …',\n",
      "  'url': 'https://www.globenewswire.com/news-release/2023/09/20/2746852/0/en/Gain-Therapeutics-to-Present-at-the-Cambridge-Healthtech-Institute-s-2nd-Annual-Neurodegeneration-Targets-Conference.html',\n",
      "  'urlToImage': 'https://ml.globenewswire.com/Resource/Download/b08fa984-9f20-4aa1-a174-b9f6165d50fa',\n",
      "  'publishedAt': '2023-09-20T20:05:00Z',\n",
      "  'content': 'BETHESDA, Md., Sept. 20, 2023 (GLOBE NEWSWIRE) -- Gain Therapeutics, Inc., (Nasdaq: GANX) (Gain, or the Company), a biotechnology company leading the discovery and development of the next generation … [+6995 chars]'},\n",
      " {'source': {'id': None, 'name': 'GlobeNewswire'},\n",
      "  'author': 'Research and Markets',\n",
      "  'title': 'Unlocking the Future of Gene Fusion Testing: Advancements Project Market to Reach $897.6 Million by 2033',\n",
      "  'description': 'Dublin, Aug. 30, 2023 (GLOBE NEWSWIRE) -- The \"Gene Fusion Testing Market - A Global and Regional Analysis: Focus on by Category, Technology, Indication, End User, and Region - Analysis and Forecast, 2023-2033\" report has been added to ResearchAndMarkets.com\\'…',\n",
      "  'url': 'https://www.globenewswire.com/news-release/2023/08/30/2734481/28124/en/Unlocking-the-Future-of-Gene-Fusion-Testing-Advancements-Project-Market-to-Reach-897-6-Million-by-2033.html',\n",
      "  'urlToImage': 'https://ml.globenewswire.com/Resource/Download/908fb457-7f8e-4a08-9081-5565e3dfb3d7',\n",
      "  'publishedAt': '2023-08-30T13:38:00Z',\n",
      "  'content': 'Dublin, Aug. 30, 2023 (GLOBE NEWSWIRE) -- The \"Gene Fusion Testing Market - A Global and Regional Analysis: Focus on by Category, Technology, Indication, End User, and Region - Analysis and Forecast,… [+5035 chars]'},\n",
      " {'source': {'id': None, 'name': 'GlobeNewswire'},\n",
      "  'author': 'Precedence Research',\n",
      "  'title': 'Artificial Intelligence (AI) in Cancer Diagnostics Market to Surpass USD 2,084.34 Million by 2032',\n",
      "  'description': 'The global artificial intelligence (AI) in cancer diagnostics market was valued at USD 892.23 million in 2022 and is estimated to surpass around USD 2,084.34 million by 2032, growing at a healthy CAGR of 9.35% from 2023 to 2032. The global artificial intellig…',\n",
      "  'url': 'https://www.globenewswire.com/news-release/2023/08/29/2733677/0/en/Artificial-Intelligence-AI-in-Cancer-Diagnostics-Market-to-Surpass-USD-2-084-34-Million-by-2032.html',\n",
      "  'urlToImage': 'https://ml.globenewswire.com/Resource/Download/501140d4-82c8-4a65-82a7-8466b5188635',\n",
      "  'publishedAt': '2023-08-29T15:30:00Z',\n",
      "  'content': 'Ottawa, Aug. 29, 2023 (GLOBE NEWSWIRE) -- The global artificial intelligence (AI) in cancer diagnostics market revenue is projected to reach around USD 1,466.72 million by 2029, a Study published by … [+17038 chars]'},\n",
      " {'source': {'id': None, 'name': 'Marketscreener.com'},\n",
      "  'author': 'GlobeNewswire',\n",
      "  'title': 'Gain Therapeutics Receives Approval to Commence Phase 1 Clinical Study of GT-02287 from the Human Research Ethics Committee (HREC) in Australia',\n",
      "  'description': '(marketscreener.com) \\xa0 \\xa0 \\xa0 \\xa0 \\xa0 \\xa0 \\xa0 \\xa0\\xa0First drug candidate identified with Gain’s proprietary computational drug discovery platform SEE-Tx® to enter clinical development phase BETHESDA, Md., Sept. 12, 2023 -- Gain Therapeutics, Inc. , a biotechnology company l…',\n",
      "  'url': 'https://www.marketscreener.com/quote/stock/GAIN-THERAPEUTICS-INC-120780704/news/Gain-Therapeutics-Receives-Approval-to-Commence-Phase-1-Clinical-Study-of-GT-02287-from-the-Human-Re-44824294/',\n",
      "  'urlToImage': 'https://www.marketscreener.com/images/twitter_MS_fdnoir.png',\n",
      "  'publishedAt': '2023-09-12T13:26:02Z',\n",
      "  'content': 'First drug candidate identified with Gains proprietary computational drug discovery platform SEE-Tx® to enter clinical development phase\\r\\nBETHESDA, Md., Sept. 12, 2023 (GLOBE NEWSWIRE) -- Gain Therap… [+7640 chars]'},\n",
      " {'source': {'id': None, 'name': 'GlobeNewswire'},\n",
      "  'author': 'Gain Therapeutics, Inc.',\n",
      "  'title': 'Gain Therapeutics Receives Approval to Commence Phase 1 Clinical Study of GT-02287 from the Human Research Ethics Committee (HREC) in Australia',\n",
      "  'description': 'First drug candidate identified with Gain’s proprietary computational drug discovery platform SEE-Tx® to enter clinical development phase...',\n",
      "  'url': 'https://www.globenewswire.com/news-release/2023/09/12/2741790/0/en/Gain-Therapeutics-Receives-Approval-to-Commence-Phase-1-Clinical-Study-of-GT-02287-from-the-Human-Research-Ethics-Committee-HREC-in-Australia.html',\n",
      "  'urlToImage': 'https://ml.globenewswire.com/Resource/Download/b08fa984-9f20-4aa1-a174-b9f6165d50fa',\n",
      "  'publishedAt': '2023-09-12T13:25:00Z',\n",
      "  'content': 'First drug candidate identified with Gains proprietary computational drug discovery platform SEE-Tx® to enter clinical development phase\\r\\nBETHESDA, Md., Sept. 12, 2023 (GLOBE NEWSWIRE) -- Gain Therap… [+7640 chars]'},\n",
      " {'source': {'id': None, 'name': 'Phys.Org'},\n",
      "  'author': 'Angela Nicoletti',\n",
      "  'title': 'Matchmaking (with AI) to help proteins pair up',\n",
      "  'description': 'Successful matchmaking with protein molecules is like all other kinds of matchmaking: The two must click for it to work.',\n",
      "  'url': 'https://phys.org/news/2023-09-matchmaking-ai-proteins-pair.html',\n",
      "  'urlToImage': 'https://scx2.b-cdn.net/gfx/news/2023/matchmaking-with-ai-to-1.jpg',\n",
      "  'publishedAt': '2023-09-14T14:20:04Z',\n",
      "  'content': 'Successful matchmaking with protein molecules is like all other kinds of matchmaking: The two must click for it to work.\\r\\nExcept for proteinsthe estimated 200 million unique molecular building blocks… [+6085 chars]'},\n",
      " {'source': {'id': None, 'name': 'National Institutes of Health'},\n",
      "  'author': None,\n",
      "  'title': 'Notice of Upcoming Prize Competition Announcement for the Complement-Animal Research in Experimentation (Complement-ARIE) Challenge',\n",
      "  'description': 'NIH Funding Opportunities and Notices in the NIH Guide for Grants and Contracts: Notice of Upcoming Prize Competition Announcement for the Complement-Animal Research in Experimentation (Complement-ARIE) Challenge NOT-RM-23-025. RMOD',\n",
      "  'url': 'https://grants.nih.gov/grants/guide/notice-files/NOT-RM-23-025.html',\n",
      "  'urlToImage': None,\n",
      "  'publishedAt': '2023-09-20T08:36:17Z',\n",
      "  'content': 'The NIH Common Fund is beginning a strategic planning process for a potential Complement-Animal Research In Experimentation (Complement-ARIE) program to catalyze the development, standardization, val… [+12503 chars]'},\n",
      " {'source': {'id': None, 'name': 'PRNewswire'},\n",
      "  'author': None,\n",
      "  'title': 'From AI to Patient Advocacy: The Comprehensive Orphan Drugs and Rare Diseases Conference: London, United Kingdom - October 9-10, 2023',\n",
      "  'description': 'DUBLIN, Sept. 22, 2023 /PRNewswire/ -- ResearchAndMarkets.com announces the 4th Annual Orphan Drugs and Rare Diseases Conference, scheduled for October 9-10 in London, UK. This prestigious event offers an in-depth exploration into the ever-evolving world of o…',\n",
      "  'url': 'https://www.prnewswire.com/news-releases/from-ai-to-patient-advocacy-the-comprehensive-orphan-drugs-and-rare-diseases-conference-london-united-kingdom---october-9-10-2023-301936108.html',\n",
      "  'urlToImage': 'https://mma.prnewswire.com/media/539438/Research_and_Markets_Logo.jpg?p=facebook',\n",
      "  'publishedAt': '2023-09-22T23:45:00Z',\n",
      "  'content': 'DUBLIN, Sept. 22, 2023 /PRNewswire/ -- ResearchAndMarkets.com announces the 4th Annual Orphan Drugs and Rare Diseases Conference, scheduled for October 9-10 in London, UK. This prestigious event offe… [+4959 chars]'},\n",
      " {'source': {'id': None, 'name': 'Marketscreener.com'},\n",
      "  'author': 'GlobeNewswire',\n",
      "  'title': \"Gain Therapeutics Presents New Preclinical Data Demonstrating a Reduction of Plasma Neurodegeneration Biomarker NfL after Administration of its Drug Candidate GT-02287 in GBA1 Parkinson's Disease Model\",\n",
      "  'description': '(marketscreener.com) Treatment with GT-02287 also restored glucocerebrosidase enzymatic function, reduced aggregated α-synuclein, neuroinflammation and neuronal death, increased dopamine levels and improved motor function Data presented at the International C…',\n",
      "  'url': 'https://www.marketscreener.com/quote/stock/GAIN-THERAPEUTICS-INC-120780704/news/Gain-Therapeutics-Presents-New-Preclinical-Data-Demonstrating-a-Reduction-of-Plasma-Neurodegeneratio-44710839/',\n",
      "  'urlToImage': 'https://www.marketscreener.com/images/twitter_MS_fdblanc.png',\n",
      "  'publishedAt': '2023-08-28T11:01:02Z',\n",
      "  'content': 'Treatment with GT-02287 also restored glucocerebrosidase (GCase) enzymatic function, reduced aggregated -synuclein, neuroinflammation and neuronal death, increased dopamine levels and improved motor … [+8782 chars]'},\n",
      " {'source': {'id': None, 'name': 'GlobeNewswire'},\n",
      "  'author': 'Gain Therapeutics, Inc.',\n",
      "  'title': 'Gain Therapeutics Presents New Preclinical Data Demonstrating a Reduction of Plasma Neurodegeneration Biomarker NfL after Administration of its Drug Candidate GT-02287 in GBA1 Parkinson’s Disease Model',\n",
      "  'description': 'Treatment with GT-02287 also restored glucocerebrosidase (GCase) enzymatic function, reduced aggregated α-synuclein, neuroinflammation and neuronal death, increased dopamine levels and improved motor function',\n",
      "  'url': 'https://www.globenewswire.com/news-release/2023/08/28/2732467/0/en/Gain-Therapeutics-Presents-New-Preclinical-Data-Demonstrating-a-Reduction-of-Plasma-Neurodegeneration-Biomarker-NfL-after-Administration-of-its-Drug-Candidate-GT-02287-in-GBA1-Park.html',\n",
      "  'urlToImage': 'https://ml.globenewswire.com/Resource/Download/b08fa984-9f20-4aa1-a174-b9f6165d50fa',\n",
      "  'publishedAt': '2023-08-28T11:00:00Z',\n",
      "  'content': 'Treatment with GT-02287 also restored glucocerebrosidase (GCase) enzymatic function, reduced aggregated -synuclein, neuroinflammation and neuronal death, increased dopamine levels and improved motor … [+8782 chars]'},\n",
      " {'source': {'id': None, 'name': 'GlobeNewswire'},\n",
      "  'author': 'Transparency Market Research',\n",
      "  'title': 'Clinical Trials Market to Exceed USD 83.5 billion by 2030, Garnering 5.4% CAGR – Exclusive Report by Transparency Market Research',\n",
      "  'description': 'The clinical trials market is expanding, driven by increased drug development activities and advancements in trial design and technology. The clinical trials market is expanding, driven by increased drug development activities and advancements in trial design…',\n",
      "  'url': 'https://www.globenewswire.com/news-release/2023/09/27/2750351/32656/en/Clinical-Trials-Market-to-Exceed-USD-83-5-billion-by-2030-Garnering-5-4-CAGR-Exclusive-Report-by-Transparency-Market-Research.html',\n",
      "  'urlToImage': 'https://ml.globenewswire.com/Resource/Download/27b21b27-620b-4cae-8360-605a9662092b',\n",
      "  'publishedAt': '2023-09-27T12:13:00Z',\n",
      "  'content': 'Wilmington, Delaware, United States, Sept. 27, 2023 (GLOBE NEWSWIRE) -- Transparency Market Research Inc. - The clinical trials market was estimated to have acquired US$ 46.7 billion in 2019. It is a… [+7821 chars]'},\n",
      " {'source': {'id': None, 'name': 'Slashdot.org'},\n",
      "  'author': 'feedfeeder',\n",
      "  'title': 'DeepMind’s New AI Can Predict Genetic Diseases',\n",
      "  'description': 'AlphaMissense, a new model from Google&rsquo;s artificial intelligence team, analyzes the effects of DNA mutations and will accelerate research into rare diseases.',\n",
      "  'url': 'https://slashdot.org/firehose.pl?op=view&amp;id=171854934',\n",
      "  'urlToImage': None,\n",
      "  'publishedAt': '2023-09-19T14:52:29Z',\n",
      "  'content': 'The Fine Print: The following comments are owned by whoever posted them. We are not responsible for them in any way.'},\n",
      " {'source': {'id': None, 'name': 'Plos.org'},\n",
      "  'author': 'Weiguang Liu, Rafael Delalibera Rodrigues, Jianglong Yan, Yu-tao Zhu, Everson José de Freitas Pereira, Gen Li, Qiusheng Zheng, Liang Zhao',\n",
      "  'title': 'Complex network-based classification of radiographic images for COVID-19 diagnosis',\n",
      "  'description': 'In this work, we present a network-based technique for chest X-ray image classification to help the diagnosis and prognosis of patients with COVID-19. From visual inspection, we perceive that healthy and COVID-19 chest radiographic images present different le…',\n",
      "  'url': 'https://journals.plos.org/plosone/article?id=10.1371/journal.pone.0290968',\n",
      "  'urlToImage': 'https://journals.plos.org/plosone/article/figure/image?id=10.1371/journal.pone.0290968.g010&size=inline',\n",
      "  'publishedAt': '2023-09-01T14:00:00Z',\n",
      "  'content': 'Abstract\\r\\nIn this work, we present a network-based technique for chest X-ray image classification to help the diagnosis and prognosis of patients with COVID-19. From visual inspection, we perceive th… [+72655 chars]'},\n",
      " {'source': {'id': None, 'name': 'National Institutes of Health'},\n",
      "  'author': None,\n",
      "  'title': 'Fc-Dependent Mechanisms of Antibody-Mediated Killing (R01 Clinical Trial Not Allowed)',\n",
      "  'description': 'Funding Opportunity RFA-AI-23-054 from the NIH Guide for Grants and Contracts. The purpose of this notice of funding opportunity (NOFO) is to support basic research that will elucidate mechanisms of Fc-mediated antibody functions, including antibody-dependent…',\n",
      "  'url': 'https://grants.nih.gov/grants/guide/rfa-files/RFA-AI-23-054.html',\n",
      "  'urlToImage': None,\n",
      "  'publishedAt': '2023-09-26T08:17:39Z',\n",
      "  'content': 'Participating Organization(s) \\r\\nNational Institutes of Health (NIH)\\r\\nComponents of Participating Organizations \\r\\nNational Institute of Allergy and Infectious Diseases (NIAID) \\r\\nFunding Opportunity Ti… [+56961 chars]'},\n",
      " {'source': {'id': None, 'name': 'Mercola.com'},\n",
      "  'author': 'communities@mercola.com (Dr. Joseph Mercola)',\n",
      "  'title': \"'ChatGPT' for Biology? A Dictatorship of Engineers\",\n",
      "  'description': 'Hopefully, [the ultimate search engine Google was building] would never have a bug like HAL did where he killed the occupants of the spaceship. ~ Sergey Brin (NewsHour with Jim Lehrer, November 2002)1\\r\\n\\n\\n\\nAs if the ChatGPT craze weren’t bad enough, the $$$$$ …',\n",
      "  'url': 'https://articles.mercola.com/sites/articles/archive/2023/09/01/chatgpt-for-biology.aspx',\n",
      "  'urlToImage': 'https://media.mercola.com/ImageServer/Public/2023/August/FB/chatgpt-for-biology-fb.jpg',\n",
      "  'publishedAt': '2023-09-01T00:00:00Z',\n",
      "  'content': 'Mercola proudly supports these charities and organizations. View All \\r\\nDisclaimer: The entire contents of this website are based upon the opinions of Dr. Mercola, unless otherwise noted. Individual a… [+1007 chars]'},\n",
      " {'source': {'id': None, 'name': 'Plos.org'},\n",
      "  'author': 'Zeleke Tesema, Belay Deribe, Mekonnen Tilahun, Alemu Kefale, Getachew Worku Alebachew, Kefyalew Alemayehu, Tesfaye Getachew, Damitie Kebede, Mengistie Taye, Solomon Gizaw',\n",
      "  'title': 'Estimation of crossbreeding and genetic parameters for reproductive traits of Boer x Central Highland goats in Ethiopia',\n",
      "  'description': 'Additive genetic and non-additive parameters for reproductive traits of Boer x Central Highland goats were estimated. Pedigree and performance records comprised of Central Highland and their crosses with Boer goats were collected from 2009 to 2018 in the Siri…',\n",
      "  'url': 'https://journals.plos.org/plosone/article?id=10.1371/journal.pone.0291996',\n",
      "  'urlToImage': 'https://journals.plos.org/plosone/article/figure/image?id=10.1371/journal.pone.0291996.t005&size=inline',\n",
      "  'publishedAt': '2023-09-27T14:00:00Z',\n",
      "  'content': 'Ethics statement\\r\\nPrior to the study, data collection formats and procedures were reviewed and approved by the Researchers of Amhara Regional Agricultural Research Institute, Ethiopia (number Ls/Ru-3… [+7926 chars]'},\n",
      " {'source': {'id': None, 'name': 'The BMJ'},\n",
      "  'author': 'Wang, S., Chen, R., Wang, S., Kong, D., Cao, R., Lin, C., Luo, L., Huang, J., Zhang, Q., Yu, H., Ding, Y. L.',\n",
      "  'title': 'Comparative study on risk prediction model of type 2 diabetes based on machine learning theory: a cross-sectional study',\n",
      "  'description': 'Objectives To compare the prediction effects of six models based on machine learning theories, which can provide a methodological reference for predicting the risk of type 2 diabetes mellitus (T2DM).\\n\\nSetting and participants This study was based on the monit…',\n",
      "  'url': 'https://bmjopen.bmj.com/content/13/8/e069018?rss=1',\n",
      "  'urlToImage': 'https://bmjopen.bmj.com/pages/wp-content/uploads/sites/7/2019/07/bmjopen-default-cover.png',\n",
      "  'publishedAt': '2023-08-29T15:35:18Z',\n",
      "  'content': 'Introduction\\r\\nDiabetes mellitus (DM) is a metabolic disease characterised by a disorder of blood glucose metabolism, which is one of the major public health problems in the 21st century.1 In 2021, th… [+12451 chars]'},\n",
      " {'source': {'id': None, 'name': 'Plos.org'},\n",
      "  'author': 'Ricki Lewis, PhD',\n",
      "  'title': 'Why I’m Not Worried that ChatGTP Will Replace Me as a Biology Textbook Author',\n",
      "  'description': 'I just used ChatGTP for the first time. Initially, I was concerned about my future as the chatbot near-instantaneously answered my queries…\\nThe post Why I’m Not Worried that ChatGTP Will Replace Me as a Biology Textbook Author appeared first on DNA Science.',\n",
      "  'url': 'https://dnascience.plos.org/2023/09/07/why-im-not-worried-that-chatgtp-will-replace-me-as-a-biology-textbook-author/',\n",
      "  'urlToImage': 'https://dnascience.plos.org/wp-content/uploads/sites/12/2023/09/21317439_10212350530232026_9068783055137048892_n.jpg',\n",
      "  'publishedAt': '2023-09-07T18:45:31Z',\n",
      "  'content': 'I just used ChatGTP for the first time. Initially, I was concerned about my future as the chatbot near-instantaneously answered my queries on increasingly obscure terms from my field, genetics. Stump… [+11215 chars]'},\n",
      " {'source': {'id': None, 'name': 'IPWatchdog.com'},\n",
      "  'author': 'Ben Hsing',\n",
      "  'title': 'Artificial Intelligence in Drug Development: Patent Considerations',\n",
      "  'description': 'Artificial intelligence (AI) is a field of computer science that creates software or models that mimic human reasoning or inference. Machine learning is a subset of AI which uses algorithms trained on massive amounts of data to allow the computer to learn wit…',\n",
      "  'url': 'https://ipwatchdog.com/2023/09/25/artificial-intelligence-drug-development-patent-considerations/id=167125/',\n",
      "  'urlToImage': 'https://ipwatchdog.com/wp-content/uploads/2023/09/Depositphotos_657443750_XL.jpg',\n",
      "  'publishedAt': '2023-09-25T12:15:22Z',\n",
      "  'content': 'The transformative potential of AI, encompassing machine learning and generative capabilities, holds great promise for revolutionizing drug discovery and development. This promising horizon is accomp… [+16440 chars]'},\n",
      " {'source': {'id': None, 'name': 'Plos.org'},\n",
      "  'author': 'Antonio Charlys da Costa, Maria C. Mendes-Correa, Tania Regina Tozetto-Mendoza, Lucy S. Villas-Boas, Anderson Vicente de Paula, Heuder Gustavo Oliveira Paiao, Fabio E. Leal, Noely E. Ferreira, Layla Honorato, Elcio Leal, Giuliano Grandi, Vanessa dos Santos Morais, Erika R. Manuli, Ester C. Sabino, Steven S. Witkin',\n",
      "  'title': 'Detailed characterization of Redondovirus in saliva of SARS-CoV-2-infected individuals in Sao Paulo, Brazil',\n",
      "  'description': 'Background Redondovirus (ReDoV) is a DNA virus present in the respiratory tract of many healthy individuals. Since SARS-CoV-2, the virus responsible for COVID-19, also primarily infects the same site, we evaluated whether ReDoV was present at increased freque…',\n",
      "  'url': 'https://journals.plos.org/plosone/article?id=10.1371/journal.pone.0291027',\n",
      "  'urlToImage': 'https://journals.plos.org/plosone/article/figure/image?id=10.1371/journal.pone.0291027.g001&size=inline',\n",
      "  'publishedAt': '2023-08-31T14:00:00Z',\n",
      "  'content': 'Abstract\\r\\nBackground\\r\\nRedondovirus (ReDoV) is a DNA virus present in the respiratory tract of many healthy individuals. Since SARS-CoV-2, the virus responsible for COVID-19, also primarily infects th… [+24787 chars]'},\n",
      " {'source': {'id': None, 'name': 'Plos.org'},\n",
      "  'author': 'Zhaohong Huang, Xinyue Cui, Yuhao Xia, Kailong Zhao, Guijun Zhang',\n",
      "  'title': 'Pathfinder: Protein folding pathway prediction based on conformational sampling',\n",
      "  'description': 'Author summary The study of protein folding mechanism is an important part of basic science and has vital significance in many aspects. The key to the study of protein folding mechanism is to capture the conformational changes from the fast protein folding pr…',\n",
      "  'url': 'https://journals.plos.org/ploscompbiol/article?id=10.1371/journal.pcbi.1011438',\n",
      "  'urlToImage': 'https://journals.plos.org/ploscompbiol/article/figure/image?id=10.1371/journal.pcbi.1011438.g007&size=inline',\n",
      "  'publishedAt': '2023-09-11T14:00:00Z',\n",
      "  'content': 'Abstract\\r\\nThe study of protein folding mechanism is a challenge in molecular biology, which is of great significance for revealing the movement rules of biological macromolecules, understanding the p… [+51456 chars]'},\n",
      " {'source': {'id': None, 'name': 'Plos.org'},\n",
      "  'author': 'Bayarbaatar Amgalan, Chi-Ping Day, Teresa M. Przytycka',\n",
      "  'title': 'Exploring tumor-normal cross-talk with TranNet: Role of the environment in tumor progression',\n",
      "  'description': 'Author summary In oncological studies, control samples are usually biopsied from tumor-adjacent normal tissue. However, there is an increasing understanding that such samples represent a state that is intermediate between tumor and normal, and is influenced b…',\n",
      "  'url': 'https://journals.plos.org/ploscompbiol/article?id=10.1371/journal.pcbi.1011472',\n",
      "  'urlToImage': 'https://journals.plos.org/ploscompbiol/article/figure/image?id=10.1371/journal.pcbi.1011472.g007&size=inline',\n",
      "  'publishedAt': '2023-09-18T14:00:00Z',\n",
      "  'content': 'Abstract\\r\\nThere is a growing awareness that tumor-adjacent normal tissues used as control samples in cancer studies do not represent fully healthy tissues. Instead, they are intermediates between hea… [+61681 chars]'},\n",
      " {'source': {'id': None, 'name': 'Plos.org'},\n",
      "  'author': 'Shotaro Asano, Ryo Asaoka, Akio Oishi, Yuri Fujino, Hiroshi Murata, Keiko Azuma, Manabu Miyata, Ryo Obata, Tatsuya Inoue',\n",
      "  'title': 'Investigating the clinical validity of the guided progression analysis definition with 10–2 visual field in retinitis pigmentosa',\n",
      "  'description': 'Purpose To investigate the clinical validity of the Guided Progression Analysis definition (GPAD) and cluster-based definition (CBD) with the Humphrey Field Analyzer (HFA) 10–2 test in retinitis pigmentosa (RP).   Methods Ten non-progressive RP visual fields …',\n",
      "  'url': 'https://journals.plos.org/plosone/article?id=10.1371/journal.pone.0291208',\n",
      "  'urlToImage': 'https://journals.plos.org/plosone/article/figure/image?id=10.1371/journal.pone.0291208.g004&size=inline',\n",
      "  'publishedAt': '2023-09-08T14:00:00Z',\n",
      "  'content': 'Abstract\\r\\nPurpose\\r\\nTo investigate the clinical validity of the Guided Progression Analysis definition (GPAD) and cluster-based definition (CBD) with the Humphrey Field Analyzer (HFA) 102 test in reti… [+32571 chars]'}]"
     ]
    }
   ],
   "source": [
    "result1 = result['articles']\n",
    "result1"
   ]
  },
  {
   "cell_type": "code",
   "execution_count": null,
   "metadata": {
    "application/vnd.databricks.v1+cell": {
     "cellMetadata": {
      "byteLimit": 2048000,
      "rowLimit": 10000
     },
     "inputWidgets": {},
     "nuid": "9c6ed9c5-09d6-4272-918b-8d4df1a41579",
     "showTitle": false,
     "title": ""
    }
   },
   "outputs": [
    {
     "data": {
      "text/html": [
       "<style scoped>\n",
       "  .table-result-container {\n",
       "    max-height: 300px;\n",
       "    overflow: auto;\n",
       "  }\n",
       "  table, th, td {\n",
       "    border: 1px solid black;\n",
       "    border-collapse: collapse;\n",
       "  }\n",
       "  th, td {\n",
       "    padding: 5px;\n",
       "  }\n",
       "  th {\n",
       "    text-align: left;\n",
       "  }\n",
       "</style><div class='table-result-container'><table class='table-result'><thead style='background-color: white'><tr><th>source</th><th>author</th><th>title</th><th>description</th><th>url</th><th>urlToImage</th><th>publishedAt</th><th>content</th></tr></thead><tbody><tr><td>Amit Katwala</td><td>About 10 years ago, iga Avsec was a PhD physics student who found himself taking a crash course in genomics via a university module on machine learning. He was soon working in a lab that studied rare… [+2913 chars]</td><td>AlphaMissense, a new model from Google’s artificial intelligence team, analyzes the effects of DNA mutations and will accelerate research into rare diseases.</td><td>2023-09-19T14:35:23Z</td><td>Map(name -> Wired, id -> wired)</td><td>DeepMind’s New AI Can Predict Genetic Diseases</td><td>https://www.wired.com/story/deepmind-ai-alphamissense-genetics-rare-diseases/</td><td>https://media.wired.com/photos/6509abd0d7ea654c08913301/191:100/w_1280,c_limit/digitized-dna-helix-science-GettyImages-85757934.jpg</td></tr><tr><td>Ioanna Lykiardopoulou</td><td>Google DeepMind has unveiled its novel AI tool that can predict whether DNA mutations are likely to cause genetic diseases. The ambition is that it will  facilitate faster diagnosis and development o… [+2103 chars]</td><td>Google DeepMind has unveiled its novel AI tool that can predict whether DNA mutations are likely to cause genetic diseases. The ambition is that it will  facilitate faster diagnosis and development of life-saving treatments. The new AI model, called AlphaMiss…</td><td>2023-09-20T11:44:36Z</td><td>Map(name -> The Next Web, id -> the-next-web)</td><td>DeepMind’s new AI tool can predict genetic diseases</td><td>https://thenextweb.com/news/deepminds-ai-tool-predicts-genetic-diseases</td><td>https://img-cdn.tnwcdn.com/image/tnw-blurple?filter_last=1&fit=1280%2C640&url=https%3A%2F%2Fcdn0.tnwcdn.com%2Fwp-content%2Fblogs.dir%2F1%2Ffiles%2F2023%2F09%2FUntitled-design-14-10.jpg&signature=d5b222e3ee9bcffe5f162236598b4ad2</td></tr><tr><td>Muhammad Sohaib Saleem</td><td>Artificial Intelligence has come a long way since its conceptualization in science fiction. What was once an imaginative idea is now a reality, revolutionizing various aspects of our lives. From self… [+8873 chars]</td><td>Artificial Intelligence has come a long way since its conceptualization in science fiction. What was once an imaginative idea is […]\n",
       "The post From Sci-Fi to Reality: The Roadmap of AI Development and Its Future Potential appeared first on ReadWrite.</td><td>2023-09-25T20:00:51Z</td><td>Map(name -> ReadWrite, id -> null)</td><td>From Sci-Fi to Reality: The Roadmap of AI Development and Its Future Potential</td><td>https://readwrite.com/from-sci-fi-to-reality-the-roadmap-of-ai-development-and-its-future-potential/</td><td>https://readwrite.com/wp-content/uploads/2023/08/Roadmap-of-AI-Development.jpg</td></tr><tr><td>Science X</td><td>Researchers at Google DeepMind, the tech giant's artificial intelligence arm, on Tuesday introduced a tool that predicts whether genetic mutations are likely to cause harm, a breakthrough that could … [+3103 chars]</td><td>Researchers at Google DeepMind, the tech giant's artificial intelligence arm, on Tuesday introduced a tool that predicts whether genetic mutations are likely to cause harm, a breakthrough that could help research into rare diseases.</td><td>2023-09-20T08:35:47Z</td><td>Map(name -> Phys.Org, id -> null)</td><td>Google AI tool predicts danger of genetic mutations</td><td>https://phys.org/news/2023-09-google-ai-tool-danger-genetic.html</td><td>https://scx2.b-cdn.net/gfx/news/2023/googles-new-ai-tool-ca.jpg</td></tr><tr><td>null</td><td>AlphaMissense promises to predict how dangerous a genetic mutation is.\r\n",
       " Researchers at DeepMind, one of Googles artificial intelligence (AI) companies, presented a new tool that predicts whether or … [+2308 chars]</td><td>AlphaMissense promises to predict how dangerous a genetic mutation is.</td><td>2023-09-21T14:02:13Z</td><td>Map(name -> Euronews, id -> null)</td><td>What’s AlphaMissense? This new Google DeepMind tool analyses genetic mutations</td><td>https://www.euronews.com/next/2023/09/21/whats-alphamissense-this-new-google-deepmind-tool-analyses-genetic-mutations</td><td>https://static.euronews.com/articles/stories/07/91/15/00/1000x563_cmsv2_68a11ed3-f436-563a-b400-8121903fecc3-7911500.jpg</td></tr><tr><td>Amit Katwala</td><td>About 10 years ago, iga Avsec was a PhD physics student who found himself taking a crash course in genomics via a university module on machine learning. He was soon working in a lab that studied rare… [+4707 chars]</td><td>AlphaMissense, a new model from Google’s artificial intelligence team, analyzes the effects of DNA mutations and will accelerate research into rare diseases.</td><td>2023-09-19T14:33:25Z</td><td>Map(name -> Wired.co.uk, id -> null)</td><td>DeepMind’s New AI Can Predict Genetic Diseases</td><td>https://www.wired.co.uk/article/deepmind-ai-alphamissense-genetics-rare-diseases</td><td>https://media.wired.co.uk/photos/6508b2210178e37fb4a68568/16:9/w_1280,c_limit/digitized-dna-helix-science-GettyImages-85757934.jpg</td></tr><tr><td>Shelly Fan</td><td>Proteins are like Spider-Man in the multiverse.\r\n",
       "The underlying story is the same: each building block of a protein is based on a three-letter DNA code. However, change one letter, and the same prote… [+6771 chars]</td><td>Proteins are like Spider-Man in the multiverse. The underlying story is the same: each building block of a protein is based on a three-letter DNA code. However, change one letter, and the same protein becomes a different version of itself. If we’re lucky, som…</td><td>2023-09-21T20:27:27Z</td><td>Map(name -> Singularity Hub, id -> null)</td><td>DeepMind AI Hunts Down the DNA Mutations Behind Genetic Disease</td><td>https://singularityhub.com/2023/09/21/deepmind-ai-hunts-down-the-dna-mutations-behind-genetic-disease/</td><td>https://singularityhub.com/wp-content/uploads/2023/09/deepmind-dna-double-helix-visualization.jpeg</td></tr><tr><td>Steve Nouri, Forbes Councils Member, \n",
       " Steve Nouri, Forbes Councils Member\n",
       " https://www.forbes.com/sites/forbestechcouncil/people/stevenouri/</td><td>Steve is the Founder of GenAI Works and AI4Diversity. He is an AI expert, tech evangelist, and influencer.\r\n",
       "getty\r\n",
       "Just as ChatGPT is turning text directions into new written materials, or just as DA… [+6523 chars]</td><td>The merging of deep, quality data and expertise with increasingly sophisticated AI capabilities has the potential to truly shift the future of medicine.</td><td>2023-09-05T11:45:00Z</td><td>Map(name -> Forbes, id -> null)</td><td>Generative AI Drugs Are Coming</td><td>https://www.forbes.com/sites/forbestechcouncil/2023/09/05/generative-ai-drugs-are-coming/</td><td>https://imageio.forbes.com/specials-images/imageserve/64f22325ebec7ec31b17ee9b/0x0.jpg?format=jpg&width=1200</td></tr><tr><td>Ariel Katz, Forbes Councils Member, \n",
       " Ariel Katz, Forbes Councils Member\n",
       " https://www.forbes.com/sites/forbestechcouncil/people/arielkatz/</td><td>Ariel Katz, CEO and cofounder of H1.\r\n",
       "getty\r\n",
       "The explosion of generative AI in healthcarelargely due to the exponential growth of medical data, a shortage of healthcare providers and advancements in … [+6893 chars]</td><td>Though there are challenges to be understood and overcome, AI is significantly improving the healthcare landscape.</td><td>2023-09-19T14:00:00Z</td><td>Map(name -> Forbes, id -> null)</td><td>10 Ways AI Is Advancing Healthcare</td><td>https://www.forbes.com/sites/forbestechcouncil/2023/09/19/10-ways-ai-is-advancing-healthcare/</td><td>https://imageio.forbes.com/specials-images/imageserve/62bc54b6d9785913bcd547b5/0x0.jpg?format=jpg&width=1200</td></tr><tr><td>AFP News</td><td>Researchers at Google DeepMind, the tech giant's artificial intelligence arm, on Tuesday introduced a tool that predicts whether genetic mutations are likely to cause harm, a breakthrough that could … [+2437 chars]</td><td>Researchers at Google DeepMind, the tech giant's artificial intelligence arm, on Tuesday introduced a tool that predicts whether genetic mutations are likely to cause harm, a breakthrough that could help research into rare diseases.</td><td>2023-09-19T20:57:36Z</td><td>Map(name -> International Business Times, id -> null)</td><td>Google AI Tool Predicts Danger Of Genetic Mutations</td><td>https://www.ibtimes.com/google-ai-tool-predicts-danger-genetic-mutations-3712362</td><td>https://d.ibtimes.com/en/full/4487127/googles-new-ai-tool-can-read-dna-like-language-see-immediately-if-word-substitution-will.jpg</td></tr><tr><td>Alex Knapp, Forbes Staff, \n",
       " Alex Knapp, Forbes Staff\n",
       " https://www.forbes.com/sites/alexknapp/</td><td>Professor James Fujimoto\r\n",
       "Jake Belcher Courtesy The Lasker Foundation\r\n",
       "The Lasker Foundations annual awards for medical research honor the inventors of optical coherence tomography, DeepMinds AlphaFo… [+5081 chars]</td><td>The Lasker Foundation’s annual awards for medical research honor the inventors of optical coherence tomography and more.</td><td>2023-09-21T13:00:00Z</td><td>Map(name -> Forbes, id -> null)</td><td>Retinal Imaging And Machine Learning Honored In The 2023 Lasker Awards</td><td>https://www.forbes.com/sites/alexknapp/2023/09/21/retinal-imaging-and-machine-learning-honored-in-the-2023-lasker-awards/</td><td>https://imageio.forbes.com/specials-images/imageserve/650bc8ed984021daef9b1326/0x0.jpg?format=jpg&width=1200</td></tr><tr><td>AFP</td><td>WASHINGTON - Researchers at Google DeepMind, the tech giant's artificial intelligence arm, on Tuesday introduced a tool that predicts whether genetic mutations are likely to cause harm, a breakthroug… [+2450 chars]</td><td>WASHINGTON - Researchers at Google DeepMind, the tech giant's artificial intelligence arm, on Tuesday introduced a tool that predicts whether genetic mutations are likely to cause harm, a breakthrough that could help research into rare diseases.</td><td>2023-09-19T21:45:00Z</td><td>Map(name -> Bangkok Post, id -> null)</td><td>Google AI tool predicts danger of genetic mutations</td><td>https://www.bangkokpost.com/world/2650034/google-ai-tool-predicts-danger-of-genetic-mutations</td><td>https://static.bangkokpost.com/media/content/20230920/c1_4897722_700.jpg</td></tr><tr><td>null</td><td>Researchers at Google DeepMind, the tech giant's artificial intelligence arm, on Tuesday introduced a tool that predicts whether genetic mutations are likely to cause harm, a breakthrough that could … [+2449 chars]</td><td>Researchers at Google DeepMind, the tech giant's artificial intelligence arm, on Tuesday introduced a tool that predicts whether genetic mutations are likely to cause harm, a breakthrough that could help research into rare diseases. The findings are &quot;ano…</td><td>2023-09-19T21:43:46Z</td><td>Map(name -> Japan Today, id -> null)</td><td>Google AI tool predicts danger of genetic mutations</td><td>https://japantoday.com/category/features/health/google-ai-tool-predicts-danger-of-genetic-mutations1</td><td>null</td></tr><tr><td>Lisa Jarvis</td><td>Its becoming increasingly clear that scientists are only scratching the surface of what artificial intelligence can teach us about human biology and disease. Case in point: new work by Alphabet's AI … [+4751 chars]</td><td>Thereâs been plenty of worrying about the damage AI could do, but discoveries like the GoogleÂ tool that can pluck harmful genome mutations from thousands of minute-but-benign onesÂ show how AI can accelerate progress on the most vexing questions about huma…</td><td>2023-09-21T04:35:15Z</td><td>Map(name -> Moneycontrol, id -> null)</td><td>Google DeepMind#39;s AI tool could pinpoint our genetic faults</td><td>https://www.moneycontrol.com/news/opinion/google-deepminds-ai-tool-could-pinpoint-our-genetic-faults-11401241.html</td><td>https://images.moneycontrol.com/static-mcnews/2023/08/Collage-Maker-30-Aug-2023-10-48-AM-3714-770x433.jpg</td></tr><tr><td>null</td><td>WASHINGTON: Researchers at Google DeepMind, the tech giant's artificial intelligence arm, on Tuesday (Sep 19) introduced a tool that predicts whether genetic mutations are likely to cause harm, a bre… [+2462 chars]</td><td>WASHINGTON: Researchers at Google DeepMind, the tech giant's artificial intelligence arm, on Tuesday (Sep 19) introduced a tool that predicts whether genetic mutations are likely to cause harm, a breakthrough that could help research into rare diseases. The f…</td><td>2023-09-19T22:11:01Z</td><td>Map(name -> CNA, id -> null)</td><td>Google AI tool predicts danger of genetic mutations</td><td>https://www.channelnewsasia.com/business/google-ai-tool-predicts-danger-genetic-mutations-3784016</td><td>https://onecms-res.cloudinary.com/image/upload/s--zj9ea8EA--/fl_relative,g_south_east,l_one-cms:core:watermark:afp_watermark,w_0.1/f_auto,q_auto/c_fill,g_auto,h_676,w_1200/v1/one-cms/core/71f081542f99c3723b161996288590399f4945a3.jpg?itok=JTlUK7-G</td></tr><tr><td>Jak Connor</td><td>Google DeepMind has created a new AI system that is capable of detecting genetic mutations that may lead to diseases.\r\n",
       "A new study published in the journal Science details a new AI model called Alpha… [+1822 chars]</td><td>Google's AI firm has designed an artificial intelligence system to detect abnormal genetic mutations that can lead to diseases emerging. Continue reading at TweakTown ></td><td>2023-09-25T04:07:03Z</td><td>Map(name -> TweakTown, id -> null)</td><td>Google's new AI breakthrough is a 'big step forward' to creating 'life-saving treatments'</td><td>https://www.tweaktown.com/news/93431/googles-new-ai-breakthrough-is-big-step-forward-to-creating-life-saving-treatments/index.html</td><td>https://static.tweaktown.com/news/9/3/93431_58959_google-says-its-new-ai-can-pinpoint-which-genes-are-likely-to-cause-disease_full.jpg</td></tr><tr><td>Michael Le Page</td><td>DeepMind’s AlphaMissense AI can predict whether mutations will affect how proteins such as haemoglobin subunit beta (left) or cystic fibrosis transmembrane conductance regulator (right) will function… [+3548 chars]</td><td>By working out which small mutations will probably be damaging, DeepMind’s AlphaMissense system could help doctors identify the cause of genetic diseases</td><td>2023-09-19T15:30:21Z</td><td>Map(name -> New Scientist, id -> new-scientist)</td><td>DeepMind AI can predict if DNA mutations are likely to be harmful</td><td>https://www.newscientist.com/article/2392821-deepmind-ai-can-predict-if-dna-mutations-are-likely-to-be-harmful/</td><td>https://images.newscientist.com/wp-content/uploads/2023/09/19142523/SEI_172303762.jpg</td></tr><tr><td>Rob Toews, Contributor, \n",
       " Rob Toews, Contributor\n",
       " https://www.forbes.com/sites/robtoews/</td><td>The transformer, today's dominant AI architecture, has interesting parallels to the alien language ... [+] in the 2016 science fiction film \"Arrival.\"\r\n",
       "Paramount Pictures\r\n",
       "If modern artificial intell… [+20795 chars]</td><td>No technology remains dominant forever.</td><td>2023-09-03T22:00:00Z</td><td>Map(name -> Forbes, id -> null)</td><td>Transformers Revolutionized AI. What Will Replace Them?</td><td>https://www.forbes.com/sites/robtoews/2023/09/03/transformers-revolutionized-ai-what-will-replace-them/</td><td>https://imageio.forbes.com/specials-images/imageserve/64f3b2b43d727bdfbf85cc97/0x0.jpg?format=jpg&width=1200</td></tr><tr><td>mint</td><td>Its becoming clear that scientists are only scratching the surface of what artificial intelligence (AI) can teach us about human biology and disease. Case in point: new work by Alphabets AI subsidiar… [+4506 chars]</td><td>Last year’s AI breakthrough is showing what it can do for health</td><td>2023-09-21T14:51:02Z</td><td>Map(name -> Livemint, id -> null)</td><td>Google’s AlphaFold has a new tool to track genetic mutations</td><td>https://www.livemint.com/opinion/online-views/googles-alphafold-has-a-new-tool-to-track-genetic-mutations-11695306099645.html</td><td>https://www.livemint.com/lm-img/img/2023/09/21/600x338/2-0-950951326-genome-0_1679732768848_1695307674193.jpg</td></tr><tr><td>ft.com</td><td>First example of artificial intelligence helping to accelerate diagnosis of diseases caused by genetic variants\r\n",
       "This story appeared on ft.com, .</td><td>First example of artificial intelligence helping to accelerate diagnosis of diseases caused by genetic variants</td><td>2023-09-19T15:42:11Z</td><td>Map(name -> Biztoc.com, id -> null)</td><td>DeepMind uses AI to predict harmful genetic mutations in humans</td><td>https://biztoc.com/x/9ceb51271e409210</td><td>https://c.biztoc.com/p/9ceb51271e409210/s.webp</td></tr><tr><td>null</td><td>Washington: Researchers at Google DeepMind, the tech giant's artificial intelligence arm, on Tuesday introduced a tool that predicts whether genetic mutations are likely to cause harm, a breakthrough… [+2573 chars]</td><td>Researchers at Google DeepMind, the tech giant's artificial intelligence arm, on Tuesday introduced a tool that predicts whether genetic mutations are likely to cause harm, a breakthrough that could help research into rare diseases.</td><td>2023-09-20T01:51:26Z</td><td>Map(name -> NDTV News, id -> null)</td><td>Google's New AI Tool Predicts Danger Of Genetic Mutations</td><td>https://www.ndtv.com/science/google-new-ai-tool-predicts-danger-of-genetic-mutations-4405728</td><td>https://c.ndtvimg.com/2023-09/40cmfqso_google-generic_625x300_04_September_23.jpg</td></tr><tr><td>Agence France-Presse</td><td>Researchers at Google DeepMind, the tech giant's artificial intelligence arm, on Tuesday introduced a tool that predicts whether genetic mutations are likely to cause harm, a breakthrough that could … [+2515 chars]</td><td>Researchers at Google DeepMind, the tech giant's artificial intelligence arm, on Tuesday introduced a tool that predicts whether genetic mutations are likely to cause harm, a breakthrough that could help research into rare diseases.</td><td>2023-09-20T06:22:52Z</td><td>Map(name -> Gadgets360.com, id -> null)</td><td>Google DeepMind AI Tool Predicts Whether Genetic Mutations Are Likely to Cause Harm</td><td>https://www.gadgets360.com/internet/news/google-deepmind-ai-tool-predicts-genetic-mutation-dangers-rare-diseases-research-4406178</td><td>https://i.gadgets360cdn.com/large/google_reuters_1694582304835.jpg</td></tr><tr><td>Gary Bernstein</td><td>Artificial Intelligence (AI) has emerged as a transformative force that is reshaping industries, improving our daily lives, and pushing the boundaries of human potential. This cutting-edge technology… [+7082 chars]</td><td>Artificial Intelligence (AI) has emerged as a transformative force that is reshaping industries, improving our daily lives, and pushing the boundaries of human potential. This cutting-edge technology is no longer confined to science fiction; it has become an …</td><td>2023-09-05T10:07:40Z</td><td>Map(name -> Cloudtweaks.com, id -> null)</td><td>The Age of AI Benefits: A Global Transformation</td><td>https://cloudtweaks.com/2023/09/age-ai-benefits-global-transformation/</td><td>https://cloudtweaks.com/wp-content/uploads/2020/10/Gary-Bernstein.jpg</td></tr><tr><td>John Palmer</td><td><ul><li>Deep Genomics introduces BigRNA, a groundbreaking AI foundation model for RNA therapeutics, with immense potential for revolutionizing drug discovery.</li><li>BigRNA’s versatility, extensive … [+5733 chars]</td><td>Deep Genomics, a pioneering AI-driven drug development company, has introduced an innovative AI foundation model called BigRNA. This transformative model, based on deep learning, represents a significant leap forward in the discovery of RNA biology and therap…</td><td>2023-09-27T14:11:06Z</td><td>Map(name -> Cryptopolitan, id -> null)</td><td>Deep Genomics Unveils Groundbreaking AI Foundation Model for RNA Therapeutics</td><td>https://www.cryptopolitan.com/deep-genomics-unveils-ai-foundation/</td><td>https://img.cryptopolitan.com/wp-content/uploads/2023/09/image-2023-09-27T145209.477-1.jpg</td></tr><tr><td>Paramita (Guha) Ghosh</td><td>In 2023, machine learning (ML) is a powerful enabler for Data Management, revolutionizing the way organizations handle and analyze vast amounts of data. ML, a subset of artificial intelligence (AI), … [+14744 chars]</td><td>In 2023, machine learning (ML) is a powerful enabler for Data Management, revolutionizing the way organizations handle and analyze vast amounts of data. ML, a subset of artificial intelligence (AI), offers various approaches to tackle Data Management challeng…</td><td>2023-08-31T07:35:00Z</td><td>Map(name -> Dataversity.net, id -> null)</td><td>Machine Learning Use Cases for Data Management</td><td>https://www.dataversity.net/machine-learning-use-cases-data-management/</td><td>https://d3an9kf42ylj3p.cloudfront.net/uploads/2017/08/pg_MLusecases_aug23.jpg</td></tr><tr><td>XCELLENT INSIGHTS LLP</td><td>Pune, Sept. 26, 2023 (GLOBE NEWSWIRE) -- The Global Precision Medicine Market\r\n",
       " has witnessed remarkable growth, reaching a size of approximately USD 57.69 billion in 2022, and is projected to furthe… [+10510 chars]</td><td>Pune, Sept. 26, 2023 (GLOBE NEWSWIRE) -- The Global Precision Medicine Market\r\n",
       " has witnessed remarkable growth, reaching a size of approximately USD 57.69 billion in 2022, and is projected to further expand to USD 110.9 billion with a robust CAGR of 11.5% du…</td><td>2023-09-25T23:02:00Z</td><td>Map(name -> GlobeNewswire, id -> null)</td><td>Global Precision Medicine Market Size to Reach USD 148.2 Billion in 2032 | Xcellent Insights</td><td>https://www.globenewswire.com/news-release/2023/09/25/2749076/0/en/Global-Precision-Medicine-Market-Size-to-Reach-USD-148-2-Billion-in-2032-Xcellent-Insights.html</td><td>https://ml.globenewswire.com/Resource/Download/20e20a5a-19cb-40c4-97ab-6a8a15c225be</td></tr><tr><td>The Feed</td><td>Mark Zuckerberg and his wife Dr. Priscilla Chan plan to eradicate all human diseases by 2100 through their foundation, The Chan Zuckerberg Initiative (CZI). The foundation intends to create a special… [+2691 chars]</td><td>Mark Zuckerberg and his wife, Priscilla Chan, plan to eradicate all human diseases by 2100 through their foundation, The Chan Zuckerberg Initiative. They aim to create a computing system that utilises artificial intelligence (AI) to study cell behavior and de…</td><td>2023-09-26T10:09:23Z</td><td>Map(name -> The Times of India, id -> the-times-of-india)</td><td>Mark Zuckerberg and Dr Priscilla Chan aim to eradicate all diseases by 2100</td><td>https://economictimes.indiatimes.com/news/new-updates/mark-zuckerberg-and-his-wife-aim-to-eradicate-all-diseases-by-2100/articleshow/103958277.cms</td><td>https://img.etimg.com/thumb/msid-103959042,width-1200,height-630,imgsize-85548,overlay-economictimes/photo.jpg</td></tr><tr><td>null</td><td>Artificial intelligence, now subject to congressional scrutiny and billionaire powwows in recent news stories, changing everything, it seems, and in ways that may surprise us.\r\n",
       "Perhaps the most notic… [+5461 chars]</td><td>Artificial intelligence, now subject to congressional scrutiny and billionaire powwows in recent news stories, changing everything, it seems, and in ways that may surprise us.\r\n",
       "\r\n",
       "Perhaps the most noticeable way that AI will change how we do things&nb...</td><td>2023-09-16T05:00:00Z</td><td>Map(name -> Americanthinker.com, id -> null)</td><td>Look at all the ways AI is changing transportation and health care</td><td>https://www.americanthinker.com/blog/2023/09/ai_is_changing_transportation_and_healthcare.html</td><td>https://www.americanthinker.com/images/bucket/2023-09/248870.jpg</td></tr><tr><td>GlobeNewswire</td><td>Collaboration will apply Valos Opal Computational Platform and real-world patient dataset to enable the discovery and development of novel cardiometabolic drug programmes\r\n",
       "Novo Nordisk licenses three… [+6429 chars]</td><td>(marketscreener.com) Collaboration will apply Valo’s Opal Computational Platform™ and real-world patient dataset to enable the discovery and development of novel cardiometabolic drug programmes Novo Nordisk licenses three preclinical drug discovery programmes…</td><td>2023-09-25T12:02:02Z</td><td>Map(name -> Marketscreener.com, id -> null)</td><td>Valo Health and Novo Nordisk to collaborate to discover and develop novel treatments for cardiometabolic diseases using human data and artificial intelligence</td><td>https://www.marketscreener.com/quote/stock/NOVO-NORDISK-AS-39433525/news/Valo-Health-and-Novo-Nordisk-to-collaborate-to-discover-and-develop-novel-treatments-for-cardiometab-44914731/</td><td>https://www.marketscreener.com/images/twitter_MS_fdnoir.png</td></tr><tr><td>Novo Nordisk A/S</td><td>Collaboration will apply Valos Opal Computational Platform and real-world patient dataset to enable the discovery and development of novel cardiometabolic drug programmes\r\n",
       "Novo Nordisk licenses three… [+5554 chars]</td><td>Collaboration will apply Valo’s Opal Computational Platform™ and real-world patient dataset to enable the discovery and development of novel cardiometabolic drug programmes</td><td>2023-09-25T12:00:00Z</td><td>Map(name -> GlobeNewswire, id -> null)</td><td>Valo Health and Novo Nordisk to collaborate to discover and develop novel treatments for cardiometabolic diseases using human data and artificial intelligence</td><td>https://www.globenewswire.com/news-release/2023/09/25/2748601/0/en/Valo-Health-and-Novo-Nordisk-to-collaborate-to-discover-and-develop-novel-treatments-for-cardiometabolic-diseases-using-human-data-and-artificial-intelligence.html</td><td>https://ml-eu.globenewswire.com/Resource/Download/18c2fb08-e2c1-4a52-90dd-5c0f18213eb6</td></tr><tr><td>ReportLinker</td><td>New York, Sept. 04, 2023 (GLOBE NEWSWIRE) -- Reportlinker.com announces the release of the report \"Global Next-Generation Sequencing on Drug Development Market\" - https://www.reportlinker.com/p064890… [+5370 chars]</td><td>Report Scope:. The scope of this report includes NGS technologies, applications, industries, initiatives, patents and companies. The markets for NGS in drug development are given for 2020, 2021, 2022, 2023 and 2028. Report Scope:. The scope of this report inc…</td><td>2023-09-04T10:09:00Z</td><td>Map(name -> GlobeNewswire, id -> null)</td><td>Global Next-Generation Sequencing on Drug Development Market</td><td>https://www.globenewswire.com/news-release/2023/09/04/2736570/0/en/Global-Next-Generation-Sequencing-on-Drug-Development-Market.html</td><td>https://ml.globenewswire.com/Resource/Download/3e0b82c2-02d7-44c8-b22f-561e0f321f39</td></tr><tr><td>Joseph Guhlin, Postdoctoral Researcher with Genomics Aotearoa, University of Otago, Peter Dearden, Professor and Director of Genomics Aotearoa, University of Otago</td><td>Shutterstock/FeatherStalker Don\r\n",
       "The genetic mapping of almost the entire kākāpō population has shed new light on specific traits that will help conservation biologists in their efforts to save the c… [+5858 chars]</td><td>Kākāpō are prone to disease and infertility. Only intensive species management has saved the flightless parrots from extinction. Genome data now reveals the genetic reasons behind these problems.</td><td>2023-08-30T04:13:18Z</td><td>Map(name -> The Conversation Africa, id -> null)</td><td>How gene mapping almost all remaining kākāpō will help NZ’s rare night parrot survive</td><td>https://theconversation.com/how-gene-mapping-almost-all-remaining-kakapo-will-help-nzs-rare-night-parrot-survive-212451</td><td>https://images.theconversation.com/files/545418/original/file-20230829-22497-o5cpnd.jpg?ixlib=rb-1.1.0&rect=0%2C417%2C5358%2C2679&q=45&auto=format&w=1356&h=668&fit=crop</td></tr><tr><td>GlobeNewswire</td><td>BETHESDA, Md., Sept. 20, 2023 (GLOBE NEWSWIRE) -- Gain Therapeutics, Inc., (Nasdaq: GANX) (Gain, or the Company), a biotechnology company leading the discovery and development of the next generation … [+6995 chars]</td><td>(marketscreener.com) BETHESDA, Md., Sept. 20, 2023 -- Gain Therapeutics, Inc., , a biotechnology company leading the discovery and development of the next generation of allosteric small molecule therapies, today announced that Matthias Alder, Chief Executive …</td><td>2023-09-20T20:06:02Z</td><td>Map(name -> Marketscreener.com, id -> null)</td><td>Gain Therapeutics to Present at the Cambridge Healthtech Institute's 2nd Annual Neurodegeneration Targets Conference</td><td>https://www.marketscreener.com/quote/stock/GAIN-THERAPEUTICS-INC-120780704/news/Gain-Therapeutics-to-Present-at-the-Cambridge-Healthtech-Institute-s-2nd-Annual-Neurodegeneration-Ta-44889216/</td><td>https://www.marketscreener.com/images/twitter_MS_fdnoir.png</td></tr><tr><td>Gain Therapeutics, Inc.</td><td>BETHESDA, Md., Sept. 20, 2023 (GLOBE NEWSWIRE) -- Gain Therapeutics, Inc., (Nasdaq: GANX) (Gain, or the Company), a biotechnology company leading the discovery and development of the next generation … [+6995 chars]</td><td>BETHESDA, Md., Sept. 20, 2023 (GLOBE NEWSWIRE) -- Gain Therapeutics, Inc., (Nasdaq: GANX) (“Gain”, or the “Company”), a biotechnology company leading the discovery and development of the next generation of allosteric small molecule therapies, today announced …</td><td>2023-09-20T20:05:00Z</td><td>Map(name -> GlobeNewswire, id -> null)</td><td>Gain Therapeutics to Present at the Cambridge Healthtech Institute’s 2nd Annual Neurodegeneration Targets Conference</td><td>https://www.globenewswire.com/news-release/2023/09/20/2746852/0/en/Gain-Therapeutics-to-Present-at-the-Cambridge-Healthtech-Institute-s-2nd-Annual-Neurodegeneration-Targets-Conference.html</td><td>https://ml.globenewswire.com/Resource/Download/b08fa984-9f20-4aa1-a174-b9f6165d50fa</td></tr><tr><td>Research and Markets</td><td>Dublin, Aug. 30, 2023 (GLOBE NEWSWIRE) -- The \"Gene Fusion Testing Market - A Global and Regional Analysis: Focus on by Category, Technology, Indication, End User, and Region - Analysis and Forecast,… [+5035 chars]</td><td>Dublin, Aug. 30, 2023 (GLOBE NEWSWIRE) -- The \"Gene Fusion Testing Market - A Global and Regional Analysis: Focus on by Category, Technology, Indication, End User, and Region - Analysis and Forecast, 2023-2033\" report has been added to ResearchAndMarkets.com'…</td><td>2023-08-30T13:38:00Z</td><td>Map(name -> GlobeNewswire, id -> null)</td><td>Unlocking the Future of Gene Fusion Testing: Advancements Project Market to Reach $897.6 Million by 2033</td><td>https://www.globenewswire.com/news-release/2023/08/30/2734481/28124/en/Unlocking-the-Future-of-Gene-Fusion-Testing-Advancements-Project-Market-to-Reach-897-6-Million-by-2033.html</td><td>https://ml.globenewswire.com/Resource/Download/908fb457-7f8e-4a08-9081-5565e3dfb3d7</td></tr><tr><td>Precedence Research</td><td>Ottawa, Aug. 29, 2023 (GLOBE NEWSWIRE) -- The global artificial intelligence (AI) in cancer diagnostics market revenue is projected to reach around USD 1,466.72 million by 2029, a Study published by … [+17038 chars]</td><td>The global artificial intelligence (AI) in cancer diagnostics market was valued at USD 892.23 million in 2022 and is estimated to surpass around USD 2,084.34 million by 2032, growing at a healthy CAGR of 9.35% from 2023 to 2032. The global artificial intellig…</td><td>2023-08-29T15:30:00Z</td><td>Map(name -> GlobeNewswire, id -> null)</td><td>Artificial Intelligence (AI) in Cancer Diagnostics Market to Surpass USD 2,084.34 Million by 2032</td><td>https://www.globenewswire.com/news-release/2023/08/29/2733677/0/en/Artificial-Intelligence-AI-in-Cancer-Diagnostics-Market-to-Surpass-USD-2-084-34-Million-by-2032.html</td><td>https://ml.globenewswire.com/Resource/Download/501140d4-82c8-4a65-82a7-8466b5188635</td></tr><tr><td>GlobeNewswire</td><td>First drug candidate identified with Gains proprietary computational drug discovery platform SEE-Tx® to enter clinical development phase\r\n",
       "BETHESDA, Md., Sept. 12, 2023 (GLOBE NEWSWIRE) -- Gain Therap… [+7640 chars]</td><td>(marketscreener.com)                 First drug candidate identified with Gain’s proprietary computational drug discovery platform SEE-Tx® to enter clinical development phase BETHESDA, Md., Sept. 12, 2023 -- Gain Therapeutics, Inc. , a biotechnology company l…</td><td>2023-09-12T13:26:02Z</td><td>Map(name -> Marketscreener.com, id -> null)</td><td>Gain Therapeutics Receives Approval to Commence Phase 1 Clinical Study of GT-02287 from the Human Research Ethics Committee (HREC) in Australia</td><td>https://www.marketscreener.com/quote/stock/GAIN-THERAPEUTICS-INC-120780704/news/Gain-Therapeutics-Receives-Approval-to-Commence-Phase-1-Clinical-Study-of-GT-02287-from-the-Human-Re-44824294/</td><td>https://www.marketscreener.com/images/twitter_MS_fdnoir.png</td></tr><tr><td>Gain Therapeutics, Inc.</td><td>First drug candidate identified with Gains proprietary computational drug discovery platform SEE-Tx® to enter clinical development phase\r\n",
       "BETHESDA, Md., Sept. 12, 2023 (GLOBE NEWSWIRE) -- Gain Therap… [+7640 chars]</td><td>First drug candidate identified with Gain’s proprietary computational drug discovery platform SEE-Tx® to enter clinical development phase...</td><td>2023-09-12T13:25:00Z</td><td>Map(name -> GlobeNewswire, id -> null)</td><td>Gain Therapeutics Receives Approval to Commence Phase 1 Clinical Study of GT-02287 from the Human Research Ethics Committee (HREC) in Australia</td><td>https://www.globenewswire.com/news-release/2023/09/12/2741790/0/en/Gain-Therapeutics-Receives-Approval-to-Commence-Phase-1-Clinical-Study-of-GT-02287-from-the-Human-Research-Ethics-Committee-HREC-in-Australia.html</td><td>https://ml.globenewswire.com/Resource/Download/b08fa984-9f20-4aa1-a174-b9f6165d50fa</td></tr><tr><td>Angela Nicoletti</td><td>Successful matchmaking with protein molecules is like all other kinds of matchmaking: The two must click for it to work.\r\n",
       "Except for proteinsthe estimated 200 million unique molecular building blocks… [+6085 chars]</td><td>Successful matchmaking with protein molecules is like all other kinds of matchmaking: The two must click for it to work.</td><td>2023-09-14T14:20:04Z</td><td>Map(name -> Phys.Org, id -> null)</td><td>Matchmaking (with AI) to help proteins pair up</td><td>https://phys.org/news/2023-09-matchmaking-ai-proteins-pair.html</td><td>https://scx2.b-cdn.net/gfx/news/2023/matchmaking-with-ai-to-1.jpg</td></tr><tr><td>null</td><td>The NIH Common Fund is beginning a strategic planning process for a potential Complement-Animal Research In Experimentation (Complement-ARIE) program to catalyze the development, standardization, val… [+12503 chars]</td><td>NIH Funding Opportunities and Notices in the NIH Guide for Grants and Contracts: Notice of Upcoming Prize Competition Announcement for the Complement-Animal Research in Experimentation (Complement-ARIE) Challenge NOT-RM-23-025. RMOD</td><td>2023-09-20T08:36:17Z</td><td>Map(name -> National Institutes of Health, id -> null)</td><td>Notice of Upcoming Prize Competition Announcement for the Complement-Animal Research in Experimentation (Complement-ARIE) Challenge</td><td>https://grants.nih.gov/grants/guide/notice-files/NOT-RM-23-025.html</td><td>null</td></tr><tr><td>null</td><td>DUBLIN, Sept. 22, 2023 /PRNewswire/ -- ResearchAndMarkets.com announces the 4th Annual Orphan Drugs and Rare Diseases Conference, scheduled for October 9-10 in London, UK. This prestigious event offe… [+4959 chars]</td><td>DUBLIN, Sept. 22, 2023 /PRNewswire/ -- ResearchAndMarkets.com announces the 4th Annual Orphan Drugs and Rare Diseases Conference, scheduled for October 9-10 in London, UK. This prestigious event offers an in-depth exploration into the ever-evolving world of o…</td><td>2023-09-22T23:45:00Z</td><td>Map(name -> PRNewswire, id -> null)</td><td>From AI to Patient Advocacy: The Comprehensive Orphan Drugs and Rare Diseases Conference: London, United Kingdom - October 9-10, 2023</td><td>https://www.prnewswire.com/news-releases/from-ai-to-patient-advocacy-the-comprehensive-orphan-drugs-and-rare-diseases-conference-london-united-kingdom---october-9-10-2023-301936108.html</td><td>https://mma.prnewswire.com/media/539438/Research_and_Markets_Logo.jpg?p=facebook</td></tr><tr><td>GlobeNewswire</td><td>Treatment with GT-02287 also restored glucocerebrosidase (GCase) enzymatic function, reduced aggregated -synuclein, neuroinflammation and neuronal death, increased dopamine levels and improved motor … [+8782 chars]</td><td>(marketscreener.com) Treatment with GT-02287 also restored glucocerebrosidase enzymatic function, reduced aggregated α-synuclein, neuroinflammation and neuronal death, increased dopamine levels and improved motor function Data presented at the International C…</td><td>2023-08-28T11:01:02Z</td><td>Map(name -> Marketscreener.com, id -> null)</td><td>Gain Therapeutics Presents New Preclinical Data Demonstrating a Reduction of Plasma Neurodegeneration Biomarker NfL after Administration of its Drug Candidate GT-02287 in GBA1 Parkinson's Disease Model</td><td>https://www.marketscreener.com/quote/stock/GAIN-THERAPEUTICS-INC-120780704/news/Gain-Therapeutics-Presents-New-Preclinical-Data-Demonstrating-a-Reduction-of-Plasma-Neurodegeneratio-44710839/</td><td>https://www.marketscreener.com/images/twitter_MS_fdblanc.png</td></tr><tr><td>Gain Therapeutics, Inc.</td><td>Treatment with GT-02287 also restored glucocerebrosidase (GCase) enzymatic function, reduced aggregated -synuclein, neuroinflammation and neuronal death, increased dopamine levels and improved motor … [+8782 chars]</td><td>Treatment with GT-02287 also restored glucocerebrosidase (GCase) enzymatic function, reduced aggregated α-synuclein, neuroinflammation and neuronal death, increased dopamine levels and improved motor function</td><td>2023-08-28T11:00:00Z</td><td>Map(name -> GlobeNewswire, id -> null)</td><td>Gain Therapeutics Presents New Preclinical Data Demonstrating a Reduction of Plasma Neurodegeneration Biomarker NfL after Administration of its Drug Candidate GT-02287 in GBA1 Parkinson’s Disease Model</td><td>https://www.globenewswire.com/news-release/2023/08/28/2732467/0/en/Gain-Therapeutics-Presents-New-Preclinical-Data-Demonstrating-a-Reduction-of-Plasma-Neurodegeneration-Biomarker-NfL-after-Administration-of-its-Drug-Candidate-GT-02287-in-GBA1-Park.html</td><td>https://ml.globenewswire.com/Resource/Download/b08fa984-9f20-4aa1-a174-b9f6165d50fa</td></tr><tr><td>Transparency Market Research</td><td>Wilmington, Delaware, United States, Sept. 27, 2023 (GLOBE NEWSWIRE) -- Transparency Market Research Inc. - The clinical trials market was estimated to have acquired US$ 46.7 billion in 2019. It is a… [+7821 chars]</td><td>The clinical trials market is expanding, driven by increased drug development activities and advancements in trial design and technology. The clinical trials market is expanding, driven by increased drug development activities and advancements in trial design…</td><td>2023-09-27T12:13:00Z</td><td>Map(name -> GlobeNewswire, id -> null)</td><td>Clinical Trials Market to Exceed USD 83.5 billion by 2030, Garnering 5.4% CAGR – Exclusive Report by Transparency Market Research</td><td>https://www.globenewswire.com/news-release/2023/09/27/2750351/32656/en/Clinical-Trials-Market-to-Exceed-USD-83-5-billion-by-2030-Garnering-5-4-CAGR-Exclusive-Report-by-Transparency-Market-Research.html</td><td>https://ml.globenewswire.com/Resource/Download/27b21b27-620b-4cae-8360-605a9662092b</td></tr><tr><td>feedfeeder</td><td>The Fine Print: The following comments are owned by whoever posted them. We are not responsible for them in any way.</td><td>AlphaMissense, a new model from Google&rsquo;s artificial intelligence team, analyzes the effects of DNA mutations and will accelerate research into rare diseases.</td><td>2023-09-19T14:52:29Z</td><td>Map(name -> Slashdot.org, id -> null)</td><td>DeepMind’s New AI Can Predict Genetic Diseases</td><td>https://slashdot.org/firehose.pl?op=view&amp;id=171854934</td><td>null</td></tr><tr><td>Weiguang Liu, Rafael Delalibera Rodrigues, Jianglong Yan, Yu-tao Zhu, Everson José de Freitas Pereira, Gen Li, Qiusheng Zheng, Liang Zhao</td><td>Abstract\r\n",
       "In this work, we present a network-based technique for chest X-ray image classification to help the diagnosis and prognosis of patients with COVID-19. From visual inspection, we perceive th… [+72655 chars]</td><td>In this work, we present a network-based technique for chest X-ray image classification to help the diagnosis and prognosis of patients with COVID-19. From visual inspection, we perceive that healthy and COVID-19 chest radiographic images present different le…</td><td>2023-09-01T14:00:00Z</td><td>Map(name -> Plos.org, id -> null)</td><td>Complex network-based classification of radiographic images for COVID-19 diagnosis</td><td>https://journals.plos.org/plosone/article?id=10.1371/journal.pone.0290968</td><td>https://journals.plos.org/plosone/article/figure/image?id=10.1371/journal.pone.0290968.g010&size=inline</td></tr><tr><td>null</td><td>Participating Organization(s) \r\n",
       "National Institutes of Health (NIH)\r\n",
       "Components of Participating Organizations \r\n",
       "National Institute of Allergy and Infectious Diseases (NIAID) \r\n",
       "Funding Opportunity Ti… [+56961 chars]</td><td>Funding Opportunity RFA-AI-23-054 from the NIH Guide for Grants and Contracts. The purpose of this notice of funding opportunity (NOFO) is to support basic research that will elucidate mechanisms of Fc-mediated antibody functions, including antibody-dependent…</td><td>2023-09-26T08:17:39Z</td><td>Map(name -> National Institutes of Health, id -> null)</td><td>Fc-Dependent Mechanisms of Antibody-Mediated Killing (R01 Clinical Trial Not Allowed)</td><td>https://grants.nih.gov/grants/guide/rfa-files/RFA-AI-23-054.html</td><td>null</td></tr><tr><td>communities@mercola.com (Dr. Joseph Mercola)</td><td>Mercola proudly supports these charities and organizations. View All \r\n",
       "Disclaimer: The entire contents of this website are based upon the opinions of Dr. Mercola, unless otherwise noted. Individual a… [+1007 chars]</td><td>Hopefully, [the ultimate search engine Google was building] would never have a bug like HAL did where he killed the occupants of the spaceship. ~ Sergey Brin (NewsHour with Jim Lehrer, November 2002)1\r\n",
       "\n",
       "\n",
       "\n",
       "As if the ChatGPT craze weren’t bad enough, the $$$$$ …</td><td>2023-09-01T00:00:00Z</td><td>Map(name -> Mercola.com, id -> null)</td><td>'ChatGPT' for Biology? A Dictatorship of Engineers</td><td>https://articles.mercola.com/sites/articles/archive/2023/09/01/chatgpt-for-biology.aspx</td><td>https://media.mercola.com/ImageServer/Public/2023/August/FB/chatgpt-for-biology-fb.jpg</td></tr><tr><td>Zeleke Tesema, Belay Deribe, Mekonnen Tilahun, Alemu Kefale, Getachew Worku Alebachew, Kefyalew Alemayehu, Tesfaye Getachew, Damitie Kebede, Mengistie Taye, Solomon Gizaw</td><td>Ethics statement\r\n",
       "Prior to the study, data collection formats and procedures were reviewed and approved by the Researchers of Amhara Regional Agricultural Research Institute, Ethiopia (number Ls/Ru-3… [+7926 chars]</td><td>Additive genetic and non-additive parameters for reproductive traits of Boer x Central Highland goats were estimated. Pedigree and performance records comprised of Central Highland and their crosses with Boer goats were collected from 2009 to 2018 in the Siri…</td><td>2023-09-27T14:00:00Z</td><td>Map(name -> Plos.org, id -> null)</td><td>Estimation of crossbreeding and genetic parameters for reproductive traits of Boer x Central Highland goats in Ethiopia</td><td>https://journals.plos.org/plosone/article?id=10.1371/journal.pone.0291996</td><td>https://journals.plos.org/plosone/article/figure/image?id=10.1371/journal.pone.0291996.t005&size=inline</td></tr><tr><td>Wang, S., Chen, R., Wang, S., Kong, D., Cao, R., Lin, C., Luo, L., Huang, J., Zhang, Q., Yu, H., Ding, Y. L.</td><td>Introduction\r\n",
       "Diabetes mellitus (DM) is a metabolic disease characterised by a disorder of blood glucose metabolism, which is one of the major public health problems in the 21st century.1 In 2021, th… [+12451 chars]</td><td>Objectives To compare the prediction effects of six models based on machine learning theories, which can provide a methodological reference for predicting the risk of type 2 diabetes mellitus (T2DM).\n",
       "\n",
       "Setting and participants This study was based on the monit…</td><td>2023-08-29T15:35:18Z</td><td>Map(name -> The BMJ, id -> null)</td><td>Comparative study on risk prediction model of type 2 diabetes based on machine learning theory: a cross-sectional study</td><td>https://bmjopen.bmj.com/content/13/8/e069018?rss=1</td><td>https://bmjopen.bmj.com/pages/wp-content/uploads/sites/7/2019/07/bmjopen-default-cover.png</td></tr><tr><td>Ricki Lewis, PhD</td><td>I just used ChatGTP for the first time. Initially, I was concerned about my future as the chatbot near-instantaneously answered my queries on increasingly obscure terms from my field, genetics. Stump… [+11215 chars]</td><td>I just used ChatGTP for the first time. Initially, I was concerned about my future as the chatbot near-instantaneously answered my queries…\n",
       "The post Why I’m Not Worried that ChatGTP Will Replace Me as a Biology Textbook Author appeared first on DNA Science.</td><td>2023-09-07T18:45:31Z</td><td>Map(name -> Plos.org, id -> null)</td><td>Why I’m Not Worried that ChatGTP Will Replace Me as a Biology Textbook Author</td><td>https://dnascience.plos.org/2023/09/07/why-im-not-worried-that-chatgtp-will-replace-me-as-a-biology-textbook-author/</td><td>https://dnascience.plos.org/wp-content/uploads/sites/12/2023/09/21317439_10212350530232026_9068783055137048892_n.jpg</td></tr><tr><td>Ben Hsing</td><td>The transformative potential of AI, encompassing machine learning and generative capabilities, holds great promise for revolutionizing drug discovery and development. This promising horizon is accomp… [+16440 chars]</td><td>Artificial intelligence (AI) is a field of computer science that creates software or models that mimic human reasoning or inference. Machine learning is a subset of AI which uses algorithms trained on massive amounts of data to allow the computer to learn wit…</td><td>2023-09-25T12:15:22Z</td><td>Map(name -> IPWatchdog.com, id -> null)</td><td>Artificial Intelligence in Drug Development: Patent Considerations</td><td>https://ipwatchdog.com/2023/09/25/artificial-intelligence-drug-development-patent-considerations/id=167125/</td><td>https://ipwatchdog.com/wp-content/uploads/2023/09/Depositphotos_657443750_XL.jpg</td></tr><tr><td>Antonio Charlys da Costa, Maria C. Mendes-Correa, Tania Regina Tozetto-Mendoza, Lucy S. Villas-Boas, Anderson Vicente de Paula, Heuder Gustavo Oliveira Paiao, Fabio E. Leal, Noely E. Ferreira, Layla Honorato, Elcio Leal, Giuliano Grandi, Vanessa dos Santos Morais, Erika R. Manuli, Ester C. Sabino, Steven S. Witkin</td><td>Abstract\r\n",
       "Background\r\n",
       "Redondovirus (ReDoV) is a DNA virus present in the respiratory tract of many healthy individuals. Since SARS-CoV-2, the virus responsible for COVID-19, also primarily infects th… [+24787 chars]</td><td>Background Redondovirus (ReDoV) is a DNA virus present in the respiratory tract of many healthy individuals. Since SARS-CoV-2, the virus responsible for COVID-19, also primarily infects the same site, we evaluated whether ReDoV was present at increased freque…</td><td>2023-08-31T14:00:00Z</td><td>Map(name -> Plos.org, id -> null)</td><td>Detailed characterization of Redondovirus in saliva of SARS-CoV-2-infected individuals in Sao Paulo, Brazil</td><td>https://journals.plos.org/plosone/article?id=10.1371/journal.pone.0291027</td><td>https://journals.plos.org/plosone/article/figure/image?id=10.1371/journal.pone.0291027.g001&size=inline</td></tr><tr><td>Zhaohong Huang, Xinyue Cui, Yuhao Xia, Kailong Zhao, Guijun Zhang</td><td>Abstract\r\n",
       "The study of protein folding mechanism is a challenge in molecular biology, which is of great significance for revealing the movement rules of biological macromolecules, understanding the p… [+51456 chars]</td><td>Author summary The study of protein folding mechanism is an important part of basic science and has vital significance in many aspects. The key to the study of protein folding mechanism is to capture the conformational changes from the fast protein folding pr…</td><td>2023-09-11T14:00:00Z</td><td>Map(name -> Plos.org, id -> null)</td><td>Pathfinder: Protein folding pathway prediction based on conformational sampling</td><td>https://journals.plos.org/ploscompbiol/article?id=10.1371/journal.pcbi.1011438</td><td>https://journals.plos.org/ploscompbiol/article/figure/image?id=10.1371/journal.pcbi.1011438.g007&size=inline</td></tr><tr><td>Bayarbaatar Amgalan, Chi-Ping Day, Teresa M. Przytycka</td><td>Abstract\r\n",
       "There is a growing awareness that tumor-adjacent normal tissues used as control samples in cancer studies do not represent fully healthy tissues. Instead, they are intermediates between hea… [+61681 chars]</td><td>Author summary In oncological studies, control samples are usually biopsied from tumor-adjacent normal tissue. However, there is an increasing understanding that such samples represent a state that is intermediate between tumor and normal, and is influenced b…</td><td>2023-09-18T14:00:00Z</td><td>Map(name -> Plos.org, id -> null)</td><td>Exploring tumor-normal cross-talk with TranNet: Role of the environment in tumor progression</td><td>https://journals.plos.org/ploscompbiol/article?id=10.1371/journal.pcbi.1011472</td><td>https://journals.plos.org/ploscompbiol/article/figure/image?id=10.1371/journal.pcbi.1011472.g007&size=inline</td></tr><tr><td>Shotaro Asano, Ryo Asaoka, Akio Oishi, Yuri Fujino, Hiroshi Murata, Keiko Azuma, Manabu Miyata, Ryo Obata, Tatsuya Inoue</td><td>Abstract\r\n",
       "Purpose\r\n",
       "To investigate the clinical validity of the Guided Progression Analysis definition (GPAD) and cluster-based definition (CBD) with the Humphrey Field Analyzer (HFA) 102 test in reti… [+32571 chars]</td><td>Purpose To investigate the clinical validity of the Guided Progression Analysis definition (GPAD) and cluster-based definition (CBD) with the Humphrey Field Analyzer (HFA) 10–2 test in retinitis pigmentosa (RP).   Methods Ten non-progressive RP visual fields …</td><td>2023-09-08T14:00:00Z</td><td>Map(name -> Plos.org, id -> null)</td><td>Investigating the clinical validity of the guided progression analysis definition with 10–2 visual field in retinitis pigmentosa</td><td>https://journals.plos.org/plosone/article?id=10.1371/journal.pone.0291208</td><td>https://journals.plos.org/plosone/article/figure/image?id=10.1371/journal.pone.0291208.g004&size=inline</td></tr></tbody></table></div>"
      ]
     },
     "metadata": {
      "application/vnd.databricks.v1+output": {
       "addedWidgets": {},
       "aggData": [],
       "aggError": "",
       "aggOverflow": false,
       "aggSchema": [],
       "aggSeriesLimitReached": false,
       "aggType": "",
       "arguments": {},
       "columnCustomDisplayInfos": {},
       "data": [
        [
         "Amit Katwala",
         "About 10 years ago, iga Avsec was a PhD physics student who found himself taking a crash course in genomics via a university module on machine learning. He was soon working in a lab that studied rare… [+2913 chars]",
         "AlphaMissense, a new model from Google’s artificial intelligence team, analyzes the effects of DNA mutations and will accelerate research into rare diseases.",
         "2023-09-19T14:35:23Z",
         {
          "id": "wired",
          "name": "Wired"
         },
         "DeepMind’s New AI Can Predict Genetic Diseases",
         "https://www.wired.com/story/deepmind-ai-alphamissense-genetics-rare-diseases/",
         "https://media.wired.com/photos/6509abd0d7ea654c08913301/191:100/w_1280,c_limit/digitized-dna-helix-science-GettyImages-85757934.jpg"
        ],
        [
         "Ioanna Lykiardopoulou",
         "Google DeepMind has unveiled its novel AI tool that can predict whether DNA mutations are likely to cause genetic diseases. The ambition is that it will  facilitate faster diagnosis and development o… [+2103 chars]",
         "Google DeepMind has unveiled its novel AI tool that can predict whether DNA mutations are likely to cause genetic diseases. The ambition is that it will  facilitate faster diagnosis and development of life-saving treatments. The new AI model, called AlphaMiss…",
         "2023-09-20T11:44:36Z",
         {
          "id": "the-next-web",
          "name": "The Next Web"
         },
         "DeepMind’s new AI tool can predict genetic diseases",
         "https://thenextweb.com/news/deepminds-ai-tool-predicts-genetic-diseases",
         "https://img-cdn.tnwcdn.com/image/tnw-blurple?filter_last=1&fit=1280%2C640&url=https%3A%2F%2Fcdn0.tnwcdn.com%2Fwp-content%2Fblogs.dir%2F1%2Ffiles%2F2023%2F09%2FUntitled-design-14-10.jpg&signature=d5b222e3ee9bcffe5f162236598b4ad2"
        ],
        [
         "Muhammad Sohaib Saleem",
         "Artificial Intelligence has come a long way since its conceptualization in science fiction. What was once an imaginative idea is now a reality, revolutionizing various aspects of our lives. From self… [+8873 chars]",
         "Artificial Intelligence has come a long way since its conceptualization in science fiction. What was once an imaginative idea is […]\nThe post From Sci-Fi to Reality: The Roadmap of AI Development and Its Future Potential appeared first on ReadWrite.",
         "2023-09-25T20:00:51Z",
         {
          "id": null,
          "name": "ReadWrite"
         },
         "From Sci-Fi to Reality: The Roadmap of AI Development and Its Future Potential",
         "https://readwrite.com/from-sci-fi-to-reality-the-roadmap-of-ai-development-and-its-future-potential/",
         "https://readwrite.com/wp-content/uploads/2023/08/Roadmap-of-AI-Development.jpg"
        ],
        [
         "Science X",
         "Researchers at Google DeepMind, the tech giant's artificial intelligence arm, on Tuesday introduced a tool that predicts whether genetic mutations are likely to cause harm, a breakthrough that could … [+3103 chars]",
         "Researchers at Google DeepMind, the tech giant's artificial intelligence arm, on Tuesday introduced a tool that predicts whether genetic mutations are likely to cause harm, a breakthrough that could help research into rare diseases.",
         "2023-09-20T08:35:47Z",
         {
          "id": null,
          "name": "Phys.Org"
         },
         "Google AI tool predicts danger of genetic mutations",
         "https://phys.org/news/2023-09-google-ai-tool-danger-genetic.html",
         "https://scx2.b-cdn.net/gfx/news/2023/googles-new-ai-tool-ca.jpg"
        ],
        [
         null,
         "AlphaMissense promises to predict how dangerous a genetic mutation is.\r\n Researchers at DeepMind, one of Googles artificial intelligence (AI) companies, presented a new tool that predicts whether or … [+2308 chars]",
         "AlphaMissense promises to predict how dangerous a genetic mutation is.",
         "2023-09-21T14:02:13Z",
         {
          "id": null,
          "name": "Euronews"
         },
         "What’s AlphaMissense? This new Google DeepMind tool analyses genetic mutations",
         "https://www.euronews.com/next/2023/09/21/whats-alphamissense-this-new-google-deepmind-tool-analyses-genetic-mutations",
         "https://static.euronews.com/articles/stories/07/91/15/00/1000x563_cmsv2_68a11ed3-f436-563a-b400-8121903fecc3-7911500.jpg"
        ],
        [
         "Amit Katwala",
         "About 10 years ago, iga Avsec was a PhD physics student who found himself taking a crash course in genomics via a university module on machine learning. He was soon working in a lab that studied rare… [+4707 chars]",
         "AlphaMissense, a new model from Google’s artificial intelligence team, analyzes the effects of DNA mutations and will accelerate research into rare diseases.",
         "2023-09-19T14:33:25Z",
         {
          "id": null,
          "name": "Wired.co.uk"
         },
         "DeepMind’s New AI Can Predict Genetic Diseases",
         "https://www.wired.co.uk/article/deepmind-ai-alphamissense-genetics-rare-diseases",
         "https://media.wired.co.uk/photos/6508b2210178e37fb4a68568/16:9/w_1280,c_limit/digitized-dna-helix-science-GettyImages-85757934.jpg"
        ],
        [
         "Shelly Fan",
         "Proteins are like Spider-Man in the multiverse.\r\nThe underlying story is the same: each building block of a protein is based on a three-letter DNA code. However, change one letter, and the same prote… [+6771 chars]",
         "Proteins are like Spider-Man in the multiverse. The underlying story is the same: each building block of a protein is based on a three-letter DNA code. However, change one letter, and the same protein becomes a different version of itself. If we’re lucky, som…",
         "2023-09-21T20:27:27Z",
         {
          "id": null,
          "name": "Singularity Hub"
         },
         "DeepMind AI Hunts Down the DNA Mutations Behind Genetic Disease",
         "https://singularityhub.com/2023/09/21/deepmind-ai-hunts-down-the-dna-mutations-behind-genetic-disease/",
         "https://singularityhub.com/wp-content/uploads/2023/09/deepmind-dna-double-helix-visualization.jpeg"
        ],
        [
         "Steve Nouri, Forbes Councils Member, \n Steve Nouri, Forbes Councils Member\n https://www.forbes.com/sites/forbestechcouncil/people/stevenouri/",
         "Steve is the Founder of GenAI Works and AI4Diversity. He is an AI expert, tech evangelist, and influencer.\r\ngetty\r\nJust as ChatGPT is turning text directions into new written materials, or just as DA… [+6523 chars]",
         "The merging of deep, quality data and expertise with increasingly sophisticated AI capabilities has the potential to truly shift the future of medicine.",
         "2023-09-05T11:45:00Z",
         {
          "id": null,
          "name": "Forbes"
         },
         "Generative AI Drugs Are Coming",
         "https://www.forbes.com/sites/forbestechcouncil/2023/09/05/generative-ai-drugs-are-coming/",
         "https://imageio.forbes.com/specials-images/imageserve/64f22325ebec7ec31b17ee9b/0x0.jpg?format=jpg&width=1200"
        ],
        [
         "Ariel Katz, Forbes Councils Member, \n Ariel Katz, Forbes Councils Member\n https://www.forbes.com/sites/forbestechcouncil/people/arielkatz/",
         "Ariel Katz, CEO and cofounder of H1.\r\ngetty\r\nThe explosion of generative AI in healthcarelargely due to the exponential growth of medical data, a shortage of healthcare providers and advancements in … [+6893 chars]",
         "Though there are challenges to be understood and overcome, AI is significantly improving the healthcare landscape.",
         "2023-09-19T14:00:00Z",
         {
          "id": null,
          "name": "Forbes"
         },
         "10 Ways AI Is Advancing Healthcare",
         "https://www.forbes.com/sites/forbestechcouncil/2023/09/19/10-ways-ai-is-advancing-healthcare/",
         "https://imageio.forbes.com/specials-images/imageserve/62bc54b6d9785913bcd547b5/0x0.jpg?format=jpg&width=1200"
        ],
        [
         "AFP News",
         "Researchers at Google DeepMind, the tech giant's artificial intelligence arm, on Tuesday introduced a tool that predicts whether genetic mutations are likely to cause harm, a breakthrough that could … [+2437 chars]",
         "Researchers at Google DeepMind, the tech giant's artificial intelligence arm, on Tuesday introduced a tool that predicts whether genetic mutations are likely to cause harm, a breakthrough that could help research into rare diseases.",
         "2023-09-19T20:57:36Z",
         {
          "id": null,
          "name": "International Business Times"
         },
         "Google AI Tool Predicts Danger Of Genetic Mutations",
         "https://www.ibtimes.com/google-ai-tool-predicts-danger-genetic-mutations-3712362",
         "https://d.ibtimes.com/en/full/4487127/googles-new-ai-tool-can-read-dna-like-language-see-immediately-if-word-substitution-will.jpg"
        ],
        [
         "Alex Knapp, Forbes Staff, \n Alex Knapp, Forbes Staff\n https://www.forbes.com/sites/alexknapp/",
         "Professor James Fujimoto\r\nJake Belcher Courtesy The Lasker Foundation\r\nThe Lasker Foundations annual awards for medical research honor the inventors of optical coherence tomography, DeepMinds AlphaFo… [+5081 chars]",
         "The Lasker Foundation’s annual awards for medical research honor the inventors of optical coherence tomography and more.",
         "2023-09-21T13:00:00Z",
         {
          "id": null,
          "name": "Forbes"
         },
         "Retinal Imaging And Machine Learning Honored In The 2023 Lasker Awards",
         "https://www.forbes.com/sites/alexknapp/2023/09/21/retinal-imaging-and-machine-learning-honored-in-the-2023-lasker-awards/",
         "https://imageio.forbes.com/specials-images/imageserve/650bc8ed984021daef9b1326/0x0.jpg?format=jpg&width=1200"
        ],
        [
         "AFP",
         "WASHINGTON - Researchers at Google DeepMind, the tech giant's artificial intelligence arm, on Tuesday introduced a tool that predicts whether genetic mutations are likely to cause harm, a breakthroug… [+2450 chars]",
         "WASHINGTON - Researchers at Google DeepMind, the tech giant's artificial intelligence arm, on Tuesday introduced a tool that predicts whether genetic mutations are likely to cause harm, a breakthrough that could help research into rare diseases.",
         "2023-09-19T21:45:00Z",
         {
          "id": null,
          "name": "Bangkok Post"
         },
         "Google AI tool predicts danger of genetic mutations",
         "https://www.bangkokpost.com/world/2650034/google-ai-tool-predicts-danger-of-genetic-mutations",
         "https://static.bangkokpost.com/media/content/20230920/c1_4897722_700.jpg"
        ],
        [
         null,
         "Researchers at Google DeepMind, the tech giant's artificial intelligence arm, on Tuesday introduced a tool that predicts whether genetic mutations are likely to cause harm, a breakthrough that could … [+2449 chars]",
         "Researchers at Google DeepMind, the tech giant's artificial intelligence arm, on Tuesday introduced a tool that predicts whether genetic mutations are likely to cause harm, a breakthrough that could help research into rare diseases. The findings are &quot;ano…",
         "2023-09-19T21:43:46Z",
         {
          "id": null,
          "name": "Japan Today"
         },
         "Google AI tool predicts danger of genetic mutations",
         "https://japantoday.com/category/features/health/google-ai-tool-predicts-danger-of-genetic-mutations1",
         null
        ],
        [
         "Lisa Jarvis",
         "Its becoming increasingly clear that scientists are only scratching the surface of what artificial intelligence can teach us about human biology and disease. Case in point: new work by Alphabet's AI … [+4751 chars]",
         "Thereâs been plenty of worrying about the damage AI could do, but discoveries like the GoogleÂ tool that can pluck harmful genome mutations from thousands of minute-but-benign onesÂ show how AI can accelerate progress on the most vexing questions about huma…",
         "2023-09-21T04:35:15Z",
         {
          "id": null,
          "name": "Moneycontrol"
         },
         "Google DeepMind#39;s AI tool could pinpoint our genetic faults",
         "https://www.moneycontrol.com/news/opinion/google-deepminds-ai-tool-could-pinpoint-our-genetic-faults-11401241.html",
         "https://images.moneycontrol.com/static-mcnews/2023/08/Collage-Maker-30-Aug-2023-10-48-AM-3714-770x433.jpg"
        ],
        [
         null,
         "WASHINGTON: Researchers at Google DeepMind, the tech giant's artificial intelligence arm, on Tuesday (Sep 19) introduced a tool that predicts whether genetic mutations are likely to cause harm, a bre… [+2462 chars]",
         "WASHINGTON: Researchers at Google DeepMind, the tech giant's artificial intelligence arm, on Tuesday (Sep 19) introduced a tool that predicts whether genetic mutations are likely to cause harm, a breakthrough that could help research into rare diseases. The f…",
         "2023-09-19T22:11:01Z",
         {
          "id": null,
          "name": "CNA"
         },
         "Google AI tool predicts danger of genetic mutations",
         "https://www.channelnewsasia.com/business/google-ai-tool-predicts-danger-genetic-mutations-3784016",
         "https://onecms-res.cloudinary.com/image/upload/s--zj9ea8EA--/fl_relative,g_south_east,l_one-cms:core:watermark:afp_watermark,w_0.1/f_auto,q_auto/c_fill,g_auto,h_676,w_1200/v1/one-cms/core/71f081542f99c3723b161996288590399f4945a3.jpg?itok=JTlUK7-G"
        ],
        [
         "Jak Connor",
         "Google DeepMind has created a new AI system that is capable of detecting genetic mutations that may lead to diseases.\r\nA new study published in the journal Science details a new AI model called Alpha… [+1822 chars]",
         "Google's AI firm has designed an artificial intelligence system to detect abnormal genetic mutations that can lead to diseases emerging. Continue reading at TweakTown >",
         "2023-09-25T04:07:03Z",
         {
          "id": null,
          "name": "TweakTown"
         },
         "Google's new AI breakthrough is a 'big step forward' to creating 'life-saving treatments'",
         "https://www.tweaktown.com/news/93431/googles-new-ai-breakthrough-is-big-step-forward-to-creating-life-saving-treatments/index.html",
         "https://static.tweaktown.com/news/9/3/93431_58959_google-says-its-new-ai-can-pinpoint-which-genes-are-likely-to-cause-disease_full.jpg"
        ],
        [
         "Michael Le Page",
         "DeepMind’s AlphaMissense AI can predict whether mutations will affect how proteins such as haemoglobin subunit beta (left) or cystic fibrosis transmembrane conductance regulator (right) will function… [+3548 chars]",
         "By working out which small mutations will probably be damaging, DeepMind’s AlphaMissense system could help doctors identify the cause of genetic diseases",
         "2023-09-19T15:30:21Z",
         {
          "id": "new-scientist",
          "name": "New Scientist"
         },
         "DeepMind AI can predict if DNA mutations are likely to be harmful",
         "https://www.newscientist.com/article/2392821-deepmind-ai-can-predict-if-dna-mutations-are-likely-to-be-harmful/",
         "https://images.newscientist.com/wp-content/uploads/2023/09/19142523/SEI_172303762.jpg"
        ],
        [
         "Rob Toews, Contributor, \n Rob Toews, Contributor\n https://www.forbes.com/sites/robtoews/",
         "The transformer, today's dominant AI architecture, has interesting parallels to the alien language ... [+] in the 2016 science fiction film \"Arrival.\"\r\nParamount Pictures\r\nIf modern artificial intell… [+20795 chars]",
         "No technology remains dominant forever.",
         "2023-09-03T22:00:00Z",
         {
          "id": null,
          "name": "Forbes"
         },
         "Transformers Revolutionized AI. What Will Replace Them?",
         "https://www.forbes.com/sites/robtoews/2023/09/03/transformers-revolutionized-ai-what-will-replace-them/",
         "https://imageio.forbes.com/specials-images/imageserve/64f3b2b43d727bdfbf85cc97/0x0.jpg?format=jpg&width=1200"
        ],
        [
         "mint",
         "Its becoming clear that scientists are only scratching the surface of what artificial intelligence (AI) can teach us about human biology and disease. Case in point: new work by Alphabets AI subsidiar… [+4506 chars]",
         "Last year’s AI breakthrough is showing what it can do for health",
         "2023-09-21T14:51:02Z",
         {
          "id": null,
          "name": "Livemint"
         },
         "Google’s AlphaFold has a new tool to track genetic mutations",
         "https://www.livemint.com/opinion/online-views/googles-alphafold-has-a-new-tool-to-track-genetic-mutations-11695306099645.html",
         "https://www.livemint.com/lm-img/img/2023/09/21/600x338/2-0-950951326-genome-0_1679732768848_1695307674193.jpg"
        ],
        [
         "ft.com",
         "First example of artificial intelligence helping to accelerate diagnosis of diseases caused by genetic variants\r\nThis story appeared on ft.com, .",
         "First example of artificial intelligence helping to accelerate diagnosis of diseases caused by genetic variants",
         "2023-09-19T15:42:11Z",
         {
          "id": null,
          "name": "Biztoc.com"
         },
         "DeepMind uses AI to predict harmful genetic mutations in humans",
         "https://biztoc.com/x/9ceb51271e409210",
         "https://c.biztoc.com/p/9ceb51271e409210/s.webp"
        ],
        [
         null,
         "Washington: Researchers at Google DeepMind, the tech giant's artificial intelligence arm, on Tuesday introduced a tool that predicts whether genetic mutations are likely to cause harm, a breakthrough… [+2573 chars]",
         "Researchers at Google DeepMind, the tech giant's artificial intelligence arm, on Tuesday introduced a tool that predicts whether genetic mutations are likely to cause harm, a breakthrough that could help research into rare diseases.",
         "2023-09-20T01:51:26Z",
         {
          "id": null,
          "name": "NDTV News"
         },
         "Google's New AI Tool Predicts Danger Of Genetic Mutations",
         "https://www.ndtv.com/science/google-new-ai-tool-predicts-danger-of-genetic-mutations-4405728",
         "https://c.ndtvimg.com/2023-09/40cmfqso_google-generic_625x300_04_September_23.jpg"
        ],
        [
         "Agence France-Presse",
         "Researchers at Google DeepMind, the tech giant's artificial intelligence arm, on Tuesday introduced a tool that predicts whether genetic mutations are likely to cause harm, a breakthrough that could … [+2515 chars]",
         "Researchers at Google DeepMind, the tech giant's artificial intelligence arm, on Tuesday introduced a tool that predicts whether genetic mutations are likely to cause harm, a breakthrough that could help research into rare diseases.",
         "2023-09-20T06:22:52Z",
         {
          "id": null,
          "name": "Gadgets360.com"
         },
         "Google DeepMind AI Tool Predicts Whether Genetic Mutations Are Likely to Cause Harm",
         "https://www.gadgets360.com/internet/news/google-deepmind-ai-tool-predicts-genetic-mutation-dangers-rare-diseases-research-4406178",
         "https://i.gadgets360cdn.com/large/google_reuters_1694582304835.jpg"
        ],
        [
         "Gary Bernstein",
         "Artificial Intelligence (AI) has emerged as a transformative force that is reshaping industries, improving our daily lives, and pushing the boundaries of human potential. This cutting-edge technology… [+7082 chars]",
         "Artificial Intelligence (AI) has emerged as a transformative force that is reshaping industries, improving our daily lives, and pushing the boundaries of human potential. This cutting-edge technology is no longer confined to science fiction; it has become an …",
         "2023-09-05T10:07:40Z",
         {
          "id": null,
          "name": "Cloudtweaks.com"
         },
         "The Age of AI Benefits: A Global Transformation",
         "https://cloudtweaks.com/2023/09/age-ai-benefits-global-transformation/",
         "https://cloudtweaks.com/wp-content/uploads/2020/10/Gary-Bernstein.jpg"
        ],
        [
         "John Palmer",
         "<ul><li>Deep Genomics introduces BigRNA, a groundbreaking AI foundation model for RNA therapeutics, with immense potential for revolutionizing drug discovery.</li><li>BigRNA’s versatility, extensive … [+5733 chars]",
         "Deep Genomics, a pioneering AI-driven drug development company, has introduced an innovative AI foundation model called BigRNA. This transformative model, based on deep learning, represents a significant leap forward in the discovery of RNA biology and therap…",
         "2023-09-27T14:11:06Z",
         {
          "id": null,
          "name": "Cryptopolitan"
         },
         "Deep Genomics Unveils Groundbreaking AI Foundation Model for RNA Therapeutics",
         "https://www.cryptopolitan.com/deep-genomics-unveils-ai-foundation/",
         "https://img.cryptopolitan.com/wp-content/uploads/2023/09/image-2023-09-27T145209.477-1.jpg"
        ],
        [
         "Paramita (Guha) Ghosh",
         "In 2023, machine learning (ML) is a powerful enabler for Data Management, revolutionizing the way organizations handle and analyze vast amounts of data. ML, a subset of artificial intelligence (AI), … [+14744 chars]",
         "In 2023, machine learning (ML) is a powerful enabler for Data Management, revolutionizing the way organizations handle and analyze vast amounts of data. ML, a subset of artificial intelligence (AI), offers various approaches to tackle Data Management challeng…",
         "2023-08-31T07:35:00Z",
         {
          "id": null,
          "name": "Dataversity.net"
         },
         "Machine Learning Use Cases for Data Management",
         "https://www.dataversity.net/machine-learning-use-cases-data-management/",
         "https://d3an9kf42ylj3p.cloudfront.net/uploads/2017/08/pg_MLusecases_aug23.jpg"
        ],
        [
         "XCELLENT INSIGHTS LLP",
         "Pune, Sept. 26, 2023 (GLOBE NEWSWIRE) -- The Global Precision Medicine Market\r\n has witnessed remarkable growth, reaching a size of approximately USD 57.69 billion in 2022, and is projected to furthe… [+10510 chars]",
         "Pune, Sept. 26, 2023 (GLOBE NEWSWIRE) -- The Global Precision Medicine Market\r\n has witnessed remarkable growth, reaching a size of approximately USD 57.69 billion in 2022, and is projected to further expand to USD 110.9 billion with a robust CAGR of 11.5% du…",
         "2023-09-25T23:02:00Z",
         {
          "id": null,
          "name": "GlobeNewswire"
         },
         "Global Precision Medicine Market Size to Reach USD 148.2 Billion in 2032 | Xcellent Insights",
         "https://www.globenewswire.com/news-release/2023/09/25/2749076/0/en/Global-Precision-Medicine-Market-Size-to-Reach-USD-148-2-Billion-in-2032-Xcellent-Insights.html",
         "https://ml.globenewswire.com/Resource/Download/20e20a5a-19cb-40c4-97ab-6a8a15c225be"
        ],
        [
         "The Feed",
         "Mark Zuckerberg and his wife Dr. Priscilla Chan plan to eradicate all human diseases by 2100 through their foundation, The Chan Zuckerberg Initiative (CZI). The foundation intends to create a special… [+2691 chars]",
         "Mark Zuckerberg and his wife, Priscilla Chan, plan to eradicate all human diseases by 2100 through their foundation, The Chan Zuckerberg Initiative. They aim to create a computing system that utilises artificial intelligence (AI) to study cell behavior and de…",
         "2023-09-26T10:09:23Z",
         {
          "id": "the-times-of-india",
          "name": "The Times of India"
         },
         "Mark Zuckerberg and Dr Priscilla Chan aim to eradicate all diseases by 2100",
         "https://economictimes.indiatimes.com/news/new-updates/mark-zuckerberg-and-his-wife-aim-to-eradicate-all-diseases-by-2100/articleshow/103958277.cms",
         "https://img.etimg.com/thumb/msid-103959042,width-1200,height-630,imgsize-85548,overlay-economictimes/photo.jpg"
        ],
        [
         null,
         "Artificial intelligence, now subject to congressional scrutiny and billionaire powwows in recent news stories, changing everything, it seems, and in ways that may surprise us.\r\nPerhaps the most notic… [+5461 chars]",
         "Artificial intelligence, now subject to congressional scrutiny and billionaire powwows in recent news stories, changing everything, it seems, and in ways that may surprise us.\r\n\r\nPerhaps the most noticeable way that AI will change how we do things&nb...",
         "2023-09-16T05:00:00Z",
         {
          "id": null,
          "name": "Americanthinker.com"
         },
         "Look at all the ways AI is changing transportation and health care",
         "https://www.americanthinker.com/blog/2023/09/ai_is_changing_transportation_and_healthcare.html",
         "https://www.americanthinker.com/images/bucket/2023-09/248870.jpg"
        ],
        [
         "GlobeNewswire",
         "Collaboration will apply Valos Opal Computational Platform and real-world patient dataset to enable the discovery and development of novel cardiometabolic drug programmes\r\nNovo Nordisk licenses three… [+6429 chars]",
         "(marketscreener.com) Collaboration will apply Valo’s Opal Computational Platform™ and real-world patient dataset to enable the discovery and development of novel cardiometabolic drug programmes Novo Nordisk licenses three preclinical drug discovery programmes…",
         "2023-09-25T12:02:02Z",
         {
          "id": null,
          "name": "Marketscreener.com"
         },
         "Valo Health and Novo Nordisk to collaborate to discover and develop novel treatments for cardiometabolic diseases using human data and artificial intelligence",
         "https://www.marketscreener.com/quote/stock/NOVO-NORDISK-AS-39433525/news/Valo-Health-and-Novo-Nordisk-to-collaborate-to-discover-and-develop-novel-treatments-for-cardiometab-44914731/",
         "https://www.marketscreener.com/images/twitter_MS_fdnoir.png"
        ],
        [
         "Novo Nordisk A/S",
         "Collaboration will apply Valos Opal Computational Platform and real-world patient dataset to enable the discovery and development of novel cardiometabolic drug programmes\r\nNovo Nordisk licenses three… [+5554 chars]",
         "Collaboration will apply Valo’s Opal Computational Platform™ and real-world patient dataset to enable the discovery and development of novel cardiometabolic drug programmes",
         "2023-09-25T12:00:00Z",
         {
          "id": null,
          "name": "GlobeNewswire"
         },
         "Valo Health and Novo Nordisk to collaborate to discover and develop novel treatments for cardiometabolic diseases using human data and artificial intelligence",
         "https://www.globenewswire.com/news-release/2023/09/25/2748601/0/en/Valo-Health-and-Novo-Nordisk-to-collaborate-to-discover-and-develop-novel-treatments-for-cardiometabolic-diseases-using-human-data-and-artificial-intelligence.html",
         "https://ml-eu.globenewswire.com/Resource/Download/18c2fb08-e2c1-4a52-90dd-5c0f18213eb6"
        ],
        [
         "ReportLinker",
         "New York, Sept. 04, 2023 (GLOBE NEWSWIRE) -- Reportlinker.com announces the release of the report \"Global Next-Generation Sequencing on Drug Development Market\" - https://www.reportlinker.com/p064890… [+5370 chars]",
         "Report Scope:. The scope of this report includes NGS technologies, applications, industries, initiatives, patents and companies. The markets for NGS in drug development are given for 2020, 2021, 2022, 2023 and 2028. Report Scope:. The scope of this report inc…",
         "2023-09-04T10:09:00Z",
         {
          "id": null,
          "name": "GlobeNewswire"
         },
         "Global Next-Generation Sequencing on Drug Development Market",
         "https://www.globenewswire.com/news-release/2023/09/04/2736570/0/en/Global-Next-Generation-Sequencing-on-Drug-Development-Market.html",
         "https://ml.globenewswire.com/Resource/Download/3e0b82c2-02d7-44c8-b22f-561e0f321f39"
        ],
        [
         "Joseph Guhlin, Postdoctoral Researcher with Genomics Aotearoa, University of Otago, Peter Dearden, Professor and Director of Genomics Aotearoa, University of Otago",
         "Shutterstock/FeatherStalker Don\r\nThe genetic mapping of almost the entire kākāpō population has shed new light on specific traits that will help conservation biologists in their efforts to save the c… [+5858 chars]",
         "Kākāpō are prone to disease and infertility. Only intensive species management has saved the flightless parrots from extinction. Genome data now reveals the genetic reasons behind these problems.",
         "2023-08-30T04:13:18Z",
         {
          "id": null,
          "name": "The Conversation Africa"
         },
         "How gene mapping almost all remaining kākāpō will help NZ’s rare night parrot survive",
         "https://theconversation.com/how-gene-mapping-almost-all-remaining-kakapo-will-help-nzs-rare-night-parrot-survive-212451",
         "https://images.theconversation.com/files/545418/original/file-20230829-22497-o5cpnd.jpg?ixlib=rb-1.1.0&rect=0%2C417%2C5358%2C2679&q=45&auto=format&w=1356&h=668&fit=crop"
        ],
        [
         "GlobeNewswire",
         "BETHESDA, Md., Sept. 20, 2023 (GLOBE NEWSWIRE) -- Gain Therapeutics, Inc., (Nasdaq: GANX) (Gain, or the Company), a biotechnology company leading the discovery and development of the next generation … [+6995 chars]",
         "(marketscreener.com) BETHESDA, Md., Sept. 20, 2023 -- Gain Therapeutics, Inc., , a biotechnology company leading the discovery and development of the next generation of allosteric small molecule therapies, today announced that Matthias Alder, Chief Executive …",
         "2023-09-20T20:06:02Z",
         {
          "id": null,
          "name": "Marketscreener.com"
         },
         "Gain Therapeutics to Present at the Cambridge Healthtech Institute's 2nd Annual Neurodegeneration Targets Conference",
         "https://www.marketscreener.com/quote/stock/GAIN-THERAPEUTICS-INC-120780704/news/Gain-Therapeutics-to-Present-at-the-Cambridge-Healthtech-Institute-s-2nd-Annual-Neurodegeneration-Ta-44889216/",
         "https://www.marketscreener.com/images/twitter_MS_fdnoir.png"
        ],
        [
         "Gain Therapeutics, Inc.",
         "BETHESDA, Md., Sept. 20, 2023 (GLOBE NEWSWIRE) -- Gain Therapeutics, Inc., (Nasdaq: GANX) (Gain, or the Company), a biotechnology company leading the discovery and development of the next generation … [+6995 chars]",
         "BETHESDA, Md., Sept. 20, 2023 (GLOBE NEWSWIRE) -- Gain Therapeutics, Inc., (Nasdaq: GANX) (“Gain”, or the “Company”), a biotechnology company leading the discovery and development of the next generation of allosteric small molecule therapies, today announced …",
         "2023-09-20T20:05:00Z",
         {
          "id": null,
          "name": "GlobeNewswire"
         },
         "Gain Therapeutics to Present at the Cambridge Healthtech Institute’s 2nd Annual Neurodegeneration Targets Conference",
         "https://www.globenewswire.com/news-release/2023/09/20/2746852/0/en/Gain-Therapeutics-to-Present-at-the-Cambridge-Healthtech-Institute-s-2nd-Annual-Neurodegeneration-Targets-Conference.html",
         "https://ml.globenewswire.com/Resource/Download/b08fa984-9f20-4aa1-a174-b9f6165d50fa"
        ],
        [
         "Research and Markets",
         "Dublin, Aug. 30, 2023 (GLOBE NEWSWIRE) -- The \"Gene Fusion Testing Market - A Global and Regional Analysis: Focus on by Category, Technology, Indication, End User, and Region - Analysis and Forecast,… [+5035 chars]",
         "Dublin, Aug. 30, 2023 (GLOBE NEWSWIRE) -- The \"Gene Fusion Testing Market - A Global and Regional Analysis: Focus on by Category, Technology, Indication, End User, and Region - Analysis and Forecast, 2023-2033\" report has been added to ResearchAndMarkets.com'…",
         "2023-08-30T13:38:00Z",
         {
          "id": null,
          "name": "GlobeNewswire"
         },
         "Unlocking the Future of Gene Fusion Testing: Advancements Project Market to Reach $897.6 Million by 2033",
         "https://www.globenewswire.com/news-release/2023/08/30/2734481/28124/en/Unlocking-the-Future-of-Gene-Fusion-Testing-Advancements-Project-Market-to-Reach-897-6-Million-by-2033.html",
         "https://ml.globenewswire.com/Resource/Download/908fb457-7f8e-4a08-9081-5565e3dfb3d7"
        ],
        [
         "Precedence Research",
         "Ottawa, Aug. 29, 2023 (GLOBE NEWSWIRE) -- The global artificial intelligence (AI) in cancer diagnostics market revenue is projected to reach around USD 1,466.72 million by 2029, a Study published by … [+17038 chars]",
         "The global artificial intelligence (AI) in cancer diagnostics market was valued at USD 892.23 million in 2022 and is estimated to surpass around USD 2,084.34 million by 2032, growing at a healthy CAGR of 9.35% from 2023 to 2032. The global artificial intellig…",
         "2023-08-29T15:30:00Z",
         {
          "id": null,
          "name": "GlobeNewswire"
         },
         "Artificial Intelligence (AI) in Cancer Diagnostics Market to Surpass USD 2,084.34 Million by 2032",
         "https://www.globenewswire.com/news-release/2023/08/29/2733677/0/en/Artificial-Intelligence-AI-in-Cancer-Diagnostics-Market-to-Surpass-USD-2-084-34-Million-by-2032.html",
         "https://ml.globenewswire.com/Resource/Download/501140d4-82c8-4a65-82a7-8466b5188635"
        ],
        [
         "GlobeNewswire",
         "First drug candidate identified with Gains proprietary computational drug discovery platform SEE-Tx® to enter clinical development phase\r\nBETHESDA, Md., Sept. 12, 2023 (GLOBE NEWSWIRE) -- Gain Therap… [+7640 chars]",
         "(marketscreener.com)                 First drug candidate identified with Gain’s proprietary computational drug discovery platform SEE-Tx® to enter clinical development phase BETHESDA, Md., Sept. 12, 2023 -- Gain Therapeutics, Inc. , a biotechnology company l…",
         "2023-09-12T13:26:02Z",
         {
          "id": null,
          "name": "Marketscreener.com"
         },
         "Gain Therapeutics Receives Approval to Commence Phase 1 Clinical Study of GT-02287 from the Human Research Ethics Committee (HREC) in Australia",
         "https://www.marketscreener.com/quote/stock/GAIN-THERAPEUTICS-INC-120780704/news/Gain-Therapeutics-Receives-Approval-to-Commence-Phase-1-Clinical-Study-of-GT-02287-from-the-Human-Re-44824294/",
         "https://www.marketscreener.com/images/twitter_MS_fdnoir.png"
        ],
        [
         "Gain Therapeutics, Inc.",
         "First drug candidate identified with Gains proprietary computational drug discovery platform SEE-Tx® to enter clinical development phase\r\nBETHESDA, Md., Sept. 12, 2023 (GLOBE NEWSWIRE) -- Gain Therap… [+7640 chars]",
         "First drug candidate identified with Gain’s proprietary computational drug discovery platform SEE-Tx® to enter clinical development phase...",
         "2023-09-12T13:25:00Z",
         {
          "id": null,
          "name": "GlobeNewswire"
         },
         "Gain Therapeutics Receives Approval to Commence Phase 1 Clinical Study of GT-02287 from the Human Research Ethics Committee (HREC) in Australia",
         "https://www.globenewswire.com/news-release/2023/09/12/2741790/0/en/Gain-Therapeutics-Receives-Approval-to-Commence-Phase-1-Clinical-Study-of-GT-02287-from-the-Human-Research-Ethics-Committee-HREC-in-Australia.html",
         "https://ml.globenewswire.com/Resource/Download/b08fa984-9f20-4aa1-a174-b9f6165d50fa"
        ],
        [
         "Angela Nicoletti",
         "Successful matchmaking with protein molecules is like all other kinds of matchmaking: The two must click for it to work.\r\nExcept for proteinsthe estimated 200 million unique molecular building blocks… [+6085 chars]",
         "Successful matchmaking with protein molecules is like all other kinds of matchmaking: The two must click for it to work.",
         "2023-09-14T14:20:04Z",
         {
          "id": null,
          "name": "Phys.Org"
         },
         "Matchmaking (with AI) to help proteins pair up",
         "https://phys.org/news/2023-09-matchmaking-ai-proteins-pair.html",
         "https://scx2.b-cdn.net/gfx/news/2023/matchmaking-with-ai-to-1.jpg"
        ],
        [
         null,
         "The NIH Common Fund is beginning a strategic planning process for a potential Complement-Animal Research In Experimentation (Complement-ARIE) program to catalyze the development, standardization, val… [+12503 chars]",
         "NIH Funding Opportunities and Notices in the NIH Guide for Grants and Contracts: Notice of Upcoming Prize Competition Announcement for the Complement-Animal Research in Experimentation (Complement-ARIE) Challenge NOT-RM-23-025. RMOD",
         "2023-09-20T08:36:17Z",
         {
          "id": null,
          "name": "National Institutes of Health"
         },
         "Notice of Upcoming Prize Competition Announcement for the Complement-Animal Research in Experimentation (Complement-ARIE) Challenge",
         "https://grants.nih.gov/grants/guide/notice-files/NOT-RM-23-025.html",
         null
        ],
        [
         null,
         "DUBLIN, Sept. 22, 2023 /PRNewswire/ -- ResearchAndMarkets.com announces the 4th Annual Orphan Drugs and Rare Diseases Conference, scheduled for October 9-10 in London, UK. This prestigious event offe… [+4959 chars]",
         "DUBLIN, Sept. 22, 2023 /PRNewswire/ -- ResearchAndMarkets.com announces the 4th Annual Orphan Drugs and Rare Diseases Conference, scheduled for October 9-10 in London, UK. This prestigious event offers an in-depth exploration into the ever-evolving world of o…",
         "2023-09-22T23:45:00Z",
         {
          "id": null,
          "name": "PRNewswire"
         },
         "From AI to Patient Advocacy: The Comprehensive Orphan Drugs and Rare Diseases Conference: London, United Kingdom - October 9-10, 2023",
         "https://www.prnewswire.com/news-releases/from-ai-to-patient-advocacy-the-comprehensive-orphan-drugs-and-rare-diseases-conference-london-united-kingdom---october-9-10-2023-301936108.html",
         "https://mma.prnewswire.com/media/539438/Research_and_Markets_Logo.jpg?p=facebook"
        ],
        [
         "GlobeNewswire",
         "Treatment with GT-02287 also restored glucocerebrosidase (GCase) enzymatic function, reduced aggregated -synuclein, neuroinflammation and neuronal death, increased dopamine levels and improved motor … [+8782 chars]",
         "(marketscreener.com) Treatment with GT-02287 also restored glucocerebrosidase enzymatic function, reduced aggregated α-synuclein, neuroinflammation and neuronal death, increased dopamine levels and improved motor function Data presented at the International C…",
         "2023-08-28T11:01:02Z",
         {
          "id": null,
          "name": "Marketscreener.com"
         },
         "Gain Therapeutics Presents New Preclinical Data Demonstrating a Reduction of Plasma Neurodegeneration Biomarker NfL after Administration of its Drug Candidate GT-02287 in GBA1 Parkinson's Disease Model",
         "https://www.marketscreener.com/quote/stock/GAIN-THERAPEUTICS-INC-120780704/news/Gain-Therapeutics-Presents-New-Preclinical-Data-Demonstrating-a-Reduction-of-Plasma-Neurodegeneratio-44710839/",
         "https://www.marketscreener.com/images/twitter_MS_fdblanc.png"
        ],
        [
         "Gain Therapeutics, Inc.",
         "Treatment with GT-02287 also restored glucocerebrosidase (GCase) enzymatic function, reduced aggregated -synuclein, neuroinflammation and neuronal death, increased dopamine levels and improved motor … [+8782 chars]",
         "Treatment with GT-02287 also restored glucocerebrosidase (GCase) enzymatic function, reduced aggregated α-synuclein, neuroinflammation and neuronal death, increased dopamine levels and improved motor function",
         "2023-08-28T11:00:00Z",
         {
          "id": null,
          "name": "GlobeNewswire"
         },
         "Gain Therapeutics Presents New Preclinical Data Demonstrating a Reduction of Plasma Neurodegeneration Biomarker NfL after Administration of its Drug Candidate GT-02287 in GBA1 Parkinson’s Disease Model",
         "https://www.globenewswire.com/news-release/2023/08/28/2732467/0/en/Gain-Therapeutics-Presents-New-Preclinical-Data-Demonstrating-a-Reduction-of-Plasma-Neurodegeneration-Biomarker-NfL-after-Administration-of-its-Drug-Candidate-GT-02287-in-GBA1-Park.html",
         "https://ml.globenewswire.com/Resource/Download/b08fa984-9f20-4aa1-a174-b9f6165d50fa"
        ],
        [
         "Transparency Market Research",
         "Wilmington, Delaware, United States, Sept. 27, 2023 (GLOBE NEWSWIRE) -- Transparency Market Research Inc. - The clinical trials market was estimated to have acquired US$ 46.7 billion in 2019. It is a… [+7821 chars]",
         "The clinical trials market is expanding, driven by increased drug development activities and advancements in trial design and technology. The clinical trials market is expanding, driven by increased drug development activities and advancements in trial design…",
         "2023-09-27T12:13:00Z",
         {
          "id": null,
          "name": "GlobeNewswire"
         },
         "Clinical Trials Market to Exceed USD 83.5 billion by 2030, Garnering 5.4% CAGR – Exclusive Report by Transparency Market Research",
         "https://www.globenewswire.com/news-release/2023/09/27/2750351/32656/en/Clinical-Trials-Market-to-Exceed-USD-83-5-billion-by-2030-Garnering-5-4-CAGR-Exclusive-Report-by-Transparency-Market-Research.html",
         "https://ml.globenewswire.com/Resource/Download/27b21b27-620b-4cae-8360-605a9662092b"
        ],
        [
         "feedfeeder",
         "The Fine Print: The following comments are owned by whoever posted them. We are not responsible for them in any way.",
         "AlphaMissense, a new model from Google&rsquo;s artificial intelligence team, analyzes the effects of DNA mutations and will accelerate research into rare diseases.",
         "2023-09-19T14:52:29Z",
         {
          "id": null,
          "name": "Slashdot.org"
         },
         "DeepMind’s New AI Can Predict Genetic Diseases",
         "https://slashdot.org/firehose.pl?op=view&amp;id=171854934",
         null
        ],
        [
         "Weiguang Liu, Rafael Delalibera Rodrigues, Jianglong Yan, Yu-tao Zhu, Everson José de Freitas Pereira, Gen Li, Qiusheng Zheng, Liang Zhao",
         "Abstract\r\nIn this work, we present a network-based technique for chest X-ray image classification to help the diagnosis and prognosis of patients with COVID-19. From visual inspection, we perceive th… [+72655 chars]",
         "In this work, we present a network-based technique for chest X-ray image classification to help the diagnosis and prognosis of patients with COVID-19. From visual inspection, we perceive that healthy and COVID-19 chest radiographic images present different le…",
         "2023-09-01T14:00:00Z",
         {
          "id": null,
          "name": "Plos.org"
         },
         "Complex network-based classification of radiographic images for COVID-19 diagnosis",
         "https://journals.plos.org/plosone/article?id=10.1371/journal.pone.0290968",
         "https://journals.plos.org/plosone/article/figure/image?id=10.1371/journal.pone.0290968.g010&size=inline"
        ],
        [
         null,
         "Participating Organization(s) \r\nNational Institutes of Health (NIH)\r\nComponents of Participating Organizations \r\nNational Institute of Allergy and Infectious Diseases (NIAID) \r\nFunding Opportunity Ti… [+56961 chars]",
         "Funding Opportunity RFA-AI-23-054 from the NIH Guide for Grants and Contracts. The purpose of this notice of funding opportunity (NOFO) is to support basic research that will elucidate mechanisms of Fc-mediated antibody functions, including antibody-dependent…",
         "2023-09-26T08:17:39Z",
         {
          "id": null,
          "name": "National Institutes of Health"
         },
         "Fc-Dependent Mechanisms of Antibody-Mediated Killing (R01 Clinical Trial Not Allowed)",
         "https://grants.nih.gov/grants/guide/rfa-files/RFA-AI-23-054.html",
         null
        ],
        [
         "communities@mercola.com (Dr. Joseph Mercola)",
         "Mercola proudly supports these charities and organizations. View All \r\nDisclaimer: The entire contents of this website are based upon the opinions of Dr. Mercola, unless otherwise noted. Individual a… [+1007 chars]",
         "Hopefully, [the ultimate search engine Google was building] would never have a bug like HAL did where he killed the occupants of the spaceship. ~ Sergey Brin (NewsHour with Jim Lehrer, November 2002)1\r\n\n\n\nAs if the ChatGPT craze weren’t bad enough, the $$$$$ …",
         "2023-09-01T00:00:00Z",
         {
          "id": null,
          "name": "Mercola.com"
         },
         "'ChatGPT' for Biology? A Dictatorship of Engineers",
         "https://articles.mercola.com/sites/articles/archive/2023/09/01/chatgpt-for-biology.aspx",
         "https://media.mercola.com/ImageServer/Public/2023/August/FB/chatgpt-for-biology-fb.jpg"
        ],
        [
         "Zeleke Tesema, Belay Deribe, Mekonnen Tilahun, Alemu Kefale, Getachew Worku Alebachew, Kefyalew Alemayehu, Tesfaye Getachew, Damitie Kebede, Mengistie Taye, Solomon Gizaw",
         "Ethics statement\r\nPrior to the study, data collection formats and procedures were reviewed and approved by the Researchers of Amhara Regional Agricultural Research Institute, Ethiopia (number Ls/Ru-3… [+7926 chars]",
         "Additive genetic and non-additive parameters for reproductive traits of Boer x Central Highland goats were estimated. Pedigree and performance records comprised of Central Highland and their crosses with Boer goats were collected from 2009 to 2018 in the Siri…",
         "2023-09-27T14:00:00Z",
         {
          "id": null,
          "name": "Plos.org"
         },
         "Estimation of crossbreeding and genetic parameters for reproductive traits of Boer x Central Highland goats in Ethiopia",
         "https://journals.plos.org/plosone/article?id=10.1371/journal.pone.0291996",
         "https://journals.plos.org/plosone/article/figure/image?id=10.1371/journal.pone.0291996.t005&size=inline"
        ],
        [
         "Wang, S., Chen, R., Wang, S., Kong, D., Cao, R., Lin, C., Luo, L., Huang, J., Zhang, Q., Yu, H., Ding, Y. L.",
         "Introduction\r\nDiabetes mellitus (DM) is a metabolic disease characterised by a disorder of blood glucose metabolism, which is one of the major public health problems in the 21st century.1 In 2021, th… [+12451 chars]",
         "Objectives To compare the prediction effects of six models based on machine learning theories, which can provide a methodological reference for predicting the risk of type 2 diabetes mellitus (T2DM).\n\nSetting and participants This study was based on the monit…",
         "2023-08-29T15:35:18Z",
         {
          "id": null,
          "name": "The BMJ"
         },
         "Comparative study on risk prediction model of type 2 diabetes based on machine learning theory: a cross-sectional study",
         "https://bmjopen.bmj.com/content/13/8/e069018?rss=1",
         "https://bmjopen.bmj.com/pages/wp-content/uploads/sites/7/2019/07/bmjopen-default-cover.png"
        ],
        [
         "Ricki Lewis, PhD",
         "I just used ChatGTP for the first time. Initially, I was concerned about my future as the chatbot near-instantaneously answered my queries on increasingly obscure terms from my field, genetics. Stump… [+11215 chars]",
         "I just used ChatGTP for the first time. Initially, I was concerned about my future as the chatbot near-instantaneously answered my queries…\nThe post Why I’m Not Worried that ChatGTP Will Replace Me as a Biology Textbook Author appeared first on DNA Science.",
         "2023-09-07T18:45:31Z",
         {
          "id": null,
          "name": "Plos.org"
         },
         "Why I’m Not Worried that ChatGTP Will Replace Me as a Biology Textbook Author",
         "https://dnascience.plos.org/2023/09/07/why-im-not-worried-that-chatgtp-will-replace-me-as-a-biology-textbook-author/",
         "https://dnascience.plos.org/wp-content/uploads/sites/12/2023/09/21317439_10212350530232026_9068783055137048892_n.jpg"
        ],
        [
         "Ben Hsing",
         "The transformative potential of AI, encompassing machine learning and generative capabilities, holds great promise for revolutionizing drug discovery and development. This promising horizon is accomp… [+16440 chars]",
         "Artificial intelligence (AI) is a field of computer science that creates software or models that mimic human reasoning or inference. Machine learning is a subset of AI which uses algorithms trained on massive amounts of data to allow the computer to learn wit…",
         "2023-09-25T12:15:22Z",
         {
          "id": null,
          "name": "IPWatchdog.com"
         },
         "Artificial Intelligence in Drug Development: Patent Considerations",
         "https://ipwatchdog.com/2023/09/25/artificial-intelligence-drug-development-patent-considerations/id=167125/",
         "https://ipwatchdog.com/wp-content/uploads/2023/09/Depositphotos_657443750_XL.jpg"
        ],
        [
         "Antonio Charlys da Costa, Maria C. Mendes-Correa, Tania Regina Tozetto-Mendoza, Lucy S. Villas-Boas, Anderson Vicente de Paula, Heuder Gustavo Oliveira Paiao, Fabio E. Leal, Noely E. Ferreira, Layla Honorato, Elcio Leal, Giuliano Grandi, Vanessa dos Santos Morais, Erika R. Manuli, Ester C. Sabino, Steven S. Witkin",
         "Abstract\r\nBackground\r\nRedondovirus (ReDoV) is a DNA virus present in the respiratory tract of many healthy individuals. Since SARS-CoV-2, the virus responsible for COVID-19, also primarily infects th… [+24787 chars]",
         "Background Redondovirus (ReDoV) is a DNA virus present in the respiratory tract of many healthy individuals. Since SARS-CoV-2, the virus responsible for COVID-19, also primarily infects the same site, we evaluated whether ReDoV was present at increased freque…",
         "2023-08-31T14:00:00Z",
         {
          "id": null,
          "name": "Plos.org"
         },
         "Detailed characterization of Redondovirus in saliva of SARS-CoV-2-infected individuals in Sao Paulo, Brazil",
         "https://journals.plos.org/plosone/article?id=10.1371/journal.pone.0291027",
         "https://journals.plos.org/plosone/article/figure/image?id=10.1371/journal.pone.0291027.g001&size=inline"
        ],
        [
         "Zhaohong Huang, Xinyue Cui, Yuhao Xia, Kailong Zhao, Guijun Zhang",
         "Abstract\r\nThe study of protein folding mechanism is a challenge in molecular biology, which is of great significance for revealing the movement rules of biological macromolecules, understanding the p… [+51456 chars]",
         "Author summary The study of protein folding mechanism is an important part of basic science and has vital significance in many aspects. The key to the study of protein folding mechanism is to capture the conformational changes from the fast protein folding pr…",
         "2023-09-11T14:00:00Z",
         {
          "id": null,
          "name": "Plos.org"
         },
         "Pathfinder: Protein folding pathway prediction based on conformational sampling",
         "https://journals.plos.org/ploscompbiol/article?id=10.1371/journal.pcbi.1011438",
         "https://journals.plos.org/ploscompbiol/article/figure/image?id=10.1371/journal.pcbi.1011438.g007&size=inline"
        ],
        [
         "Bayarbaatar Amgalan, Chi-Ping Day, Teresa M. Przytycka",
         "Abstract\r\nThere is a growing awareness that tumor-adjacent normal tissues used as control samples in cancer studies do not represent fully healthy tissues. Instead, they are intermediates between hea… [+61681 chars]",
         "Author summary In oncological studies, control samples are usually biopsied from tumor-adjacent normal tissue. However, there is an increasing understanding that such samples represent a state that is intermediate between tumor and normal, and is influenced b…",
         "2023-09-18T14:00:00Z",
         {
          "id": null,
          "name": "Plos.org"
         },
         "Exploring tumor-normal cross-talk with TranNet: Role of the environment in tumor progression",
         "https://journals.plos.org/ploscompbiol/article?id=10.1371/journal.pcbi.1011472",
         "https://journals.plos.org/ploscompbiol/article/figure/image?id=10.1371/journal.pcbi.1011472.g007&size=inline"
        ],
        [
         "Shotaro Asano, Ryo Asaoka, Akio Oishi, Yuri Fujino, Hiroshi Murata, Keiko Azuma, Manabu Miyata, Ryo Obata, Tatsuya Inoue",
         "Abstract\r\nPurpose\r\nTo investigate the clinical validity of the Guided Progression Analysis definition (GPAD) and cluster-based definition (CBD) with the Humphrey Field Analyzer (HFA) 102 test in reti… [+32571 chars]",
         "Purpose To investigate the clinical validity of the Guided Progression Analysis definition (GPAD) and cluster-based definition (CBD) with the Humphrey Field Analyzer (HFA) 10–2 test in retinitis pigmentosa (RP).   Methods Ten non-progressive RP visual fields …",
         "2023-09-08T14:00:00Z",
         {
          "id": null,
          "name": "Plos.org"
         },
         "Investigating the clinical validity of the guided progression analysis definition with 10–2 visual field in retinitis pigmentosa",
         "https://journals.plos.org/plosone/article?id=10.1371/journal.pone.0291208",
         "https://journals.plos.org/plosone/article/figure/image?id=10.1371/journal.pone.0291208.g004&size=inline"
        ]
       ],
       "datasetInfos": [],
       "dbfsResultPath": null,
       "isJsonSchema": true,
       "metadata": {},
       "overflow": false,
       "plotOptions": {
        "customPlotOptions": {},
        "displayType": "table",
        "pivotAggregation": null,
        "pivotColumns": null,
        "xColumns": null,
        "yColumns": null
       },
       "removedWidgets": [],
       "schema": [
        {
         "metadata": "{}",
         "name": "source",
         "type": "\"string\""
        },
        {
         "metadata": "{}",
         "name": "author",
         "type": "\"string\""
        },
        {
         "metadata": "{}",
         "name": "title",
         "type": "\"string\""
        },
        {
         "metadata": "{}",
         "name": "description",
         "type": "\"string\""
        },
        {
         "metadata": "{}",
         "name": "url",
         "type": "{\"type\":\"map\",\"keyType\":\"string\",\"valueType\":\"string\",\"valueContainsNull\":true}"
        },
        {
         "metadata": "{}",
         "name": "urlToImage",
         "type": "\"string\""
        },
        {
         "metadata": "{}",
         "name": "publishedAt",
         "type": "\"string\""
        },
        {
         "metadata": "{}",
         "name": "content",
         "type": "\"string\""
        }
       ],
       "type": "table"
      }
     },
     "output_type": "display_data"
    }
   ],
   "source": [
    "# df1 = spark.createDataFrame(data=result1, schema=['source','author','title','description','url','urlToImage','publishedAt','content'])\n",
    "# df1.display()"
   ]
  },
  {
   "cell_type": "code",
   "execution_count": null,
   "metadata": {
    "application/vnd.databricks.v1+cell": {
     "cellMetadata": {
      "byteLimit": 2048000,
      "rowLimit": 10000
     },
     "inputWidgets": {},
     "nuid": "020e277a-5b11-4534-9072-5ec90c0a966e",
     "showTitle": false,
     "title": ""
    }
   },
   "outputs": [
    {
     "data": {
      "text/html": [
       "<style scoped>\n",
       "  .table-result-container {\n",
       "    max-height: 300px;\n",
       "    overflow: auto;\n",
       "  }\n",
       "  table, th, td {\n",
       "    border: 1px solid black;\n",
       "    border-collapse: collapse;\n",
       "  }\n",
       "  th, td {\n",
       "    padding: 5px;\n",
       "  }\n",
       "  th {\n",
       "    text-align: left;\n",
       "  }\n",
       "</style><div class='table-result-container'><table class='table-result'><thead style='background-color: white'><tr><th>source</th><th>author</th><th>title</th><th>description</th><th>url</th><th>urlToImage</th><th>publishedAt</th><th>content</th></tr></thead><tbody><tr><td>List(wired, Wired)</td><td>Amit Katwala</td><td>DeepMind’s New AI Can Predict Genetic Diseases</td><td>AlphaMissense, a new model from Google’s artificial intelligence team, analyzes the effects of DNA mutations and will accelerate research into rare diseases.</td><td>https://www.wired.com/story/deepmind-ai-alphamissense-genetics-rare-diseases/</td><td>https://media.wired.com/photos/6509abd0d7ea654c08913301/191:100/w_1280,c_limit/digitized-dna-helix-science-GettyImages-85757934.jpg</td><td>2023-09-19T14:35:23Z</td><td>About 10 years ago, iga Avsec was a PhD physics student who found himself taking a crash course in genomics via a university module on machine learning. He was soon working in a lab that studied rare… [+2913 chars]</td></tr><tr><td>List(the-next-web, The Next Web)</td><td>Ioanna Lykiardopoulou</td><td>DeepMind’s new AI tool can predict genetic diseases</td><td>Google DeepMind has unveiled its novel AI tool that can predict whether DNA mutations are likely to cause genetic diseases. The ambition is that it will  facilitate faster diagnosis and development of life-saving treatments. The new AI model, called AlphaMiss…</td><td>https://thenextweb.com/news/deepminds-ai-tool-predicts-genetic-diseases</td><td>https://img-cdn.tnwcdn.com/image/tnw-blurple?filter_last=1&fit=1280%2C640&url=https%3A%2F%2Fcdn0.tnwcdn.com%2Fwp-content%2Fblogs.dir%2F1%2Ffiles%2F2023%2F09%2FUntitled-design-14-10.jpg&signature=d5b222e3ee9bcffe5f162236598b4ad2</td><td>2023-09-20T11:44:36Z</td><td>Google DeepMind has unveiled its novel AI tool that can predict whether DNA mutations are likely to cause genetic diseases. The ambition is that it will  facilitate faster diagnosis and development o… [+2103 chars]</td></tr><tr><td>List(null, ReadWrite)</td><td>Muhammad Sohaib Saleem</td><td>From Sci-Fi to Reality: The Roadmap of AI Development and Its Future Potential</td><td>Artificial Intelligence has come a long way since its conceptualization in science fiction. What was once an imaginative idea is […]\n",
       "The post From Sci-Fi to Reality: The Roadmap of AI Development and Its Future Potential appeared first on ReadWrite.</td><td>https://readwrite.com/from-sci-fi-to-reality-the-roadmap-of-ai-development-and-its-future-potential/</td><td>https://readwrite.com/wp-content/uploads/2023/08/Roadmap-of-AI-Development.jpg</td><td>2023-09-25T20:00:51Z</td><td>Artificial Intelligence has come a long way since its conceptualization in science fiction. What was once an imaginative idea is now a reality, revolutionizing various aspects of our lives. From self… [+8873 chars]</td></tr><tr><td>List(null, Phys.Org)</td><td>Science X</td><td>Google AI tool predicts danger of genetic mutations</td><td>Researchers at Google DeepMind, the tech giant's artificial intelligence arm, on Tuesday introduced a tool that predicts whether genetic mutations are likely to cause harm, a breakthrough that could help research into rare diseases.</td><td>https://phys.org/news/2023-09-google-ai-tool-danger-genetic.html</td><td>https://scx2.b-cdn.net/gfx/news/2023/googles-new-ai-tool-ca.jpg</td><td>2023-09-20T08:35:47Z</td><td>Researchers at Google DeepMind, the tech giant's artificial intelligence arm, on Tuesday introduced a tool that predicts whether genetic mutations are likely to cause harm, a breakthrough that could … [+3103 chars]</td></tr><tr><td>List(null, Euronews)</td><td>null</td><td>What’s AlphaMissense? This new Google DeepMind tool analyses genetic mutations</td><td>AlphaMissense promises to predict how dangerous a genetic mutation is.</td><td>https://www.euronews.com/next/2023/09/21/whats-alphamissense-this-new-google-deepmind-tool-analyses-genetic-mutations</td><td>https://static.euronews.com/articles/stories/07/91/15/00/1000x563_cmsv2_68a11ed3-f436-563a-b400-8121903fecc3-7911500.jpg</td><td>2023-09-21T14:02:13Z</td><td>AlphaMissense promises to predict how dangerous a genetic mutation is.\r\n",
       " Researchers at DeepMind, one of Googles artificial intelligence (AI) companies, presented a new tool that predicts whether or … [+2308 chars]</td></tr><tr><td>List(null, Wired.co.uk)</td><td>Amit Katwala</td><td>DeepMind’s New AI Can Predict Genetic Diseases</td><td>AlphaMissense, a new model from Google’s artificial intelligence team, analyzes the effects of DNA mutations and will accelerate research into rare diseases.</td><td>https://www.wired.co.uk/article/deepmind-ai-alphamissense-genetics-rare-diseases</td><td>https://media.wired.co.uk/photos/6508b2210178e37fb4a68568/16:9/w_1280,c_limit/digitized-dna-helix-science-GettyImages-85757934.jpg</td><td>2023-09-19T14:33:25Z</td><td>About 10 years ago, iga Avsec was a PhD physics student who found himself taking a crash course in genomics via a university module on machine learning. He was soon working in a lab that studied rare… [+4707 chars]</td></tr><tr><td>List(null, Singularity Hub)</td><td>Shelly Fan</td><td>DeepMind AI Hunts Down the DNA Mutations Behind Genetic Disease</td><td>Proteins are like Spider-Man in the multiverse. The underlying story is the same: each building block of a protein is based on a three-letter DNA code. However, change one letter, and the same protein becomes a different version of itself. If we’re lucky, som…</td><td>https://singularityhub.com/2023/09/21/deepmind-ai-hunts-down-the-dna-mutations-behind-genetic-disease/</td><td>https://singularityhub.com/wp-content/uploads/2023/09/deepmind-dna-double-helix-visualization.jpeg</td><td>2023-09-21T20:27:27Z</td><td>Proteins are like Spider-Man in the multiverse.\r\n",
       "The underlying story is the same: each building block of a protein is based on a three-letter DNA code. However, change one letter, and the same prote… [+6771 chars]</td></tr><tr><td>List(null, Forbes)</td><td>Steve Nouri, Forbes Councils Member, \n",
       " Steve Nouri, Forbes Councils Member\n",
       " https://www.forbes.com/sites/forbestechcouncil/people/stevenouri/</td><td>Generative AI Drugs Are Coming</td><td>The merging of deep, quality data and expertise with increasingly sophisticated AI capabilities has the potential to truly shift the future of medicine.</td><td>https://www.forbes.com/sites/forbestechcouncil/2023/09/05/generative-ai-drugs-are-coming/</td><td>https://imageio.forbes.com/specials-images/imageserve/64f22325ebec7ec31b17ee9b/0x0.jpg?format=jpg&width=1200</td><td>2023-09-05T11:45:00Z</td><td>Steve is the Founder of GenAI Works and AI4Diversity. He is an AI expert, tech evangelist, and influencer.\r\n",
       "getty\r\n",
       "Just as ChatGPT is turning text directions into new written materials, or just as DA… [+6523 chars]</td></tr><tr><td>List(null, Forbes)</td><td>Ariel Katz, Forbes Councils Member, \n",
       " Ariel Katz, Forbes Councils Member\n",
       " https://www.forbes.com/sites/forbestechcouncil/people/arielkatz/</td><td>10 Ways AI Is Advancing Healthcare</td><td>Though there are challenges to be understood and overcome, AI is significantly improving the healthcare landscape.</td><td>https://www.forbes.com/sites/forbestechcouncil/2023/09/19/10-ways-ai-is-advancing-healthcare/</td><td>https://imageio.forbes.com/specials-images/imageserve/62bc54b6d9785913bcd547b5/0x0.jpg?format=jpg&width=1200</td><td>2023-09-19T14:00:00Z</td><td>Ariel Katz, CEO and cofounder of H1.\r\n",
       "getty\r\n",
       "The explosion of generative AI in healthcarelargely due to the exponential growth of medical data, a shortage of healthcare providers and advancements in … [+6893 chars]</td></tr><tr><td>List(null, International Business Times)</td><td>AFP News</td><td>Google AI Tool Predicts Danger Of Genetic Mutations</td><td>Researchers at Google DeepMind, the tech giant's artificial intelligence arm, on Tuesday introduced a tool that predicts whether genetic mutations are likely to cause harm, a breakthrough that could help research into rare diseases.</td><td>https://www.ibtimes.com/google-ai-tool-predicts-danger-genetic-mutations-3712362</td><td>https://d.ibtimes.com/en/full/4487127/googles-new-ai-tool-can-read-dna-like-language-see-immediately-if-word-substitution-will.jpg</td><td>2023-09-19T20:57:36Z</td><td>Researchers at Google DeepMind, the tech giant's artificial intelligence arm, on Tuesday introduced a tool that predicts whether genetic mutations are likely to cause harm, a breakthrough that could … [+2437 chars]</td></tr><tr><td>List(null, Forbes)</td><td>Alex Knapp, Forbes Staff, \n",
       " Alex Knapp, Forbes Staff\n",
       " https://www.forbes.com/sites/alexknapp/</td><td>Retinal Imaging And Machine Learning Honored In The 2023 Lasker Awards</td><td>The Lasker Foundation’s annual awards for medical research honor the inventors of optical coherence tomography and more.</td><td>https://www.forbes.com/sites/alexknapp/2023/09/21/retinal-imaging-and-machine-learning-honored-in-the-2023-lasker-awards/</td><td>https://imageio.forbes.com/specials-images/imageserve/650bc8ed984021daef9b1326/0x0.jpg?format=jpg&width=1200</td><td>2023-09-21T13:00:00Z</td><td>Professor James Fujimoto\r\n",
       "Jake Belcher Courtesy The Lasker Foundation\r\n",
       "The Lasker Foundations annual awards for medical research honor the inventors of optical coherence tomography, DeepMinds AlphaFo… [+5081 chars]</td></tr><tr><td>List(null, Bangkok Post)</td><td>AFP</td><td>Google AI tool predicts danger of genetic mutations</td><td>WASHINGTON - Researchers at Google DeepMind, the tech giant's artificial intelligence arm, on Tuesday introduced a tool that predicts whether genetic mutations are likely to cause harm, a breakthrough that could help research into rare diseases.</td><td>https://www.bangkokpost.com/world/2650034/google-ai-tool-predicts-danger-of-genetic-mutations</td><td>https://static.bangkokpost.com/media/content/20230920/c1_4897722_700.jpg</td><td>2023-09-19T21:45:00Z</td><td>WASHINGTON - Researchers at Google DeepMind, the tech giant's artificial intelligence arm, on Tuesday introduced a tool that predicts whether genetic mutations are likely to cause harm, a breakthroug… [+2450 chars]</td></tr><tr><td>List(null, Japan Today)</td><td>null</td><td>Google AI tool predicts danger of genetic mutations</td><td>Researchers at Google DeepMind, the tech giant's artificial intelligence arm, on Tuesday introduced a tool that predicts whether genetic mutations are likely to cause harm, a breakthrough that could help research into rare diseases. The findings are &quot;ano…</td><td>https://japantoday.com/category/features/health/google-ai-tool-predicts-danger-of-genetic-mutations1</td><td>null</td><td>2023-09-19T21:43:46Z</td><td>Researchers at Google DeepMind, the tech giant's artificial intelligence arm, on Tuesday introduced a tool that predicts whether genetic mutations are likely to cause harm, a breakthrough that could … [+2449 chars]</td></tr><tr><td>List(null, Moneycontrol)</td><td>Lisa Jarvis</td><td>Google DeepMind#39;s AI tool could pinpoint our genetic faults</td><td>Thereâs been plenty of worrying about the damage AI could do, but discoveries like the GoogleÂ tool that can pluck harmful genome mutations from thousands of minute-but-benign onesÂ show how AI can accelerate progress on the most vexing questions about huma…</td><td>https://www.moneycontrol.com/news/opinion/google-deepminds-ai-tool-could-pinpoint-our-genetic-faults-11401241.html</td><td>https://images.moneycontrol.com/static-mcnews/2023/08/Collage-Maker-30-Aug-2023-10-48-AM-3714-770x433.jpg</td><td>2023-09-21T04:35:15Z</td><td>Its becoming increasingly clear that scientists are only scratching the surface of what artificial intelligence can teach us about human biology and disease. Case in point: new work by Alphabet's AI … [+4751 chars]</td></tr><tr><td>List(null, CNA)</td><td>null</td><td>Google AI tool predicts danger of genetic mutations</td><td>WASHINGTON: Researchers at Google DeepMind, the tech giant's artificial intelligence arm, on Tuesday (Sep 19) introduced a tool that predicts whether genetic mutations are likely to cause harm, a breakthrough that could help research into rare diseases. The f…</td><td>https://www.channelnewsasia.com/business/google-ai-tool-predicts-danger-genetic-mutations-3784016</td><td>https://onecms-res.cloudinary.com/image/upload/s--zj9ea8EA--/fl_relative,g_south_east,l_one-cms:core:watermark:afp_watermark,w_0.1/f_auto,q_auto/c_fill,g_auto,h_676,w_1200/v1/one-cms/core/71f081542f99c3723b161996288590399f4945a3.jpg?itok=JTlUK7-G</td><td>2023-09-19T22:11:01Z</td><td>WASHINGTON: Researchers at Google DeepMind, the tech giant's artificial intelligence arm, on Tuesday (Sep 19) introduced a tool that predicts whether genetic mutations are likely to cause harm, a bre… [+2462 chars]</td></tr><tr><td>List(null, TweakTown)</td><td>Jak Connor</td><td>Google's new AI breakthrough is a 'big step forward' to creating 'life-saving treatments'</td><td>Google's AI firm has designed an artificial intelligence system to detect abnormal genetic mutations that can lead to diseases emerging. Continue reading at TweakTown ></td><td>https://www.tweaktown.com/news/93431/googles-new-ai-breakthrough-is-big-step-forward-to-creating-life-saving-treatments/index.html</td><td>https://static.tweaktown.com/news/9/3/93431_58959_google-says-its-new-ai-can-pinpoint-which-genes-are-likely-to-cause-disease_full.jpg</td><td>2023-09-25T04:07:03Z</td><td>Google DeepMind has created a new AI system that is capable of detecting genetic mutations that may lead to diseases.\r\n",
       "A new study published in the journal Science details a new AI model called Alpha… [+1822 chars]</td></tr><tr><td>List(new-scientist, New Scientist)</td><td>Michael Le Page</td><td>DeepMind AI can predict if DNA mutations are likely to be harmful</td><td>By working out which small mutations will probably be damaging, DeepMind’s AlphaMissense system could help doctors identify the cause of genetic diseases</td><td>https://www.newscientist.com/article/2392821-deepmind-ai-can-predict-if-dna-mutations-are-likely-to-be-harmful/</td><td>https://images.newscientist.com/wp-content/uploads/2023/09/19142523/SEI_172303762.jpg</td><td>2023-09-19T15:30:21Z</td><td>DeepMind’s AlphaMissense AI can predict whether mutations will affect how proteins such as haemoglobin subunit beta (left) or cystic fibrosis transmembrane conductance regulator (right) will function… [+3548 chars]</td></tr><tr><td>List(null, Forbes)</td><td>Rob Toews, Contributor, \n",
       " Rob Toews, Contributor\n",
       " https://www.forbes.com/sites/robtoews/</td><td>Transformers Revolutionized AI. What Will Replace Them?</td><td>No technology remains dominant forever.</td><td>https://www.forbes.com/sites/robtoews/2023/09/03/transformers-revolutionized-ai-what-will-replace-them/</td><td>https://imageio.forbes.com/specials-images/imageserve/64f3b2b43d727bdfbf85cc97/0x0.jpg?format=jpg&width=1200</td><td>2023-09-03T22:00:00Z</td><td>The transformer, today's dominant AI architecture, has interesting parallels to the alien language ... [+] in the 2016 science fiction film \"Arrival.\"\r\n",
       "Paramount Pictures\r\n",
       "If modern artificial intell… [+20795 chars]</td></tr><tr><td>List(null, Livemint)</td><td>mint</td><td>Google’s AlphaFold has a new tool to track genetic mutations</td><td>Last year’s AI breakthrough is showing what it can do for health</td><td>https://www.livemint.com/opinion/online-views/googles-alphafold-has-a-new-tool-to-track-genetic-mutations-11695306099645.html</td><td>https://www.livemint.com/lm-img/img/2023/09/21/600x338/2-0-950951326-genome-0_1679732768848_1695307674193.jpg</td><td>2023-09-21T14:51:02Z</td><td>Its becoming clear that scientists are only scratching the surface of what artificial intelligence (AI) can teach us about human biology and disease. Case in point: new work by Alphabets AI subsidiar… [+4506 chars]</td></tr><tr><td>List(null, Biztoc.com)</td><td>ft.com</td><td>DeepMind uses AI to predict harmful genetic mutations in humans</td><td>First example of artificial intelligence helping to accelerate diagnosis of diseases caused by genetic variants</td><td>https://biztoc.com/x/9ceb51271e409210</td><td>https://c.biztoc.com/p/9ceb51271e409210/s.webp</td><td>2023-09-19T15:42:11Z</td><td>First example of artificial intelligence helping to accelerate diagnosis of diseases caused by genetic variants\r\n",
       "This story appeared on ft.com, .</td></tr><tr><td>List(null, NDTV News)</td><td>null</td><td>Google's New AI Tool Predicts Danger Of Genetic Mutations</td><td>Researchers at Google DeepMind, the tech giant's artificial intelligence arm, on Tuesday introduced a tool that predicts whether genetic mutations are likely to cause harm, a breakthrough that could help research into rare diseases.</td><td>https://www.ndtv.com/science/google-new-ai-tool-predicts-danger-of-genetic-mutations-4405728</td><td>https://c.ndtvimg.com/2023-09/40cmfqso_google-generic_625x300_04_September_23.jpg</td><td>2023-09-20T01:51:26Z</td><td>Washington: Researchers at Google DeepMind, the tech giant's artificial intelligence arm, on Tuesday introduced a tool that predicts whether genetic mutations are likely to cause harm, a breakthrough… [+2573 chars]</td></tr><tr><td>List(null, Gadgets360.com)</td><td>Agence France-Presse</td><td>Google DeepMind AI Tool Predicts Whether Genetic Mutations Are Likely to Cause Harm</td><td>Researchers at Google DeepMind, the tech giant's artificial intelligence arm, on Tuesday introduced a tool that predicts whether genetic mutations are likely to cause harm, a breakthrough that could help research into rare diseases.</td><td>https://www.gadgets360.com/internet/news/google-deepmind-ai-tool-predicts-genetic-mutation-dangers-rare-diseases-research-4406178</td><td>https://i.gadgets360cdn.com/large/google_reuters_1694582304835.jpg</td><td>2023-09-20T06:22:52Z</td><td>Researchers at Google DeepMind, the tech giant's artificial intelligence arm, on Tuesday introduced a tool that predicts whether genetic mutations are likely to cause harm, a breakthrough that could … [+2515 chars]</td></tr><tr><td>List(null, Cloudtweaks.com)</td><td>Gary Bernstein</td><td>The Age of AI Benefits: A Global Transformation</td><td>Artificial Intelligence (AI) has emerged as a transformative force that is reshaping industries, improving our daily lives, and pushing the boundaries of human potential. This cutting-edge technology is no longer confined to science fiction; it has become an …</td><td>https://cloudtweaks.com/2023/09/age-ai-benefits-global-transformation/</td><td>https://cloudtweaks.com/wp-content/uploads/2020/10/Gary-Bernstein.jpg</td><td>2023-09-05T10:07:40Z</td><td>Artificial Intelligence (AI) has emerged as a transformative force that is reshaping industries, improving our daily lives, and pushing the boundaries of human potential. This cutting-edge technology… [+7082 chars]</td></tr><tr><td>List(null, Cryptopolitan)</td><td>John Palmer</td><td>Deep Genomics Unveils Groundbreaking AI Foundation Model for RNA Therapeutics</td><td>Deep Genomics, a pioneering AI-driven drug development company, has introduced an innovative AI foundation model called BigRNA. This transformative model, based on deep learning, represents a significant leap forward in the discovery of RNA biology and therap…</td><td>https://www.cryptopolitan.com/deep-genomics-unveils-ai-foundation/</td><td>https://img.cryptopolitan.com/wp-content/uploads/2023/09/image-2023-09-27T145209.477-1.jpg</td><td>2023-09-27T14:11:06Z</td><td><ul><li>Deep Genomics introduces BigRNA, a groundbreaking AI foundation model for RNA therapeutics, with immense potential for revolutionizing drug discovery.</li><li>BigRNA’s versatility, extensive … [+5733 chars]</td></tr><tr><td>List(null, Dataversity.net)</td><td>Paramita (Guha) Ghosh</td><td>Machine Learning Use Cases for Data Management</td><td>In 2023, machine learning (ML) is a powerful enabler for Data Management, revolutionizing the way organizations handle and analyze vast amounts of data. ML, a subset of artificial intelligence (AI), offers various approaches to tackle Data Management challeng…</td><td>https://www.dataversity.net/machine-learning-use-cases-data-management/</td><td>https://d3an9kf42ylj3p.cloudfront.net/uploads/2017/08/pg_MLusecases_aug23.jpg</td><td>2023-08-31T07:35:00Z</td><td>In 2023, machine learning (ML) is a powerful enabler for Data Management, revolutionizing the way organizations handle and analyze vast amounts of data. ML, a subset of artificial intelligence (AI), … [+14744 chars]</td></tr><tr><td>List(null, GlobeNewswire)</td><td>XCELLENT INSIGHTS LLP</td><td>Global Precision Medicine Market Size to Reach USD 148.2 Billion in 2032 | Xcellent Insights</td><td>Pune, Sept. 26, 2023 (GLOBE NEWSWIRE) -- The Global Precision Medicine Market\r\n",
       " has witnessed remarkable growth, reaching a size of approximately USD 57.69 billion in 2022, and is projected to further expand to USD 110.9 billion with a robust CAGR of 11.5% du…</td><td>https://www.globenewswire.com/news-release/2023/09/25/2749076/0/en/Global-Precision-Medicine-Market-Size-to-Reach-USD-148-2-Billion-in-2032-Xcellent-Insights.html</td><td>https://ml.globenewswire.com/Resource/Download/20e20a5a-19cb-40c4-97ab-6a8a15c225be</td><td>2023-09-25T23:02:00Z</td><td>Pune, Sept. 26, 2023 (GLOBE NEWSWIRE) -- The Global Precision Medicine Market\r\n",
       " has witnessed remarkable growth, reaching a size of approximately USD 57.69 billion in 2022, and is projected to furthe… [+10510 chars]</td></tr><tr><td>List(the-times-of-india, The Times of India)</td><td>The Feed</td><td>Mark Zuckerberg and Dr Priscilla Chan aim to eradicate all diseases by 2100</td><td>Mark Zuckerberg and his wife, Priscilla Chan, plan to eradicate all human diseases by 2100 through their foundation, The Chan Zuckerberg Initiative. They aim to create a computing system that utilises artificial intelligence (AI) to study cell behavior and de…</td><td>https://economictimes.indiatimes.com/news/new-updates/mark-zuckerberg-and-his-wife-aim-to-eradicate-all-diseases-by-2100/articleshow/103958277.cms</td><td>https://img.etimg.com/thumb/msid-103959042,width-1200,height-630,imgsize-85548,overlay-economictimes/photo.jpg</td><td>2023-09-26T10:09:23Z</td><td>Mark Zuckerberg and his wife Dr. Priscilla Chan plan to eradicate all human diseases by 2100 through their foundation, The Chan Zuckerberg Initiative (CZI). The foundation intends to create a special… [+2691 chars]</td></tr><tr><td>List(null, Americanthinker.com)</td><td>null</td><td>Look at all the ways AI is changing transportation and health care</td><td>Artificial intelligence, now subject to congressional scrutiny and billionaire powwows in recent news stories, changing everything, it seems, and in ways that may surprise us.\r\n",
       "\r\n",
       "Perhaps the most noticeable way that AI will change how we do things&nb...</td><td>https://www.americanthinker.com/blog/2023/09/ai_is_changing_transportation_and_healthcare.html</td><td>https://www.americanthinker.com/images/bucket/2023-09/248870.jpg</td><td>2023-09-16T05:00:00Z</td><td>Artificial intelligence, now subject to congressional scrutiny and billionaire powwows in recent news stories, changing everything, it seems, and in ways that may surprise us.\r\n",
       "Perhaps the most notic… [+5461 chars]</td></tr><tr><td>List(null, Marketscreener.com)</td><td>GlobeNewswire</td><td>Valo Health and Novo Nordisk to collaborate to discover and develop novel treatments for cardiometabolic diseases using human data and artificial intelligence</td><td>(marketscreener.com) Collaboration will apply Valo’s Opal Computational Platform™ and real-world patient dataset to enable the discovery and development of novel cardiometabolic drug programmes Novo Nordisk licenses three preclinical drug discovery programmes…</td><td>https://www.marketscreener.com/quote/stock/NOVO-NORDISK-AS-39433525/news/Valo-Health-and-Novo-Nordisk-to-collaborate-to-discover-and-develop-novel-treatments-for-cardiometab-44914731/</td><td>https://www.marketscreener.com/images/twitter_MS_fdnoir.png</td><td>2023-09-25T12:02:02Z</td><td>Collaboration will apply Valos Opal Computational Platform and real-world patient dataset to enable the discovery and development of novel cardiometabolic drug programmes\r\n",
       "Novo Nordisk licenses three… [+6429 chars]</td></tr><tr><td>List(null, GlobeNewswire)</td><td>Novo Nordisk A/S</td><td>Valo Health and Novo Nordisk to collaborate to discover and develop novel treatments for cardiometabolic diseases using human data and artificial intelligence</td><td>Collaboration will apply Valo’s Opal Computational Platform™ and real-world patient dataset to enable the discovery and development of novel cardiometabolic drug programmes</td><td>https://www.globenewswire.com/news-release/2023/09/25/2748601/0/en/Valo-Health-and-Novo-Nordisk-to-collaborate-to-discover-and-develop-novel-treatments-for-cardiometabolic-diseases-using-human-data-and-artificial-intelligence.html</td><td>https://ml-eu.globenewswire.com/Resource/Download/18c2fb08-e2c1-4a52-90dd-5c0f18213eb6</td><td>2023-09-25T12:00:00Z</td><td>Collaboration will apply Valos Opal Computational Platform and real-world patient dataset to enable the discovery and development of novel cardiometabolic drug programmes\r\n",
       "Novo Nordisk licenses three… [+5554 chars]</td></tr><tr><td>List(null, GlobeNewswire)</td><td>ReportLinker</td><td>Global Next-Generation Sequencing on Drug Development Market</td><td>Report Scope:. The scope of this report includes NGS technologies, applications, industries, initiatives, patents and companies. The markets for NGS in drug development are given for 2020, 2021, 2022, 2023 and 2028. Report Scope:. The scope of this report inc…</td><td>https://www.globenewswire.com/news-release/2023/09/04/2736570/0/en/Global-Next-Generation-Sequencing-on-Drug-Development-Market.html</td><td>https://ml.globenewswire.com/Resource/Download/3e0b82c2-02d7-44c8-b22f-561e0f321f39</td><td>2023-09-04T10:09:00Z</td><td>New York, Sept. 04, 2023 (GLOBE NEWSWIRE) -- Reportlinker.com announces the release of the report \"Global Next-Generation Sequencing on Drug Development Market\" - https://www.reportlinker.com/p064890… [+5370 chars]</td></tr><tr><td>List(null, The Conversation Africa)</td><td>Joseph Guhlin, Postdoctoral Researcher with Genomics Aotearoa, University of Otago, Peter Dearden, Professor and Director of Genomics Aotearoa, University of Otago</td><td>How gene mapping almost all remaining kākāpō will help NZ’s rare night parrot survive</td><td>Kākāpō are prone to disease and infertility. Only intensive species management has saved the flightless parrots from extinction. Genome data now reveals the genetic reasons behind these problems.</td><td>https://theconversation.com/how-gene-mapping-almost-all-remaining-kakapo-will-help-nzs-rare-night-parrot-survive-212451</td><td>https://images.theconversation.com/files/545418/original/file-20230829-22497-o5cpnd.jpg?ixlib=rb-1.1.0&rect=0%2C417%2C5358%2C2679&q=45&auto=format&w=1356&h=668&fit=crop</td><td>2023-08-30T04:13:18Z</td><td>Shutterstock/FeatherStalker Don\r\n",
       "The genetic mapping of almost the entire kākāpō population has shed new light on specific traits that will help conservation biologists in their efforts to save the c… [+5858 chars]</td></tr><tr><td>List(null, Marketscreener.com)</td><td>GlobeNewswire</td><td>Gain Therapeutics to Present at the Cambridge Healthtech Institute's 2nd Annual Neurodegeneration Targets Conference</td><td>(marketscreener.com) BETHESDA, Md., Sept. 20, 2023 -- Gain Therapeutics, Inc., , a biotechnology company leading the discovery and development of the next generation of allosteric small molecule therapies, today announced that Matthias Alder, Chief Executive …</td><td>https://www.marketscreener.com/quote/stock/GAIN-THERAPEUTICS-INC-120780704/news/Gain-Therapeutics-to-Present-at-the-Cambridge-Healthtech-Institute-s-2nd-Annual-Neurodegeneration-Ta-44889216/</td><td>https://www.marketscreener.com/images/twitter_MS_fdnoir.png</td><td>2023-09-20T20:06:02Z</td><td>BETHESDA, Md., Sept. 20, 2023 (GLOBE NEWSWIRE) -- Gain Therapeutics, Inc., (Nasdaq: GANX) (Gain, or the Company), a biotechnology company leading the discovery and development of the next generation … [+6995 chars]</td></tr><tr><td>List(null, GlobeNewswire)</td><td>Gain Therapeutics, Inc.</td><td>Gain Therapeutics to Present at the Cambridge Healthtech Institute’s 2nd Annual Neurodegeneration Targets Conference</td><td>BETHESDA, Md., Sept. 20, 2023 (GLOBE NEWSWIRE) -- Gain Therapeutics, Inc., (Nasdaq: GANX) (“Gain”, or the “Company”), a biotechnology company leading the discovery and development of the next generation of allosteric small molecule therapies, today announced …</td><td>https://www.globenewswire.com/news-release/2023/09/20/2746852/0/en/Gain-Therapeutics-to-Present-at-the-Cambridge-Healthtech-Institute-s-2nd-Annual-Neurodegeneration-Targets-Conference.html</td><td>https://ml.globenewswire.com/Resource/Download/b08fa984-9f20-4aa1-a174-b9f6165d50fa</td><td>2023-09-20T20:05:00Z</td><td>BETHESDA, Md., Sept. 20, 2023 (GLOBE NEWSWIRE) -- Gain Therapeutics, Inc., (Nasdaq: GANX) (Gain, or the Company), a biotechnology company leading the discovery and development of the next generation … [+6995 chars]</td></tr><tr><td>List(null, GlobeNewswire)</td><td>Research and Markets</td><td>Unlocking the Future of Gene Fusion Testing: Advancements Project Market to Reach $897.6 Million by 2033</td><td>Dublin, Aug. 30, 2023 (GLOBE NEWSWIRE) -- The \"Gene Fusion Testing Market - A Global and Regional Analysis: Focus on by Category, Technology, Indication, End User, and Region - Analysis and Forecast, 2023-2033\" report has been added to ResearchAndMarkets.com'…</td><td>https://www.globenewswire.com/news-release/2023/08/30/2734481/28124/en/Unlocking-the-Future-of-Gene-Fusion-Testing-Advancements-Project-Market-to-Reach-897-6-Million-by-2033.html</td><td>https://ml.globenewswire.com/Resource/Download/908fb457-7f8e-4a08-9081-5565e3dfb3d7</td><td>2023-08-30T13:38:00Z</td><td>Dublin, Aug. 30, 2023 (GLOBE NEWSWIRE) -- The \"Gene Fusion Testing Market - A Global and Regional Analysis: Focus on by Category, Technology, Indication, End User, and Region - Analysis and Forecast,… [+5035 chars]</td></tr><tr><td>List(null, GlobeNewswire)</td><td>Precedence Research</td><td>Artificial Intelligence (AI) in Cancer Diagnostics Market to Surpass USD 2,084.34 Million by 2032</td><td>The global artificial intelligence (AI) in cancer diagnostics market was valued at USD 892.23 million in 2022 and is estimated to surpass around USD 2,084.34 million by 2032, growing at a healthy CAGR of 9.35% from 2023 to 2032. The global artificial intellig…</td><td>https://www.globenewswire.com/news-release/2023/08/29/2733677/0/en/Artificial-Intelligence-AI-in-Cancer-Diagnostics-Market-to-Surpass-USD-2-084-34-Million-by-2032.html</td><td>https://ml.globenewswire.com/Resource/Download/501140d4-82c8-4a65-82a7-8466b5188635</td><td>2023-08-29T15:30:00Z</td><td>Ottawa, Aug. 29, 2023 (GLOBE NEWSWIRE) -- The global artificial intelligence (AI) in cancer diagnostics market revenue is projected to reach around USD 1,466.72 million by 2029, a Study published by … [+17038 chars]</td></tr><tr><td>List(null, Marketscreener.com)</td><td>GlobeNewswire</td><td>Gain Therapeutics Receives Approval to Commence Phase 1 Clinical Study of GT-02287 from the Human Research Ethics Committee (HREC) in Australia</td><td>(marketscreener.com)                 First drug candidate identified with Gain’s proprietary computational drug discovery platform SEE-Tx® to enter clinical development phase BETHESDA, Md., Sept. 12, 2023 -- Gain Therapeutics, Inc. , a biotechnology company l…</td><td>https://www.marketscreener.com/quote/stock/GAIN-THERAPEUTICS-INC-120780704/news/Gain-Therapeutics-Receives-Approval-to-Commence-Phase-1-Clinical-Study-of-GT-02287-from-the-Human-Re-44824294/</td><td>https://www.marketscreener.com/images/twitter_MS_fdnoir.png</td><td>2023-09-12T13:26:02Z</td><td>First drug candidate identified with Gains proprietary computational drug discovery platform SEE-Tx® to enter clinical development phase\r\n",
       "BETHESDA, Md., Sept. 12, 2023 (GLOBE NEWSWIRE) -- Gain Therap… [+7640 chars]</td></tr><tr><td>List(null, GlobeNewswire)</td><td>Gain Therapeutics, Inc.</td><td>Gain Therapeutics Receives Approval to Commence Phase 1 Clinical Study of GT-02287 from the Human Research Ethics Committee (HREC) in Australia</td><td>First drug candidate identified with Gain’s proprietary computational drug discovery platform SEE-Tx® to enter clinical development phase...</td><td>https://www.globenewswire.com/news-release/2023/09/12/2741790/0/en/Gain-Therapeutics-Receives-Approval-to-Commence-Phase-1-Clinical-Study-of-GT-02287-from-the-Human-Research-Ethics-Committee-HREC-in-Australia.html</td><td>https://ml.globenewswire.com/Resource/Download/b08fa984-9f20-4aa1-a174-b9f6165d50fa</td><td>2023-09-12T13:25:00Z</td><td>First drug candidate identified with Gains proprietary computational drug discovery platform SEE-Tx® to enter clinical development phase\r\n",
       "BETHESDA, Md., Sept. 12, 2023 (GLOBE NEWSWIRE) -- Gain Therap… [+7640 chars]</td></tr><tr><td>List(null, Phys.Org)</td><td>Angela Nicoletti</td><td>Matchmaking (with AI) to help proteins pair up</td><td>Successful matchmaking with protein molecules is like all other kinds of matchmaking: The two must click for it to work.</td><td>https://phys.org/news/2023-09-matchmaking-ai-proteins-pair.html</td><td>https://scx2.b-cdn.net/gfx/news/2023/matchmaking-with-ai-to-1.jpg</td><td>2023-09-14T14:20:04Z</td><td>Successful matchmaking with protein molecules is like all other kinds of matchmaking: The two must click for it to work.\r\n",
       "Except for proteinsthe estimated 200 million unique molecular building blocks… [+6085 chars]</td></tr><tr><td>List(null, National Institutes of Health)</td><td>null</td><td>Notice of Upcoming Prize Competition Announcement for the Complement-Animal Research in Experimentation (Complement-ARIE) Challenge</td><td>NIH Funding Opportunities and Notices in the NIH Guide for Grants and Contracts: Notice of Upcoming Prize Competition Announcement for the Complement-Animal Research in Experimentation (Complement-ARIE) Challenge NOT-RM-23-025. RMOD</td><td>https://grants.nih.gov/grants/guide/notice-files/NOT-RM-23-025.html</td><td>null</td><td>2023-09-20T08:36:17Z</td><td>The NIH Common Fund is beginning a strategic planning process for a potential Complement-Animal Research In Experimentation (Complement-ARIE) program to catalyze the development, standardization, val… [+12503 chars]</td></tr><tr><td>List(null, PRNewswire)</td><td>null</td><td>From AI to Patient Advocacy: The Comprehensive Orphan Drugs and Rare Diseases Conference: London, United Kingdom - October 9-10, 2023</td><td>DUBLIN, Sept. 22, 2023 /PRNewswire/ -- ResearchAndMarkets.com announces the 4th Annual Orphan Drugs and Rare Diseases Conference, scheduled for October 9-10 in London, UK. This prestigious event offers an in-depth exploration into the ever-evolving world of o…</td><td>https://www.prnewswire.com/news-releases/from-ai-to-patient-advocacy-the-comprehensive-orphan-drugs-and-rare-diseases-conference-london-united-kingdom---october-9-10-2023-301936108.html</td><td>https://mma.prnewswire.com/media/539438/Research_and_Markets_Logo.jpg?p=facebook</td><td>2023-09-22T23:45:00Z</td><td>DUBLIN, Sept. 22, 2023 /PRNewswire/ -- ResearchAndMarkets.com announces the 4th Annual Orphan Drugs and Rare Diseases Conference, scheduled for October 9-10 in London, UK. This prestigious event offe… [+4959 chars]</td></tr><tr><td>List(null, Marketscreener.com)</td><td>GlobeNewswire</td><td>Gain Therapeutics Presents New Preclinical Data Demonstrating a Reduction of Plasma Neurodegeneration Biomarker NfL after Administration of its Drug Candidate GT-02287 in GBA1 Parkinson's Disease Model</td><td>(marketscreener.com) Treatment with GT-02287 also restored glucocerebrosidase enzymatic function, reduced aggregated α-synuclein, neuroinflammation and neuronal death, increased dopamine levels and improved motor function Data presented at the International C…</td><td>https://www.marketscreener.com/quote/stock/GAIN-THERAPEUTICS-INC-120780704/news/Gain-Therapeutics-Presents-New-Preclinical-Data-Demonstrating-a-Reduction-of-Plasma-Neurodegeneratio-44710839/</td><td>https://www.marketscreener.com/images/twitter_MS_fdblanc.png</td><td>2023-08-28T11:01:02Z</td><td>Treatment with GT-02287 also restored glucocerebrosidase (GCase) enzymatic function, reduced aggregated -synuclein, neuroinflammation and neuronal death, increased dopamine levels and improved motor … [+8782 chars]</td></tr><tr><td>List(null, GlobeNewswire)</td><td>Gain Therapeutics, Inc.</td><td>Gain Therapeutics Presents New Preclinical Data Demonstrating a Reduction of Plasma Neurodegeneration Biomarker NfL after Administration of its Drug Candidate GT-02287 in GBA1 Parkinson’s Disease Model</td><td>Treatment with GT-02287 also restored glucocerebrosidase (GCase) enzymatic function, reduced aggregated α-synuclein, neuroinflammation and neuronal death, increased dopamine levels and improved motor function</td><td>https://www.globenewswire.com/news-release/2023/08/28/2732467/0/en/Gain-Therapeutics-Presents-New-Preclinical-Data-Demonstrating-a-Reduction-of-Plasma-Neurodegeneration-Biomarker-NfL-after-Administration-of-its-Drug-Candidate-GT-02287-in-GBA1-Park.html</td><td>https://ml.globenewswire.com/Resource/Download/b08fa984-9f20-4aa1-a174-b9f6165d50fa</td><td>2023-08-28T11:00:00Z</td><td>Treatment with GT-02287 also restored glucocerebrosidase (GCase) enzymatic function, reduced aggregated -synuclein, neuroinflammation and neuronal death, increased dopamine levels and improved motor … [+8782 chars]</td></tr><tr><td>List(null, GlobeNewswire)</td><td>Transparency Market Research</td><td>Clinical Trials Market to Exceed USD 83.5 billion by 2030, Garnering 5.4% CAGR – Exclusive Report by Transparency Market Research</td><td>The clinical trials market is expanding, driven by increased drug development activities and advancements in trial design and technology. The clinical trials market is expanding, driven by increased drug development activities and advancements in trial design…</td><td>https://www.globenewswire.com/news-release/2023/09/27/2750351/32656/en/Clinical-Trials-Market-to-Exceed-USD-83-5-billion-by-2030-Garnering-5-4-CAGR-Exclusive-Report-by-Transparency-Market-Research.html</td><td>https://ml.globenewswire.com/Resource/Download/27b21b27-620b-4cae-8360-605a9662092b</td><td>2023-09-27T12:13:00Z</td><td>Wilmington, Delaware, United States, Sept. 27, 2023 (GLOBE NEWSWIRE) -- Transparency Market Research Inc. - The clinical trials market was estimated to have acquired US$ 46.7 billion in 2019. It is a… [+7821 chars]</td></tr><tr><td>List(null, Slashdot.org)</td><td>feedfeeder</td><td>DeepMind’s New AI Can Predict Genetic Diseases</td><td>AlphaMissense, a new model from Google&rsquo;s artificial intelligence team, analyzes the effects of DNA mutations and will accelerate research into rare diseases.</td><td>https://slashdot.org/firehose.pl?op=view&amp;id=171854934</td><td>null</td><td>2023-09-19T14:52:29Z</td><td>The Fine Print: The following comments are owned by whoever posted them. We are not responsible for them in any way.</td></tr><tr><td>List(null, Plos.org)</td><td>Weiguang Liu, Rafael Delalibera Rodrigues, Jianglong Yan, Yu-tao Zhu, Everson José de Freitas Pereira, Gen Li, Qiusheng Zheng, Liang Zhao</td><td>Complex network-based classification of radiographic images for COVID-19 diagnosis</td><td>In this work, we present a network-based technique for chest X-ray image classification to help the diagnosis and prognosis of patients with COVID-19. From visual inspection, we perceive that healthy and COVID-19 chest radiographic images present different le…</td><td>https://journals.plos.org/plosone/article?id=10.1371/journal.pone.0290968</td><td>https://journals.plos.org/plosone/article/figure/image?id=10.1371/journal.pone.0290968.g010&size=inline</td><td>2023-09-01T14:00:00Z</td><td>Abstract\r\n",
       "In this work, we present a network-based technique for chest X-ray image classification to help the diagnosis and prognosis of patients with COVID-19. From visual inspection, we perceive th… [+72655 chars]</td></tr><tr><td>List(null, National Institutes of Health)</td><td>null</td><td>Fc-Dependent Mechanisms of Antibody-Mediated Killing (R01 Clinical Trial Not Allowed)</td><td>Funding Opportunity RFA-AI-23-054 from the NIH Guide for Grants and Contracts. The purpose of this notice of funding opportunity (NOFO) is to support basic research that will elucidate mechanisms of Fc-mediated antibody functions, including antibody-dependent…</td><td>https://grants.nih.gov/grants/guide/rfa-files/RFA-AI-23-054.html</td><td>null</td><td>2023-09-26T08:17:39Z</td><td>Participating Organization(s) \r\n",
       "National Institutes of Health (NIH)\r\n",
       "Components of Participating Organizations \r\n",
       "National Institute of Allergy and Infectious Diseases (NIAID) \r\n",
       "Funding Opportunity Ti… [+56961 chars]</td></tr><tr><td>List(null, Mercola.com)</td><td>communities@mercola.com (Dr. Joseph Mercola)</td><td>'ChatGPT' for Biology? A Dictatorship of Engineers</td><td>Hopefully, [the ultimate search engine Google was building] would never have a bug like HAL did where he killed the occupants of the spaceship. ~ Sergey Brin (NewsHour with Jim Lehrer, November 2002)1\r\n",
       "\n",
       "\n",
       "\n",
       "As if the ChatGPT craze weren’t bad enough, the $$$$$ …</td><td>https://articles.mercola.com/sites/articles/archive/2023/09/01/chatgpt-for-biology.aspx</td><td>https://media.mercola.com/ImageServer/Public/2023/August/FB/chatgpt-for-biology-fb.jpg</td><td>2023-09-01T00:00:00Z</td><td>Mercola proudly supports these charities and organizations. View All \r\n",
       "Disclaimer: The entire contents of this website are based upon the opinions of Dr. Mercola, unless otherwise noted. Individual a… [+1007 chars]</td></tr><tr><td>List(null, Plos.org)</td><td>Zeleke Tesema, Belay Deribe, Mekonnen Tilahun, Alemu Kefale, Getachew Worku Alebachew, Kefyalew Alemayehu, Tesfaye Getachew, Damitie Kebede, Mengistie Taye, Solomon Gizaw</td><td>Estimation of crossbreeding and genetic parameters for reproductive traits of Boer x Central Highland goats in Ethiopia</td><td>Additive genetic and non-additive parameters for reproductive traits of Boer x Central Highland goats were estimated. Pedigree and performance records comprised of Central Highland and their crosses with Boer goats were collected from 2009 to 2018 in the Siri…</td><td>https://journals.plos.org/plosone/article?id=10.1371/journal.pone.0291996</td><td>https://journals.plos.org/plosone/article/figure/image?id=10.1371/journal.pone.0291996.t005&size=inline</td><td>2023-09-27T14:00:00Z</td><td>Ethics statement\r\n",
       "Prior to the study, data collection formats and procedures were reviewed and approved by the Researchers of Amhara Regional Agricultural Research Institute, Ethiopia (number Ls/Ru-3… [+7926 chars]</td></tr><tr><td>List(null, The BMJ)</td><td>Wang, S., Chen, R., Wang, S., Kong, D., Cao, R., Lin, C., Luo, L., Huang, J., Zhang, Q., Yu, H., Ding, Y. L.</td><td>Comparative study on risk prediction model of type 2 diabetes based on machine learning theory: a cross-sectional study</td><td>Objectives To compare the prediction effects of six models based on machine learning theories, which can provide a methodological reference for predicting the risk of type 2 diabetes mellitus (T2DM).\n",
       "\n",
       "Setting and participants This study was based on the monit…</td><td>https://bmjopen.bmj.com/content/13/8/e069018?rss=1</td><td>https://bmjopen.bmj.com/pages/wp-content/uploads/sites/7/2019/07/bmjopen-default-cover.png</td><td>2023-08-29T15:35:18Z</td><td>Introduction\r\n",
       "Diabetes mellitus (DM) is a metabolic disease characterised by a disorder of blood glucose metabolism, which is one of the major public health problems in the 21st century.1 In 2021, th… [+12451 chars]</td></tr><tr><td>List(null, Plos.org)</td><td>Ricki Lewis, PhD</td><td>Why I’m Not Worried that ChatGTP Will Replace Me as a Biology Textbook Author</td><td>I just used ChatGTP for the first time. Initially, I was concerned about my future as the chatbot near-instantaneously answered my queries…\n",
       "The post Why I’m Not Worried that ChatGTP Will Replace Me as a Biology Textbook Author appeared first on DNA Science.</td><td>https://dnascience.plos.org/2023/09/07/why-im-not-worried-that-chatgtp-will-replace-me-as-a-biology-textbook-author/</td><td>https://dnascience.plos.org/wp-content/uploads/sites/12/2023/09/21317439_10212350530232026_9068783055137048892_n.jpg</td><td>2023-09-07T18:45:31Z</td><td>I just used ChatGTP for the first time. Initially, I was concerned about my future as the chatbot near-instantaneously answered my queries on increasingly obscure terms from my field, genetics. Stump… [+11215 chars]</td></tr><tr><td>List(null, IPWatchdog.com)</td><td>Ben Hsing</td><td>Artificial Intelligence in Drug Development: Patent Considerations</td><td>Artificial intelligence (AI) is a field of computer science that creates software or models that mimic human reasoning or inference. Machine learning is a subset of AI which uses algorithms trained on massive amounts of data to allow the computer to learn wit…</td><td>https://ipwatchdog.com/2023/09/25/artificial-intelligence-drug-development-patent-considerations/id=167125/</td><td>https://ipwatchdog.com/wp-content/uploads/2023/09/Depositphotos_657443750_XL.jpg</td><td>2023-09-25T12:15:22Z</td><td>The transformative potential of AI, encompassing machine learning and generative capabilities, holds great promise for revolutionizing drug discovery and development. This promising horizon is accomp… [+16440 chars]</td></tr><tr><td>List(null, Plos.org)</td><td>Antonio Charlys da Costa, Maria C. Mendes-Correa, Tania Regina Tozetto-Mendoza, Lucy S. Villas-Boas, Anderson Vicente de Paula, Heuder Gustavo Oliveira Paiao, Fabio E. Leal, Noely E. Ferreira, Layla Honorato, Elcio Leal, Giuliano Grandi, Vanessa dos Santos Morais, Erika R. Manuli, Ester C. Sabino, Steven S. Witkin</td><td>Detailed characterization of Redondovirus in saliva of SARS-CoV-2-infected individuals in Sao Paulo, Brazil</td><td>Background Redondovirus (ReDoV) is a DNA virus present in the respiratory tract of many healthy individuals. Since SARS-CoV-2, the virus responsible for COVID-19, also primarily infects the same site, we evaluated whether ReDoV was present at increased freque…</td><td>https://journals.plos.org/plosone/article?id=10.1371/journal.pone.0291027</td><td>https://journals.plos.org/plosone/article/figure/image?id=10.1371/journal.pone.0291027.g001&size=inline</td><td>2023-08-31T14:00:00Z</td><td>Abstract\r\n",
       "Background\r\n",
       "Redondovirus (ReDoV) is a DNA virus present in the respiratory tract of many healthy individuals. Since SARS-CoV-2, the virus responsible for COVID-19, also primarily infects th… [+24787 chars]</td></tr><tr><td>List(null, Plos.org)</td><td>Zhaohong Huang, Xinyue Cui, Yuhao Xia, Kailong Zhao, Guijun Zhang</td><td>Pathfinder: Protein folding pathway prediction based on conformational sampling</td><td>Author summary The study of protein folding mechanism is an important part of basic science and has vital significance in many aspects. The key to the study of protein folding mechanism is to capture the conformational changes from the fast protein folding pr…</td><td>https://journals.plos.org/ploscompbiol/article?id=10.1371/journal.pcbi.1011438</td><td>https://journals.plos.org/ploscompbiol/article/figure/image?id=10.1371/journal.pcbi.1011438.g007&size=inline</td><td>2023-09-11T14:00:00Z</td><td>Abstract\r\n",
       "The study of protein folding mechanism is a challenge in molecular biology, which is of great significance for revealing the movement rules of biological macromolecules, understanding the p… [+51456 chars]</td></tr><tr><td>List(null, Plos.org)</td><td>Bayarbaatar Amgalan, Chi-Ping Day, Teresa M. Przytycka</td><td>Exploring tumor-normal cross-talk with TranNet: Role of the environment in tumor progression</td><td>Author summary In oncological studies, control samples are usually biopsied from tumor-adjacent normal tissue. However, there is an increasing understanding that such samples represent a state that is intermediate between tumor and normal, and is influenced b…</td><td>https://journals.plos.org/ploscompbiol/article?id=10.1371/journal.pcbi.1011472</td><td>https://journals.plos.org/ploscompbiol/article/figure/image?id=10.1371/journal.pcbi.1011472.g007&size=inline</td><td>2023-09-18T14:00:00Z</td><td>Abstract\r\n",
       "There is a growing awareness that tumor-adjacent normal tissues used as control samples in cancer studies do not represent fully healthy tissues. Instead, they are intermediates between hea… [+61681 chars]</td></tr><tr><td>List(null, Plos.org)</td><td>Shotaro Asano, Ryo Asaoka, Akio Oishi, Yuri Fujino, Hiroshi Murata, Keiko Azuma, Manabu Miyata, Ryo Obata, Tatsuya Inoue</td><td>Investigating the clinical validity of the guided progression analysis definition with 10–2 visual field in retinitis pigmentosa</td><td>Purpose To investigate the clinical validity of the Guided Progression Analysis definition (GPAD) and cluster-based definition (CBD) with the Humphrey Field Analyzer (HFA) 10–2 test in retinitis pigmentosa (RP).   Methods Ten non-progressive RP visual fields …</td><td>https://journals.plos.org/plosone/article?id=10.1371/journal.pone.0291208</td><td>https://journals.plos.org/plosone/article/figure/image?id=10.1371/journal.pone.0291208.g004&size=inline</td><td>2023-09-08T14:00:00Z</td><td>Abstract\r\n",
       "Purpose\r\n",
       "To investigate the clinical validity of the Guided Progression Analysis definition (GPAD) and cluster-based definition (CBD) with the Humphrey Field Analyzer (HFA) 102 test in reti… [+32571 chars]</td></tr></tbody></table></div>"
      ]
     },
     "metadata": {
      "application/vnd.databricks.v1+output": {
       "addedWidgets": {},
       "aggData": [],
       "aggError": "",
       "aggOverflow": false,
       "aggSchema": [],
       "aggSeriesLimitReached": false,
       "aggType": "",
       "arguments": {},
       "columnCustomDisplayInfos": {},
       "data": [
        [
         [
          "wired",
          "Wired"
         ],
         "Amit Katwala",
         "DeepMind’s New AI Can Predict Genetic Diseases",
         "AlphaMissense, a new model from Google’s artificial intelligence team, analyzes the effects of DNA mutations and will accelerate research into rare diseases.",
         "https://www.wired.com/story/deepmind-ai-alphamissense-genetics-rare-diseases/",
         "https://media.wired.com/photos/6509abd0d7ea654c08913301/191:100/w_1280,c_limit/digitized-dna-helix-science-GettyImages-85757934.jpg",
         "2023-09-19T14:35:23Z",
         "About 10 years ago, iga Avsec was a PhD physics student who found himself taking a crash course in genomics via a university module on machine learning. He was soon working in a lab that studied rare… [+2913 chars]"
        ],
        [
         [
          "the-next-web",
          "The Next Web"
         ],
         "Ioanna Lykiardopoulou",
         "DeepMind’s new AI tool can predict genetic diseases",
         "Google DeepMind has unveiled its novel AI tool that can predict whether DNA mutations are likely to cause genetic diseases. The ambition is that it will  facilitate faster diagnosis and development of life-saving treatments. The new AI model, called AlphaMiss…",
         "https://thenextweb.com/news/deepminds-ai-tool-predicts-genetic-diseases",
         "https://img-cdn.tnwcdn.com/image/tnw-blurple?filter_last=1&fit=1280%2C640&url=https%3A%2F%2Fcdn0.tnwcdn.com%2Fwp-content%2Fblogs.dir%2F1%2Ffiles%2F2023%2F09%2FUntitled-design-14-10.jpg&signature=d5b222e3ee9bcffe5f162236598b4ad2",
         "2023-09-20T11:44:36Z",
         "Google DeepMind has unveiled its novel AI tool that can predict whether DNA mutations are likely to cause genetic diseases. The ambition is that it will  facilitate faster diagnosis and development o… [+2103 chars]"
        ],
        [
         [
          null,
          "ReadWrite"
         ],
         "Muhammad Sohaib Saleem",
         "From Sci-Fi to Reality: The Roadmap of AI Development and Its Future Potential",
         "Artificial Intelligence has come a long way since its conceptualization in science fiction. What was once an imaginative idea is […]\nThe post From Sci-Fi to Reality: The Roadmap of AI Development and Its Future Potential appeared first on ReadWrite.",
         "https://readwrite.com/from-sci-fi-to-reality-the-roadmap-of-ai-development-and-its-future-potential/",
         "https://readwrite.com/wp-content/uploads/2023/08/Roadmap-of-AI-Development.jpg",
         "2023-09-25T20:00:51Z",
         "Artificial Intelligence has come a long way since its conceptualization in science fiction. What was once an imaginative idea is now a reality, revolutionizing various aspects of our lives. From self… [+8873 chars]"
        ],
        [
         [
          null,
          "Phys.Org"
         ],
         "Science X",
         "Google AI tool predicts danger of genetic mutations",
         "Researchers at Google DeepMind, the tech giant's artificial intelligence arm, on Tuesday introduced a tool that predicts whether genetic mutations are likely to cause harm, a breakthrough that could help research into rare diseases.",
         "https://phys.org/news/2023-09-google-ai-tool-danger-genetic.html",
         "https://scx2.b-cdn.net/gfx/news/2023/googles-new-ai-tool-ca.jpg",
         "2023-09-20T08:35:47Z",
         "Researchers at Google DeepMind, the tech giant's artificial intelligence arm, on Tuesday introduced a tool that predicts whether genetic mutations are likely to cause harm, a breakthrough that could … [+3103 chars]"
        ],
        [
         [
          null,
          "Euronews"
         ],
         null,
         "What’s AlphaMissense? This new Google DeepMind tool analyses genetic mutations",
         "AlphaMissense promises to predict how dangerous a genetic mutation is.",
         "https://www.euronews.com/next/2023/09/21/whats-alphamissense-this-new-google-deepmind-tool-analyses-genetic-mutations",
         "https://static.euronews.com/articles/stories/07/91/15/00/1000x563_cmsv2_68a11ed3-f436-563a-b400-8121903fecc3-7911500.jpg",
         "2023-09-21T14:02:13Z",
         "AlphaMissense promises to predict how dangerous a genetic mutation is.\r\n Researchers at DeepMind, one of Googles artificial intelligence (AI) companies, presented a new tool that predicts whether or … [+2308 chars]"
        ],
        [
         [
          null,
          "Wired.co.uk"
         ],
         "Amit Katwala",
         "DeepMind’s New AI Can Predict Genetic Diseases",
         "AlphaMissense, a new model from Google’s artificial intelligence team, analyzes the effects of DNA mutations and will accelerate research into rare diseases.",
         "https://www.wired.co.uk/article/deepmind-ai-alphamissense-genetics-rare-diseases",
         "https://media.wired.co.uk/photos/6508b2210178e37fb4a68568/16:9/w_1280,c_limit/digitized-dna-helix-science-GettyImages-85757934.jpg",
         "2023-09-19T14:33:25Z",
         "About 10 years ago, iga Avsec was a PhD physics student who found himself taking a crash course in genomics via a university module on machine learning. He was soon working in a lab that studied rare… [+4707 chars]"
        ],
        [
         [
          null,
          "Singularity Hub"
         ],
         "Shelly Fan",
         "DeepMind AI Hunts Down the DNA Mutations Behind Genetic Disease",
         "Proteins are like Spider-Man in the multiverse. The underlying story is the same: each building block of a protein is based on a three-letter DNA code. However, change one letter, and the same protein becomes a different version of itself. If we’re lucky, som…",
         "https://singularityhub.com/2023/09/21/deepmind-ai-hunts-down-the-dna-mutations-behind-genetic-disease/",
         "https://singularityhub.com/wp-content/uploads/2023/09/deepmind-dna-double-helix-visualization.jpeg",
         "2023-09-21T20:27:27Z",
         "Proteins are like Spider-Man in the multiverse.\r\nThe underlying story is the same: each building block of a protein is based on a three-letter DNA code. However, change one letter, and the same prote… [+6771 chars]"
        ],
        [
         [
          null,
          "Forbes"
         ],
         "Steve Nouri, Forbes Councils Member, \n Steve Nouri, Forbes Councils Member\n https://www.forbes.com/sites/forbestechcouncil/people/stevenouri/",
         "Generative AI Drugs Are Coming",
         "The merging of deep, quality data and expertise with increasingly sophisticated AI capabilities has the potential to truly shift the future of medicine.",
         "https://www.forbes.com/sites/forbestechcouncil/2023/09/05/generative-ai-drugs-are-coming/",
         "https://imageio.forbes.com/specials-images/imageserve/64f22325ebec7ec31b17ee9b/0x0.jpg?format=jpg&width=1200",
         "2023-09-05T11:45:00Z",
         "Steve is the Founder of GenAI Works and AI4Diversity. He is an AI expert, tech evangelist, and influencer.\r\ngetty\r\nJust as ChatGPT is turning text directions into new written materials, or just as DA… [+6523 chars]"
        ],
        [
         [
          null,
          "Forbes"
         ],
         "Ariel Katz, Forbes Councils Member, \n Ariel Katz, Forbes Councils Member\n https://www.forbes.com/sites/forbestechcouncil/people/arielkatz/",
         "10 Ways AI Is Advancing Healthcare",
         "Though there are challenges to be understood and overcome, AI is significantly improving the healthcare landscape.",
         "https://www.forbes.com/sites/forbestechcouncil/2023/09/19/10-ways-ai-is-advancing-healthcare/",
         "https://imageio.forbes.com/specials-images/imageserve/62bc54b6d9785913bcd547b5/0x0.jpg?format=jpg&width=1200",
         "2023-09-19T14:00:00Z",
         "Ariel Katz, CEO and cofounder of H1.\r\ngetty\r\nThe explosion of generative AI in healthcarelargely due to the exponential growth of medical data, a shortage of healthcare providers and advancements in … [+6893 chars]"
        ],
        [
         [
          null,
          "International Business Times"
         ],
         "AFP News",
         "Google AI Tool Predicts Danger Of Genetic Mutations",
         "Researchers at Google DeepMind, the tech giant's artificial intelligence arm, on Tuesday introduced a tool that predicts whether genetic mutations are likely to cause harm, a breakthrough that could help research into rare diseases.",
         "https://www.ibtimes.com/google-ai-tool-predicts-danger-genetic-mutations-3712362",
         "https://d.ibtimes.com/en/full/4487127/googles-new-ai-tool-can-read-dna-like-language-see-immediately-if-word-substitution-will.jpg",
         "2023-09-19T20:57:36Z",
         "Researchers at Google DeepMind, the tech giant's artificial intelligence arm, on Tuesday introduced a tool that predicts whether genetic mutations are likely to cause harm, a breakthrough that could … [+2437 chars]"
        ],
        [
         [
          null,
          "Forbes"
         ],
         "Alex Knapp, Forbes Staff, \n Alex Knapp, Forbes Staff\n https://www.forbes.com/sites/alexknapp/",
         "Retinal Imaging And Machine Learning Honored In The 2023 Lasker Awards",
         "The Lasker Foundation’s annual awards for medical research honor the inventors of optical coherence tomography and more.",
         "https://www.forbes.com/sites/alexknapp/2023/09/21/retinal-imaging-and-machine-learning-honored-in-the-2023-lasker-awards/",
         "https://imageio.forbes.com/specials-images/imageserve/650bc8ed984021daef9b1326/0x0.jpg?format=jpg&width=1200",
         "2023-09-21T13:00:00Z",
         "Professor James Fujimoto\r\nJake Belcher Courtesy The Lasker Foundation\r\nThe Lasker Foundations annual awards for medical research honor the inventors of optical coherence tomography, DeepMinds AlphaFo… [+5081 chars]"
        ],
        [
         [
          null,
          "Bangkok Post"
         ],
         "AFP",
         "Google AI tool predicts danger of genetic mutations",
         "WASHINGTON - Researchers at Google DeepMind, the tech giant's artificial intelligence arm, on Tuesday introduced a tool that predicts whether genetic mutations are likely to cause harm, a breakthrough that could help research into rare diseases.",
         "https://www.bangkokpost.com/world/2650034/google-ai-tool-predicts-danger-of-genetic-mutations",
         "https://static.bangkokpost.com/media/content/20230920/c1_4897722_700.jpg",
         "2023-09-19T21:45:00Z",
         "WASHINGTON - Researchers at Google DeepMind, the tech giant's artificial intelligence arm, on Tuesday introduced a tool that predicts whether genetic mutations are likely to cause harm, a breakthroug… [+2450 chars]"
        ],
        [
         [
          null,
          "Japan Today"
         ],
         null,
         "Google AI tool predicts danger of genetic mutations",
         "Researchers at Google DeepMind, the tech giant's artificial intelligence arm, on Tuesday introduced a tool that predicts whether genetic mutations are likely to cause harm, a breakthrough that could help research into rare diseases. The findings are &quot;ano…",
         "https://japantoday.com/category/features/health/google-ai-tool-predicts-danger-of-genetic-mutations1",
         null,
         "2023-09-19T21:43:46Z",
         "Researchers at Google DeepMind, the tech giant's artificial intelligence arm, on Tuesday introduced a tool that predicts whether genetic mutations are likely to cause harm, a breakthrough that could … [+2449 chars]"
        ],
        [
         [
          null,
          "Moneycontrol"
         ],
         "Lisa Jarvis",
         "Google DeepMind#39;s AI tool could pinpoint our genetic faults",
         "Thereâs been plenty of worrying about the damage AI could do, but discoveries like the GoogleÂ tool that can pluck harmful genome mutations from thousands of minute-but-benign onesÂ show how AI can accelerate progress on the most vexing questions about huma…",
         "https://www.moneycontrol.com/news/opinion/google-deepminds-ai-tool-could-pinpoint-our-genetic-faults-11401241.html",
         "https://images.moneycontrol.com/static-mcnews/2023/08/Collage-Maker-30-Aug-2023-10-48-AM-3714-770x433.jpg",
         "2023-09-21T04:35:15Z",
         "Its becoming increasingly clear that scientists are only scratching the surface of what artificial intelligence can teach us about human biology and disease. Case in point: new work by Alphabet's AI … [+4751 chars]"
        ],
        [
         [
          null,
          "CNA"
         ],
         null,
         "Google AI tool predicts danger of genetic mutations",
         "WASHINGTON: Researchers at Google DeepMind, the tech giant's artificial intelligence arm, on Tuesday (Sep 19) introduced a tool that predicts whether genetic mutations are likely to cause harm, a breakthrough that could help research into rare diseases. The f…",
         "https://www.channelnewsasia.com/business/google-ai-tool-predicts-danger-genetic-mutations-3784016",
         "https://onecms-res.cloudinary.com/image/upload/s--zj9ea8EA--/fl_relative,g_south_east,l_one-cms:core:watermark:afp_watermark,w_0.1/f_auto,q_auto/c_fill,g_auto,h_676,w_1200/v1/one-cms/core/71f081542f99c3723b161996288590399f4945a3.jpg?itok=JTlUK7-G",
         "2023-09-19T22:11:01Z",
         "WASHINGTON: Researchers at Google DeepMind, the tech giant's artificial intelligence arm, on Tuesday (Sep 19) introduced a tool that predicts whether genetic mutations are likely to cause harm, a bre… [+2462 chars]"
        ],
        [
         [
          null,
          "TweakTown"
         ],
         "Jak Connor",
         "Google's new AI breakthrough is a 'big step forward' to creating 'life-saving treatments'",
         "Google's AI firm has designed an artificial intelligence system to detect abnormal genetic mutations that can lead to diseases emerging. Continue reading at TweakTown >",
         "https://www.tweaktown.com/news/93431/googles-new-ai-breakthrough-is-big-step-forward-to-creating-life-saving-treatments/index.html",
         "https://static.tweaktown.com/news/9/3/93431_58959_google-says-its-new-ai-can-pinpoint-which-genes-are-likely-to-cause-disease_full.jpg",
         "2023-09-25T04:07:03Z",
         "Google DeepMind has created a new AI system that is capable of detecting genetic mutations that may lead to diseases.\r\nA new study published in the journal Science details a new AI model called Alpha… [+1822 chars]"
        ],
        [
         [
          "new-scientist",
          "New Scientist"
         ],
         "Michael Le Page",
         "DeepMind AI can predict if DNA mutations are likely to be harmful",
         "By working out which small mutations will probably be damaging, DeepMind’s AlphaMissense system could help doctors identify the cause of genetic diseases",
         "https://www.newscientist.com/article/2392821-deepmind-ai-can-predict-if-dna-mutations-are-likely-to-be-harmful/",
         "https://images.newscientist.com/wp-content/uploads/2023/09/19142523/SEI_172303762.jpg",
         "2023-09-19T15:30:21Z",
         "DeepMind’s AlphaMissense AI can predict whether mutations will affect how proteins such as haemoglobin subunit beta (left) or cystic fibrosis transmembrane conductance regulator (right) will function… [+3548 chars]"
        ],
        [
         [
          null,
          "Forbes"
         ],
         "Rob Toews, Contributor, \n Rob Toews, Contributor\n https://www.forbes.com/sites/robtoews/",
         "Transformers Revolutionized AI. What Will Replace Them?",
         "No technology remains dominant forever.",
         "https://www.forbes.com/sites/robtoews/2023/09/03/transformers-revolutionized-ai-what-will-replace-them/",
         "https://imageio.forbes.com/specials-images/imageserve/64f3b2b43d727bdfbf85cc97/0x0.jpg?format=jpg&width=1200",
         "2023-09-03T22:00:00Z",
         "The transformer, today's dominant AI architecture, has interesting parallels to the alien language ... [+] in the 2016 science fiction film \"Arrival.\"\r\nParamount Pictures\r\nIf modern artificial intell… [+20795 chars]"
        ],
        [
         [
          null,
          "Livemint"
         ],
         "mint",
         "Google’s AlphaFold has a new tool to track genetic mutations",
         "Last year’s AI breakthrough is showing what it can do for health",
         "https://www.livemint.com/opinion/online-views/googles-alphafold-has-a-new-tool-to-track-genetic-mutations-11695306099645.html",
         "https://www.livemint.com/lm-img/img/2023/09/21/600x338/2-0-950951326-genome-0_1679732768848_1695307674193.jpg",
         "2023-09-21T14:51:02Z",
         "Its becoming clear that scientists are only scratching the surface of what artificial intelligence (AI) can teach us about human biology and disease. Case in point: new work by Alphabets AI subsidiar… [+4506 chars]"
        ],
        [
         [
          null,
          "Biztoc.com"
         ],
         "ft.com",
         "DeepMind uses AI to predict harmful genetic mutations in humans",
         "First example of artificial intelligence helping to accelerate diagnosis of diseases caused by genetic variants",
         "https://biztoc.com/x/9ceb51271e409210",
         "https://c.biztoc.com/p/9ceb51271e409210/s.webp",
         "2023-09-19T15:42:11Z",
         "First example of artificial intelligence helping to accelerate diagnosis of diseases caused by genetic variants\r\nThis story appeared on ft.com, ."
        ],
        [
         [
          null,
          "NDTV News"
         ],
         null,
         "Google's New AI Tool Predicts Danger Of Genetic Mutations",
         "Researchers at Google DeepMind, the tech giant's artificial intelligence arm, on Tuesday introduced a tool that predicts whether genetic mutations are likely to cause harm, a breakthrough that could help research into rare diseases.",
         "https://www.ndtv.com/science/google-new-ai-tool-predicts-danger-of-genetic-mutations-4405728",
         "https://c.ndtvimg.com/2023-09/40cmfqso_google-generic_625x300_04_September_23.jpg",
         "2023-09-20T01:51:26Z",
         "Washington: Researchers at Google DeepMind, the tech giant's artificial intelligence arm, on Tuesday introduced a tool that predicts whether genetic mutations are likely to cause harm, a breakthrough… [+2573 chars]"
        ],
        [
         [
          null,
          "Gadgets360.com"
         ],
         "Agence France-Presse",
         "Google DeepMind AI Tool Predicts Whether Genetic Mutations Are Likely to Cause Harm",
         "Researchers at Google DeepMind, the tech giant's artificial intelligence arm, on Tuesday introduced a tool that predicts whether genetic mutations are likely to cause harm, a breakthrough that could help research into rare diseases.",
         "https://www.gadgets360.com/internet/news/google-deepmind-ai-tool-predicts-genetic-mutation-dangers-rare-diseases-research-4406178",
         "https://i.gadgets360cdn.com/large/google_reuters_1694582304835.jpg",
         "2023-09-20T06:22:52Z",
         "Researchers at Google DeepMind, the tech giant's artificial intelligence arm, on Tuesday introduced a tool that predicts whether genetic mutations are likely to cause harm, a breakthrough that could … [+2515 chars]"
        ],
        [
         [
          null,
          "Cloudtweaks.com"
         ],
         "Gary Bernstein",
         "The Age of AI Benefits: A Global Transformation",
         "Artificial Intelligence (AI) has emerged as a transformative force that is reshaping industries, improving our daily lives, and pushing the boundaries of human potential. This cutting-edge technology is no longer confined to science fiction; it has become an …",
         "https://cloudtweaks.com/2023/09/age-ai-benefits-global-transformation/",
         "https://cloudtweaks.com/wp-content/uploads/2020/10/Gary-Bernstein.jpg",
         "2023-09-05T10:07:40Z",
         "Artificial Intelligence (AI) has emerged as a transformative force that is reshaping industries, improving our daily lives, and pushing the boundaries of human potential. This cutting-edge technology… [+7082 chars]"
        ],
        [
         [
          null,
          "Cryptopolitan"
         ],
         "John Palmer",
         "Deep Genomics Unveils Groundbreaking AI Foundation Model for RNA Therapeutics",
         "Deep Genomics, a pioneering AI-driven drug development company, has introduced an innovative AI foundation model called BigRNA. This transformative model, based on deep learning, represents a significant leap forward in the discovery of RNA biology and therap…",
         "https://www.cryptopolitan.com/deep-genomics-unveils-ai-foundation/",
         "https://img.cryptopolitan.com/wp-content/uploads/2023/09/image-2023-09-27T145209.477-1.jpg",
         "2023-09-27T14:11:06Z",
         "<ul><li>Deep Genomics introduces BigRNA, a groundbreaking AI foundation model for RNA therapeutics, with immense potential for revolutionizing drug discovery.</li><li>BigRNA’s versatility, extensive … [+5733 chars]"
        ],
        [
         [
          null,
          "Dataversity.net"
         ],
         "Paramita (Guha) Ghosh",
         "Machine Learning Use Cases for Data Management",
         "In 2023, machine learning (ML) is a powerful enabler for Data Management, revolutionizing the way organizations handle and analyze vast amounts of data. ML, a subset of artificial intelligence (AI), offers various approaches to tackle Data Management challeng…",
         "https://www.dataversity.net/machine-learning-use-cases-data-management/",
         "https://d3an9kf42ylj3p.cloudfront.net/uploads/2017/08/pg_MLusecases_aug23.jpg",
         "2023-08-31T07:35:00Z",
         "In 2023, machine learning (ML) is a powerful enabler for Data Management, revolutionizing the way organizations handle and analyze vast amounts of data. ML, a subset of artificial intelligence (AI), … [+14744 chars]"
        ],
        [
         [
          null,
          "GlobeNewswire"
         ],
         "XCELLENT INSIGHTS LLP",
         "Global Precision Medicine Market Size to Reach USD 148.2 Billion in 2032 | Xcellent Insights",
         "Pune, Sept. 26, 2023 (GLOBE NEWSWIRE) -- The Global Precision Medicine Market\r\n has witnessed remarkable growth, reaching a size of approximately USD 57.69 billion in 2022, and is projected to further expand to USD 110.9 billion with a robust CAGR of 11.5% du…",
         "https://www.globenewswire.com/news-release/2023/09/25/2749076/0/en/Global-Precision-Medicine-Market-Size-to-Reach-USD-148-2-Billion-in-2032-Xcellent-Insights.html",
         "https://ml.globenewswire.com/Resource/Download/20e20a5a-19cb-40c4-97ab-6a8a15c225be",
         "2023-09-25T23:02:00Z",
         "Pune, Sept. 26, 2023 (GLOBE NEWSWIRE) -- The Global Precision Medicine Market\r\n has witnessed remarkable growth, reaching a size of approximately USD 57.69 billion in 2022, and is projected to furthe… [+10510 chars]"
        ],
        [
         [
          "the-times-of-india",
          "The Times of India"
         ],
         "The Feed",
         "Mark Zuckerberg and Dr Priscilla Chan aim to eradicate all diseases by 2100",
         "Mark Zuckerberg and his wife, Priscilla Chan, plan to eradicate all human diseases by 2100 through their foundation, The Chan Zuckerberg Initiative. They aim to create a computing system that utilises artificial intelligence (AI) to study cell behavior and de…",
         "https://economictimes.indiatimes.com/news/new-updates/mark-zuckerberg-and-his-wife-aim-to-eradicate-all-diseases-by-2100/articleshow/103958277.cms",
         "https://img.etimg.com/thumb/msid-103959042,width-1200,height-630,imgsize-85548,overlay-economictimes/photo.jpg",
         "2023-09-26T10:09:23Z",
         "Mark Zuckerberg and his wife Dr. Priscilla Chan plan to eradicate all human diseases by 2100 through their foundation, The Chan Zuckerberg Initiative (CZI). The foundation intends to create a special… [+2691 chars]"
        ],
        [
         [
          null,
          "Americanthinker.com"
         ],
         null,
         "Look at all the ways AI is changing transportation and health care",
         "Artificial intelligence, now subject to congressional scrutiny and billionaire powwows in recent news stories, changing everything, it seems, and in ways that may surprise us.\r\n\r\nPerhaps the most noticeable way that AI will change how we do things&nb...",
         "https://www.americanthinker.com/blog/2023/09/ai_is_changing_transportation_and_healthcare.html",
         "https://www.americanthinker.com/images/bucket/2023-09/248870.jpg",
         "2023-09-16T05:00:00Z",
         "Artificial intelligence, now subject to congressional scrutiny and billionaire powwows in recent news stories, changing everything, it seems, and in ways that may surprise us.\r\nPerhaps the most notic… [+5461 chars]"
        ],
        [
         [
          null,
          "Marketscreener.com"
         ],
         "GlobeNewswire",
         "Valo Health and Novo Nordisk to collaborate to discover and develop novel treatments for cardiometabolic diseases using human data and artificial intelligence",
         "(marketscreener.com) Collaboration will apply Valo’s Opal Computational Platform™ and real-world patient dataset to enable the discovery and development of novel cardiometabolic drug programmes Novo Nordisk licenses three preclinical drug discovery programmes…",
         "https://www.marketscreener.com/quote/stock/NOVO-NORDISK-AS-39433525/news/Valo-Health-and-Novo-Nordisk-to-collaborate-to-discover-and-develop-novel-treatments-for-cardiometab-44914731/",
         "https://www.marketscreener.com/images/twitter_MS_fdnoir.png",
         "2023-09-25T12:02:02Z",
         "Collaboration will apply Valos Opal Computational Platform and real-world patient dataset to enable the discovery and development of novel cardiometabolic drug programmes\r\nNovo Nordisk licenses three… [+6429 chars]"
        ],
        [
         [
          null,
          "GlobeNewswire"
         ],
         "Novo Nordisk A/S",
         "Valo Health and Novo Nordisk to collaborate to discover and develop novel treatments for cardiometabolic diseases using human data and artificial intelligence",
         "Collaboration will apply Valo’s Opal Computational Platform™ and real-world patient dataset to enable the discovery and development of novel cardiometabolic drug programmes",
         "https://www.globenewswire.com/news-release/2023/09/25/2748601/0/en/Valo-Health-and-Novo-Nordisk-to-collaborate-to-discover-and-develop-novel-treatments-for-cardiometabolic-diseases-using-human-data-and-artificial-intelligence.html",
         "https://ml-eu.globenewswire.com/Resource/Download/18c2fb08-e2c1-4a52-90dd-5c0f18213eb6",
         "2023-09-25T12:00:00Z",
         "Collaboration will apply Valos Opal Computational Platform and real-world patient dataset to enable the discovery and development of novel cardiometabolic drug programmes\r\nNovo Nordisk licenses three… [+5554 chars]"
        ],
        [
         [
          null,
          "GlobeNewswire"
         ],
         "ReportLinker",
         "Global Next-Generation Sequencing on Drug Development Market",
         "Report Scope:. The scope of this report includes NGS technologies, applications, industries, initiatives, patents and companies. The markets for NGS in drug development are given for 2020, 2021, 2022, 2023 and 2028. Report Scope:. The scope of this report inc…",
         "https://www.globenewswire.com/news-release/2023/09/04/2736570/0/en/Global-Next-Generation-Sequencing-on-Drug-Development-Market.html",
         "https://ml.globenewswire.com/Resource/Download/3e0b82c2-02d7-44c8-b22f-561e0f321f39",
         "2023-09-04T10:09:00Z",
         "New York, Sept. 04, 2023 (GLOBE NEWSWIRE) -- Reportlinker.com announces the release of the report \"Global Next-Generation Sequencing on Drug Development Market\" - https://www.reportlinker.com/p064890… [+5370 chars]"
        ],
        [
         [
          null,
          "The Conversation Africa"
         ],
         "Joseph Guhlin, Postdoctoral Researcher with Genomics Aotearoa, University of Otago, Peter Dearden, Professor and Director of Genomics Aotearoa, University of Otago",
         "How gene mapping almost all remaining kākāpō will help NZ’s rare night parrot survive",
         "Kākāpō are prone to disease and infertility. Only intensive species management has saved the flightless parrots from extinction. Genome data now reveals the genetic reasons behind these problems.",
         "https://theconversation.com/how-gene-mapping-almost-all-remaining-kakapo-will-help-nzs-rare-night-parrot-survive-212451",
         "https://images.theconversation.com/files/545418/original/file-20230829-22497-o5cpnd.jpg?ixlib=rb-1.1.0&rect=0%2C417%2C5358%2C2679&q=45&auto=format&w=1356&h=668&fit=crop",
         "2023-08-30T04:13:18Z",
         "Shutterstock/FeatherStalker Don\r\nThe genetic mapping of almost the entire kākāpō population has shed new light on specific traits that will help conservation biologists in their efforts to save the c… [+5858 chars]"
        ],
        [
         [
          null,
          "Marketscreener.com"
         ],
         "GlobeNewswire",
         "Gain Therapeutics to Present at the Cambridge Healthtech Institute's 2nd Annual Neurodegeneration Targets Conference",
         "(marketscreener.com) BETHESDA, Md., Sept. 20, 2023 -- Gain Therapeutics, Inc., , a biotechnology company leading the discovery and development of the next generation of allosteric small molecule therapies, today announced that Matthias Alder, Chief Executive …",
         "https://www.marketscreener.com/quote/stock/GAIN-THERAPEUTICS-INC-120780704/news/Gain-Therapeutics-to-Present-at-the-Cambridge-Healthtech-Institute-s-2nd-Annual-Neurodegeneration-Ta-44889216/",
         "https://www.marketscreener.com/images/twitter_MS_fdnoir.png",
         "2023-09-20T20:06:02Z",
         "BETHESDA, Md., Sept. 20, 2023 (GLOBE NEWSWIRE) -- Gain Therapeutics, Inc., (Nasdaq: GANX) (Gain, or the Company), a biotechnology company leading the discovery and development of the next generation … [+6995 chars]"
        ],
        [
         [
          null,
          "GlobeNewswire"
         ],
         "Gain Therapeutics, Inc.",
         "Gain Therapeutics to Present at the Cambridge Healthtech Institute’s 2nd Annual Neurodegeneration Targets Conference",
         "BETHESDA, Md., Sept. 20, 2023 (GLOBE NEWSWIRE) -- Gain Therapeutics, Inc., (Nasdaq: GANX) (“Gain”, or the “Company”), a biotechnology company leading the discovery and development of the next generation of allosteric small molecule therapies, today announced …",
         "https://www.globenewswire.com/news-release/2023/09/20/2746852/0/en/Gain-Therapeutics-to-Present-at-the-Cambridge-Healthtech-Institute-s-2nd-Annual-Neurodegeneration-Targets-Conference.html",
         "https://ml.globenewswire.com/Resource/Download/b08fa984-9f20-4aa1-a174-b9f6165d50fa",
         "2023-09-20T20:05:00Z",
         "BETHESDA, Md., Sept. 20, 2023 (GLOBE NEWSWIRE) -- Gain Therapeutics, Inc., (Nasdaq: GANX) (Gain, or the Company), a biotechnology company leading the discovery and development of the next generation … [+6995 chars]"
        ],
        [
         [
          null,
          "GlobeNewswire"
         ],
         "Research and Markets",
         "Unlocking the Future of Gene Fusion Testing: Advancements Project Market to Reach $897.6 Million by 2033",
         "Dublin, Aug. 30, 2023 (GLOBE NEWSWIRE) -- The \"Gene Fusion Testing Market - A Global and Regional Analysis: Focus on by Category, Technology, Indication, End User, and Region - Analysis and Forecast, 2023-2033\" report has been added to ResearchAndMarkets.com'…",
         "https://www.globenewswire.com/news-release/2023/08/30/2734481/28124/en/Unlocking-the-Future-of-Gene-Fusion-Testing-Advancements-Project-Market-to-Reach-897-6-Million-by-2033.html",
         "https://ml.globenewswire.com/Resource/Download/908fb457-7f8e-4a08-9081-5565e3dfb3d7",
         "2023-08-30T13:38:00Z",
         "Dublin, Aug. 30, 2023 (GLOBE NEWSWIRE) -- The \"Gene Fusion Testing Market - A Global and Regional Analysis: Focus on by Category, Technology, Indication, End User, and Region - Analysis and Forecast,… [+5035 chars]"
        ],
        [
         [
          null,
          "GlobeNewswire"
         ],
         "Precedence Research",
         "Artificial Intelligence (AI) in Cancer Diagnostics Market to Surpass USD 2,084.34 Million by 2032",
         "The global artificial intelligence (AI) in cancer diagnostics market was valued at USD 892.23 million in 2022 and is estimated to surpass around USD 2,084.34 million by 2032, growing at a healthy CAGR of 9.35% from 2023 to 2032. The global artificial intellig…",
         "https://www.globenewswire.com/news-release/2023/08/29/2733677/0/en/Artificial-Intelligence-AI-in-Cancer-Diagnostics-Market-to-Surpass-USD-2-084-34-Million-by-2032.html",
         "https://ml.globenewswire.com/Resource/Download/501140d4-82c8-4a65-82a7-8466b5188635",
         "2023-08-29T15:30:00Z",
         "Ottawa, Aug. 29, 2023 (GLOBE NEWSWIRE) -- The global artificial intelligence (AI) in cancer diagnostics market revenue is projected to reach around USD 1,466.72 million by 2029, a Study published by … [+17038 chars]"
        ],
        [
         [
          null,
          "Marketscreener.com"
         ],
         "GlobeNewswire",
         "Gain Therapeutics Receives Approval to Commence Phase 1 Clinical Study of GT-02287 from the Human Research Ethics Committee (HREC) in Australia",
         "(marketscreener.com)                 First drug candidate identified with Gain’s proprietary computational drug discovery platform SEE-Tx® to enter clinical development phase BETHESDA, Md., Sept. 12, 2023 -- Gain Therapeutics, Inc. , a biotechnology company l…",
         "https://www.marketscreener.com/quote/stock/GAIN-THERAPEUTICS-INC-120780704/news/Gain-Therapeutics-Receives-Approval-to-Commence-Phase-1-Clinical-Study-of-GT-02287-from-the-Human-Re-44824294/",
         "https://www.marketscreener.com/images/twitter_MS_fdnoir.png",
         "2023-09-12T13:26:02Z",
         "First drug candidate identified with Gains proprietary computational drug discovery platform SEE-Tx® to enter clinical development phase\r\nBETHESDA, Md., Sept. 12, 2023 (GLOBE NEWSWIRE) -- Gain Therap… [+7640 chars]"
        ],
        [
         [
          null,
          "GlobeNewswire"
         ],
         "Gain Therapeutics, Inc.",
         "Gain Therapeutics Receives Approval to Commence Phase 1 Clinical Study of GT-02287 from the Human Research Ethics Committee (HREC) in Australia",
         "First drug candidate identified with Gain’s proprietary computational drug discovery platform SEE-Tx® to enter clinical development phase...",
         "https://www.globenewswire.com/news-release/2023/09/12/2741790/0/en/Gain-Therapeutics-Receives-Approval-to-Commence-Phase-1-Clinical-Study-of-GT-02287-from-the-Human-Research-Ethics-Committee-HREC-in-Australia.html",
         "https://ml.globenewswire.com/Resource/Download/b08fa984-9f20-4aa1-a174-b9f6165d50fa",
         "2023-09-12T13:25:00Z",
         "First drug candidate identified with Gains proprietary computational drug discovery platform SEE-Tx® to enter clinical development phase\r\nBETHESDA, Md., Sept. 12, 2023 (GLOBE NEWSWIRE) -- Gain Therap… [+7640 chars]"
        ],
        [
         [
          null,
          "Phys.Org"
         ],
         "Angela Nicoletti",
         "Matchmaking (with AI) to help proteins pair up",
         "Successful matchmaking with protein molecules is like all other kinds of matchmaking: The two must click for it to work.",
         "https://phys.org/news/2023-09-matchmaking-ai-proteins-pair.html",
         "https://scx2.b-cdn.net/gfx/news/2023/matchmaking-with-ai-to-1.jpg",
         "2023-09-14T14:20:04Z",
         "Successful matchmaking with protein molecules is like all other kinds of matchmaking: The two must click for it to work.\r\nExcept for proteinsthe estimated 200 million unique molecular building blocks… [+6085 chars]"
        ],
        [
         [
          null,
          "National Institutes of Health"
         ],
         null,
         "Notice of Upcoming Prize Competition Announcement for the Complement-Animal Research in Experimentation (Complement-ARIE) Challenge",
         "NIH Funding Opportunities and Notices in the NIH Guide for Grants and Contracts: Notice of Upcoming Prize Competition Announcement for the Complement-Animal Research in Experimentation (Complement-ARIE) Challenge NOT-RM-23-025. RMOD",
         "https://grants.nih.gov/grants/guide/notice-files/NOT-RM-23-025.html",
         null,
         "2023-09-20T08:36:17Z",
         "The NIH Common Fund is beginning a strategic planning process for a potential Complement-Animal Research In Experimentation (Complement-ARIE) program to catalyze the development, standardization, val… [+12503 chars]"
        ],
        [
         [
          null,
          "PRNewswire"
         ],
         null,
         "From AI to Patient Advocacy: The Comprehensive Orphan Drugs and Rare Diseases Conference: London, United Kingdom - October 9-10, 2023",
         "DUBLIN, Sept. 22, 2023 /PRNewswire/ -- ResearchAndMarkets.com announces the 4th Annual Orphan Drugs and Rare Diseases Conference, scheduled for October 9-10 in London, UK. This prestigious event offers an in-depth exploration into the ever-evolving world of o…",
         "https://www.prnewswire.com/news-releases/from-ai-to-patient-advocacy-the-comprehensive-orphan-drugs-and-rare-diseases-conference-london-united-kingdom---october-9-10-2023-301936108.html",
         "https://mma.prnewswire.com/media/539438/Research_and_Markets_Logo.jpg?p=facebook",
         "2023-09-22T23:45:00Z",
         "DUBLIN, Sept. 22, 2023 /PRNewswire/ -- ResearchAndMarkets.com announces the 4th Annual Orphan Drugs and Rare Diseases Conference, scheduled for October 9-10 in London, UK. This prestigious event offe… [+4959 chars]"
        ],
        [
         [
          null,
          "Marketscreener.com"
         ],
         "GlobeNewswire",
         "Gain Therapeutics Presents New Preclinical Data Demonstrating a Reduction of Plasma Neurodegeneration Biomarker NfL after Administration of its Drug Candidate GT-02287 in GBA1 Parkinson's Disease Model",
         "(marketscreener.com) Treatment with GT-02287 also restored glucocerebrosidase enzymatic function, reduced aggregated α-synuclein, neuroinflammation and neuronal death, increased dopamine levels and improved motor function Data presented at the International C…",
         "https://www.marketscreener.com/quote/stock/GAIN-THERAPEUTICS-INC-120780704/news/Gain-Therapeutics-Presents-New-Preclinical-Data-Demonstrating-a-Reduction-of-Plasma-Neurodegeneratio-44710839/",
         "https://www.marketscreener.com/images/twitter_MS_fdblanc.png",
         "2023-08-28T11:01:02Z",
         "Treatment with GT-02287 also restored glucocerebrosidase (GCase) enzymatic function, reduced aggregated -synuclein, neuroinflammation and neuronal death, increased dopamine levels and improved motor … [+8782 chars]"
        ],
        [
         [
          null,
          "GlobeNewswire"
         ],
         "Gain Therapeutics, Inc.",
         "Gain Therapeutics Presents New Preclinical Data Demonstrating a Reduction of Plasma Neurodegeneration Biomarker NfL after Administration of its Drug Candidate GT-02287 in GBA1 Parkinson’s Disease Model",
         "Treatment with GT-02287 also restored glucocerebrosidase (GCase) enzymatic function, reduced aggregated α-synuclein, neuroinflammation and neuronal death, increased dopamine levels and improved motor function",
         "https://www.globenewswire.com/news-release/2023/08/28/2732467/0/en/Gain-Therapeutics-Presents-New-Preclinical-Data-Demonstrating-a-Reduction-of-Plasma-Neurodegeneration-Biomarker-NfL-after-Administration-of-its-Drug-Candidate-GT-02287-in-GBA1-Park.html",
         "https://ml.globenewswire.com/Resource/Download/b08fa984-9f20-4aa1-a174-b9f6165d50fa",
         "2023-08-28T11:00:00Z",
         "Treatment with GT-02287 also restored glucocerebrosidase (GCase) enzymatic function, reduced aggregated -synuclein, neuroinflammation and neuronal death, increased dopamine levels and improved motor … [+8782 chars]"
        ],
        [
         [
          null,
          "GlobeNewswire"
         ],
         "Transparency Market Research",
         "Clinical Trials Market to Exceed USD 83.5 billion by 2030, Garnering 5.4% CAGR – Exclusive Report by Transparency Market Research",
         "The clinical trials market is expanding, driven by increased drug development activities and advancements in trial design and technology. The clinical trials market is expanding, driven by increased drug development activities and advancements in trial design…",
         "https://www.globenewswire.com/news-release/2023/09/27/2750351/32656/en/Clinical-Trials-Market-to-Exceed-USD-83-5-billion-by-2030-Garnering-5-4-CAGR-Exclusive-Report-by-Transparency-Market-Research.html",
         "https://ml.globenewswire.com/Resource/Download/27b21b27-620b-4cae-8360-605a9662092b",
         "2023-09-27T12:13:00Z",
         "Wilmington, Delaware, United States, Sept. 27, 2023 (GLOBE NEWSWIRE) -- Transparency Market Research Inc. - The clinical trials market was estimated to have acquired US$ 46.7 billion in 2019. It is a… [+7821 chars]"
        ],
        [
         [
          null,
          "Slashdot.org"
         ],
         "feedfeeder",
         "DeepMind’s New AI Can Predict Genetic Diseases",
         "AlphaMissense, a new model from Google&rsquo;s artificial intelligence team, analyzes the effects of DNA mutations and will accelerate research into rare diseases.",
         "https://slashdot.org/firehose.pl?op=view&amp;id=171854934",
         null,
         "2023-09-19T14:52:29Z",
         "The Fine Print: The following comments are owned by whoever posted them. We are not responsible for them in any way."
        ],
        [
         [
          null,
          "Plos.org"
         ],
         "Weiguang Liu, Rafael Delalibera Rodrigues, Jianglong Yan, Yu-tao Zhu, Everson José de Freitas Pereira, Gen Li, Qiusheng Zheng, Liang Zhao",
         "Complex network-based classification of radiographic images for COVID-19 diagnosis",
         "In this work, we present a network-based technique for chest X-ray image classification to help the diagnosis and prognosis of patients with COVID-19. From visual inspection, we perceive that healthy and COVID-19 chest radiographic images present different le…",
         "https://journals.plos.org/plosone/article?id=10.1371/journal.pone.0290968",
         "https://journals.plos.org/plosone/article/figure/image?id=10.1371/journal.pone.0290968.g010&size=inline",
         "2023-09-01T14:00:00Z",
         "Abstract\r\nIn this work, we present a network-based technique for chest X-ray image classification to help the diagnosis and prognosis of patients with COVID-19. From visual inspection, we perceive th… [+72655 chars]"
        ],
        [
         [
          null,
          "National Institutes of Health"
         ],
         null,
         "Fc-Dependent Mechanisms of Antibody-Mediated Killing (R01 Clinical Trial Not Allowed)",
         "Funding Opportunity RFA-AI-23-054 from the NIH Guide for Grants and Contracts. The purpose of this notice of funding opportunity (NOFO) is to support basic research that will elucidate mechanisms of Fc-mediated antibody functions, including antibody-dependent…",
         "https://grants.nih.gov/grants/guide/rfa-files/RFA-AI-23-054.html",
         null,
         "2023-09-26T08:17:39Z",
         "Participating Organization(s) \r\nNational Institutes of Health (NIH)\r\nComponents of Participating Organizations \r\nNational Institute of Allergy and Infectious Diseases (NIAID) \r\nFunding Opportunity Ti… [+56961 chars]"
        ],
        [
         [
          null,
          "Mercola.com"
         ],
         "communities@mercola.com (Dr. Joseph Mercola)",
         "'ChatGPT' for Biology? A Dictatorship of Engineers",
         "Hopefully, [the ultimate search engine Google was building] would never have a bug like HAL did where he killed the occupants of the spaceship. ~ Sergey Brin (NewsHour with Jim Lehrer, November 2002)1\r\n\n\n\nAs if the ChatGPT craze weren’t bad enough, the $$$$$ …",
         "https://articles.mercola.com/sites/articles/archive/2023/09/01/chatgpt-for-biology.aspx",
         "https://media.mercola.com/ImageServer/Public/2023/August/FB/chatgpt-for-biology-fb.jpg",
         "2023-09-01T00:00:00Z",
         "Mercola proudly supports these charities and organizations. View All \r\nDisclaimer: The entire contents of this website are based upon the opinions of Dr. Mercola, unless otherwise noted. Individual a… [+1007 chars]"
        ],
        [
         [
          null,
          "Plos.org"
         ],
         "Zeleke Tesema, Belay Deribe, Mekonnen Tilahun, Alemu Kefale, Getachew Worku Alebachew, Kefyalew Alemayehu, Tesfaye Getachew, Damitie Kebede, Mengistie Taye, Solomon Gizaw",
         "Estimation of crossbreeding and genetic parameters for reproductive traits of Boer x Central Highland goats in Ethiopia",
         "Additive genetic and non-additive parameters for reproductive traits of Boer x Central Highland goats were estimated. Pedigree and performance records comprised of Central Highland and their crosses with Boer goats were collected from 2009 to 2018 in the Siri…",
         "https://journals.plos.org/plosone/article?id=10.1371/journal.pone.0291996",
         "https://journals.plos.org/plosone/article/figure/image?id=10.1371/journal.pone.0291996.t005&size=inline",
         "2023-09-27T14:00:00Z",
         "Ethics statement\r\nPrior to the study, data collection formats and procedures were reviewed and approved by the Researchers of Amhara Regional Agricultural Research Institute, Ethiopia (number Ls/Ru-3… [+7926 chars]"
        ],
        [
         [
          null,
          "The BMJ"
         ],
         "Wang, S., Chen, R., Wang, S., Kong, D., Cao, R., Lin, C., Luo, L., Huang, J., Zhang, Q., Yu, H., Ding, Y. L.",
         "Comparative study on risk prediction model of type 2 diabetes based on machine learning theory: a cross-sectional study",
         "Objectives To compare the prediction effects of six models based on machine learning theories, which can provide a methodological reference for predicting the risk of type 2 diabetes mellitus (T2DM).\n\nSetting and participants This study was based on the monit…",
         "https://bmjopen.bmj.com/content/13/8/e069018?rss=1",
         "https://bmjopen.bmj.com/pages/wp-content/uploads/sites/7/2019/07/bmjopen-default-cover.png",
         "2023-08-29T15:35:18Z",
         "Introduction\r\nDiabetes mellitus (DM) is a metabolic disease characterised by a disorder of blood glucose metabolism, which is one of the major public health problems in the 21st century.1 In 2021, th… [+12451 chars]"
        ],
        [
         [
          null,
          "Plos.org"
         ],
         "Ricki Lewis, PhD",
         "Why I’m Not Worried that ChatGTP Will Replace Me as a Biology Textbook Author",
         "I just used ChatGTP for the first time. Initially, I was concerned about my future as the chatbot near-instantaneously answered my queries…\nThe post Why I’m Not Worried that ChatGTP Will Replace Me as a Biology Textbook Author appeared first on DNA Science.",
         "https://dnascience.plos.org/2023/09/07/why-im-not-worried-that-chatgtp-will-replace-me-as-a-biology-textbook-author/",
         "https://dnascience.plos.org/wp-content/uploads/sites/12/2023/09/21317439_10212350530232026_9068783055137048892_n.jpg",
         "2023-09-07T18:45:31Z",
         "I just used ChatGTP for the first time. Initially, I was concerned about my future as the chatbot near-instantaneously answered my queries on increasingly obscure terms from my field, genetics. Stump… [+11215 chars]"
        ],
        [
         [
          null,
          "IPWatchdog.com"
         ],
         "Ben Hsing",
         "Artificial Intelligence in Drug Development: Patent Considerations",
         "Artificial intelligence (AI) is a field of computer science that creates software or models that mimic human reasoning or inference. Machine learning is a subset of AI which uses algorithms trained on massive amounts of data to allow the computer to learn wit…",
         "https://ipwatchdog.com/2023/09/25/artificial-intelligence-drug-development-patent-considerations/id=167125/",
         "https://ipwatchdog.com/wp-content/uploads/2023/09/Depositphotos_657443750_XL.jpg",
         "2023-09-25T12:15:22Z",
         "The transformative potential of AI, encompassing machine learning and generative capabilities, holds great promise for revolutionizing drug discovery and development. This promising horizon is accomp… [+16440 chars]"
        ],
        [
         [
          null,
          "Plos.org"
         ],
         "Antonio Charlys da Costa, Maria C. Mendes-Correa, Tania Regina Tozetto-Mendoza, Lucy S. Villas-Boas, Anderson Vicente de Paula, Heuder Gustavo Oliveira Paiao, Fabio E. Leal, Noely E. Ferreira, Layla Honorato, Elcio Leal, Giuliano Grandi, Vanessa dos Santos Morais, Erika R. Manuli, Ester C. Sabino, Steven S. Witkin",
         "Detailed characterization of Redondovirus in saliva of SARS-CoV-2-infected individuals in Sao Paulo, Brazil",
         "Background Redondovirus (ReDoV) is a DNA virus present in the respiratory tract of many healthy individuals. Since SARS-CoV-2, the virus responsible for COVID-19, also primarily infects the same site, we evaluated whether ReDoV was present at increased freque…",
         "https://journals.plos.org/plosone/article?id=10.1371/journal.pone.0291027",
         "https://journals.plos.org/plosone/article/figure/image?id=10.1371/journal.pone.0291027.g001&size=inline",
         "2023-08-31T14:00:00Z",
         "Abstract\r\nBackground\r\nRedondovirus (ReDoV) is a DNA virus present in the respiratory tract of many healthy individuals. Since SARS-CoV-2, the virus responsible for COVID-19, also primarily infects th… [+24787 chars]"
        ],
        [
         [
          null,
          "Plos.org"
         ],
         "Zhaohong Huang, Xinyue Cui, Yuhao Xia, Kailong Zhao, Guijun Zhang",
         "Pathfinder: Protein folding pathway prediction based on conformational sampling",
         "Author summary The study of protein folding mechanism is an important part of basic science and has vital significance in many aspects. The key to the study of protein folding mechanism is to capture the conformational changes from the fast protein folding pr…",
         "https://journals.plos.org/ploscompbiol/article?id=10.1371/journal.pcbi.1011438",
         "https://journals.plos.org/ploscompbiol/article/figure/image?id=10.1371/journal.pcbi.1011438.g007&size=inline",
         "2023-09-11T14:00:00Z",
         "Abstract\r\nThe study of protein folding mechanism is a challenge in molecular biology, which is of great significance for revealing the movement rules of biological macromolecules, understanding the p… [+51456 chars]"
        ],
        [
         [
          null,
          "Plos.org"
         ],
         "Bayarbaatar Amgalan, Chi-Ping Day, Teresa M. Przytycka",
         "Exploring tumor-normal cross-talk with TranNet: Role of the environment in tumor progression",
         "Author summary In oncological studies, control samples are usually biopsied from tumor-adjacent normal tissue. However, there is an increasing understanding that such samples represent a state that is intermediate between tumor and normal, and is influenced b…",
         "https://journals.plos.org/ploscompbiol/article?id=10.1371/journal.pcbi.1011472",
         "https://journals.plos.org/ploscompbiol/article/figure/image?id=10.1371/journal.pcbi.1011472.g007&size=inline",
         "2023-09-18T14:00:00Z",
         "Abstract\r\nThere is a growing awareness that tumor-adjacent normal tissues used as control samples in cancer studies do not represent fully healthy tissues. Instead, they are intermediates between hea… [+61681 chars]"
        ],
        [
         [
          null,
          "Plos.org"
         ],
         "Shotaro Asano, Ryo Asaoka, Akio Oishi, Yuri Fujino, Hiroshi Murata, Keiko Azuma, Manabu Miyata, Ryo Obata, Tatsuya Inoue",
         "Investigating the clinical validity of the guided progression analysis definition with 10–2 visual field in retinitis pigmentosa",
         "Purpose To investigate the clinical validity of the Guided Progression Analysis definition (GPAD) and cluster-based definition (CBD) with the Humphrey Field Analyzer (HFA) 10–2 test in retinitis pigmentosa (RP).   Methods Ten non-progressive RP visual fields …",
         "https://journals.plos.org/plosone/article?id=10.1371/journal.pone.0291208",
         "https://journals.plos.org/plosone/article/figure/image?id=10.1371/journal.pone.0291208.g004&size=inline",
         "2023-09-08T14:00:00Z",
         "Abstract\r\nPurpose\r\nTo investigate the clinical validity of the Guided Progression Analysis definition (GPAD) and cluster-based definition (CBD) with the Humphrey Field Analyzer (HFA) 102 test in reti… [+32571 chars]"
        ]
       ],
       "datasetInfos": [],
       "dbfsResultPath": null,
       "isJsonSchema": true,
       "metadata": {},
       "overflow": false,
       "plotOptions": {
        "customPlotOptions": {},
        "displayType": "table",
        "pivotAggregation": null,
        "pivotColumns": null,
        "xColumns": null,
        "yColumns": null
       },
       "removedWidgets": [],
       "schema": [
        {
         "metadata": "{}",
         "name": "source",
         "type": "{\"type\":\"struct\",\"fields\":[{\"name\":\"id\",\"type\":\"string\",\"nullable\":true,\"metadata\":{}},{\"name\":\"name\",\"type\":\"string\",\"nullable\":true,\"metadata\":{}}]}"
        },
        {
         "metadata": "{}",
         "name": "author",
         "type": "\"string\""
        },
        {
         "metadata": "{}",
         "name": "title",
         "type": "\"string\""
        },
        {
         "metadata": "{}",
         "name": "description",
         "type": "\"string\""
        },
        {
         "metadata": "{}",
         "name": "url",
         "type": "\"string\""
        },
        {
         "metadata": "{}",
         "name": "urlToImage",
         "type": "\"string\""
        },
        {
         "metadata": "{}",
         "name": "publishedAt",
         "type": "\"string\""
        },
        {
         "metadata": "{}",
         "name": "content",
         "type": "\"string\""
        }
       ],
       "type": "table"
      }
     },
     "output_type": "display_data"
    }
   ],
   "source": [
    "schema = StructType([StructField('source', StructType([StructField('id', StringType()),\n",
    "                                                      StructField('name', StringType())\n",
    "                                                      ])\n",
    "                                 ),\n",
    "                    StructField('author', StringType()),\n",
    "                    StructField('title', StringType()),\n",
    "                    StructField('description', StringType()),\n",
    "                    StructField('url', StringType()),\n",
    "                    StructField('urlToImage', StringType()),\n",
    "                    StructField('publishedAt', StringType()),\n",
    "                    StructField('content', StringType())\n",
    "                    ])\n",
    "\n",
    "df = spark.createDataFrame(result1, schema=schema)\n",
    "df.display()"
   ]
  },
  {
   "cell_type": "code",
   "execution_count": null,
   "metadata": {
    "application/vnd.databricks.v1+cell": {
     "cellMetadata": {
      "byteLimit": 2048000,
      "rowLimit": 10000
     },
     "inputWidgets": {},
     "nuid": "cf39c6f6-21f5-49f1-832f-708f17302469",
     "showTitle": false,
     "title": ""
    }
   },
   "outputs": [
    {
     "data": {
      "text/html": [
       "<style scoped>\n",
       "  .table-result-container {\n",
       "    max-height: 300px;\n",
       "    overflow: auto;\n",
       "  }\n",
       "  table, th, td {\n",
       "    border: 1px solid black;\n",
       "    border-collapse: collapse;\n",
       "  }\n",
       "  th, td {\n",
       "    padding: 5px;\n",
       "  }\n",
       "  th {\n",
       "    text-align: left;\n",
       "  }\n",
       "</style><div class='table-result-container'><table class='table-result'><thead style='background-color: white'><tr><th>source</th><th>author</th><th>title</th><th>description</th><th>url</th><th>publishedAt</th><th>content</th></tr></thead><tbody><tr><td>List(wired, Wired)</td><td>Amit Katwala</td><td>DeepMind’s New AI Can Predict Genetic Diseases</td><td>AlphaMissense, a new model from Google’s artificial intelligence team, analyzes the effects of DNA mutations and will accelerate research into rare diseases.</td><td>https://www.wired.com/story/deepmind-ai-alphamissense-genetics-rare-diseases/</td><td>2023-09-19T14:35:23Z</td><td>About 10 years ago, iga Avsec was a PhD physics student who found himself taking a crash course in genomics via a university module on machine learning. He was soon working in a lab that studied rare… [+2913 chars]</td></tr><tr><td>List(the-next-web, The Next Web)</td><td>Ioanna Lykiardopoulou</td><td>DeepMind’s new AI tool can predict genetic diseases</td><td>Google DeepMind has unveiled its novel AI tool that can predict whether DNA mutations are likely to cause genetic diseases. The ambition is that it will  facilitate faster diagnosis and development of life-saving treatments. The new AI model, called AlphaMiss…</td><td>https://thenextweb.com/news/deepminds-ai-tool-predicts-genetic-diseases</td><td>2023-09-20T11:44:36Z</td><td>Google DeepMind has unveiled its novel AI tool that can predict whether DNA mutations are likely to cause genetic diseases. The ambition is that it will  facilitate faster diagnosis and development o… [+2103 chars]</td></tr><tr><td>List(null, ReadWrite)</td><td>Muhammad Sohaib Saleem</td><td>From Sci-Fi to Reality: The Roadmap of AI Development and Its Future Potential</td><td>Artificial Intelligence has come a long way since its conceptualization in science fiction. What was once an imaginative idea is […]\n",
       "The post From Sci-Fi to Reality: The Roadmap of AI Development and Its Future Potential appeared first on ReadWrite.</td><td>https://readwrite.com/from-sci-fi-to-reality-the-roadmap-of-ai-development-and-its-future-potential/</td><td>2023-09-25T20:00:51Z</td><td>Artificial Intelligence has come a long way since its conceptualization in science fiction. What was once an imaginative idea is now a reality, revolutionizing various aspects of our lives. From self… [+8873 chars]</td></tr><tr><td>List(null, Phys.Org)</td><td>Science X</td><td>Google AI tool predicts danger of genetic mutations</td><td>Researchers at Google DeepMind, the tech giant's artificial intelligence arm, on Tuesday introduced a tool that predicts whether genetic mutations are likely to cause harm, a breakthrough that could help research into rare diseases.</td><td>https://phys.org/news/2023-09-google-ai-tool-danger-genetic.html</td><td>2023-09-20T08:35:47Z</td><td>Researchers at Google DeepMind, the tech giant's artificial intelligence arm, on Tuesday introduced a tool that predicts whether genetic mutations are likely to cause harm, a breakthrough that could … [+3103 chars]</td></tr><tr><td>List(null, Euronews)</td><td>null</td><td>What’s AlphaMissense? This new Google DeepMind tool analyses genetic mutations</td><td>AlphaMissense promises to predict how dangerous a genetic mutation is.</td><td>https://www.euronews.com/next/2023/09/21/whats-alphamissense-this-new-google-deepmind-tool-analyses-genetic-mutations</td><td>2023-09-21T14:02:13Z</td><td>AlphaMissense promises to predict how dangerous a genetic mutation is.\r\n",
       " Researchers at DeepMind, one of Googles artificial intelligence (AI) companies, presented a new tool that predicts whether or … [+2308 chars]</td></tr><tr><td>List(null, Wired.co.uk)</td><td>Amit Katwala</td><td>DeepMind’s New AI Can Predict Genetic Diseases</td><td>AlphaMissense, a new model from Google’s artificial intelligence team, analyzes the effects of DNA mutations and will accelerate research into rare diseases.</td><td>https://www.wired.co.uk/article/deepmind-ai-alphamissense-genetics-rare-diseases</td><td>2023-09-19T14:33:25Z</td><td>About 10 years ago, iga Avsec was a PhD physics student who found himself taking a crash course in genomics via a university module on machine learning. He was soon working in a lab that studied rare… [+4707 chars]</td></tr><tr><td>List(null, Singularity Hub)</td><td>Shelly Fan</td><td>DeepMind AI Hunts Down the DNA Mutations Behind Genetic Disease</td><td>Proteins are like Spider-Man in the multiverse. The underlying story is the same: each building block of a protein is based on a three-letter DNA code. However, change one letter, and the same protein becomes a different version of itself. If we’re lucky, som…</td><td>https://singularityhub.com/2023/09/21/deepmind-ai-hunts-down-the-dna-mutations-behind-genetic-disease/</td><td>2023-09-21T20:27:27Z</td><td>Proteins are like Spider-Man in the multiverse.\r\n",
       "The underlying story is the same: each building block of a protein is based on a three-letter DNA code. However, change one letter, and the same prote… [+6771 chars]</td></tr><tr><td>List(null, Forbes)</td><td>Steve Nouri, Forbes Councils Member, \n",
       " Steve Nouri, Forbes Councils Member\n",
       " https://www.forbes.com/sites/forbestechcouncil/people/stevenouri/</td><td>Generative AI Drugs Are Coming</td><td>The merging of deep, quality data and expertise with increasingly sophisticated AI capabilities has the potential to truly shift the future of medicine.</td><td>https://www.forbes.com/sites/forbestechcouncil/2023/09/05/generative-ai-drugs-are-coming/</td><td>2023-09-05T11:45:00Z</td><td>Steve is the Founder of GenAI Works and AI4Diversity. He is an AI expert, tech evangelist, and influencer.\r\n",
       "getty\r\n",
       "Just as ChatGPT is turning text directions into new written materials, or just as DA… [+6523 chars]</td></tr><tr><td>List(null, Forbes)</td><td>Ariel Katz, Forbes Councils Member, \n",
       " Ariel Katz, Forbes Councils Member\n",
       " https://www.forbes.com/sites/forbestechcouncil/people/arielkatz/</td><td>10 Ways AI Is Advancing Healthcare</td><td>Though there are challenges to be understood and overcome, AI is significantly improving the healthcare landscape.</td><td>https://www.forbes.com/sites/forbestechcouncil/2023/09/19/10-ways-ai-is-advancing-healthcare/</td><td>2023-09-19T14:00:00Z</td><td>Ariel Katz, CEO and cofounder of H1.\r\n",
       "getty\r\n",
       "The explosion of generative AI in healthcarelargely due to the exponential growth of medical data, a shortage of healthcare providers and advancements in … [+6893 chars]</td></tr><tr><td>List(null, International Business Times)</td><td>AFP News</td><td>Google AI Tool Predicts Danger Of Genetic Mutations</td><td>Researchers at Google DeepMind, the tech giant's artificial intelligence arm, on Tuesday introduced a tool that predicts whether genetic mutations are likely to cause harm, a breakthrough that could help research into rare diseases.</td><td>https://www.ibtimes.com/google-ai-tool-predicts-danger-genetic-mutations-3712362</td><td>2023-09-19T20:57:36Z</td><td>Researchers at Google DeepMind, the tech giant's artificial intelligence arm, on Tuesday introduced a tool that predicts whether genetic mutations are likely to cause harm, a breakthrough that could … [+2437 chars]</td></tr><tr><td>List(null, Forbes)</td><td>Alex Knapp, Forbes Staff, \n",
       " Alex Knapp, Forbes Staff\n",
       " https://www.forbes.com/sites/alexknapp/</td><td>Retinal Imaging And Machine Learning Honored In The 2023 Lasker Awards</td><td>The Lasker Foundation’s annual awards for medical research honor the inventors of optical coherence tomography and more.</td><td>https://www.forbes.com/sites/alexknapp/2023/09/21/retinal-imaging-and-machine-learning-honored-in-the-2023-lasker-awards/</td><td>2023-09-21T13:00:00Z</td><td>Professor James Fujimoto\r\n",
       "Jake Belcher Courtesy The Lasker Foundation\r\n",
       "The Lasker Foundations annual awards for medical research honor the inventors of optical coherence tomography, DeepMinds AlphaFo… [+5081 chars]</td></tr><tr><td>List(null, Bangkok Post)</td><td>AFP</td><td>Google AI tool predicts danger of genetic mutations</td><td>WASHINGTON - Researchers at Google DeepMind, the tech giant's artificial intelligence arm, on Tuesday introduced a tool that predicts whether genetic mutations are likely to cause harm, a breakthrough that could help research into rare diseases.</td><td>https://www.bangkokpost.com/world/2650034/google-ai-tool-predicts-danger-of-genetic-mutations</td><td>2023-09-19T21:45:00Z</td><td>WASHINGTON - Researchers at Google DeepMind, the tech giant's artificial intelligence arm, on Tuesday introduced a tool that predicts whether genetic mutations are likely to cause harm, a breakthroug… [+2450 chars]</td></tr><tr><td>List(null, Japan Today)</td><td>null</td><td>Google AI tool predicts danger of genetic mutations</td><td>Researchers at Google DeepMind, the tech giant's artificial intelligence arm, on Tuesday introduced a tool that predicts whether genetic mutations are likely to cause harm, a breakthrough that could help research into rare diseases. The findings are &quot;ano…</td><td>https://japantoday.com/category/features/health/google-ai-tool-predicts-danger-of-genetic-mutations1</td><td>2023-09-19T21:43:46Z</td><td>Researchers at Google DeepMind, the tech giant's artificial intelligence arm, on Tuesday introduced a tool that predicts whether genetic mutations are likely to cause harm, a breakthrough that could … [+2449 chars]</td></tr><tr><td>List(null, Moneycontrol)</td><td>Lisa Jarvis</td><td>Google DeepMind#39;s AI tool could pinpoint our genetic faults</td><td>Thereâs been plenty of worrying about the damage AI could do, but discoveries like the GoogleÂ tool that can pluck harmful genome mutations from thousands of minute-but-benign onesÂ show how AI can accelerate progress on the most vexing questions about huma…</td><td>https://www.moneycontrol.com/news/opinion/google-deepminds-ai-tool-could-pinpoint-our-genetic-faults-11401241.html</td><td>2023-09-21T04:35:15Z</td><td>Its becoming increasingly clear that scientists are only scratching the surface of what artificial intelligence can teach us about human biology and disease. Case in point: new work by Alphabet's AI … [+4751 chars]</td></tr><tr><td>List(null, CNA)</td><td>null</td><td>Google AI tool predicts danger of genetic mutations</td><td>WASHINGTON: Researchers at Google DeepMind, the tech giant's artificial intelligence arm, on Tuesday (Sep 19) introduced a tool that predicts whether genetic mutations are likely to cause harm, a breakthrough that could help research into rare diseases. The f…</td><td>https://www.channelnewsasia.com/business/google-ai-tool-predicts-danger-genetic-mutations-3784016</td><td>2023-09-19T22:11:01Z</td><td>WASHINGTON: Researchers at Google DeepMind, the tech giant's artificial intelligence arm, on Tuesday (Sep 19) introduced a tool that predicts whether genetic mutations are likely to cause harm, a bre… [+2462 chars]</td></tr><tr><td>List(null, TweakTown)</td><td>Jak Connor</td><td>Google's new AI breakthrough is a 'big step forward' to creating 'life-saving treatments'</td><td>Google's AI firm has designed an artificial intelligence system to detect abnormal genetic mutations that can lead to diseases emerging. Continue reading at TweakTown ></td><td>https://www.tweaktown.com/news/93431/googles-new-ai-breakthrough-is-big-step-forward-to-creating-life-saving-treatments/index.html</td><td>2023-09-25T04:07:03Z</td><td>Google DeepMind has created a new AI system that is capable of detecting genetic mutations that may lead to diseases.\r\n",
       "A new study published in the journal Science details a new AI model called Alpha… [+1822 chars]</td></tr><tr><td>List(new-scientist, New Scientist)</td><td>Michael Le Page</td><td>DeepMind AI can predict if DNA mutations are likely to be harmful</td><td>By working out which small mutations will probably be damaging, DeepMind’s AlphaMissense system could help doctors identify the cause of genetic diseases</td><td>https://www.newscientist.com/article/2392821-deepmind-ai-can-predict-if-dna-mutations-are-likely-to-be-harmful/</td><td>2023-09-19T15:30:21Z</td><td>DeepMind’s AlphaMissense AI can predict whether mutations will affect how proteins such as haemoglobin subunit beta (left) or cystic fibrosis transmembrane conductance regulator (right) will function… [+3548 chars]</td></tr><tr><td>List(null, Forbes)</td><td>Rob Toews, Contributor, \n",
       " Rob Toews, Contributor\n",
       " https://www.forbes.com/sites/robtoews/</td><td>Transformers Revolutionized AI. What Will Replace Them?</td><td>No technology remains dominant forever.</td><td>https://www.forbes.com/sites/robtoews/2023/09/03/transformers-revolutionized-ai-what-will-replace-them/</td><td>2023-09-03T22:00:00Z</td><td>The transformer, today's dominant AI architecture, has interesting parallels to the alien language ... [+] in the 2016 science fiction film \"Arrival.\"\r\n",
       "Paramount Pictures\r\n",
       "If modern artificial intell… [+20795 chars]</td></tr><tr><td>List(null, Livemint)</td><td>mint</td><td>Google’s AlphaFold has a new tool to track genetic mutations</td><td>Last year’s AI breakthrough is showing what it can do for health</td><td>https://www.livemint.com/opinion/online-views/googles-alphafold-has-a-new-tool-to-track-genetic-mutations-11695306099645.html</td><td>2023-09-21T14:51:02Z</td><td>Its becoming clear that scientists are only scratching the surface of what artificial intelligence (AI) can teach us about human biology and disease. Case in point: new work by Alphabets AI subsidiar… [+4506 chars]</td></tr><tr><td>List(null, Biztoc.com)</td><td>ft.com</td><td>DeepMind uses AI to predict harmful genetic mutations in humans</td><td>First example of artificial intelligence helping to accelerate diagnosis of diseases caused by genetic variants</td><td>https://biztoc.com/x/9ceb51271e409210</td><td>2023-09-19T15:42:11Z</td><td>First example of artificial intelligence helping to accelerate diagnosis of diseases caused by genetic variants\r\n",
       "This story appeared on ft.com, .</td></tr><tr><td>List(null, NDTV News)</td><td>null</td><td>Google's New AI Tool Predicts Danger Of Genetic Mutations</td><td>Researchers at Google DeepMind, the tech giant's artificial intelligence arm, on Tuesday introduced a tool that predicts whether genetic mutations are likely to cause harm, a breakthrough that could help research into rare diseases.</td><td>https://www.ndtv.com/science/google-new-ai-tool-predicts-danger-of-genetic-mutations-4405728</td><td>2023-09-20T01:51:26Z</td><td>Washington: Researchers at Google DeepMind, the tech giant's artificial intelligence arm, on Tuesday introduced a tool that predicts whether genetic mutations are likely to cause harm, a breakthrough… [+2573 chars]</td></tr><tr><td>List(null, Gadgets360.com)</td><td>Agence France-Presse</td><td>Google DeepMind AI Tool Predicts Whether Genetic Mutations Are Likely to Cause Harm</td><td>Researchers at Google DeepMind, the tech giant's artificial intelligence arm, on Tuesday introduced a tool that predicts whether genetic mutations are likely to cause harm, a breakthrough that could help research into rare diseases.</td><td>https://www.gadgets360.com/internet/news/google-deepmind-ai-tool-predicts-genetic-mutation-dangers-rare-diseases-research-4406178</td><td>2023-09-20T06:22:52Z</td><td>Researchers at Google DeepMind, the tech giant's artificial intelligence arm, on Tuesday introduced a tool that predicts whether genetic mutations are likely to cause harm, a breakthrough that could … [+2515 chars]</td></tr><tr><td>List(null, Cloudtweaks.com)</td><td>Gary Bernstein</td><td>The Age of AI Benefits: A Global Transformation</td><td>Artificial Intelligence (AI) has emerged as a transformative force that is reshaping industries, improving our daily lives, and pushing the boundaries of human potential. This cutting-edge technology is no longer confined to science fiction; it has become an …</td><td>https://cloudtweaks.com/2023/09/age-ai-benefits-global-transformation/</td><td>2023-09-05T10:07:40Z</td><td>Artificial Intelligence (AI) has emerged as a transformative force that is reshaping industries, improving our daily lives, and pushing the boundaries of human potential. This cutting-edge technology… [+7082 chars]</td></tr><tr><td>List(null, Cryptopolitan)</td><td>John Palmer</td><td>Deep Genomics Unveils Groundbreaking AI Foundation Model for RNA Therapeutics</td><td>Deep Genomics, a pioneering AI-driven drug development company, has introduced an innovative AI foundation model called BigRNA. This transformative model, based on deep learning, represents a significant leap forward in the discovery of RNA biology and therap…</td><td>https://www.cryptopolitan.com/deep-genomics-unveils-ai-foundation/</td><td>2023-09-27T14:11:06Z</td><td><ul><li>Deep Genomics introduces BigRNA, a groundbreaking AI foundation model for RNA therapeutics, with immense potential for revolutionizing drug discovery.</li><li>BigRNA’s versatility, extensive … [+5733 chars]</td></tr><tr><td>List(null, Dataversity.net)</td><td>Paramita (Guha) Ghosh</td><td>Machine Learning Use Cases for Data Management</td><td>In 2023, machine learning (ML) is a powerful enabler for Data Management, revolutionizing the way organizations handle and analyze vast amounts of data. ML, a subset of artificial intelligence (AI), offers various approaches to tackle Data Management challeng…</td><td>https://www.dataversity.net/machine-learning-use-cases-data-management/</td><td>2023-08-31T07:35:00Z</td><td>In 2023, machine learning (ML) is a powerful enabler for Data Management, revolutionizing the way organizations handle and analyze vast amounts of data. ML, a subset of artificial intelligence (AI), … [+14744 chars]</td></tr><tr><td>List(null, GlobeNewswire)</td><td>XCELLENT INSIGHTS LLP</td><td>Global Precision Medicine Market Size to Reach USD 148.2 Billion in 2032 | Xcellent Insights</td><td>Pune, Sept. 26, 2023 (GLOBE NEWSWIRE) -- The Global Precision Medicine Market\r\n",
       " has witnessed remarkable growth, reaching a size of approximately USD 57.69 billion in 2022, and is projected to further expand to USD 110.9 billion with a robust CAGR of 11.5% du…</td><td>https://www.globenewswire.com/news-release/2023/09/25/2749076/0/en/Global-Precision-Medicine-Market-Size-to-Reach-USD-148-2-Billion-in-2032-Xcellent-Insights.html</td><td>2023-09-25T23:02:00Z</td><td>Pune, Sept. 26, 2023 (GLOBE NEWSWIRE) -- The Global Precision Medicine Market\r\n",
       " has witnessed remarkable growth, reaching a size of approximately USD 57.69 billion in 2022, and is projected to furthe… [+10510 chars]</td></tr><tr><td>List(the-times-of-india, The Times of India)</td><td>The Feed</td><td>Mark Zuckerberg and Dr Priscilla Chan aim to eradicate all diseases by 2100</td><td>Mark Zuckerberg and his wife, Priscilla Chan, plan to eradicate all human diseases by 2100 through their foundation, The Chan Zuckerberg Initiative. They aim to create a computing system that utilises artificial intelligence (AI) to study cell behavior and de…</td><td>https://economictimes.indiatimes.com/news/new-updates/mark-zuckerberg-and-his-wife-aim-to-eradicate-all-diseases-by-2100/articleshow/103958277.cms</td><td>2023-09-26T10:09:23Z</td><td>Mark Zuckerberg and his wife Dr. Priscilla Chan plan to eradicate all human diseases by 2100 through their foundation, The Chan Zuckerberg Initiative (CZI). The foundation intends to create a special… [+2691 chars]</td></tr><tr><td>List(null, Americanthinker.com)</td><td>null</td><td>Look at all the ways AI is changing transportation and health care</td><td>Artificial intelligence, now subject to congressional scrutiny and billionaire powwows in recent news stories, changing everything, it seems, and in ways that may surprise us.\r\n",
       "\r\n",
       "Perhaps the most noticeable way that AI will change how we do things&nb...</td><td>https://www.americanthinker.com/blog/2023/09/ai_is_changing_transportation_and_healthcare.html</td><td>2023-09-16T05:00:00Z</td><td>Artificial intelligence, now subject to congressional scrutiny and billionaire powwows in recent news stories, changing everything, it seems, and in ways that may surprise us.\r\n",
       "Perhaps the most notic… [+5461 chars]</td></tr><tr><td>List(null, Marketscreener.com)</td><td>GlobeNewswire</td><td>Valo Health and Novo Nordisk to collaborate to discover and develop novel treatments for cardiometabolic diseases using human data and artificial intelligence</td><td>(marketscreener.com) Collaboration will apply Valo’s Opal Computational Platform™ and real-world patient dataset to enable the discovery and development of novel cardiometabolic drug programmes Novo Nordisk licenses three preclinical drug discovery programmes…</td><td>https://www.marketscreener.com/quote/stock/NOVO-NORDISK-AS-39433525/news/Valo-Health-and-Novo-Nordisk-to-collaborate-to-discover-and-develop-novel-treatments-for-cardiometab-44914731/</td><td>2023-09-25T12:02:02Z</td><td>Collaboration will apply Valos Opal Computational Platform and real-world patient dataset to enable the discovery and development of novel cardiometabolic drug programmes\r\n",
       "Novo Nordisk licenses three… [+6429 chars]</td></tr><tr><td>List(null, GlobeNewswire)</td><td>Novo Nordisk A/S</td><td>Valo Health and Novo Nordisk to collaborate to discover and develop novel treatments for cardiometabolic diseases using human data and artificial intelligence</td><td>Collaboration will apply Valo’s Opal Computational Platform™ and real-world patient dataset to enable the discovery and development of novel cardiometabolic drug programmes</td><td>https://www.globenewswire.com/news-release/2023/09/25/2748601/0/en/Valo-Health-and-Novo-Nordisk-to-collaborate-to-discover-and-develop-novel-treatments-for-cardiometabolic-diseases-using-human-data-and-artificial-intelligence.html</td><td>2023-09-25T12:00:00Z</td><td>Collaboration will apply Valos Opal Computational Platform and real-world patient dataset to enable the discovery and development of novel cardiometabolic drug programmes\r\n",
       "Novo Nordisk licenses three… [+5554 chars]</td></tr><tr><td>List(null, GlobeNewswire)</td><td>ReportLinker</td><td>Global Next-Generation Sequencing on Drug Development Market</td><td>Report Scope:. The scope of this report includes NGS technologies, applications, industries, initiatives, patents and companies. The markets for NGS in drug development are given for 2020, 2021, 2022, 2023 and 2028. Report Scope:. The scope of this report inc…</td><td>https://www.globenewswire.com/news-release/2023/09/04/2736570/0/en/Global-Next-Generation-Sequencing-on-Drug-Development-Market.html</td><td>2023-09-04T10:09:00Z</td><td>New York, Sept. 04, 2023 (GLOBE NEWSWIRE) -- Reportlinker.com announces the release of the report \"Global Next-Generation Sequencing on Drug Development Market\" - https://www.reportlinker.com/p064890… [+5370 chars]</td></tr><tr><td>List(null, The Conversation Africa)</td><td>Joseph Guhlin, Postdoctoral Researcher with Genomics Aotearoa, University of Otago, Peter Dearden, Professor and Director of Genomics Aotearoa, University of Otago</td><td>How gene mapping almost all remaining kākāpō will help NZ’s rare night parrot survive</td><td>Kākāpō are prone to disease and infertility. Only intensive species management has saved the flightless parrots from extinction. Genome data now reveals the genetic reasons behind these problems.</td><td>https://theconversation.com/how-gene-mapping-almost-all-remaining-kakapo-will-help-nzs-rare-night-parrot-survive-212451</td><td>2023-08-30T04:13:18Z</td><td>Shutterstock/FeatherStalker Don\r\n",
       "The genetic mapping of almost the entire kākāpō population has shed new light on specific traits that will help conservation biologists in their efforts to save the c… [+5858 chars]</td></tr><tr><td>List(null, Marketscreener.com)</td><td>GlobeNewswire</td><td>Gain Therapeutics to Present at the Cambridge Healthtech Institute's 2nd Annual Neurodegeneration Targets Conference</td><td>(marketscreener.com) BETHESDA, Md., Sept. 20, 2023 -- Gain Therapeutics, Inc., , a biotechnology company leading the discovery and development of the next generation of allosteric small molecule therapies, today announced that Matthias Alder, Chief Executive …</td><td>https://www.marketscreener.com/quote/stock/GAIN-THERAPEUTICS-INC-120780704/news/Gain-Therapeutics-to-Present-at-the-Cambridge-Healthtech-Institute-s-2nd-Annual-Neurodegeneration-Ta-44889216/</td><td>2023-09-20T20:06:02Z</td><td>BETHESDA, Md., Sept. 20, 2023 (GLOBE NEWSWIRE) -- Gain Therapeutics, Inc., (Nasdaq: GANX) (Gain, or the Company), a biotechnology company leading the discovery and development of the next generation … [+6995 chars]</td></tr><tr><td>List(null, GlobeNewswire)</td><td>Gain Therapeutics, Inc.</td><td>Gain Therapeutics to Present at the Cambridge Healthtech Institute’s 2nd Annual Neurodegeneration Targets Conference</td><td>BETHESDA, Md., Sept. 20, 2023 (GLOBE NEWSWIRE) -- Gain Therapeutics, Inc., (Nasdaq: GANX) (“Gain”, or the “Company”), a biotechnology company leading the discovery and development of the next generation of allosteric small molecule therapies, today announced …</td><td>https://www.globenewswire.com/news-release/2023/09/20/2746852/0/en/Gain-Therapeutics-to-Present-at-the-Cambridge-Healthtech-Institute-s-2nd-Annual-Neurodegeneration-Targets-Conference.html</td><td>2023-09-20T20:05:00Z</td><td>BETHESDA, Md., Sept. 20, 2023 (GLOBE NEWSWIRE) -- Gain Therapeutics, Inc., (Nasdaq: GANX) (Gain, or the Company), a biotechnology company leading the discovery and development of the next generation … [+6995 chars]</td></tr><tr><td>List(null, GlobeNewswire)</td><td>Research and Markets</td><td>Unlocking the Future of Gene Fusion Testing: Advancements Project Market to Reach $897.6 Million by 2033</td><td>Dublin, Aug. 30, 2023 (GLOBE NEWSWIRE) -- The \"Gene Fusion Testing Market - A Global and Regional Analysis: Focus on by Category, Technology, Indication, End User, and Region - Analysis and Forecast, 2023-2033\" report has been added to ResearchAndMarkets.com'…</td><td>https://www.globenewswire.com/news-release/2023/08/30/2734481/28124/en/Unlocking-the-Future-of-Gene-Fusion-Testing-Advancements-Project-Market-to-Reach-897-6-Million-by-2033.html</td><td>2023-08-30T13:38:00Z</td><td>Dublin, Aug. 30, 2023 (GLOBE NEWSWIRE) -- The \"Gene Fusion Testing Market - A Global and Regional Analysis: Focus on by Category, Technology, Indication, End User, and Region - Analysis and Forecast,… [+5035 chars]</td></tr><tr><td>List(null, GlobeNewswire)</td><td>Precedence Research</td><td>Artificial Intelligence (AI) in Cancer Diagnostics Market to Surpass USD 2,084.34 Million by 2032</td><td>The global artificial intelligence (AI) in cancer diagnostics market was valued at USD 892.23 million in 2022 and is estimated to surpass around USD 2,084.34 million by 2032, growing at a healthy CAGR of 9.35% from 2023 to 2032. The global artificial intellig…</td><td>https://www.globenewswire.com/news-release/2023/08/29/2733677/0/en/Artificial-Intelligence-AI-in-Cancer-Diagnostics-Market-to-Surpass-USD-2-084-34-Million-by-2032.html</td><td>2023-08-29T15:30:00Z</td><td>Ottawa, Aug. 29, 2023 (GLOBE NEWSWIRE) -- The global artificial intelligence (AI) in cancer diagnostics market revenue is projected to reach around USD 1,466.72 million by 2029, a Study published by … [+17038 chars]</td></tr><tr><td>List(null, Marketscreener.com)</td><td>GlobeNewswire</td><td>Gain Therapeutics Receives Approval to Commence Phase 1 Clinical Study of GT-02287 from the Human Research Ethics Committee (HREC) in Australia</td><td>(marketscreener.com)                 First drug candidate identified with Gain’s proprietary computational drug discovery platform SEE-Tx® to enter clinical development phase BETHESDA, Md., Sept. 12, 2023 -- Gain Therapeutics, Inc. , a biotechnology company l…</td><td>https://www.marketscreener.com/quote/stock/GAIN-THERAPEUTICS-INC-120780704/news/Gain-Therapeutics-Receives-Approval-to-Commence-Phase-1-Clinical-Study-of-GT-02287-from-the-Human-Re-44824294/</td><td>2023-09-12T13:26:02Z</td><td>First drug candidate identified with Gains proprietary computational drug discovery platform SEE-Tx® to enter clinical development phase\r\n",
       "BETHESDA, Md., Sept. 12, 2023 (GLOBE NEWSWIRE) -- Gain Therap… [+7640 chars]</td></tr><tr><td>List(null, GlobeNewswire)</td><td>Gain Therapeutics, Inc.</td><td>Gain Therapeutics Receives Approval to Commence Phase 1 Clinical Study of GT-02287 from the Human Research Ethics Committee (HREC) in Australia</td><td>First drug candidate identified with Gain’s proprietary computational drug discovery platform SEE-Tx® to enter clinical development phase...</td><td>https://www.globenewswire.com/news-release/2023/09/12/2741790/0/en/Gain-Therapeutics-Receives-Approval-to-Commence-Phase-1-Clinical-Study-of-GT-02287-from-the-Human-Research-Ethics-Committee-HREC-in-Australia.html</td><td>2023-09-12T13:25:00Z</td><td>First drug candidate identified with Gains proprietary computational drug discovery platform SEE-Tx® to enter clinical development phase\r\n",
       "BETHESDA, Md., Sept. 12, 2023 (GLOBE NEWSWIRE) -- Gain Therap… [+7640 chars]</td></tr><tr><td>List(null, Phys.Org)</td><td>Angela Nicoletti</td><td>Matchmaking (with AI) to help proteins pair up</td><td>Successful matchmaking with protein molecules is like all other kinds of matchmaking: The two must click for it to work.</td><td>https://phys.org/news/2023-09-matchmaking-ai-proteins-pair.html</td><td>2023-09-14T14:20:04Z</td><td>Successful matchmaking with protein molecules is like all other kinds of matchmaking: The two must click for it to work.\r\n",
       "Except for proteinsthe estimated 200 million unique molecular building blocks… [+6085 chars]</td></tr><tr><td>List(null, National Institutes of Health)</td><td>null</td><td>Notice of Upcoming Prize Competition Announcement for the Complement-Animal Research in Experimentation (Complement-ARIE) Challenge</td><td>NIH Funding Opportunities and Notices in the NIH Guide for Grants and Contracts: Notice of Upcoming Prize Competition Announcement for the Complement-Animal Research in Experimentation (Complement-ARIE) Challenge NOT-RM-23-025. RMOD</td><td>https://grants.nih.gov/grants/guide/notice-files/NOT-RM-23-025.html</td><td>2023-09-20T08:36:17Z</td><td>The NIH Common Fund is beginning a strategic planning process for a potential Complement-Animal Research In Experimentation (Complement-ARIE) program to catalyze the development, standardization, val… [+12503 chars]</td></tr><tr><td>List(null, PRNewswire)</td><td>null</td><td>From AI to Patient Advocacy: The Comprehensive Orphan Drugs and Rare Diseases Conference: London, United Kingdom - October 9-10, 2023</td><td>DUBLIN, Sept. 22, 2023 /PRNewswire/ -- ResearchAndMarkets.com announces the 4th Annual Orphan Drugs and Rare Diseases Conference, scheduled for October 9-10 in London, UK. This prestigious event offers an in-depth exploration into the ever-evolving world of o…</td><td>https://www.prnewswire.com/news-releases/from-ai-to-patient-advocacy-the-comprehensive-orphan-drugs-and-rare-diseases-conference-london-united-kingdom---october-9-10-2023-301936108.html</td><td>2023-09-22T23:45:00Z</td><td>DUBLIN, Sept. 22, 2023 /PRNewswire/ -- ResearchAndMarkets.com announces the 4th Annual Orphan Drugs and Rare Diseases Conference, scheduled for October 9-10 in London, UK. This prestigious event offe… [+4959 chars]</td></tr><tr><td>List(null, Marketscreener.com)</td><td>GlobeNewswire</td><td>Gain Therapeutics Presents New Preclinical Data Demonstrating a Reduction of Plasma Neurodegeneration Biomarker NfL after Administration of its Drug Candidate GT-02287 in GBA1 Parkinson's Disease Model</td><td>(marketscreener.com) Treatment with GT-02287 also restored glucocerebrosidase enzymatic function, reduced aggregated α-synuclein, neuroinflammation and neuronal death, increased dopamine levels and improved motor function Data presented at the International C…</td><td>https://www.marketscreener.com/quote/stock/GAIN-THERAPEUTICS-INC-120780704/news/Gain-Therapeutics-Presents-New-Preclinical-Data-Demonstrating-a-Reduction-of-Plasma-Neurodegeneratio-44710839/</td><td>2023-08-28T11:01:02Z</td><td>Treatment with GT-02287 also restored glucocerebrosidase (GCase) enzymatic function, reduced aggregated -synuclein, neuroinflammation and neuronal death, increased dopamine levels and improved motor … [+8782 chars]</td></tr><tr><td>List(null, GlobeNewswire)</td><td>Gain Therapeutics, Inc.</td><td>Gain Therapeutics Presents New Preclinical Data Demonstrating a Reduction of Plasma Neurodegeneration Biomarker NfL after Administration of its Drug Candidate GT-02287 in GBA1 Parkinson’s Disease Model</td><td>Treatment with GT-02287 also restored glucocerebrosidase (GCase) enzymatic function, reduced aggregated α-synuclein, neuroinflammation and neuronal death, increased dopamine levels and improved motor function</td><td>https://www.globenewswire.com/news-release/2023/08/28/2732467/0/en/Gain-Therapeutics-Presents-New-Preclinical-Data-Demonstrating-a-Reduction-of-Plasma-Neurodegeneration-Biomarker-NfL-after-Administration-of-its-Drug-Candidate-GT-02287-in-GBA1-Park.html</td><td>2023-08-28T11:00:00Z</td><td>Treatment with GT-02287 also restored glucocerebrosidase (GCase) enzymatic function, reduced aggregated -synuclein, neuroinflammation and neuronal death, increased dopamine levels and improved motor … [+8782 chars]</td></tr><tr><td>List(null, GlobeNewswire)</td><td>Transparency Market Research</td><td>Clinical Trials Market to Exceed USD 83.5 billion by 2030, Garnering 5.4% CAGR – Exclusive Report by Transparency Market Research</td><td>The clinical trials market is expanding, driven by increased drug development activities and advancements in trial design and technology. The clinical trials market is expanding, driven by increased drug development activities and advancements in trial design…</td><td>https://www.globenewswire.com/news-release/2023/09/27/2750351/32656/en/Clinical-Trials-Market-to-Exceed-USD-83-5-billion-by-2030-Garnering-5-4-CAGR-Exclusive-Report-by-Transparency-Market-Research.html</td><td>2023-09-27T12:13:00Z</td><td>Wilmington, Delaware, United States, Sept. 27, 2023 (GLOBE NEWSWIRE) -- Transparency Market Research Inc. - The clinical trials market was estimated to have acquired US$ 46.7 billion in 2019. It is a… [+7821 chars]</td></tr><tr><td>List(null, Slashdot.org)</td><td>feedfeeder</td><td>DeepMind’s New AI Can Predict Genetic Diseases</td><td>AlphaMissense, a new model from Google&rsquo;s artificial intelligence team, analyzes the effects of DNA mutations and will accelerate research into rare diseases.</td><td>https://slashdot.org/firehose.pl?op=view&amp;id=171854934</td><td>2023-09-19T14:52:29Z</td><td>The Fine Print: The following comments are owned by whoever posted them. We are not responsible for them in any way.</td></tr><tr><td>List(null, Plos.org)</td><td>Weiguang Liu, Rafael Delalibera Rodrigues, Jianglong Yan, Yu-tao Zhu, Everson José de Freitas Pereira, Gen Li, Qiusheng Zheng, Liang Zhao</td><td>Complex network-based classification of radiographic images for COVID-19 diagnosis</td><td>In this work, we present a network-based technique for chest X-ray image classification to help the diagnosis and prognosis of patients with COVID-19. From visual inspection, we perceive that healthy and COVID-19 chest radiographic images present different le…</td><td>https://journals.plos.org/plosone/article?id=10.1371/journal.pone.0290968</td><td>2023-09-01T14:00:00Z</td><td>Abstract\r\n",
       "In this work, we present a network-based technique for chest X-ray image classification to help the diagnosis and prognosis of patients with COVID-19. From visual inspection, we perceive th… [+72655 chars]</td></tr><tr><td>List(null, National Institutes of Health)</td><td>null</td><td>Fc-Dependent Mechanisms of Antibody-Mediated Killing (R01 Clinical Trial Not Allowed)</td><td>Funding Opportunity RFA-AI-23-054 from the NIH Guide for Grants and Contracts. The purpose of this notice of funding opportunity (NOFO) is to support basic research that will elucidate mechanisms of Fc-mediated antibody functions, including antibody-dependent…</td><td>https://grants.nih.gov/grants/guide/rfa-files/RFA-AI-23-054.html</td><td>2023-09-26T08:17:39Z</td><td>Participating Organization(s) \r\n",
       "National Institutes of Health (NIH)\r\n",
       "Components of Participating Organizations \r\n",
       "National Institute of Allergy and Infectious Diseases (NIAID) \r\n",
       "Funding Opportunity Ti… [+56961 chars]</td></tr><tr><td>List(null, Mercola.com)</td><td>communities@mercola.com (Dr. Joseph Mercola)</td><td>'ChatGPT' for Biology? A Dictatorship of Engineers</td><td>Hopefully, [the ultimate search engine Google was building] would never have a bug like HAL did where he killed the occupants of the spaceship. ~ Sergey Brin (NewsHour with Jim Lehrer, November 2002)1\r\n",
       "\n",
       "\n",
       "\n",
       "As if the ChatGPT craze weren’t bad enough, the $$$$$ …</td><td>https://articles.mercola.com/sites/articles/archive/2023/09/01/chatgpt-for-biology.aspx</td><td>2023-09-01T00:00:00Z</td><td>Mercola proudly supports these charities and organizations. View All \r\n",
       "Disclaimer: The entire contents of this website are based upon the opinions of Dr. Mercola, unless otherwise noted. Individual a… [+1007 chars]</td></tr><tr><td>List(null, Plos.org)</td><td>Zeleke Tesema, Belay Deribe, Mekonnen Tilahun, Alemu Kefale, Getachew Worku Alebachew, Kefyalew Alemayehu, Tesfaye Getachew, Damitie Kebede, Mengistie Taye, Solomon Gizaw</td><td>Estimation of crossbreeding and genetic parameters for reproductive traits of Boer x Central Highland goats in Ethiopia</td><td>Additive genetic and non-additive parameters for reproductive traits of Boer x Central Highland goats were estimated. Pedigree and performance records comprised of Central Highland and their crosses with Boer goats were collected from 2009 to 2018 in the Siri…</td><td>https://journals.plos.org/plosone/article?id=10.1371/journal.pone.0291996</td><td>2023-09-27T14:00:00Z</td><td>Ethics statement\r\n",
       "Prior to the study, data collection formats and procedures were reviewed and approved by the Researchers of Amhara Regional Agricultural Research Institute, Ethiopia (number Ls/Ru-3… [+7926 chars]</td></tr><tr><td>List(null, The BMJ)</td><td>Wang, S., Chen, R., Wang, S., Kong, D., Cao, R., Lin, C., Luo, L., Huang, J., Zhang, Q., Yu, H., Ding, Y. L.</td><td>Comparative study on risk prediction model of type 2 diabetes based on machine learning theory: a cross-sectional study</td><td>Objectives To compare the prediction effects of six models based on machine learning theories, which can provide a methodological reference for predicting the risk of type 2 diabetes mellitus (T2DM).\n",
       "\n",
       "Setting and participants This study was based on the monit…</td><td>https://bmjopen.bmj.com/content/13/8/e069018?rss=1</td><td>2023-08-29T15:35:18Z</td><td>Introduction\r\n",
       "Diabetes mellitus (DM) is a metabolic disease characterised by a disorder of blood glucose metabolism, which is one of the major public health problems in the 21st century.1 In 2021, th… [+12451 chars]</td></tr><tr><td>List(null, Plos.org)</td><td>Ricki Lewis, PhD</td><td>Why I’m Not Worried that ChatGTP Will Replace Me as a Biology Textbook Author</td><td>I just used ChatGTP for the first time. Initially, I was concerned about my future as the chatbot near-instantaneously answered my queries…\n",
       "The post Why I’m Not Worried that ChatGTP Will Replace Me as a Biology Textbook Author appeared first on DNA Science.</td><td>https://dnascience.plos.org/2023/09/07/why-im-not-worried-that-chatgtp-will-replace-me-as-a-biology-textbook-author/</td><td>2023-09-07T18:45:31Z</td><td>I just used ChatGTP for the first time. Initially, I was concerned about my future as the chatbot near-instantaneously answered my queries on increasingly obscure terms from my field, genetics. Stump… [+11215 chars]</td></tr><tr><td>List(null, IPWatchdog.com)</td><td>Ben Hsing</td><td>Artificial Intelligence in Drug Development: Patent Considerations</td><td>Artificial intelligence (AI) is a field of computer science that creates software or models that mimic human reasoning or inference. Machine learning is a subset of AI which uses algorithms trained on massive amounts of data to allow the computer to learn wit…</td><td>https://ipwatchdog.com/2023/09/25/artificial-intelligence-drug-development-patent-considerations/id=167125/</td><td>2023-09-25T12:15:22Z</td><td>The transformative potential of AI, encompassing machine learning and generative capabilities, holds great promise for revolutionizing drug discovery and development. This promising horizon is accomp… [+16440 chars]</td></tr><tr><td>List(null, Plos.org)</td><td>Antonio Charlys da Costa, Maria C. Mendes-Correa, Tania Regina Tozetto-Mendoza, Lucy S. Villas-Boas, Anderson Vicente de Paula, Heuder Gustavo Oliveira Paiao, Fabio E. Leal, Noely E. Ferreira, Layla Honorato, Elcio Leal, Giuliano Grandi, Vanessa dos Santos Morais, Erika R. Manuli, Ester C. Sabino, Steven S. Witkin</td><td>Detailed characterization of Redondovirus in saliva of SARS-CoV-2-infected individuals in Sao Paulo, Brazil</td><td>Background Redondovirus (ReDoV) is a DNA virus present in the respiratory tract of many healthy individuals. Since SARS-CoV-2, the virus responsible for COVID-19, also primarily infects the same site, we evaluated whether ReDoV was present at increased freque…</td><td>https://journals.plos.org/plosone/article?id=10.1371/journal.pone.0291027</td><td>2023-08-31T14:00:00Z</td><td>Abstract\r\n",
       "Background\r\n",
       "Redondovirus (ReDoV) is a DNA virus present in the respiratory tract of many healthy individuals. Since SARS-CoV-2, the virus responsible for COVID-19, also primarily infects th… [+24787 chars]</td></tr><tr><td>List(null, Plos.org)</td><td>Zhaohong Huang, Xinyue Cui, Yuhao Xia, Kailong Zhao, Guijun Zhang</td><td>Pathfinder: Protein folding pathway prediction based on conformational sampling</td><td>Author summary The study of protein folding mechanism is an important part of basic science and has vital significance in many aspects. The key to the study of protein folding mechanism is to capture the conformational changes from the fast protein folding pr…</td><td>https://journals.plos.org/ploscompbiol/article?id=10.1371/journal.pcbi.1011438</td><td>2023-09-11T14:00:00Z</td><td>Abstract\r\n",
       "The study of protein folding mechanism is a challenge in molecular biology, which is of great significance for revealing the movement rules of biological macromolecules, understanding the p… [+51456 chars]</td></tr><tr><td>List(null, Plos.org)</td><td>Bayarbaatar Amgalan, Chi-Ping Day, Teresa M. Przytycka</td><td>Exploring tumor-normal cross-talk with TranNet: Role of the environment in tumor progression</td><td>Author summary In oncological studies, control samples are usually biopsied from tumor-adjacent normal tissue. However, there is an increasing understanding that such samples represent a state that is intermediate between tumor and normal, and is influenced b…</td><td>https://journals.plos.org/ploscompbiol/article?id=10.1371/journal.pcbi.1011472</td><td>2023-09-18T14:00:00Z</td><td>Abstract\r\n",
       "There is a growing awareness that tumor-adjacent normal tissues used as control samples in cancer studies do not represent fully healthy tissues. Instead, they are intermediates between hea… [+61681 chars]</td></tr><tr><td>List(null, Plos.org)</td><td>Shotaro Asano, Ryo Asaoka, Akio Oishi, Yuri Fujino, Hiroshi Murata, Keiko Azuma, Manabu Miyata, Ryo Obata, Tatsuya Inoue</td><td>Investigating the clinical validity of the guided progression analysis definition with 10–2 visual field in retinitis pigmentosa</td><td>Purpose To investigate the clinical validity of the Guided Progression Analysis definition (GPAD) and cluster-based definition (CBD) with the Humphrey Field Analyzer (HFA) 10–2 test in retinitis pigmentosa (RP).   Methods Ten non-progressive RP visual fields …</td><td>https://journals.plos.org/plosone/article?id=10.1371/journal.pone.0291208</td><td>2023-09-08T14:00:00Z</td><td>Abstract\r\n",
       "Purpose\r\n",
       "To investigate the clinical validity of the Guided Progression Analysis definition (GPAD) and cluster-based definition (CBD) with the Humphrey Field Analyzer (HFA) 102 test in reti… [+32571 chars]</td></tr></tbody></table></div>"
      ]
     },
     "metadata": {
      "application/vnd.databricks.v1+output": {
       "addedWidgets": {},
       "aggData": [],
       "aggError": "",
       "aggOverflow": false,
       "aggSchema": [],
       "aggSeriesLimitReached": false,
       "aggType": "",
       "arguments": {},
       "columnCustomDisplayInfos": {},
       "data": [
        [
         [
          "wired",
          "Wired"
         ],
         "Amit Katwala",
         "DeepMind’s New AI Can Predict Genetic Diseases",
         "AlphaMissense, a new model from Google’s artificial intelligence team, analyzes the effects of DNA mutations and will accelerate research into rare diseases.",
         "https://www.wired.com/story/deepmind-ai-alphamissense-genetics-rare-diseases/",
         "2023-09-19T14:35:23Z",
         "About 10 years ago, iga Avsec was a PhD physics student who found himself taking a crash course in genomics via a university module on machine learning. He was soon working in a lab that studied rare… [+2913 chars]"
        ],
        [
         [
          "the-next-web",
          "The Next Web"
         ],
         "Ioanna Lykiardopoulou",
         "DeepMind’s new AI tool can predict genetic diseases",
         "Google DeepMind has unveiled its novel AI tool that can predict whether DNA mutations are likely to cause genetic diseases. The ambition is that it will  facilitate faster diagnosis and development of life-saving treatments. The new AI model, called AlphaMiss…",
         "https://thenextweb.com/news/deepminds-ai-tool-predicts-genetic-diseases",
         "2023-09-20T11:44:36Z",
         "Google DeepMind has unveiled its novel AI tool that can predict whether DNA mutations are likely to cause genetic diseases. The ambition is that it will  facilitate faster diagnosis and development o… [+2103 chars]"
        ],
        [
         [
          null,
          "ReadWrite"
         ],
         "Muhammad Sohaib Saleem",
         "From Sci-Fi to Reality: The Roadmap of AI Development and Its Future Potential",
         "Artificial Intelligence has come a long way since its conceptualization in science fiction. What was once an imaginative idea is […]\nThe post From Sci-Fi to Reality: The Roadmap of AI Development and Its Future Potential appeared first on ReadWrite.",
         "https://readwrite.com/from-sci-fi-to-reality-the-roadmap-of-ai-development-and-its-future-potential/",
         "2023-09-25T20:00:51Z",
         "Artificial Intelligence has come a long way since its conceptualization in science fiction. What was once an imaginative idea is now a reality, revolutionizing various aspects of our lives. From self… [+8873 chars]"
        ],
        [
         [
          null,
          "Phys.Org"
         ],
         "Science X",
         "Google AI tool predicts danger of genetic mutations",
         "Researchers at Google DeepMind, the tech giant's artificial intelligence arm, on Tuesday introduced a tool that predicts whether genetic mutations are likely to cause harm, a breakthrough that could help research into rare diseases.",
         "https://phys.org/news/2023-09-google-ai-tool-danger-genetic.html",
         "2023-09-20T08:35:47Z",
         "Researchers at Google DeepMind, the tech giant's artificial intelligence arm, on Tuesday introduced a tool that predicts whether genetic mutations are likely to cause harm, a breakthrough that could … [+3103 chars]"
        ],
        [
         [
          null,
          "Euronews"
         ],
         null,
         "What’s AlphaMissense? This new Google DeepMind tool analyses genetic mutations",
         "AlphaMissense promises to predict how dangerous a genetic mutation is.",
         "https://www.euronews.com/next/2023/09/21/whats-alphamissense-this-new-google-deepmind-tool-analyses-genetic-mutations",
         "2023-09-21T14:02:13Z",
         "AlphaMissense promises to predict how dangerous a genetic mutation is.\r\n Researchers at DeepMind, one of Googles artificial intelligence (AI) companies, presented a new tool that predicts whether or … [+2308 chars]"
        ],
        [
         [
          null,
          "Wired.co.uk"
         ],
         "Amit Katwala",
         "DeepMind’s New AI Can Predict Genetic Diseases",
         "AlphaMissense, a new model from Google’s artificial intelligence team, analyzes the effects of DNA mutations and will accelerate research into rare diseases.",
         "https://www.wired.co.uk/article/deepmind-ai-alphamissense-genetics-rare-diseases",
         "2023-09-19T14:33:25Z",
         "About 10 years ago, iga Avsec was a PhD physics student who found himself taking a crash course in genomics via a university module on machine learning. He was soon working in a lab that studied rare… [+4707 chars]"
        ],
        [
         [
          null,
          "Singularity Hub"
         ],
         "Shelly Fan",
         "DeepMind AI Hunts Down the DNA Mutations Behind Genetic Disease",
         "Proteins are like Spider-Man in the multiverse. The underlying story is the same: each building block of a protein is based on a three-letter DNA code. However, change one letter, and the same protein becomes a different version of itself. If we’re lucky, som…",
         "https://singularityhub.com/2023/09/21/deepmind-ai-hunts-down-the-dna-mutations-behind-genetic-disease/",
         "2023-09-21T20:27:27Z",
         "Proteins are like Spider-Man in the multiverse.\r\nThe underlying story is the same: each building block of a protein is based on a three-letter DNA code. However, change one letter, and the same prote… [+6771 chars]"
        ],
        [
         [
          null,
          "Forbes"
         ],
         "Steve Nouri, Forbes Councils Member, \n Steve Nouri, Forbes Councils Member\n https://www.forbes.com/sites/forbestechcouncil/people/stevenouri/",
         "Generative AI Drugs Are Coming",
         "The merging of deep, quality data and expertise with increasingly sophisticated AI capabilities has the potential to truly shift the future of medicine.",
         "https://www.forbes.com/sites/forbestechcouncil/2023/09/05/generative-ai-drugs-are-coming/",
         "2023-09-05T11:45:00Z",
         "Steve is the Founder of GenAI Works and AI4Diversity. He is an AI expert, tech evangelist, and influencer.\r\ngetty\r\nJust as ChatGPT is turning text directions into new written materials, or just as DA… [+6523 chars]"
        ],
        [
         [
          null,
          "Forbes"
         ],
         "Ariel Katz, Forbes Councils Member, \n Ariel Katz, Forbes Councils Member\n https://www.forbes.com/sites/forbestechcouncil/people/arielkatz/",
         "10 Ways AI Is Advancing Healthcare",
         "Though there are challenges to be understood and overcome, AI is significantly improving the healthcare landscape.",
         "https://www.forbes.com/sites/forbestechcouncil/2023/09/19/10-ways-ai-is-advancing-healthcare/",
         "2023-09-19T14:00:00Z",
         "Ariel Katz, CEO and cofounder of H1.\r\ngetty\r\nThe explosion of generative AI in healthcarelargely due to the exponential growth of medical data, a shortage of healthcare providers and advancements in … [+6893 chars]"
        ],
        [
         [
          null,
          "International Business Times"
         ],
         "AFP News",
         "Google AI Tool Predicts Danger Of Genetic Mutations",
         "Researchers at Google DeepMind, the tech giant's artificial intelligence arm, on Tuesday introduced a tool that predicts whether genetic mutations are likely to cause harm, a breakthrough that could help research into rare diseases.",
         "https://www.ibtimes.com/google-ai-tool-predicts-danger-genetic-mutations-3712362",
         "2023-09-19T20:57:36Z",
         "Researchers at Google DeepMind, the tech giant's artificial intelligence arm, on Tuesday introduced a tool that predicts whether genetic mutations are likely to cause harm, a breakthrough that could … [+2437 chars]"
        ],
        [
         [
          null,
          "Forbes"
         ],
         "Alex Knapp, Forbes Staff, \n Alex Knapp, Forbes Staff\n https://www.forbes.com/sites/alexknapp/",
         "Retinal Imaging And Machine Learning Honored In The 2023 Lasker Awards",
         "The Lasker Foundation’s annual awards for medical research honor the inventors of optical coherence tomography and more.",
         "https://www.forbes.com/sites/alexknapp/2023/09/21/retinal-imaging-and-machine-learning-honored-in-the-2023-lasker-awards/",
         "2023-09-21T13:00:00Z",
         "Professor James Fujimoto\r\nJake Belcher Courtesy The Lasker Foundation\r\nThe Lasker Foundations annual awards for medical research honor the inventors of optical coherence tomography, DeepMinds AlphaFo… [+5081 chars]"
        ],
        [
         [
          null,
          "Bangkok Post"
         ],
         "AFP",
         "Google AI tool predicts danger of genetic mutations",
         "WASHINGTON - Researchers at Google DeepMind, the tech giant's artificial intelligence arm, on Tuesday introduced a tool that predicts whether genetic mutations are likely to cause harm, a breakthrough that could help research into rare diseases.",
         "https://www.bangkokpost.com/world/2650034/google-ai-tool-predicts-danger-of-genetic-mutations",
         "2023-09-19T21:45:00Z",
         "WASHINGTON - Researchers at Google DeepMind, the tech giant's artificial intelligence arm, on Tuesday introduced a tool that predicts whether genetic mutations are likely to cause harm, a breakthroug… [+2450 chars]"
        ],
        [
         [
          null,
          "Japan Today"
         ],
         null,
         "Google AI tool predicts danger of genetic mutations",
         "Researchers at Google DeepMind, the tech giant's artificial intelligence arm, on Tuesday introduced a tool that predicts whether genetic mutations are likely to cause harm, a breakthrough that could help research into rare diseases. The findings are &quot;ano…",
         "https://japantoday.com/category/features/health/google-ai-tool-predicts-danger-of-genetic-mutations1",
         "2023-09-19T21:43:46Z",
         "Researchers at Google DeepMind, the tech giant's artificial intelligence arm, on Tuesday introduced a tool that predicts whether genetic mutations are likely to cause harm, a breakthrough that could … [+2449 chars]"
        ],
        [
         [
          null,
          "Moneycontrol"
         ],
         "Lisa Jarvis",
         "Google DeepMind#39;s AI tool could pinpoint our genetic faults",
         "Thereâs been plenty of worrying about the damage AI could do, but discoveries like the GoogleÂ tool that can pluck harmful genome mutations from thousands of minute-but-benign onesÂ show how AI can accelerate progress on the most vexing questions about huma…",
         "https://www.moneycontrol.com/news/opinion/google-deepminds-ai-tool-could-pinpoint-our-genetic-faults-11401241.html",
         "2023-09-21T04:35:15Z",
         "Its becoming increasingly clear that scientists are only scratching the surface of what artificial intelligence can teach us about human biology and disease. Case in point: new work by Alphabet's AI … [+4751 chars]"
        ],
        [
         [
          null,
          "CNA"
         ],
         null,
         "Google AI tool predicts danger of genetic mutations",
         "WASHINGTON: Researchers at Google DeepMind, the tech giant's artificial intelligence arm, on Tuesday (Sep 19) introduced a tool that predicts whether genetic mutations are likely to cause harm, a breakthrough that could help research into rare diseases. The f…",
         "https://www.channelnewsasia.com/business/google-ai-tool-predicts-danger-genetic-mutations-3784016",
         "2023-09-19T22:11:01Z",
         "WASHINGTON: Researchers at Google DeepMind, the tech giant's artificial intelligence arm, on Tuesday (Sep 19) introduced a tool that predicts whether genetic mutations are likely to cause harm, a bre… [+2462 chars]"
        ],
        [
         [
          null,
          "TweakTown"
         ],
         "Jak Connor",
         "Google's new AI breakthrough is a 'big step forward' to creating 'life-saving treatments'",
         "Google's AI firm has designed an artificial intelligence system to detect abnormal genetic mutations that can lead to diseases emerging. Continue reading at TweakTown >",
         "https://www.tweaktown.com/news/93431/googles-new-ai-breakthrough-is-big-step-forward-to-creating-life-saving-treatments/index.html",
         "2023-09-25T04:07:03Z",
         "Google DeepMind has created a new AI system that is capable of detecting genetic mutations that may lead to diseases.\r\nA new study published in the journal Science details a new AI model called Alpha… [+1822 chars]"
        ],
        [
         [
          "new-scientist",
          "New Scientist"
         ],
         "Michael Le Page",
         "DeepMind AI can predict if DNA mutations are likely to be harmful",
         "By working out which small mutations will probably be damaging, DeepMind’s AlphaMissense system could help doctors identify the cause of genetic diseases",
         "https://www.newscientist.com/article/2392821-deepmind-ai-can-predict-if-dna-mutations-are-likely-to-be-harmful/",
         "2023-09-19T15:30:21Z",
         "DeepMind’s AlphaMissense AI can predict whether mutations will affect how proteins such as haemoglobin subunit beta (left) or cystic fibrosis transmembrane conductance regulator (right) will function… [+3548 chars]"
        ],
        [
         [
          null,
          "Forbes"
         ],
         "Rob Toews, Contributor, \n Rob Toews, Contributor\n https://www.forbes.com/sites/robtoews/",
         "Transformers Revolutionized AI. What Will Replace Them?",
         "No technology remains dominant forever.",
         "https://www.forbes.com/sites/robtoews/2023/09/03/transformers-revolutionized-ai-what-will-replace-them/",
         "2023-09-03T22:00:00Z",
         "The transformer, today's dominant AI architecture, has interesting parallels to the alien language ... [+] in the 2016 science fiction film \"Arrival.\"\r\nParamount Pictures\r\nIf modern artificial intell… [+20795 chars]"
        ],
        [
         [
          null,
          "Livemint"
         ],
         "mint",
         "Google’s AlphaFold has a new tool to track genetic mutations",
         "Last year’s AI breakthrough is showing what it can do for health",
         "https://www.livemint.com/opinion/online-views/googles-alphafold-has-a-new-tool-to-track-genetic-mutations-11695306099645.html",
         "2023-09-21T14:51:02Z",
         "Its becoming clear that scientists are only scratching the surface of what artificial intelligence (AI) can teach us about human biology and disease. Case in point: new work by Alphabets AI subsidiar… [+4506 chars]"
        ],
        [
         [
          null,
          "Biztoc.com"
         ],
         "ft.com",
         "DeepMind uses AI to predict harmful genetic mutations in humans",
         "First example of artificial intelligence helping to accelerate diagnosis of diseases caused by genetic variants",
         "https://biztoc.com/x/9ceb51271e409210",
         "2023-09-19T15:42:11Z",
         "First example of artificial intelligence helping to accelerate diagnosis of diseases caused by genetic variants\r\nThis story appeared on ft.com, ."
        ],
        [
         [
          null,
          "NDTV News"
         ],
         null,
         "Google's New AI Tool Predicts Danger Of Genetic Mutations",
         "Researchers at Google DeepMind, the tech giant's artificial intelligence arm, on Tuesday introduced a tool that predicts whether genetic mutations are likely to cause harm, a breakthrough that could help research into rare diseases.",
         "https://www.ndtv.com/science/google-new-ai-tool-predicts-danger-of-genetic-mutations-4405728",
         "2023-09-20T01:51:26Z",
         "Washington: Researchers at Google DeepMind, the tech giant's artificial intelligence arm, on Tuesday introduced a tool that predicts whether genetic mutations are likely to cause harm, a breakthrough… [+2573 chars]"
        ],
        [
         [
          null,
          "Gadgets360.com"
         ],
         "Agence France-Presse",
         "Google DeepMind AI Tool Predicts Whether Genetic Mutations Are Likely to Cause Harm",
         "Researchers at Google DeepMind, the tech giant's artificial intelligence arm, on Tuesday introduced a tool that predicts whether genetic mutations are likely to cause harm, a breakthrough that could help research into rare diseases.",
         "https://www.gadgets360.com/internet/news/google-deepmind-ai-tool-predicts-genetic-mutation-dangers-rare-diseases-research-4406178",
         "2023-09-20T06:22:52Z",
         "Researchers at Google DeepMind, the tech giant's artificial intelligence arm, on Tuesday introduced a tool that predicts whether genetic mutations are likely to cause harm, a breakthrough that could … [+2515 chars]"
        ],
        [
         [
          null,
          "Cloudtweaks.com"
         ],
         "Gary Bernstein",
         "The Age of AI Benefits: A Global Transformation",
         "Artificial Intelligence (AI) has emerged as a transformative force that is reshaping industries, improving our daily lives, and pushing the boundaries of human potential. This cutting-edge technology is no longer confined to science fiction; it has become an …",
         "https://cloudtweaks.com/2023/09/age-ai-benefits-global-transformation/",
         "2023-09-05T10:07:40Z",
         "Artificial Intelligence (AI) has emerged as a transformative force that is reshaping industries, improving our daily lives, and pushing the boundaries of human potential. This cutting-edge technology… [+7082 chars]"
        ],
        [
         [
          null,
          "Cryptopolitan"
         ],
         "John Palmer",
         "Deep Genomics Unveils Groundbreaking AI Foundation Model for RNA Therapeutics",
         "Deep Genomics, a pioneering AI-driven drug development company, has introduced an innovative AI foundation model called BigRNA. This transformative model, based on deep learning, represents a significant leap forward in the discovery of RNA biology and therap…",
         "https://www.cryptopolitan.com/deep-genomics-unveils-ai-foundation/",
         "2023-09-27T14:11:06Z",
         "<ul><li>Deep Genomics introduces BigRNA, a groundbreaking AI foundation model for RNA therapeutics, with immense potential for revolutionizing drug discovery.</li><li>BigRNA’s versatility, extensive … [+5733 chars]"
        ],
        [
         [
          null,
          "Dataversity.net"
         ],
         "Paramita (Guha) Ghosh",
         "Machine Learning Use Cases for Data Management",
         "In 2023, machine learning (ML) is a powerful enabler for Data Management, revolutionizing the way organizations handle and analyze vast amounts of data. ML, a subset of artificial intelligence (AI), offers various approaches to tackle Data Management challeng…",
         "https://www.dataversity.net/machine-learning-use-cases-data-management/",
         "2023-08-31T07:35:00Z",
         "In 2023, machine learning (ML) is a powerful enabler for Data Management, revolutionizing the way organizations handle and analyze vast amounts of data. ML, a subset of artificial intelligence (AI), … [+14744 chars]"
        ],
        [
         [
          null,
          "GlobeNewswire"
         ],
         "XCELLENT INSIGHTS LLP",
         "Global Precision Medicine Market Size to Reach USD 148.2 Billion in 2032 | Xcellent Insights",
         "Pune, Sept. 26, 2023 (GLOBE NEWSWIRE) -- The Global Precision Medicine Market\r\n has witnessed remarkable growth, reaching a size of approximately USD 57.69 billion in 2022, and is projected to further expand to USD 110.9 billion with a robust CAGR of 11.5% du…",
         "https://www.globenewswire.com/news-release/2023/09/25/2749076/0/en/Global-Precision-Medicine-Market-Size-to-Reach-USD-148-2-Billion-in-2032-Xcellent-Insights.html",
         "2023-09-25T23:02:00Z",
         "Pune, Sept. 26, 2023 (GLOBE NEWSWIRE) -- The Global Precision Medicine Market\r\n has witnessed remarkable growth, reaching a size of approximately USD 57.69 billion in 2022, and is projected to furthe… [+10510 chars]"
        ],
        [
         [
          "the-times-of-india",
          "The Times of India"
         ],
         "The Feed",
         "Mark Zuckerberg and Dr Priscilla Chan aim to eradicate all diseases by 2100",
         "Mark Zuckerberg and his wife, Priscilla Chan, plan to eradicate all human diseases by 2100 through their foundation, The Chan Zuckerberg Initiative. They aim to create a computing system that utilises artificial intelligence (AI) to study cell behavior and de…",
         "https://economictimes.indiatimes.com/news/new-updates/mark-zuckerberg-and-his-wife-aim-to-eradicate-all-diseases-by-2100/articleshow/103958277.cms",
         "2023-09-26T10:09:23Z",
         "Mark Zuckerberg and his wife Dr. Priscilla Chan plan to eradicate all human diseases by 2100 through their foundation, The Chan Zuckerberg Initiative (CZI). The foundation intends to create a special… [+2691 chars]"
        ],
        [
         [
          null,
          "Americanthinker.com"
         ],
         null,
         "Look at all the ways AI is changing transportation and health care",
         "Artificial intelligence, now subject to congressional scrutiny and billionaire powwows in recent news stories, changing everything, it seems, and in ways that may surprise us.\r\n\r\nPerhaps the most noticeable way that AI will change how we do things&nb...",
         "https://www.americanthinker.com/blog/2023/09/ai_is_changing_transportation_and_healthcare.html",
         "2023-09-16T05:00:00Z",
         "Artificial intelligence, now subject to congressional scrutiny and billionaire powwows in recent news stories, changing everything, it seems, and in ways that may surprise us.\r\nPerhaps the most notic… [+5461 chars]"
        ],
        [
         [
          null,
          "Marketscreener.com"
         ],
         "GlobeNewswire",
         "Valo Health and Novo Nordisk to collaborate to discover and develop novel treatments for cardiometabolic diseases using human data and artificial intelligence",
         "(marketscreener.com) Collaboration will apply Valo’s Opal Computational Platform™ and real-world patient dataset to enable the discovery and development of novel cardiometabolic drug programmes Novo Nordisk licenses three preclinical drug discovery programmes…",
         "https://www.marketscreener.com/quote/stock/NOVO-NORDISK-AS-39433525/news/Valo-Health-and-Novo-Nordisk-to-collaborate-to-discover-and-develop-novel-treatments-for-cardiometab-44914731/",
         "2023-09-25T12:02:02Z",
         "Collaboration will apply Valos Opal Computational Platform and real-world patient dataset to enable the discovery and development of novel cardiometabolic drug programmes\r\nNovo Nordisk licenses three… [+6429 chars]"
        ],
        [
         [
          null,
          "GlobeNewswire"
         ],
         "Novo Nordisk A/S",
         "Valo Health and Novo Nordisk to collaborate to discover and develop novel treatments for cardiometabolic diseases using human data and artificial intelligence",
         "Collaboration will apply Valo’s Opal Computational Platform™ and real-world patient dataset to enable the discovery and development of novel cardiometabolic drug programmes",
         "https://www.globenewswire.com/news-release/2023/09/25/2748601/0/en/Valo-Health-and-Novo-Nordisk-to-collaborate-to-discover-and-develop-novel-treatments-for-cardiometabolic-diseases-using-human-data-and-artificial-intelligence.html",
         "2023-09-25T12:00:00Z",
         "Collaboration will apply Valos Opal Computational Platform and real-world patient dataset to enable the discovery and development of novel cardiometabolic drug programmes\r\nNovo Nordisk licenses three… [+5554 chars]"
        ],
        [
         [
          null,
          "GlobeNewswire"
         ],
         "ReportLinker",
         "Global Next-Generation Sequencing on Drug Development Market",
         "Report Scope:. The scope of this report includes NGS technologies, applications, industries, initiatives, patents and companies. The markets for NGS in drug development are given for 2020, 2021, 2022, 2023 and 2028. Report Scope:. The scope of this report inc…",
         "https://www.globenewswire.com/news-release/2023/09/04/2736570/0/en/Global-Next-Generation-Sequencing-on-Drug-Development-Market.html",
         "2023-09-04T10:09:00Z",
         "New York, Sept. 04, 2023 (GLOBE NEWSWIRE) -- Reportlinker.com announces the release of the report \"Global Next-Generation Sequencing on Drug Development Market\" - https://www.reportlinker.com/p064890… [+5370 chars]"
        ],
        [
         [
          null,
          "The Conversation Africa"
         ],
         "Joseph Guhlin, Postdoctoral Researcher with Genomics Aotearoa, University of Otago, Peter Dearden, Professor and Director of Genomics Aotearoa, University of Otago",
         "How gene mapping almost all remaining kākāpō will help NZ’s rare night parrot survive",
         "Kākāpō are prone to disease and infertility. Only intensive species management has saved the flightless parrots from extinction. Genome data now reveals the genetic reasons behind these problems.",
         "https://theconversation.com/how-gene-mapping-almost-all-remaining-kakapo-will-help-nzs-rare-night-parrot-survive-212451",
         "2023-08-30T04:13:18Z",
         "Shutterstock/FeatherStalker Don\r\nThe genetic mapping of almost the entire kākāpō population has shed new light on specific traits that will help conservation biologists in their efforts to save the c… [+5858 chars]"
        ],
        [
         [
          null,
          "Marketscreener.com"
         ],
         "GlobeNewswire",
         "Gain Therapeutics to Present at the Cambridge Healthtech Institute's 2nd Annual Neurodegeneration Targets Conference",
         "(marketscreener.com) BETHESDA, Md., Sept. 20, 2023 -- Gain Therapeutics, Inc., , a biotechnology company leading the discovery and development of the next generation of allosteric small molecule therapies, today announced that Matthias Alder, Chief Executive …",
         "https://www.marketscreener.com/quote/stock/GAIN-THERAPEUTICS-INC-120780704/news/Gain-Therapeutics-to-Present-at-the-Cambridge-Healthtech-Institute-s-2nd-Annual-Neurodegeneration-Ta-44889216/",
         "2023-09-20T20:06:02Z",
         "BETHESDA, Md., Sept. 20, 2023 (GLOBE NEWSWIRE) -- Gain Therapeutics, Inc., (Nasdaq: GANX) (Gain, or the Company), a biotechnology company leading the discovery and development of the next generation … [+6995 chars]"
        ],
        [
         [
          null,
          "GlobeNewswire"
         ],
         "Gain Therapeutics, Inc.",
         "Gain Therapeutics to Present at the Cambridge Healthtech Institute’s 2nd Annual Neurodegeneration Targets Conference",
         "BETHESDA, Md., Sept. 20, 2023 (GLOBE NEWSWIRE) -- Gain Therapeutics, Inc., (Nasdaq: GANX) (“Gain”, or the “Company”), a biotechnology company leading the discovery and development of the next generation of allosteric small molecule therapies, today announced …",
         "https://www.globenewswire.com/news-release/2023/09/20/2746852/0/en/Gain-Therapeutics-to-Present-at-the-Cambridge-Healthtech-Institute-s-2nd-Annual-Neurodegeneration-Targets-Conference.html",
         "2023-09-20T20:05:00Z",
         "BETHESDA, Md., Sept. 20, 2023 (GLOBE NEWSWIRE) -- Gain Therapeutics, Inc., (Nasdaq: GANX) (Gain, or the Company), a biotechnology company leading the discovery and development of the next generation … [+6995 chars]"
        ],
        [
         [
          null,
          "GlobeNewswire"
         ],
         "Research and Markets",
         "Unlocking the Future of Gene Fusion Testing: Advancements Project Market to Reach $897.6 Million by 2033",
         "Dublin, Aug. 30, 2023 (GLOBE NEWSWIRE) -- The \"Gene Fusion Testing Market - A Global and Regional Analysis: Focus on by Category, Technology, Indication, End User, and Region - Analysis and Forecast, 2023-2033\" report has been added to ResearchAndMarkets.com'…",
         "https://www.globenewswire.com/news-release/2023/08/30/2734481/28124/en/Unlocking-the-Future-of-Gene-Fusion-Testing-Advancements-Project-Market-to-Reach-897-6-Million-by-2033.html",
         "2023-08-30T13:38:00Z",
         "Dublin, Aug. 30, 2023 (GLOBE NEWSWIRE) -- The \"Gene Fusion Testing Market - A Global and Regional Analysis: Focus on by Category, Technology, Indication, End User, and Region - Analysis and Forecast,… [+5035 chars]"
        ],
        [
         [
          null,
          "GlobeNewswire"
         ],
         "Precedence Research",
         "Artificial Intelligence (AI) in Cancer Diagnostics Market to Surpass USD 2,084.34 Million by 2032",
         "The global artificial intelligence (AI) in cancer diagnostics market was valued at USD 892.23 million in 2022 and is estimated to surpass around USD 2,084.34 million by 2032, growing at a healthy CAGR of 9.35% from 2023 to 2032. The global artificial intellig…",
         "https://www.globenewswire.com/news-release/2023/08/29/2733677/0/en/Artificial-Intelligence-AI-in-Cancer-Diagnostics-Market-to-Surpass-USD-2-084-34-Million-by-2032.html",
         "2023-08-29T15:30:00Z",
         "Ottawa, Aug. 29, 2023 (GLOBE NEWSWIRE) -- The global artificial intelligence (AI) in cancer diagnostics market revenue is projected to reach around USD 1,466.72 million by 2029, a Study published by … [+17038 chars]"
        ],
        [
         [
          null,
          "Marketscreener.com"
         ],
         "GlobeNewswire",
         "Gain Therapeutics Receives Approval to Commence Phase 1 Clinical Study of GT-02287 from the Human Research Ethics Committee (HREC) in Australia",
         "(marketscreener.com)                 First drug candidate identified with Gain’s proprietary computational drug discovery platform SEE-Tx® to enter clinical development phase BETHESDA, Md., Sept. 12, 2023 -- Gain Therapeutics, Inc. , a biotechnology company l…",
         "https://www.marketscreener.com/quote/stock/GAIN-THERAPEUTICS-INC-120780704/news/Gain-Therapeutics-Receives-Approval-to-Commence-Phase-1-Clinical-Study-of-GT-02287-from-the-Human-Re-44824294/",
         "2023-09-12T13:26:02Z",
         "First drug candidate identified with Gains proprietary computational drug discovery platform SEE-Tx® to enter clinical development phase\r\nBETHESDA, Md., Sept. 12, 2023 (GLOBE NEWSWIRE) -- Gain Therap… [+7640 chars]"
        ],
        [
         [
          null,
          "GlobeNewswire"
         ],
         "Gain Therapeutics, Inc.",
         "Gain Therapeutics Receives Approval to Commence Phase 1 Clinical Study of GT-02287 from the Human Research Ethics Committee (HREC) in Australia",
         "First drug candidate identified with Gain’s proprietary computational drug discovery platform SEE-Tx® to enter clinical development phase...",
         "https://www.globenewswire.com/news-release/2023/09/12/2741790/0/en/Gain-Therapeutics-Receives-Approval-to-Commence-Phase-1-Clinical-Study-of-GT-02287-from-the-Human-Research-Ethics-Committee-HREC-in-Australia.html",
         "2023-09-12T13:25:00Z",
         "First drug candidate identified with Gains proprietary computational drug discovery platform SEE-Tx® to enter clinical development phase\r\nBETHESDA, Md., Sept. 12, 2023 (GLOBE NEWSWIRE) -- Gain Therap… [+7640 chars]"
        ],
        [
         [
          null,
          "Phys.Org"
         ],
         "Angela Nicoletti",
         "Matchmaking (with AI) to help proteins pair up",
         "Successful matchmaking with protein molecules is like all other kinds of matchmaking: The two must click for it to work.",
         "https://phys.org/news/2023-09-matchmaking-ai-proteins-pair.html",
         "2023-09-14T14:20:04Z",
         "Successful matchmaking with protein molecules is like all other kinds of matchmaking: The two must click for it to work.\r\nExcept for proteinsthe estimated 200 million unique molecular building blocks… [+6085 chars]"
        ],
        [
         [
          null,
          "National Institutes of Health"
         ],
         null,
         "Notice of Upcoming Prize Competition Announcement for the Complement-Animal Research in Experimentation (Complement-ARIE) Challenge",
         "NIH Funding Opportunities and Notices in the NIH Guide for Grants and Contracts: Notice of Upcoming Prize Competition Announcement for the Complement-Animal Research in Experimentation (Complement-ARIE) Challenge NOT-RM-23-025. RMOD",
         "https://grants.nih.gov/grants/guide/notice-files/NOT-RM-23-025.html",
         "2023-09-20T08:36:17Z",
         "The NIH Common Fund is beginning a strategic planning process for a potential Complement-Animal Research In Experimentation (Complement-ARIE) program to catalyze the development, standardization, val… [+12503 chars]"
        ],
        [
         [
          null,
          "PRNewswire"
         ],
         null,
         "From AI to Patient Advocacy: The Comprehensive Orphan Drugs and Rare Diseases Conference: London, United Kingdom - October 9-10, 2023",
         "DUBLIN, Sept. 22, 2023 /PRNewswire/ -- ResearchAndMarkets.com announces the 4th Annual Orphan Drugs and Rare Diseases Conference, scheduled for October 9-10 in London, UK. This prestigious event offers an in-depth exploration into the ever-evolving world of o…",
         "https://www.prnewswire.com/news-releases/from-ai-to-patient-advocacy-the-comprehensive-orphan-drugs-and-rare-diseases-conference-london-united-kingdom---october-9-10-2023-301936108.html",
         "2023-09-22T23:45:00Z",
         "DUBLIN, Sept. 22, 2023 /PRNewswire/ -- ResearchAndMarkets.com announces the 4th Annual Orphan Drugs and Rare Diseases Conference, scheduled for October 9-10 in London, UK. This prestigious event offe… [+4959 chars]"
        ],
        [
         [
          null,
          "Marketscreener.com"
         ],
         "GlobeNewswire",
         "Gain Therapeutics Presents New Preclinical Data Demonstrating a Reduction of Plasma Neurodegeneration Biomarker NfL after Administration of its Drug Candidate GT-02287 in GBA1 Parkinson's Disease Model",
         "(marketscreener.com) Treatment with GT-02287 also restored glucocerebrosidase enzymatic function, reduced aggregated α-synuclein, neuroinflammation and neuronal death, increased dopamine levels and improved motor function Data presented at the International C…",
         "https://www.marketscreener.com/quote/stock/GAIN-THERAPEUTICS-INC-120780704/news/Gain-Therapeutics-Presents-New-Preclinical-Data-Demonstrating-a-Reduction-of-Plasma-Neurodegeneratio-44710839/",
         "2023-08-28T11:01:02Z",
         "Treatment with GT-02287 also restored glucocerebrosidase (GCase) enzymatic function, reduced aggregated -synuclein, neuroinflammation and neuronal death, increased dopamine levels and improved motor … [+8782 chars]"
        ],
        [
         [
          null,
          "GlobeNewswire"
         ],
         "Gain Therapeutics, Inc.",
         "Gain Therapeutics Presents New Preclinical Data Demonstrating a Reduction of Plasma Neurodegeneration Biomarker NfL after Administration of its Drug Candidate GT-02287 in GBA1 Parkinson’s Disease Model",
         "Treatment with GT-02287 also restored glucocerebrosidase (GCase) enzymatic function, reduced aggregated α-synuclein, neuroinflammation and neuronal death, increased dopamine levels and improved motor function",
         "https://www.globenewswire.com/news-release/2023/08/28/2732467/0/en/Gain-Therapeutics-Presents-New-Preclinical-Data-Demonstrating-a-Reduction-of-Plasma-Neurodegeneration-Biomarker-NfL-after-Administration-of-its-Drug-Candidate-GT-02287-in-GBA1-Park.html",
         "2023-08-28T11:00:00Z",
         "Treatment with GT-02287 also restored glucocerebrosidase (GCase) enzymatic function, reduced aggregated -synuclein, neuroinflammation and neuronal death, increased dopamine levels and improved motor … [+8782 chars]"
        ],
        [
         [
          null,
          "GlobeNewswire"
         ],
         "Transparency Market Research",
         "Clinical Trials Market to Exceed USD 83.5 billion by 2030, Garnering 5.4% CAGR – Exclusive Report by Transparency Market Research",
         "The clinical trials market is expanding, driven by increased drug development activities and advancements in trial design and technology. The clinical trials market is expanding, driven by increased drug development activities and advancements in trial design…",
         "https://www.globenewswire.com/news-release/2023/09/27/2750351/32656/en/Clinical-Trials-Market-to-Exceed-USD-83-5-billion-by-2030-Garnering-5-4-CAGR-Exclusive-Report-by-Transparency-Market-Research.html",
         "2023-09-27T12:13:00Z",
         "Wilmington, Delaware, United States, Sept. 27, 2023 (GLOBE NEWSWIRE) -- Transparency Market Research Inc. - The clinical trials market was estimated to have acquired US$ 46.7 billion in 2019. It is a… [+7821 chars]"
        ],
        [
         [
          null,
          "Slashdot.org"
         ],
         "feedfeeder",
         "DeepMind’s New AI Can Predict Genetic Diseases",
         "AlphaMissense, a new model from Google&rsquo;s artificial intelligence team, analyzes the effects of DNA mutations and will accelerate research into rare diseases.",
         "https://slashdot.org/firehose.pl?op=view&amp;id=171854934",
         "2023-09-19T14:52:29Z",
         "The Fine Print: The following comments are owned by whoever posted them. We are not responsible for them in any way."
        ],
        [
         [
          null,
          "Plos.org"
         ],
         "Weiguang Liu, Rafael Delalibera Rodrigues, Jianglong Yan, Yu-tao Zhu, Everson José de Freitas Pereira, Gen Li, Qiusheng Zheng, Liang Zhao",
         "Complex network-based classification of radiographic images for COVID-19 diagnosis",
         "In this work, we present a network-based technique for chest X-ray image classification to help the diagnosis and prognosis of patients with COVID-19. From visual inspection, we perceive that healthy and COVID-19 chest radiographic images present different le…",
         "https://journals.plos.org/plosone/article?id=10.1371/journal.pone.0290968",
         "2023-09-01T14:00:00Z",
         "Abstract\r\nIn this work, we present a network-based technique for chest X-ray image classification to help the diagnosis and prognosis of patients with COVID-19. From visual inspection, we perceive th… [+72655 chars]"
        ],
        [
         [
          null,
          "National Institutes of Health"
         ],
         null,
         "Fc-Dependent Mechanisms of Antibody-Mediated Killing (R01 Clinical Trial Not Allowed)",
         "Funding Opportunity RFA-AI-23-054 from the NIH Guide for Grants and Contracts. The purpose of this notice of funding opportunity (NOFO) is to support basic research that will elucidate mechanisms of Fc-mediated antibody functions, including antibody-dependent…",
         "https://grants.nih.gov/grants/guide/rfa-files/RFA-AI-23-054.html",
         "2023-09-26T08:17:39Z",
         "Participating Organization(s) \r\nNational Institutes of Health (NIH)\r\nComponents of Participating Organizations \r\nNational Institute of Allergy and Infectious Diseases (NIAID) \r\nFunding Opportunity Ti… [+56961 chars]"
        ],
        [
         [
          null,
          "Mercola.com"
         ],
         "communities@mercola.com (Dr. Joseph Mercola)",
         "'ChatGPT' for Biology? A Dictatorship of Engineers",
         "Hopefully, [the ultimate search engine Google was building] would never have a bug like HAL did where he killed the occupants of the spaceship. ~ Sergey Brin (NewsHour with Jim Lehrer, November 2002)1\r\n\n\n\nAs if the ChatGPT craze weren’t bad enough, the $$$$$ …",
         "https://articles.mercola.com/sites/articles/archive/2023/09/01/chatgpt-for-biology.aspx",
         "2023-09-01T00:00:00Z",
         "Mercola proudly supports these charities and organizations. View All \r\nDisclaimer: The entire contents of this website are based upon the opinions of Dr. Mercola, unless otherwise noted. Individual a… [+1007 chars]"
        ],
        [
         [
          null,
          "Plos.org"
         ],
         "Zeleke Tesema, Belay Deribe, Mekonnen Tilahun, Alemu Kefale, Getachew Worku Alebachew, Kefyalew Alemayehu, Tesfaye Getachew, Damitie Kebede, Mengistie Taye, Solomon Gizaw",
         "Estimation of crossbreeding and genetic parameters for reproductive traits of Boer x Central Highland goats in Ethiopia",
         "Additive genetic and non-additive parameters for reproductive traits of Boer x Central Highland goats were estimated. Pedigree and performance records comprised of Central Highland and their crosses with Boer goats were collected from 2009 to 2018 in the Siri…",
         "https://journals.plos.org/plosone/article?id=10.1371/journal.pone.0291996",
         "2023-09-27T14:00:00Z",
         "Ethics statement\r\nPrior to the study, data collection formats and procedures were reviewed and approved by the Researchers of Amhara Regional Agricultural Research Institute, Ethiopia (number Ls/Ru-3… [+7926 chars]"
        ],
        [
         [
          null,
          "The BMJ"
         ],
         "Wang, S., Chen, R., Wang, S., Kong, D., Cao, R., Lin, C., Luo, L., Huang, J., Zhang, Q., Yu, H., Ding, Y. L.",
         "Comparative study on risk prediction model of type 2 diabetes based on machine learning theory: a cross-sectional study",
         "Objectives To compare the prediction effects of six models based on machine learning theories, which can provide a methodological reference for predicting the risk of type 2 diabetes mellitus (T2DM).\n\nSetting and participants This study was based on the monit…",
         "https://bmjopen.bmj.com/content/13/8/e069018?rss=1",
         "2023-08-29T15:35:18Z",
         "Introduction\r\nDiabetes mellitus (DM) is a metabolic disease characterised by a disorder of blood glucose metabolism, which is one of the major public health problems in the 21st century.1 In 2021, th… [+12451 chars]"
        ],
        [
         [
          null,
          "Plos.org"
         ],
         "Ricki Lewis, PhD",
         "Why I’m Not Worried that ChatGTP Will Replace Me as a Biology Textbook Author",
         "I just used ChatGTP for the first time. Initially, I was concerned about my future as the chatbot near-instantaneously answered my queries…\nThe post Why I’m Not Worried that ChatGTP Will Replace Me as a Biology Textbook Author appeared first on DNA Science.",
         "https://dnascience.plos.org/2023/09/07/why-im-not-worried-that-chatgtp-will-replace-me-as-a-biology-textbook-author/",
         "2023-09-07T18:45:31Z",
         "I just used ChatGTP for the first time. Initially, I was concerned about my future as the chatbot near-instantaneously answered my queries on increasingly obscure terms from my field, genetics. Stump… [+11215 chars]"
        ],
        [
         [
          null,
          "IPWatchdog.com"
         ],
         "Ben Hsing",
         "Artificial Intelligence in Drug Development: Patent Considerations",
         "Artificial intelligence (AI) is a field of computer science that creates software or models that mimic human reasoning or inference. Machine learning is a subset of AI which uses algorithms trained on massive amounts of data to allow the computer to learn wit…",
         "https://ipwatchdog.com/2023/09/25/artificial-intelligence-drug-development-patent-considerations/id=167125/",
         "2023-09-25T12:15:22Z",
         "The transformative potential of AI, encompassing machine learning and generative capabilities, holds great promise for revolutionizing drug discovery and development. This promising horizon is accomp… [+16440 chars]"
        ],
        [
         [
          null,
          "Plos.org"
         ],
         "Antonio Charlys da Costa, Maria C. Mendes-Correa, Tania Regina Tozetto-Mendoza, Lucy S. Villas-Boas, Anderson Vicente de Paula, Heuder Gustavo Oliveira Paiao, Fabio E. Leal, Noely E. Ferreira, Layla Honorato, Elcio Leal, Giuliano Grandi, Vanessa dos Santos Morais, Erika R. Manuli, Ester C. Sabino, Steven S. Witkin",
         "Detailed characterization of Redondovirus in saliva of SARS-CoV-2-infected individuals in Sao Paulo, Brazil",
         "Background Redondovirus (ReDoV) is a DNA virus present in the respiratory tract of many healthy individuals. Since SARS-CoV-2, the virus responsible for COVID-19, also primarily infects the same site, we evaluated whether ReDoV was present at increased freque…",
         "https://journals.plos.org/plosone/article?id=10.1371/journal.pone.0291027",
         "2023-08-31T14:00:00Z",
         "Abstract\r\nBackground\r\nRedondovirus (ReDoV) is a DNA virus present in the respiratory tract of many healthy individuals. Since SARS-CoV-2, the virus responsible for COVID-19, also primarily infects th… [+24787 chars]"
        ],
        [
         [
          null,
          "Plos.org"
         ],
         "Zhaohong Huang, Xinyue Cui, Yuhao Xia, Kailong Zhao, Guijun Zhang",
         "Pathfinder: Protein folding pathway prediction based on conformational sampling",
         "Author summary The study of protein folding mechanism is an important part of basic science and has vital significance in many aspects. The key to the study of protein folding mechanism is to capture the conformational changes from the fast protein folding pr…",
         "https://journals.plos.org/ploscompbiol/article?id=10.1371/journal.pcbi.1011438",
         "2023-09-11T14:00:00Z",
         "Abstract\r\nThe study of protein folding mechanism is a challenge in molecular biology, which is of great significance for revealing the movement rules of biological macromolecules, understanding the p… [+51456 chars]"
        ],
        [
         [
          null,
          "Plos.org"
         ],
         "Bayarbaatar Amgalan, Chi-Ping Day, Teresa M. Przytycka",
         "Exploring tumor-normal cross-talk with TranNet: Role of the environment in tumor progression",
         "Author summary In oncological studies, control samples are usually biopsied from tumor-adjacent normal tissue. However, there is an increasing understanding that such samples represent a state that is intermediate between tumor and normal, and is influenced b…",
         "https://journals.plos.org/ploscompbiol/article?id=10.1371/journal.pcbi.1011472",
         "2023-09-18T14:00:00Z",
         "Abstract\r\nThere is a growing awareness that tumor-adjacent normal tissues used as control samples in cancer studies do not represent fully healthy tissues. Instead, they are intermediates between hea… [+61681 chars]"
        ],
        [
         [
          null,
          "Plos.org"
         ],
         "Shotaro Asano, Ryo Asaoka, Akio Oishi, Yuri Fujino, Hiroshi Murata, Keiko Azuma, Manabu Miyata, Ryo Obata, Tatsuya Inoue",
         "Investigating the clinical validity of the guided progression analysis definition with 10–2 visual field in retinitis pigmentosa",
         "Purpose To investigate the clinical validity of the Guided Progression Analysis definition (GPAD) and cluster-based definition (CBD) with the Humphrey Field Analyzer (HFA) 10–2 test in retinitis pigmentosa (RP).   Methods Ten non-progressive RP visual fields …",
         "https://journals.plos.org/plosone/article?id=10.1371/journal.pone.0291208",
         "2023-09-08T14:00:00Z",
         "Abstract\r\nPurpose\r\nTo investigate the clinical validity of the Guided Progression Analysis definition (GPAD) and cluster-based definition (CBD) with the Humphrey Field Analyzer (HFA) 102 test in reti… [+32571 chars]"
        ]
       ],
       "datasetInfos": [],
       "dbfsResultPath": null,
       "isJsonSchema": true,
       "metadata": {},
       "overflow": false,
       "plotOptions": {
        "customPlotOptions": {},
        "displayType": "table",
        "pivotAggregation": null,
        "pivotColumns": null,
        "xColumns": null,
        "yColumns": null
       },
       "removedWidgets": [],
       "schema": [
        {
         "metadata": "{}",
         "name": "source",
         "type": "{\"type\":\"struct\",\"fields\":[{\"name\":\"id\",\"type\":\"string\",\"nullable\":true,\"metadata\":{}},{\"name\":\"name\",\"type\":\"string\",\"nullable\":true,\"metadata\":{}}]}"
        },
        {
         "metadata": "{}",
         "name": "author",
         "type": "\"string\""
        },
        {
         "metadata": "{}",
         "name": "title",
         "type": "\"string\""
        },
        {
         "metadata": "{}",
         "name": "description",
         "type": "\"string\""
        },
        {
         "metadata": "{}",
         "name": "url",
         "type": "\"string\""
        },
        {
         "metadata": "{}",
         "name": "publishedAt",
         "type": "\"string\""
        },
        {
         "metadata": "{}",
         "name": "content",
         "type": "\"string\""
        }
       ],
       "type": "table"
      }
     },
     "output_type": "display_data"
    }
   ],
   "source": [
    "df = df.drop(\"urlToImage\")\n",
    "df.display()"
   ]
  },
  {
   "cell_type": "code",
   "execution_count": null,
   "metadata": {
    "application/vnd.databricks.v1+cell": {
     "cellMetadata": {
      "byteLimit": 2048000,
      "rowLimit": 10000
     },
     "inputWidgets": {},
     "nuid": "0187863f-46c0-4c8e-93c7-5cba084690ad",
     "showTitle": false,
     "title": ""
    }
   },
   "outputs": [
    {
     "data": {
      "text/html": [
       "<style scoped>\n",
       "  .table-result-container {\n",
       "    max-height: 300px;\n",
       "    overflow: auto;\n",
       "  }\n",
       "  table, th, td {\n",
       "    border: 1px solid black;\n",
       "    border-collapse: collapse;\n",
       "  }\n",
       "  th, td {\n",
       "    padding: 5px;\n",
       "  }\n",
       "  th {\n",
       "    text-align: left;\n",
       "  }\n",
       "</style><div class='table-result-container'><table class='table-result'><thead style='background-color: white'><tr><th>name</th><th>author</th><th>title</th><th>description</th><th>url</th><th>publishedAt</th><th>content</th></tr></thead><tbody><tr><td>Wired</td><td>Amit Katwala</td><td>DeepMind’s New AI Can Predict Genetic Diseases</td><td>AlphaMissense, a new model from Google’s artificial intelligence team, analyzes the effects of DNA mutations and will accelerate research into rare diseases.</td><td>https://www.wired.com/story/deepmind-ai-alphamissense-genetics-rare-diseases/</td><td>2023-09-19T14:35:23Z</td><td>About 10 years ago, iga Avsec was a PhD physics student who found himself taking a crash course in genomics via a university module on machine learning. He was soon working in a lab that studied rare… [+2913 chars]</td></tr><tr><td>The Next Web</td><td>Ioanna Lykiardopoulou</td><td>DeepMind’s new AI tool can predict genetic diseases</td><td>Google DeepMind has unveiled its novel AI tool that can predict whether DNA mutations are likely to cause genetic diseases. The ambition is that it will  facilitate faster diagnosis and development of life-saving treatments. The new AI model, called AlphaMiss…</td><td>https://thenextweb.com/news/deepminds-ai-tool-predicts-genetic-diseases</td><td>2023-09-20T11:44:36Z</td><td>Google DeepMind has unveiled its novel AI tool that can predict whether DNA mutations are likely to cause genetic diseases. The ambition is that it will  facilitate faster diagnosis and development o… [+2103 chars]</td></tr><tr><td>ReadWrite</td><td>Muhammad Sohaib Saleem</td><td>From Sci-Fi to Reality: The Roadmap of AI Development and Its Future Potential</td><td>Artificial Intelligence has come a long way since its conceptualization in science fiction. What was once an imaginative idea is […]\n",
       "The post From Sci-Fi to Reality: The Roadmap of AI Development and Its Future Potential appeared first on ReadWrite.</td><td>https://readwrite.com/from-sci-fi-to-reality-the-roadmap-of-ai-development-and-its-future-potential/</td><td>2023-09-25T20:00:51Z</td><td>Artificial Intelligence has come a long way since its conceptualization in science fiction. What was once an imaginative idea is now a reality, revolutionizing various aspects of our lives. From self… [+8873 chars]</td></tr><tr><td>Phys.Org</td><td>Science X</td><td>Google AI tool predicts danger of genetic mutations</td><td>Researchers at Google DeepMind, the tech giant's artificial intelligence arm, on Tuesday introduced a tool that predicts whether genetic mutations are likely to cause harm, a breakthrough that could help research into rare diseases.</td><td>https://phys.org/news/2023-09-google-ai-tool-danger-genetic.html</td><td>2023-09-20T08:35:47Z</td><td>Researchers at Google DeepMind, the tech giant's artificial intelligence arm, on Tuesday introduced a tool that predicts whether genetic mutations are likely to cause harm, a breakthrough that could … [+3103 chars]</td></tr><tr><td>Euronews</td><td>null</td><td>What’s AlphaMissense? This new Google DeepMind tool analyses genetic mutations</td><td>AlphaMissense promises to predict how dangerous a genetic mutation is.</td><td>https://www.euronews.com/next/2023/09/21/whats-alphamissense-this-new-google-deepmind-tool-analyses-genetic-mutations</td><td>2023-09-21T14:02:13Z</td><td>AlphaMissense promises to predict how dangerous a genetic mutation is.\r\n",
       " Researchers at DeepMind, one of Googles artificial intelligence (AI) companies, presented a new tool that predicts whether or … [+2308 chars]</td></tr><tr><td>Wired.co.uk</td><td>Amit Katwala</td><td>DeepMind’s New AI Can Predict Genetic Diseases</td><td>AlphaMissense, a new model from Google’s artificial intelligence team, analyzes the effects of DNA mutations and will accelerate research into rare diseases.</td><td>https://www.wired.co.uk/article/deepmind-ai-alphamissense-genetics-rare-diseases</td><td>2023-09-19T14:33:25Z</td><td>About 10 years ago, iga Avsec was a PhD physics student who found himself taking a crash course in genomics via a university module on machine learning. He was soon working in a lab that studied rare… [+4707 chars]</td></tr><tr><td>Singularity Hub</td><td>Shelly Fan</td><td>DeepMind AI Hunts Down the DNA Mutations Behind Genetic Disease</td><td>Proteins are like Spider-Man in the multiverse. The underlying story is the same: each building block of a protein is based on a three-letter DNA code. However, change one letter, and the same protein becomes a different version of itself. If we’re lucky, som…</td><td>https://singularityhub.com/2023/09/21/deepmind-ai-hunts-down-the-dna-mutations-behind-genetic-disease/</td><td>2023-09-21T20:27:27Z</td><td>Proteins are like Spider-Man in the multiverse.\r\n",
       "The underlying story is the same: each building block of a protein is based on a three-letter DNA code. However, change one letter, and the same prote… [+6771 chars]</td></tr><tr><td>Forbes</td><td>Steve Nouri, Forbes Councils Member, \n",
       " Steve Nouri, Forbes Councils Member\n",
       " https://www.forbes.com/sites/forbestechcouncil/people/stevenouri/</td><td>Generative AI Drugs Are Coming</td><td>The merging of deep, quality data and expertise with increasingly sophisticated AI capabilities has the potential to truly shift the future of medicine.</td><td>https://www.forbes.com/sites/forbestechcouncil/2023/09/05/generative-ai-drugs-are-coming/</td><td>2023-09-05T11:45:00Z</td><td>Steve is the Founder of GenAI Works and AI4Diversity. He is an AI expert, tech evangelist, and influencer.\r\n",
       "getty\r\n",
       "Just as ChatGPT is turning text directions into new written materials, or just as DA… [+6523 chars]</td></tr><tr><td>Forbes</td><td>Ariel Katz, Forbes Councils Member, \n",
       " Ariel Katz, Forbes Councils Member\n",
       " https://www.forbes.com/sites/forbestechcouncil/people/arielkatz/</td><td>10 Ways AI Is Advancing Healthcare</td><td>Though there are challenges to be understood and overcome, AI is significantly improving the healthcare landscape.</td><td>https://www.forbes.com/sites/forbestechcouncil/2023/09/19/10-ways-ai-is-advancing-healthcare/</td><td>2023-09-19T14:00:00Z</td><td>Ariel Katz, CEO and cofounder of H1.\r\n",
       "getty\r\n",
       "The explosion of generative AI in healthcarelargely due to the exponential growth of medical data, a shortage of healthcare providers and advancements in … [+6893 chars]</td></tr><tr><td>International Business Times</td><td>AFP News</td><td>Google AI Tool Predicts Danger Of Genetic Mutations</td><td>Researchers at Google DeepMind, the tech giant's artificial intelligence arm, on Tuesday introduced a tool that predicts whether genetic mutations are likely to cause harm, a breakthrough that could help research into rare diseases.</td><td>https://www.ibtimes.com/google-ai-tool-predicts-danger-genetic-mutations-3712362</td><td>2023-09-19T20:57:36Z</td><td>Researchers at Google DeepMind, the tech giant's artificial intelligence arm, on Tuesday introduced a tool that predicts whether genetic mutations are likely to cause harm, a breakthrough that could … [+2437 chars]</td></tr><tr><td>Forbes</td><td>Alex Knapp, Forbes Staff, \n",
       " Alex Knapp, Forbes Staff\n",
       " https://www.forbes.com/sites/alexknapp/</td><td>Retinal Imaging And Machine Learning Honored In The 2023 Lasker Awards</td><td>The Lasker Foundation’s annual awards for medical research honor the inventors of optical coherence tomography and more.</td><td>https://www.forbes.com/sites/alexknapp/2023/09/21/retinal-imaging-and-machine-learning-honored-in-the-2023-lasker-awards/</td><td>2023-09-21T13:00:00Z</td><td>Professor James Fujimoto\r\n",
       "Jake Belcher Courtesy The Lasker Foundation\r\n",
       "The Lasker Foundations annual awards for medical research honor the inventors of optical coherence tomography, DeepMinds AlphaFo… [+5081 chars]</td></tr><tr><td>Bangkok Post</td><td>AFP</td><td>Google AI tool predicts danger of genetic mutations</td><td>WASHINGTON - Researchers at Google DeepMind, the tech giant's artificial intelligence arm, on Tuesday introduced a tool that predicts whether genetic mutations are likely to cause harm, a breakthrough that could help research into rare diseases.</td><td>https://www.bangkokpost.com/world/2650034/google-ai-tool-predicts-danger-of-genetic-mutations</td><td>2023-09-19T21:45:00Z</td><td>WASHINGTON - Researchers at Google DeepMind, the tech giant's artificial intelligence arm, on Tuesday introduced a tool that predicts whether genetic mutations are likely to cause harm, a breakthroug… [+2450 chars]</td></tr><tr><td>Japan Today</td><td>null</td><td>Google AI tool predicts danger of genetic mutations</td><td>Researchers at Google DeepMind, the tech giant's artificial intelligence arm, on Tuesday introduced a tool that predicts whether genetic mutations are likely to cause harm, a breakthrough that could help research into rare diseases. The findings are &quot;ano…</td><td>https://japantoday.com/category/features/health/google-ai-tool-predicts-danger-of-genetic-mutations1</td><td>2023-09-19T21:43:46Z</td><td>Researchers at Google DeepMind, the tech giant's artificial intelligence arm, on Tuesday introduced a tool that predicts whether genetic mutations are likely to cause harm, a breakthrough that could … [+2449 chars]</td></tr><tr><td>Moneycontrol</td><td>Lisa Jarvis</td><td>Google DeepMind#39;s AI tool could pinpoint our genetic faults</td><td>Thereâs been plenty of worrying about the damage AI could do, but discoveries like the GoogleÂ tool that can pluck harmful genome mutations from thousands of minute-but-benign onesÂ show how AI can accelerate progress on the most vexing questions about huma…</td><td>https://www.moneycontrol.com/news/opinion/google-deepminds-ai-tool-could-pinpoint-our-genetic-faults-11401241.html</td><td>2023-09-21T04:35:15Z</td><td>Its becoming increasingly clear that scientists are only scratching the surface of what artificial intelligence can teach us about human biology and disease. Case in point: new work by Alphabet's AI … [+4751 chars]</td></tr><tr><td>CNA</td><td>null</td><td>Google AI tool predicts danger of genetic mutations</td><td>WASHINGTON: Researchers at Google DeepMind, the tech giant's artificial intelligence arm, on Tuesday (Sep 19) introduced a tool that predicts whether genetic mutations are likely to cause harm, a breakthrough that could help research into rare diseases. The f…</td><td>https://www.channelnewsasia.com/business/google-ai-tool-predicts-danger-genetic-mutations-3784016</td><td>2023-09-19T22:11:01Z</td><td>WASHINGTON: Researchers at Google DeepMind, the tech giant's artificial intelligence arm, on Tuesday (Sep 19) introduced a tool that predicts whether genetic mutations are likely to cause harm, a bre… [+2462 chars]</td></tr><tr><td>TweakTown</td><td>Jak Connor</td><td>Google's new AI breakthrough is a 'big step forward' to creating 'life-saving treatments'</td><td>Google's AI firm has designed an artificial intelligence system to detect abnormal genetic mutations that can lead to diseases emerging. Continue reading at TweakTown ></td><td>https://www.tweaktown.com/news/93431/googles-new-ai-breakthrough-is-big-step-forward-to-creating-life-saving-treatments/index.html</td><td>2023-09-25T04:07:03Z</td><td>Google DeepMind has created a new AI system that is capable of detecting genetic mutations that may lead to diseases.\r\n",
       "A new study published in the journal Science details a new AI model called Alpha… [+1822 chars]</td></tr><tr><td>New Scientist</td><td>Michael Le Page</td><td>DeepMind AI can predict if DNA mutations are likely to be harmful</td><td>By working out which small mutations will probably be damaging, DeepMind’s AlphaMissense system could help doctors identify the cause of genetic diseases</td><td>https://www.newscientist.com/article/2392821-deepmind-ai-can-predict-if-dna-mutations-are-likely-to-be-harmful/</td><td>2023-09-19T15:30:21Z</td><td>DeepMind’s AlphaMissense AI can predict whether mutations will affect how proteins such as haemoglobin subunit beta (left) or cystic fibrosis transmembrane conductance regulator (right) will function… [+3548 chars]</td></tr><tr><td>Forbes</td><td>Rob Toews, Contributor, \n",
       " Rob Toews, Contributor\n",
       " https://www.forbes.com/sites/robtoews/</td><td>Transformers Revolutionized AI. What Will Replace Them?</td><td>No technology remains dominant forever.</td><td>https://www.forbes.com/sites/robtoews/2023/09/03/transformers-revolutionized-ai-what-will-replace-them/</td><td>2023-09-03T22:00:00Z</td><td>The transformer, today's dominant AI architecture, has interesting parallels to the alien language ... [+] in the 2016 science fiction film \"Arrival.\"\r\n",
       "Paramount Pictures\r\n",
       "If modern artificial intell… [+20795 chars]</td></tr><tr><td>Livemint</td><td>mint</td><td>Google’s AlphaFold has a new tool to track genetic mutations</td><td>Last year’s AI breakthrough is showing what it can do for health</td><td>https://www.livemint.com/opinion/online-views/googles-alphafold-has-a-new-tool-to-track-genetic-mutations-11695306099645.html</td><td>2023-09-21T14:51:02Z</td><td>Its becoming clear that scientists are only scratching the surface of what artificial intelligence (AI) can teach us about human biology and disease. Case in point: new work by Alphabets AI subsidiar… [+4506 chars]</td></tr><tr><td>Biztoc.com</td><td>ft.com</td><td>DeepMind uses AI to predict harmful genetic mutations in humans</td><td>First example of artificial intelligence helping to accelerate diagnosis of diseases caused by genetic variants</td><td>https://biztoc.com/x/9ceb51271e409210</td><td>2023-09-19T15:42:11Z</td><td>First example of artificial intelligence helping to accelerate diagnosis of diseases caused by genetic variants\r\n",
       "This story appeared on ft.com, .</td></tr><tr><td>NDTV News</td><td>null</td><td>Google's New AI Tool Predicts Danger Of Genetic Mutations</td><td>Researchers at Google DeepMind, the tech giant's artificial intelligence arm, on Tuesday introduced a tool that predicts whether genetic mutations are likely to cause harm, a breakthrough that could help research into rare diseases.</td><td>https://www.ndtv.com/science/google-new-ai-tool-predicts-danger-of-genetic-mutations-4405728</td><td>2023-09-20T01:51:26Z</td><td>Washington: Researchers at Google DeepMind, the tech giant's artificial intelligence arm, on Tuesday introduced a tool that predicts whether genetic mutations are likely to cause harm, a breakthrough… [+2573 chars]</td></tr><tr><td>Gadgets360.com</td><td>Agence France-Presse</td><td>Google DeepMind AI Tool Predicts Whether Genetic Mutations Are Likely to Cause Harm</td><td>Researchers at Google DeepMind, the tech giant's artificial intelligence arm, on Tuesday introduced a tool that predicts whether genetic mutations are likely to cause harm, a breakthrough that could help research into rare diseases.</td><td>https://www.gadgets360.com/internet/news/google-deepmind-ai-tool-predicts-genetic-mutation-dangers-rare-diseases-research-4406178</td><td>2023-09-20T06:22:52Z</td><td>Researchers at Google DeepMind, the tech giant's artificial intelligence arm, on Tuesday introduced a tool that predicts whether genetic mutations are likely to cause harm, a breakthrough that could … [+2515 chars]</td></tr><tr><td>Cloudtweaks.com</td><td>Gary Bernstein</td><td>The Age of AI Benefits: A Global Transformation</td><td>Artificial Intelligence (AI) has emerged as a transformative force that is reshaping industries, improving our daily lives, and pushing the boundaries of human potential. This cutting-edge technology is no longer confined to science fiction; it has become an …</td><td>https://cloudtweaks.com/2023/09/age-ai-benefits-global-transformation/</td><td>2023-09-05T10:07:40Z</td><td>Artificial Intelligence (AI) has emerged as a transformative force that is reshaping industries, improving our daily lives, and pushing the boundaries of human potential. This cutting-edge technology… [+7082 chars]</td></tr><tr><td>Cryptopolitan</td><td>John Palmer</td><td>Deep Genomics Unveils Groundbreaking AI Foundation Model for RNA Therapeutics</td><td>Deep Genomics, a pioneering AI-driven drug development company, has introduced an innovative AI foundation model called BigRNA. This transformative model, based on deep learning, represents a significant leap forward in the discovery of RNA biology and therap…</td><td>https://www.cryptopolitan.com/deep-genomics-unveils-ai-foundation/</td><td>2023-09-27T14:11:06Z</td><td><ul><li>Deep Genomics introduces BigRNA, a groundbreaking AI foundation model for RNA therapeutics, with immense potential for revolutionizing drug discovery.</li><li>BigRNA’s versatility, extensive … [+5733 chars]</td></tr><tr><td>Dataversity.net</td><td>Paramita (Guha) Ghosh</td><td>Machine Learning Use Cases for Data Management</td><td>In 2023, machine learning (ML) is a powerful enabler for Data Management, revolutionizing the way organizations handle and analyze vast amounts of data. ML, a subset of artificial intelligence (AI), offers various approaches to tackle Data Management challeng…</td><td>https://www.dataversity.net/machine-learning-use-cases-data-management/</td><td>2023-08-31T07:35:00Z</td><td>In 2023, machine learning (ML) is a powerful enabler for Data Management, revolutionizing the way organizations handle and analyze vast amounts of data. ML, a subset of artificial intelligence (AI), … [+14744 chars]</td></tr><tr><td>GlobeNewswire</td><td>XCELLENT INSIGHTS LLP</td><td>Global Precision Medicine Market Size to Reach USD 148.2 Billion in 2032 | Xcellent Insights</td><td>Pune, Sept. 26, 2023 (GLOBE NEWSWIRE) -- The Global Precision Medicine Market\r\n",
       " has witnessed remarkable growth, reaching a size of approximately USD 57.69 billion in 2022, and is projected to further expand to USD 110.9 billion with a robust CAGR of 11.5% du…</td><td>https://www.globenewswire.com/news-release/2023/09/25/2749076/0/en/Global-Precision-Medicine-Market-Size-to-Reach-USD-148-2-Billion-in-2032-Xcellent-Insights.html</td><td>2023-09-25T23:02:00Z</td><td>Pune, Sept. 26, 2023 (GLOBE NEWSWIRE) -- The Global Precision Medicine Market\r\n",
       " has witnessed remarkable growth, reaching a size of approximately USD 57.69 billion in 2022, and is projected to furthe… [+10510 chars]</td></tr><tr><td>The Times of India</td><td>The Feed</td><td>Mark Zuckerberg and Dr Priscilla Chan aim to eradicate all diseases by 2100</td><td>Mark Zuckerberg and his wife, Priscilla Chan, plan to eradicate all human diseases by 2100 through their foundation, The Chan Zuckerberg Initiative. They aim to create a computing system that utilises artificial intelligence (AI) to study cell behavior and de…</td><td>https://economictimes.indiatimes.com/news/new-updates/mark-zuckerberg-and-his-wife-aim-to-eradicate-all-diseases-by-2100/articleshow/103958277.cms</td><td>2023-09-26T10:09:23Z</td><td>Mark Zuckerberg and his wife Dr. Priscilla Chan plan to eradicate all human diseases by 2100 through their foundation, The Chan Zuckerberg Initiative (CZI). The foundation intends to create a special… [+2691 chars]</td></tr><tr><td>Americanthinker.com</td><td>null</td><td>Look at all the ways AI is changing transportation and health care</td><td>Artificial intelligence, now subject to congressional scrutiny and billionaire powwows in recent news stories, changing everything, it seems, and in ways that may surprise us.\r\n",
       "\r\n",
       "Perhaps the most noticeable way that AI will change how we do things&nb...</td><td>https://www.americanthinker.com/blog/2023/09/ai_is_changing_transportation_and_healthcare.html</td><td>2023-09-16T05:00:00Z</td><td>Artificial intelligence, now subject to congressional scrutiny and billionaire powwows in recent news stories, changing everything, it seems, and in ways that may surprise us.\r\n",
       "Perhaps the most notic… [+5461 chars]</td></tr><tr><td>Marketscreener.com</td><td>GlobeNewswire</td><td>Valo Health and Novo Nordisk to collaborate to discover and develop novel treatments for cardiometabolic diseases using human data and artificial intelligence</td><td>(marketscreener.com) Collaboration will apply Valo’s Opal Computational Platform™ and real-world patient dataset to enable the discovery and development of novel cardiometabolic drug programmes Novo Nordisk licenses three preclinical drug discovery programmes…</td><td>https://www.marketscreener.com/quote/stock/NOVO-NORDISK-AS-39433525/news/Valo-Health-and-Novo-Nordisk-to-collaborate-to-discover-and-develop-novel-treatments-for-cardiometab-44914731/</td><td>2023-09-25T12:02:02Z</td><td>Collaboration will apply Valos Opal Computational Platform and real-world patient dataset to enable the discovery and development of novel cardiometabolic drug programmes\r\n",
       "Novo Nordisk licenses three… [+6429 chars]</td></tr><tr><td>GlobeNewswire</td><td>Novo Nordisk A/S</td><td>Valo Health and Novo Nordisk to collaborate to discover and develop novel treatments for cardiometabolic diseases using human data and artificial intelligence</td><td>Collaboration will apply Valo’s Opal Computational Platform™ and real-world patient dataset to enable the discovery and development of novel cardiometabolic drug programmes</td><td>https://www.globenewswire.com/news-release/2023/09/25/2748601/0/en/Valo-Health-and-Novo-Nordisk-to-collaborate-to-discover-and-develop-novel-treatments-for-cardiometabolic-diseases-using-human-data-and-artificial-intelligence.html</td><td>2023-09-25T12:00:00Z</td><td>Collaboration will apply Valos Opal Computational Platform and real-world patient dataset to enable the discovery and development of novel cardiometabolic drug programmes\r\n",
       "Novo Nordisk licenses three… [+5554 chars]</td></tr><tr><td>GlobeNewswire</td><td>ReportLinker</td><td>Global Next-Generation Sequencing on Drug Development Market</td><td>Report Scope:. The scope of this report includes NGS technologies, applications, industries, initiatives, patents and companies. The markets for NGS in drug development are given for 2020, 2021, 2022, 2023 and 2028. Report Scope:. The scope of this report inc…</td><td>https://www.globenewswire.com/news-release/2023/09/04/2736570/0/en/Global-Next-Generation-Sequencing-on-Drug-Development-Market.html</td><td>2023-09-04T10:09:00Z</td><td>New York, Sept. 04, 2023 (GLOBE NEWSWIRE) -- Reportlinker.com announces the release of the report \"Global Next-Generation Sequencing on Drug Development Market\" - https://www.reportlinker.com/p064890… [+5370 chars]</td></tr><tr><td>The Conversation Africa</td><td>Joseph Guhlin, Postdoctoral Researcher with Genomics Aotearoa, University of Otago, Peter Dearden, Professor and Director of Genomics Aotearoa, University of Otago</td><td>How gene mapping almost all remaining kākāpō will help NZ’s rare night parrot survive</td><td>Kākāpō are prone to disease and infertility. Only intensive species management has saved the flightless parrots from extinction. Genome data now reveals the genetic reasons behind these problems.</td><td>https://theconversation.com/how-gene-mapping-almost-all-remaining-kakapo-will-help-nzs-rare-night-parrot-survive-212451</td><td>2023-08-30T04:13:18Z</td><td>Shutterstock/FeatherStalker Don\r\n",
       "The genetic mapping of almost the entire kākāpō population has shed new light on specific traits that will help conservation biologists in their efforts to save the c… [+5858 chars]</td></tr><tr><td>Marketscreener.com</td><td>GlobeNewswire</td><td>Gain Therapeutics to Present at the Cambridge Healthtech Institute's 2nd Annual Neurodegeneration Targets Conference</td><td>(marketscreener.com) BETHESDA, Md., Sept. 20, 2023 -- Gain Therapeutics, Inc., , a biotechnology company leading the discovery and development of the next generation of allosteric small molecule therapies, today announced that Matthias Alder, Chief Executive …</td><td>https://www.marketscreener.com/quote/stock/GAIN-THERAPEUTICS-INC-120780704/news/Gain-Therapeutics-to-Present-at-the-Cambridge-Healthtech-Institute-s-2nd-Annual-Neurodegeneration-Ta-44889216/</td><td>2023-09-20T20:06:02Z</td><td>BETHESDA, Md., Sept. 20, 2023 (GLOBE NEWSWIRE) -- Gain Therapeutics, Inc., (Nasdaq: GANX) (Gain, or the Company), a biotechnology company leading the discovery and development of the next generation … [+6995 chars]</td></tr><tr><td>GlobeNewswire</td><td>Gain Therapeutics, Inc.</td><td>Gain Therapeutics to Present at the Cambridge Healthtech Institute’s 2nd Annual Neurodegeneration Targets Conference</td><td>BETHESDA, Md., Sept. 20, 2023 (GLOBE NEWSWIRE) -- Gain Therapeutics, Inc., (Nasdaq: GANX) (“Gain”, or the “Company”), a biotechnology company leading the discovery and development of the next generation of allosteric small molecule therapies, today announced …</td><td>https://www.globenewswire.com/news-release/2023/09/20/2746852/0/en/Gain-Therapeutics-to-Present-at-the-Cambridge-Healthtech-Institute-s-2nd-Annual-Neurodegeneration-Targets-Conference.html</td><td>2023-09-20T20:05:00Z</td><td>BETHESDA, Md., Sept. 20, 2023 (GLOBE NEWSWIRE) -- Gain Therapeutics, Inc., (Nasdaq: GANX) (Gain, or the Company), a biotechnology company leading the discovery and development of the next generation … [+6995 chars]</td></tr><tr><td>GlobeNewswire</td><td>Research and Markets</td><td>Unlocking the Future of Gene Fusion Testing: Advancements Project Market to Reach $897.6 Million by 2033</td><td>Dublin, Aug. 30, 2023 (GLOBE NEWSWIRE) -- The \"Gene Fusion Testing Market - A Global and Regional Analysis: Focus on by Category, Technology, Indication, End User, and Region - Analysis and Forecast, 2023-2033\" report has been added to ResearchAndMarkets.com'…</td><td>https://www.globenewswire.com/news-release/2023/08/30/2734481/28124/en/Unlocking-the-Future-of-Gene-Fusion-Testing-Advancements-Project-Market-to-Reach-897-6-Million-by-2033.html</td><td>2023-08-30T13:38:00Z</td><td>Dublin, Aug. 30, 2023 (GLOBE NEWSWIRE) -- The \"Gene Fusion Testing Market - A Global and Regional Analysis: Focus on by Category, Technology, Indication, End User, and Region - Analysis and Forecast,… [+5035 chars]</td></tr><tr><td>GlobeNewswire</td><td>Precedence Research</td><td>Artificial Intelligence (AI) in Cancer Diagnostics Market to Surpass USD 2,084.34 Million by 2032</td><td>The global artificial intelligence (AI) in cancer diagnostics market was valued at USD 892.23 million in 2022 and is estimated to surpass around USD 2,084.34 million by 2032, growing at a healthy CAGR of 9.35% from 2023 to 2032. The global artificial intellig…</td><td>https://www.globenewswire.com/news-release/2023/08/29/2733677/0/en/Artificial-Intelligence-AI-in-Cancer-Diagnostics-Market-to-Surpass-USD-2-084-34-Million-by-2032.html</td><td>2023-08-29T15:30:00Z</td><td>Ottawa, Aug. 29, 2023 (GLOBE NEWSWIRE) -- The global artificial intelligence (AI) in cancer diagnostics market revenue is projected to reach around USD 1,466.72 million by 2029, a Study published by … [+17038 chars]</td></tr><tr><td>Marketscreener.com</td><td>GlobeNewswire</td><td>Gain Therapeutics Receives Approval to Commence Phase 1 Clinical Study of GT-02287 from the Human Research Ethics Committee (HREC) in Australia</td><td>(marketscreener.com)                 First drug candidate identified with Gain’s proprietary computational drug discovery platform SEE-Tx® to enter clinical development phase BETHESDA, Md., Sept. 12, 2023 -- Gain Therapeutics, Inc. , a biotechnology company l…</td><td>https://www.marketscreener.com/quote/stock/GAIN-THERAPEUTICS-INC-120780704/news/Gain-Therapeutics-Receives-Approval-to-Commence-Phase-1-Clinical-Study-of-GT-02287-from-the-Human-Re-44824294/</td><td>2023-09-12T13:26:02Z</td><td>First drug candidate identified with Gains proprietary computational drug discovery platform SEE-Tx® to enter clinical development phase\r\n",
       "BETHESDA, Md., Sept. 12, 2023 (GLOBE NEWSWIRE) -- Gain Therap… [+7640 chars]</td></tr><tr><td>GlobeNewswire</td><td>Gain Therapeutics, Inc.</td><td>Gain Therapeutics Receives Approval to Commence Phase 1 Clinical Study of GT-02287 from the Human Research Ethics Committee (HREC) in Australia</td><td>First drug candidate identified with Gain’s proprietary computational drug discovery platform SEE-Tx® to enter clinical development phase...</td><td>https://www.globenewswire.com/news-release/2023/09/12/2741790/0/en/Gain-Therapeutics-Receives-Approval-to-Commence-Phase-1-Clinical-Study-of-GT-02287-from-the-Human-Research-Ethics-Committee-HREC-in-Australia.html</td><td>2023-09-12T13:25:00Z</td><td>First drug candidate identified with Gains proprietary computational drug discovery platform SEE-Tx® to enter clinical development phase\r\n",
       "BETHESDA, Md., Sept. 12, 2023 (GLOBE NEWSWIRE) -- Gain Therap… [+7640 chars]</td></tr><tr><td>Phys.Org</td><td>Angela Nicoletti</td><td>Matchmaking (with AI) to help proteins pair up</td><td>Successful matchmaking with protein molecules is like all other kinds of matchmaking: The two must click for it to work.</td><td>https://phys.org/news/2023-09-matchmaking-ai-proteins-pair.html</td><td>2023-09-14T14:20:04Z</td><td>Successful matchmaking with protein molecules is like all other kinds of matchmaking: The two must click for it to work.\r\n",
       "Except for proteinsthe estimated 200 million unique molecular building blocks… [+6085 chars]</td></tr><tr><td>National Institutes of Health</td><td>null</td><td>Notice of Upcoming Prize Competition Announcement for the Complement-Animal Research in Experimentation (Complement-ARIE) Challenge</td><td>NIH Funding Opportunities and Notices in the NIH Guide for Grants and Contracts: Notice of Upcoming Prize Competition Announcement for the Complement-Animal Research in Experimentation (Complement-ARIE) Challenge NOT-RM-23-025. RMOD</td><td>https://grants.nih.gov/grants/guide/notice-files/NOT-RM-23-025.html</td><td>2023-09-20T08:36:17Z</td><td>The NIH Common Fund is beginning a strategic planning process for a potential Complement-Animal Research In Experimentation (Complement-ARIE) program to catalyze the development, standardization, val… [+12503 chars]</td></tr><tr><td>PRNewswire</td><td>null</td><td>From AI to Patient Advocacy: The Comprehensive Orphan Drugs and Rare Diseases Conference: London, United Kingdom - October 9-10, 2023</td><td>DUBLIN, Sept. 22, 2023 /PRNewswire/ -- ResearchAndMarkets.com announces the 4th Annual Orphan Drugs and Rare Diseases Conference, scheduled for October 9-10 in London, UK. This prestigious event offers an in-depth exploration into the ever-evolving world of o…</td><td>https://www.prnewswire.com/news-releases/from-ai-to-patient-advocacy-the-comprehensive-orphan-drugs-and-rare-diseases-conference-london-united-kingdom---october-9-10-2023-301936108.html</td><td>2023-09-22T23:45:00Z</td><td>DUBLIN, Sept. 22, 2023 /PRNewswire/ -- ResearchAndMarkets.com announces the 4th Annual Orphan Drugs and Rare Diseases Conference, scheduled for October 9-10 in London, UK. This prestigious event offe… [+4959 chars]</td></tr><tr><td>Marketscreener.com</td><td>GlobeNewswire</td><td>Gain Therapeutics Presents New Preclinical Data Demonstrating a Reduction of Plasma Neurodegeneration Biomarker NfL after Administration of its Drug Candidate GT-02287 in GBA1 Parkinson's Disease Model</td><td>(marketscreener.com) Treatment with GT-02287 also restored glucocerebrosidase enzymatic function, reduced aggregated α-synuclein, neuroinflammation and neuronal death, increased dopamine levels and improved motor function Data presented at the International C…</td><td>https://www.marketscreener.com/quote/stock/GAIN-THERAPEUTICS-INC-120780704/news/Gain-Therapeutics-Presents-New-Preclinical-Data-Demonstrating-a-Reduction-of-Plasma-Neurodegeneratio-44710839/</td><td>2023-08-28T11:01:02Z</td><td>Treatment with GT-02287 also restored glucocerebrosidase (GCase) enzymatic function, reduced aggregated -synuclein, neuroinflammation and neuronal death, increased dopamine levels and improved motor … [+8782 chars]</td></tr><tr><td>GlobeNewswire</td><td>Gain Therapeutics, Inc.</td><td>Gain Therapeutics Presents New Preclinical Data Demonstrating a Reduction of Plasma Neurodegeneration Biomarker NfL after Administration of its Drug Candidate GT-02287 in GBA1 Parkinson’s Disease Model</td><td>Treatment with GT-02287 also restored glucocerebrosidase (GCase) enzymatic function, reduced aggregated α-synuclein, neuroinflammation and neuronal death, increased dopamine levels and improved motor function</td><td>https://www.globenewswire.com/news-release/2023/08/28/2732467/0/en/Gain-Therapeutics-Presents-New-Preclinical-Data-Demonstrating-a-Reduction-of-Plasma-Neurodegeneration-Biomarker-NfL-after-Administration-of-its-Drug-Candidate-GT-02287-in-GBA1-Park.html</td><td>2023-08-28T11:00:00Z</td><td>Treatment with GT-02287 also restored glucocerebrosidase (GCase) enzymatic function, reduced aggregated -synuclein, neuroinflammation and neuronal death, increased dopamine levels and improved motor … [+8782 chars]</td></tr><tr><td>GlobeNewswire</td><td>Transparency Market Research</td><td>Clinical Trials Market to Exceed USD 83.5 billion by 2030, Garnering 5.4% CAGR – Exclusive Report by Transparency Market Research</td><td>The clinical trials market is expanding, driven by increased drug development activities and advancements in trial design and technology. The clinical trials market is expanding, driven by increased drug development activities and advancements in trial design…</td><td>https://www.globenewswire.com/news-release/2023/09/27/2750351/32656/en/Clinical-Trials-Market-to-Exceed-USD-83-5-billion-by-2030-Garnering-5-4-CAGR-Exclusive-Report-by-Transparency-Market-Research.html</td><td>2023-09-27T12:13:00Z</td><td>Wilmington, Delaware, United States, Sept. 27, 2023 (GLOBE NEWSWIRE) -- Transparency Market Research Inc. - The clinical trials market was estimated to have acquired US$ 46.7 billion in 2019. It is a… [+7821 chars]</td></tr><tr><td>Slashdot.org</td><td>feedfeeder</td><td>DeepMind’s New AI Can Predict Genetic Diseases</td><td>AlphaMissense, a new model from Google&rsquo;s artificial intelligence team, analyzes the effects of DNA mutations and will accelerate research into rare diseases.</td><td>https://slashdot.org/firehose.pl?op=view&amp;id=171854934</td><td>2023-09-19T14:52:29Z</td><td>The Fine Print: The following comments are owned by whoever posted them. We are not responsible for them in any way.</td></tr><tr><td>Plos.org</td><td>Weiguang Liu, Rafael Delalibera Rodrigues, Jianglong Yan, Yu-tao Zhu, Everson José de Freitas Pereira, Gen Li, Qiusheng Zheng, Liang Zhao</td><td>Complex network-based classification of radiographic images for COVID-19 diagnosis</td><td>In this work, we present a network-based technique for chest X-ray image classification to help the diagnosis and prognosis of patients with COVID-19. From visual inspection, we perceive that healthy and COVID-19 chest radiographic images present different le…</td><td>https://journals.plos.org/plosone/article?id=10.1371/journal.pone.0290968</td><td>2023-09-01T14:00:00Z</td><td>Abstract\r\n",
       "In this work, we present a network-based technique for chest X-ray image classification to help the diagnosis and prognosis of patients with COVID-19. From visual inspection, we perceive th… [+72655 chars]</td></tr><tr><td>National Institutes of Health</td><td>null</td><td>Fc-Dependent Mechanisms of Antibody-Mediated Killing (R01 Clinical Trial Not Allowed)</td><td>Funding Opportunity RFA-AI-23-054 from the NIH Guide for Grants and Contracts. The purpose of this notice of funding opportunity (NOFO) is to support basic research that will elucidate mechanisms of Fc-mediated antibody functions, including antibody-dependent…</td><td>https://grants.nih.gov/grants/guide/rfa-files/RFA-AI-23-054.html</td><td>2023-09-26T08:17:39Z</td><td>Participating Organization(s) \r\n",
       "National Institutes of Health (NIH)\r\n",
       "Components of Participating Organizations \r\n",
       "National Institute of Allergy and Infectious Diseases (NIAID) \r\n",
       "Funding Opportunity Ti… [+56961 chars]</td></tr><tr><td>Mercola.com</td><td>communities@mercola.com (Dr. Joseph Mercola)</td><td>'ChatGPT' for Biology? A Dictatorship of Engineers</td><td>Hopefully, [the ultimate search engine Google was building] would never have a bug like HAL did where he killed the occupants of the spaceship. ~ Sergey Brin (NewsHour with Jim Lehrer, November 2002)1\r\n",
       "\n",
       "\n",
       "\n",
       "As if the ChatGPT craze weren’t bad enough, the $$$$$ …</td><td>https://articles.mercola.com/sites/articles/archive/2023/09/01/chatgpt-for-biology.aspx</td><td>2023-09-01T00:00:00Z</td><td>Mercola proudly supports these charities and organizations. View All \r\n",
       "Disclaimer: The entire contents of this website are based upon the opinions of Dr. Mercola, unless otherwise noted. Individual a… [+1007 chars]</td></tr><tr><td>Plos.org</td><td>Zeleke Tesema, Belay Deribe, Mekonnen Tilahun, Alemu Kefale, Getachew Worku Alebachew, Kefyalew Alemayehu, Tesfaye Getachew, Damitie Kebede, Mengistie Taye, Solomon Gizaw</td><td>Estimation of crossbreeding and genetic parameters for reproductive traits of Boer x Central Highland goats in Ethiopia</td><td>Additive genetic and non-additive parameters for reproductive traits of Boer x Central Highland goats were estimated. Pedigree and performance records comprised of Central Highland and their crosses with Boer goats were collected from 2009 to 2018 in the Siri…</td><td>https://journals.plos.org/plosone/article?id=10.1371/journal.pone.0291996</td><td>2023-09-27T14:00:00Z</td><td>Ethics statement\r\n",
       "Prior to the study, data collection formats and procedures were reviewed and approved by the Researchers of Amhara Regional Agricultural Research Institute, Ethiopia (number Ls/Ru-3… [+7926 chars]</td></tr><tr><td>The BMJ</td><td>Wang, S., Chen, R., Wang, S., Kong, D., Cao, R., Lin, C., Luo, L., Huang, J., Zhang, Q., Yu, H., Ding, Y. L.</td><td>Comparative study on risk prediction model of type 2 diabetes based on machine learning theory: a cross-sectional study</td><td>Objectives To compare the prediction effects of six models based on machine learning theories, which can provide a methodological reference for predicting the risk of type 2 diabetes mellitus (T2DM).\n",
       "\n",
       "Setting and participants This study was based on the monit…</td><td>https://bmjopen.bmj.com/content/13/8/e069018?rss=1</td><td>2023-08-29T15:35:18Z</td><td>Introduction\r\n",
       "Diabetes mellitus (DM) is a metabolic disease characterised by a disorder of blood glucose metabolism, which is one of the major public health problems in the 21st century.1 In 2021, th… [+12451 chars]</td></tr><tr><td>Plos.org</td><td>Ricki Lewis, PhD</td><td>Why I’m Not Worried that ChatGTP Will Replace Me as a Biology Textbook Author</td><td>I just used ChatGTP for the first time. Initially, I was concerned about my future as the chatbot near-instantaneously answered my queries…\n",
       "The post Why I’m Not Worried that ChatGTP Will Replace Me as a Biology Textbook Author appeared first on DNA Science.</td><td>https://dnascience.plos.org/2023/09/07/why-im-not-worried-that-chatgtp-will-replace-me-as-a-biology-textbook-author/</td><td>2023-09-07T18:45:31Z</td><td>I just used ChatGTP for the first time. Initially, I was concerned about my future as the chatbot near-instantaneously answered my queries on increasingly obscure terms from my field, genetics. Stump… [+11215 chars]</td></tr><tr><td>IPWatchdog.com</td><td>Ben Hsing</td><td>Artificial Intelligence in Drug Development: Patent Considerations</td><td>Artificial intelligence (AI) is a field of computer science that creates software or models that mimic human reasoning or inference. Machine learning is a subset of AI which uses algorithms trained on massive amounts of data to allow the computer to learn wit…</td><td>https://ipwatchdog.com/2023/09/25/artificial-intelligence-drug-development-patent-considerations/id=167125/</td><td>2023-09-25T12:15:22Z</td><td>The transformative potential of AI, encompassing machine learning and generative capabilities, holds great promise for revolutionizing drug discovery and development. This promising horizon is accomp… [+16440 chars]</td></tr><tr><td>Plos.org</td><td>Antonio Charlys da Costa, Maria C. Mendes-Correa, Tania Regina Tozetto-Mendoza, Lucy S. Villas-Boas, Anderson Vicente de Paula, Heuder Gustavo Oliveira Paiao, Fabio E. Leal, Noely E. Ferreira, Layla Honorato, Elcio Leal, Giuliano Grandi, Vanessa dos Santos Morais, Erika R. Manuli, Ester C. Sabino, Steven S. Witkin</td><td>Detailed characterization of Redondovirus in saliva of SARS-CoV-2-infected individuals in Sao Paulo, Brazil</td><td>Background Redondovirus (ReDoV) is a DNA virus present in the respiratory tract of many healthy individuals. Since SARS-CoV-2, the virus responsible for COVID-19, also primarily infects the same site, we evaluated whether ReDoV was present at increased freque…</td><td>https://journals.plos.org/plosone/article?id=10.1371/journal.pone.0291027</td><td>2023-08-31T14:00:00Z</td><td>Abstract\r\n",
       "Background\r\n",
       "Redondovirus (ReDoV) is a DNA virus present in the respiratory tract of many healthy individuals. Since SARS-CoV-2, the virus responsible for COVID-19, also primarily infects th… [+24787 chars]</td></tr><tr><td>Plos.org</td><td>Zhaohong Huang, Xinyue Cui, Yuhao Xia, Kailong Zhao, Guijun Zhang</td><td>Pathfinder: Protein folding pathway prediction based on conformational sampling</td><td>Author summary The study of protein folding mechanism is an important part of basic science and has vital significance in many aspects. The key to the study of protein folding mechanism is to capture the conformational changes from the fast protein folding pr…</td><td>https://journals.plos.org/ploscompbiol/article?id=10.1371/journal.pcbi.1011438</td><td>2023-09-11T14:00:00Z</td><td>Abstract\r\n",
       "The study of protein folding mechanism is a challenge in molecular biology, which is of great significance for revealing the movement rules of biological macromolecules, understanding the p… [+51456 chars]</td></tr><tr><td>Plos.org</td><td>Bayarbaatar Amgalan, Chi-Ping Day, Teresa M. Przytycka</td><td>Exploring tumor-normal cross-talk with TranNet: Role of the environment in tumor progression</td><td>Author summary In oncological studies, control samples are usually biopsied from tumor-adjacent normal tissue. However, there is an increasing understanding that such samples represent a state that is intermediate between tumor and normal, and is influenced b…</td><td>https://journals.plos.org/ploscompbiol/article?id=10.1371/journal.pcbi.1011472</td><td>2023-09-18T14:00:00Z</td><td>Abstract\r\n",
       "There is a growing awareness that tumor-adjacent normal tissues used as control samples in cancer studies do not represent fully healthy tissues. Instead, they are intermediates between hea… [+61681 chars]</td></tr><tr><td>Plos.org</td><td>Shotaro Asano, Ryo Asaoka, Akio Oishi, Yuri Fujino, Hiroshi Murata, Keiko Azuma, Manabu Miyata, Ryo Obata, Tatsuya Inoue</td><td>Investigating the clinical validity of the guided progression analysis definition with 10–2 visual field in retinitis pigmentosa</td><td>Purpose To investigate the clinical validity of the Guided Progression Analysis definition (GPAD) and cluster-based definition (CBD) with the Humphrey Field Analyzer (HFA) 10–2 test in retinitis pigmentosa (RP).   Methods Ten non-progressive RP visual fields …</td><td>https://journals.plos.org/plosone/article?id=10.1371/journal.pone.0291208</td><td>2023-09-08T14:00:00Z</td><td>Abstract\r\n",
       "Purpose\r\n",
       "To investigate the clinical validity of the Guided Progression Analysis definition (GPAD) and cluster-based definition (CBD) with the Humphrey Field Analyzer (HFA) 102 test in reti… [+32571 chars]</td></tr></tbody></table></div>"
      ]
     },
     "metadata": {
      "application/vnd.databricks.v1+output": {
       "addedWidgets": {},
       "aggData": [],
       "aggError": "",
       "aggOverflow": false,
       "aggSchema": [],
       "aggSeriesLimitReached": false,
       "aggType": "",
       "arguments": {},
       "columnCustomDisplayInfos": {},
       "data": [
        [
         "Wired",
         "Amit Katwala",
         "DeepMind’s New AI Can Predict Genetic Diseases",
         "AlphaMissense, a new model from Google’s artificial intelligence team, analyzes the effects of DNA mutations and will accelerate research into rare diseases.",
         "https://www.wired.com/story/deepmind-ai-alphamissense-genetics-rare-diseases/",
         "2023-09-19T14:35:23Z",
         "About 10 years ago, iga Avsec was a PhD physics student who found himself taking a crash course in genomics via a university module on machine learning. He was soon working in a lab that studied rare… [+2913 chars]"
        ],
        [
         "The Next Web",
         "Ioanna Lykiardopoulou",
         "DeepMind’s new AI tool can predict genetic diseases",
         "Google DeepMind has unveiled its novel AI tool that can predict whether DNA mutations are likely to cause genetic diseases. The ambition is that it will  facilitate faster diagnosis and development of life-saving treatments. The new AI model, called AlphaMiss…",
         "https://thenextweb.com/news/deepminds-ai-tool-predicts-genetic-diseases",
         "2023-09-20T11:44:36Z",
         "Google DeepMind has unveiled its novel AI tool that can predict whether DNA mutations are likely to cause genetic diseases. The ambition is that it will  facilitate faster diagnosis and development o… [+2103 chars]"
        ],
        [
         "ReadWrite",
         "Muhammad Sohaib Saleem",
         "From Sci-Fi to Reality: The Roadmap of AI Development and Its Future Potential",
         "Artificial Intelligence has come a long way since its conceptualization in science fiction. What was once an imaginative idea is […]\nThe post From Sci-Fi to Reality: The Roadmap of AI Development and Its Future Potential appeared first on ReadWrite.",
         "https://readwrite.com/from-sci-fi-to-reality-the-roadmap-of-ai-development-and-its-future-potential/",
         "2023-09-25T20:00:51Z",
         "Artificial Intelligence has come a long way since its conceptualization in science fiction. What was once an imaginative idea is now a reality, revolutionizing various aspects of our lives. From self… [+8873 chars]"
        ],
        [
         "Phys.Org",
         "Science X",
         "Google AI tool predicts danger of genetic mutations",
         "Researchers at Google DeepMind, the tech giant's artificial intelligence arm, on Tuesday introduced a tool that predicts whether genetic mutations are likely to cause harm, a breakthrough that could help research into rare diseases.",
         "https://phys.org/news/2023-09-google-ai-tool-danger-genetic.html",
         "2023-09-20T08:35:47Z",
         "Researchers at Google DeepMind, the tech giant's artificial intelligence arm, on Tuesday introduced a tool that predicts whether genetic mutations are likely to cause harm, a breakthrough that could … [+3103 chars]"
        ],
        [
         "Euronews",
         null,
         "What’s AlphaMissense? This new Google DeepMind tool analyses genetic mutations",
         "AlphaMissense promises to predict how dangerous a genetic mutation is.",
         "https://www.euronews.com/next/2023/09/21/whats-alphamissense-this-new-google-deepmind-tool-analyses-genetic-mutations",
         "2023-09-21T14:02:13Z",
         "AlphaMissense promises to predict how dangerous a genetic mutation is.\r\n Researchers at DeepMind, one of Googles artificial intelligence (AI) companies, presented a new tool that predicts whether or … [+2308 chars]"
        ],
        [
         "Wired.co.uk",
         "Amit Katwala",
         "DeepMind’s New AI Can Predict Genetic Diseases",
         "AlphaMissense, a new model from Google’s artificial intelligence team, analyzes the effects of DNA mutations and will accelerate research into rare diseases.",
         "https://www.wired.co.uk/article/deepmind-ai-alphamissense-genetics-rare-diseases",
         "2023-09-19T14:33:25Z",
         "About 10 years ago, iga Avsec was a PhD physics student who found himself taking a crash course in genomics via a university module on machine learning. He was soon working in a lab that studied rare… [+4707 chars]"
        ],
        [
         "Singularity Hub",
         "Shelly Fan",
         "DeepMind AI Hunts Down the DNA Mutations Behind Genetic Disease",
         "Proteins are like Spider-Man in the multiverse. The underlying story is the same: each building block of a protein is based on a three-letter DNA code. However, change one letter, and the same protein becomes a different version of itself. If we’re lucky, som…",
         "https://singularityhub.com/2023/09/21/deepmind-ai-hunts-down-the-dna-mutations-behind-genetic-disease/",
         "2023-09-21T20:27:27Z",
         "Proteins are like Spider-Man in the multiverse.\r\nThe underlying story is the same: each building block of a protein is based on a three-letter DNA code. However, change one letter, and the same prote… [+6771 chars]"
        ],
        [
         "Forbes",
         "Steve Nouri, Forbes Councils Member, \n Steve Nouri, Forbes Councils Member\n https://www.forbes.com/sites/forbestechcouncil/people/stevenouri/",
         "Generative AI Drugs Are Coming",
         "The merging of deep, quality data and expertise with increasingly sophisticated AI capabilities has the potential to truly shift the future of medicine.",
         "https://www.forbes.com/sites/forbestechcouncil/2023/09/05/generative-ai-drugs-are-coming/",
         "2023-09-05T11:45:00Z",
         "Steve is the Founder of GenAI Works and AI4Diversity. He is an AI expert, tech evangelist, and influencer.\r\ngetty\r\nJust as ChatGPT is turning text directions into new written materials, or just as DA… [+6523 chars]"
        ],
        [
         "Forbes",
         "Ariel Katz, Forbes Councils Member, \n Ariel Katz, Forbes Councils Member\n https://www.forbes.com/sites/forbestechcouncil/people/arielkatz/",
         "10 Ways AI Is Advancing Healthcare",
         "Though there are challenges to be understood and overcome, AI is significantly improving the healthcare landscape.",
         "https://www.forbes.com/sites/forbestechcouncil/2023/09/19/10-ways-ai-is-advancing-healthcare/",
         "2023-09-19T14:00:00Z",
         "Ariel Katz, CEO and cofounder of H1.\r\ngetty\r\nThe explosion of generative AI in healthcarelargely due to the exponential growth of medical data, a shortage of healthcare providers and advancements in … [+6893 chars]"
        ],
        [
         "International Business Times",
         "AFP News",
         "Google AI Tool Predicts Danger Of Genetic Mutations",
         "Researchers at Google DeepMind, the tech giant's artificial intelligence arm, on Tuesday introduced a tool that predicts whether genetic mutations are likely to cause harm, a breakthrough that could help research into rare diseases.",
         "https://www.ibtimes.com/google-ai-tool-predicts-danger-genetic-mutations-3712362",
         "2023-09-19T20:57:36Z",
         "Researchers at Google DeepMind, the tech giant's artificial intelligence arm, on Tuesday introduced a tool that predicts whether genetic mutations are likely to cause harm, a breakthrough that could … [+2437 chars]"
        ],
        [
         "Forbes",
         "Alex Knapp, Forbes Staff, \n Alex Knapp, Forbes Staff\n https://www.forbes.com/sites/alexknapp/",
         "Retinal Imaging And Machine Learning Honored In The 2023 Lasker Awards",
         "The Lasker Foundation’s annual awards for medical research honor the inventors of optical coherence tomography and more.",
         "https://www.forbes.com/sites/alexknapp/2023/09/21/retinal-imaging-and-machine-learning-honored-in-the-2023-lasker-awards/",
         "2023-09-21T13:00:00Z",
         "Professor James Fujimoto\r\nJake Belcher Courtesy The Lasker Foundation\r\nThe Lasker Foundations annual awards for medical research honor the inventors of optical coherence tomography, DeepMinds AlphaFo… [+5081 chars]"
        ],
        [
         "Bangkok Post",
         "AFP",
         "Google AI tool predicts danger of genetic mutations",
         "WASHINGTON - Researchers at Google DeepMind, the tech giant's artificial intelligence arm, on Tuesday introduced a tool that predicts whether genetic mutations are likely to cause harm, a breakthrough that could help research into rare diseases.",
         "https://www.bangkokpost.com/world/2650034/google-ai-tool-predicts-danger-of-genetic-mutations",
         "2023-09-19T21:45:00Z",
         "WASHINGTON - Researchers at Google DeepMind, the tech giant's artificial intelligence arm, on Tuesday introduced a tool that predicts whether genetic mutations are likely to cause harm, a breakthroug… [+2450 chars]"
        ],
        [
         "Japan Today",
         null,
         "Google AI tool predicts danger of genetic mutations",
         "Researchers at Google DeepMind, the tech giant's artificial intelligence arm, on Tuesday introduced a tool that predicts whether genetic mutations are likely to cause harm, a breakthrough that could help research into rare diseases. The findings are &quot;ano…",
         "https://japantoday.com/category/features/health/google-ai-tool-predicts-danger-of-genetic-mutations1",
         "2023-09-19T21:43:46Z",
         "Researchers at Google DeepMind, the tech giant's artificial intelligence arm, on Tuesday introduced a tool that predicts whether genetic mutations are likely to cause harm, a breakthrough that could … [+2449 chars]"
        ],
        [
         "Moneycontrol",
         "Lisa Jarvis",
         "Google DeepMind#39;s AI tool could pinpoint our genetic faults",
         "Thereâs been plenty of worrying about the damage AI could do, but discoveries like the GoogleÂ tool that can pluck harmful genome mutations from thousands of minute-but-benign onesÂ show how AI can accelerate progress on the most vexing questions about huma…",
         "https://www.moneycontrol.com/news/opinion/google-deepminds-ai-tool-could-pinpoint-our-genetic-faults-11401241.html",
         "2023-09-21T04:35:15Z",
         "Its becoming increasingly clear that scientists are only scratching the surface of what artificial intelligence can teach us about human biology and disease. Case in point: new work by Alphabet's AI … [+4751 chars]"
        ],
        [
         "CNA",
         null,
         "Google AI tool predicts danger of genetic mutations",
         "WASHINGTON: Researchers at Google DeepMind, the tech giant's artificial intelligence arm, on Tuesday (Sep 19) introduced a tool that predicts whether genetic mutations are likely to cause harm, a breakthrough that could help research into rare diseases. The f…",
         "https://www.channelnewsasia.com/business/google-ai-tool-predicts-danger-genetic-mutations-3784016",
         "2023-09-19T22:11:01Z",
         "WASHINGTON: Researchers at Google DeepMind, the tech giant's artificial intelligence arm, on Tuesday (Sep 19) introduced a tool that predicts whether genetic mutations are likely to cause harm, a bre… [+2462 chars]"
        ],
        [
         "TweakTown",
         "Jak Connor",
         "Google's new AI breakthrough is a 'big step forward' to creating 'life-saving treatments'",
         "Google's AI firm has designed an artificial intelligence system to detect abnormal genetic mutations that can lead to diseases emerging. Continue reading at TweakTown >",
         "https://www.tweaktown.com/news/93431/googles-new-ai-breakthrough-is-big-step-forward-to-creating-life-saving-treatments/index.html",
         "2023-09-25T04:07:03Z",
         "Google DeepMind has created a new AI system that is capable of detecting genetic mutations that may lead to diseases.\r\nA new study published in the journal Science details a new AI model called Alpha… [+1822 chars]"
        ],
        [
         "New Scientist",
         "Michael Le Page",
         "DeepMind AI can predict if DNA mutations are likely to be harmful",
         "By working out which small mutations will probably be damaging, DeepMind’s AlphaMissense system could help doctors identify the cause of genetic diseases",
         "https://www.newscientist.com/article/2392821-deepmind-ai-can-predict-if-dna-mutations-are-likely-to-be-harmful/",
         "2023-09-19T15:30:21Z",
         "DeepMind’s AlphaMissense AI can predict whether mutations will affect how proteins such as haemoglobin subunit beta (left) or cystic fibrosis transmembrane conductance regulator (right) will function… [+3548 chars]"
        ],
        [
         "Forbes",
         "Rob Toews, Contributor, \n Rob Toews, Contributor\n https://www.forbes.com/sites/robtoews/",
         "Transformers Revolutionized AI. What Will Replace Them?",
         "No technology remains dominant forever.",
         "https://www.forbes.com/sites/robtoews/2023/09/03/transformers-revolutionized-ai-what-will-replace-them/",
         "2023-09-03T22:00:00Z",
         "The transformer, today's dominant AI architecture, has interesting parallels to the alien language ... [+] in the 2016 science fiction film \"Arrival.\"\r\nParamount Pictures\r\nIf modern artificial intell… [+20795 chars]"
        ],
        [
         "Livemint",
         "mint",
         "Google’s AlphaFold has a new tool to track genetic mutations",
         "Last year’s AI breakthrough is showing what it can do for health",
         "https://www.livemint.com/opinion/online-views/googles-alphafold-has-a-new-tool-to-track-genetic-mutations-11695306099645.html",
         "2023-09-21T14:51:02Z",
         "Its becoming clear that scientists are only scratching the surface of what artificial intelligence (AI) can teach us about human biology and disease. Case in point: new work by Alphabets AI subsidiar… [+4506 chars]"
        ],
        [
         "Biztoc.com",
         "ft.com",
         "DeepMind uses AI to predict harmful genetic mutations in humans",
         "First example of artificial intelligence helping to accelerate diagnosis of diseases caused by genetic variants",
         "https://biztoc.com/x/9ceb51271e409210",
         "2023-09-19T15:42:11Z",
         "First example of artificial intelligence helping to accelerate diagnosis of diseases caused by genetic variants\r\nThis story appeared on ft.com, ."
        ],
        [
         "NDTV News",
         null,
         "Google's New AI Tool Predicts Danger Of Genetic Mutations",
         "Researchers at Google DeepMind, the tech giant's artificial intelligence arm, on Tuesday introduced a tool that predicts whether genetic mutations are likely to cause harm, a breakthrough that could help research into rare diseases.",
         "https://www.ndtv.com/science/google-new-ai-tool-predicts-danger-of-genetic-mutations-4405728",
         "2023-09-20T01:51:26Z",
         "Washington: Researchers at Google DeepMind, the tech giant's artificial intelligence arm, on Tuesday introduced a tool that predicts whether genetic mutations are likely to cause harm, a breakthrough… [+2573 chars]"
        ],
        [
         "Gadgets360.com",
         "Agence France-Presse",
         "Google DeepMind AI Tool Predicts Whether Genetic Mutations Are Likely to Cause Harm",
         "Researchers at Google DeepMind, the tech giant's artificial intelligence arm, on Tuesday introduced a tool that predicts whether genetic mutations are likely to cause harm, a breakthrough that could help research into rare diseases.",
         "https://www.gadgets360.com/internet/news/google-deepmind-ai-tool-predicts-genetic-mutation-dangers-rare-diseases-research-4406178",
         "2023-09-20T06:22:52Z",
         "Researchers at Google DeepMind, the tech giant's artificial intelligence arm, on Tuesday introduced a tool that predicts whether genetic mutations are likely to cause harm, a breakthrough that could … [+2515 chars]"
        ],
        [
         "Cloudtweaks.com",
         "Gary Bernstein",
         "The Age of AI Benefits: A Global Transformation",
         "Artificial Intelligence (AI) has emerged as a transformative force that is reshaping industries, improving our daily lives, and pushing the boundaries of human potential. This cutting-edge technology is no longer confined to science fiction; it has become an …",
         "https://cloudtweaks.com/2023/09/age-ai-benefits-global-transformation/",
         "2023-09-05T10:07:40Z",
         "Artificial Intelligence (AI) has emerged as a transformative force that is reshaping industries, improving our daily lives, and pushing the boundaries of human potential. This cutting-edge technology… [+7082 chars]"
        ],
        [
         "Cryptopolitan",
         "John Palmer",
         "Deep Genomics Unveils Groundbreaking AI Foundation Model for RNA Therapeutics",
         "Deep Genomics, a pioneering AI-driven drug development company, has introduced an innovative AI foundation model called BigRNA. This transformative model, based on deep learning, represents a significant leap forward in the discovery of RNA biology and therap…",
         "https://www.cryptopolitan.com/deep-genomics-unveils-ai-foundation/",
         "2023-09-27T14:11:06Z",
         "<ul><li>Deep Genomics introduces BigRNA, a groundbreaking AI foundation model for RNA therapeutics, with immense potential for revolutionizing drug discovery.</li><li>BigRNA’s versatility, extensive … [+5733 chars]"
        ],
        [
         "Dataversity.net",
         "Paramita (Guha) Ghosh",
         "Machine Learning Use Cases for Data Management",
         "In 2023, machine learning (ML) is a powerful enabler for Data Management, revolutionizing the way organizations handle and analyze vast amounts of data. ML, a subset of artificial intelligence (AI), offers various approaches to tackle Data Management challeng…",
         "https://www.dataversity.net/machine-learning-use-cases-data-management/",
         "2023-08-31T07:35:00Z",
         "In 2023, machine learning (ML) is a powerful enabler for Data Management, revolutionizing the way organizations handle and analyze vast amounts of data. ML, a subset of artificial intelligence (AI), … [+14744 chars]"
        ],
        [
         "GlobeNewswire",
         "XCELLENT INSIGHTS LLP",
         "Global Precision Medicine Market Size to Reach USD 148.2 Billion in 2032 | Xcellent Insights",
         "Pune, Sept. 26, 2023 (GLOBE NEWSWIRE) -- The Global Precision Medicine Market\r\n has witnessed remarkable growth, reaching a size of approximately USD 57.69 billion in 2022, and is projected to further expand to USD 110.9 billion with a robust CAGR of 11.5% du…",
         "https://www.globenewswire.com/news-release/2023/09/25/2749076/0/en/Global-Precision-Medicine-Market-Size-to-Reach-USD-148-2-Billion-in-2032-Xcellent-Insights.html",
         "2023-09-25T23:02:00Z",
         "Pune, Sept. 26, 2023 (GLOBE NEWSWIRE) -- The Global Precision Medicine Market\r\n has witnessed remarkable growth, reaching a size of approximately USD 57.69 billion in 2022, and is projected to furthe… [+10510 chars]"
        ],
        [
         "The Times of India",
         "The Feed",
         "Mark Zuckerberg and Dr Priscilla Chan aim to eradicate all diseases by 2100",
         "Mark Zuckerberg and his wife, Priscilla Chan, plan to eradicate all human diseases by 2100 through their foundation, The Chan Zuckerberg Initiative. They aim to create a computing system that utilises artificial intelligence (AI) to study cell behavior and de…",
         "https://economictimes.indiatimes.com/news/new-updates/mark-zuckerberg-and-his-wife-aim-to-eradicate-all-diseases-by-2100/articleshow/103958277.cms",
         "2023-09-26T10:09:23Z",
         "Mark Zuckerberg and his wife Dr. Priscilla Chan plan to eradicate all human diseases by 2100 through their foundation, The Chan Zuckerberg Initiative (CZI). The foundation intends to create a special… [+2691 chars]"
        ],
        [
         "Americanthinker.com",
         null,
         "Look at all the ways AI is changing transportation and health care",
         "Artificial intelligence, now subject to congressional scrutiny and billionaire powwows in recent news stories, changing everything, it seems, and in ways that may surprise us.\r\n\r\nPerhaps the most noticeable way that AI will change how we do things&nb...",
         "https://www.americanthinker.com/blog/2023/09/ai_is_changing_transportation_and_healthcare.html",
         "2023-09-16T05:00:00Z",
         "Artificial intelligence, now subject to congressional scrutiny and billionaire powwows in recent news stories, changing everything, it seems, and in ways that may surprise us.\r\nPerhaps the most notic… [+5461 chars]"
        ],
        [
         "Marketscreener.com",
         "GlobeNewswire",
         "Valo Health and Novo Nordisk to collaborate to discover and develop novel treatments for cardiometabolic diseases using human data and artificial intelligence",
         "(marketscreener.com) Collaboration will apply Valo’s Opal Computational Platform™ and real-world patient dataset to enable the discovery and development of novel cardiometabolic drug programmes Novo Nordisk licenses three preclinical drug discovery programmes…",
         "https://www.marketscreener.com/quote/stock/NOVO-NORDISK-AS-39433525/news/Valo-Health-and-Novo-Nordisk-to-collaborate-to-discover-and-develop-novel-treatments-for-cardiometab-44914731/",
         "2023-09-25T12:02:02Z",
         "Collaboration will apply Valos Opal Computational Platform and real-world patient dataset to enable the discovery and development of novel cardiometabolic drug programmes\r\nNovo Nordisk licenses three… [+6429 chars]"
        ],
        [
         "GlobeNewswire",
         "Novo Nordisk A/S",
         "Valo Health and Novo Nordisk to collaborate to discover and develop novel treatments for cardiometabolic diseases using human data and artificial intelligence",
         "Collaboration will apply Valo’s Opal Computational Platform™ and real-world patient dataset to enable the discovery and development of novel cardiometabolic drug programmes",
         "https://www.globenewswire.com/news-release/2023/09/25/2748601/0/en/Valo-Health-and-Novo-Nordisk-to-collaborate-to-discover-and-develop-novel-treatments-for-cardiometabolic-diseases-using-human-data-and-artificial-intelligence.html",
         "2023-09-25T12:00:00Z",
         "Collaboration will apply Valos Opal Computational Platform and real-world patient dataset to enable the discovery and development of novel cardiometabolic drug programmes\r\nNovo Nordisk licenses three… [+5554 chars]"
        ],
        [
         "GlobeNewswire",
         "ReportLinker",
         "Global Next-Generation Sequencing on Drug Development Market",
         "Report Scope:. The scope of this report includes NGS technologies, applications, industries, initiatives, patents and companies. The markets for NGS in drug development are given for 2020, 2021, 2022, 2023 and 2028. Report Scope:. The scope of this report inc…",
         "https://www.globenewswire.com/news-release/2023/09/04/2736570/0/en/Global-Next-Generation-Sequencing-on-Drug-Development-Market.html",
         "2023-09-04T10:09:00Z",
         "New York, Sept. 04, 2023 (GLOBE NEWSWIRE) -- Reportlinker.com announces the release of the report \"Global Next-Generation Sequencing on Drug Development Market\" - https://www.reportlinker.com/p064890… [+5370 chars]"
        ],
        [
         "The Conversation Africa",
         "Joseph Guhlin, Postdoctoral Researcher with Genomics Aotearoa, University of Otago, Peter Dearden, Professor and Director of Genomics Aotearoa, University of Otago",
         "How gene mapping almost all remaining kākāpō will help NZ’s rare night parrot survive",
         "Kākāpō are prone to disease and infertility. Only intensive species management has saved the flightless parrots from extinction. Genome data now reveals the genetic reasons behind these problems.",
         "https://theconversation.com/how-gene-mapping-almost-all-remaining-kakapo-will-help-nzs-rare-night-parrot-survive-212451",
         "2023-08-30T04:13:18Z",
         "Shutterstock/FeatherStalker Don\r\nThe genetic mapping of almost the entire kākāpō population has shed new light on specific traits that will help conservation biologists in their efforts to save the c… [+5858 chars]"
        ],
        [
         "Marketscreener.com",
         "GlobeNewswire",
         "Gain Therapeutics to Present at the Cambridge Healthtech Institute's 2nd Annual Neurodegeneration Targets Conference",
         "(marketscreener.com) BETHESDA, Md., Sept. 20, 2023 -- Gain Therapeutics, Inc., , a biotechnology company leading the discovery and development of the next generation of allosteric small molecule therapies, today announced that Matthias Alder, Chief Executive …",
         "https://www.marketscreener.com/quote/stock/GAIN-THERAPEUTICS-INC-120780704/news/Gain-Therapeutics-to-Present-at-the-Cambridge-Healthtech-Institute-s-2nd-Annual-Neurodegeneration-Ta-44889216/",
         "2023-09-20T20:06:02Z",
         "BETHESDA, Md., Sept. 20, 2023 (GLOBE NEWSWIRE) -- Gain Therapeutics, Inc., (Nasdaq: GANX) (Gain, or the Company), a biotechnology company leading the discovery and development of the next generation … [+6995 chars]"
        ],
        [
         "GlobeNewswire",
         "Gain Therapeutics, Inc.",
         "Gain Therapeutics to Present at the Cambridge Healthtech Institute’s 2nd Annual Neurodegeneration Targets Conference",
         "BETHESDA, Md., Sept. 20, 2023 (GLOBE NEWSWIRE) -- Gain Therapeutics, Inc., (Nasdaq: GANX) (“Gain”, or the “Company”), a biotechnology company leading the discovery and development of the next generation of allosteric small molecule therapies, today announced …",
         "https://www.globenewswire.com/news-release/2023/09/20/2746852/0/en/Gain-Therapeutics-to-Present-at-the-Cambridge-Healthtech-Institute-s-2nd-Annual-Neurodegeneration-Targets-Conference.html",
         "2023-09-20T20:05:00Z",
         "BETHESDA, Md., Sept. 20, 2023 (GLOBE NEWSWIRE) -- Gain Therapeutics, Inc., (Nasdaq: GANX) (Gain, or the Company), a biotechnology company leading the discovery and development of the next generation … [+6995 chars]"
        ],
        [
         "GlobeNewswire",
         "Research and Markets",
         "Unlocking the Future of Gene Fusion Testing: Advancements Project Market to Reach $897.6 Million by 2033",
         "Dublin, Aug. 30, 2023 (GLOBE NEWSWIRE) -- The \"Gene Fusion Testing Market - A Global and Regional Analysis: Focus on by Category, Technology, Indication, End User, and Region - Analysis and Forecast, 2023-2033\" report has been added to ResearchAndMarkets.com'…",
         "https://www.globenewswire.com/news-release/2023/08/30/2734481/28124/en/Unlocking-the-Future-of-Gene-Fusion-Testing-Advancements-Project-Market-to-Reach-897-6-Million-by-2033.html",
         "2023-08-30T13:38:00Z",
         "Dublin, Aug. 30, 2023 (GLOBE NEWSWIRE) -- The \"Gene Fusion Testing Market - A Global and Regional Analysis: Focus on by Category, Technology, Indication, End User, and Region - Analysis and Forecast,… [+5035 chars]"
        ],
        [
         "GlobeNewswire",
         "Precedence Research",
         "Artificial Intelligence (AI) in Cancer Diagnostics Market to Surpass USD 2,084.34 Million by 2032",
         "The global artificial intelligence (AI) in cancer diagnostics market was valued at USD 892.23 million in 2022 and is estimated to surpass around USD 2,084.34 million by 2032, growing at a healthy CAGR of 9.35% from 2023 to 2032. The global artificial intellig…",
         "https://www.globenewswire.com/news-release/2023/08/29/2733677/0/en/Artificial-Intelligence-AI-in-Cancer-Diagnostics-Market-to-Surpass-USD-2-084-34-Million-by-2032.html",
         "2023-08-29T15:30:00Z",
         "Ottawa, Aug. 29, 2023 (GLOBE NEWSWIRE) -- The global artificial intelligence (AI) in cancer diagnostics market revenue is projected to reach around USD 1,466.72 million by 2029, a Study published by … [+17038 chars]"
        ],
        [
         "Marketscreener.com",
         "GlobeNewswire",
         "Gain Therapeutics Receives Approval to Commence Phase 1 Clinical Study of GT-02287 from the Human Research Ethics Committee (HREC) in Australia",
         "(marketscreener.com)                 First drug candidate identified with Gain’s proprietary computational drug discovery platform SEE-Tx® to enter clinical development phase BETHESDA, Md., Sept. 12, 2023 -- Gain Therapeutics, Inc. , a biotechnology company l…",
         "https://www.marketscreener.com/quote/stock/GAIN-THERAPEUTICS-INC-120780704/news/Gain-Therapeutics-Receives-Approval-to-Commence-Phase-1-Clinical-Study-of-GT-02287-from-the-Human-Re-44824294/",
         "2023-09-12T13:26:02Z",
         "First drug candidate identified with Gains proprietary computational drug discovery platform SEE-Tx® to enter clinical development phase\r\nBETHESDA, Md., Sept. 12, 2023 (GLOBE NEWSWIRE) -- Gain Therap… [+7640 chars]"
        ],
        [
         "GlobeNewswire",
         "Gain Therapeutics, Inc.",
         "Gain Therapeutics Receives Approval to Commence Phase 1 Clinical Study of GT-02287 from the Human Research Ethics Committee (HREC) in Australia",
         "First drug candidate identified with Gain’s proprietary computational drug discovery platform SEE-Tx® to enter clinical development phase...",
         "https://www.globenewswire.com/news-release/2023/09/12/2741790/0/en/Gain-Therapeutics-Receives-Approval-to-Commence-Phase-1-Clinical-Study-of-GT-02287-from-the-Human-Research-Ethics-Committee-HREC-in-Australia.html",
         "2023-09-12T13:25:00Z",
         "First drug candidate identified with Gains proprietary computational drug discovery platform SEE-Tx® to enter clinical development phase\r\nBETHESDA, Md., Sept. 12, 2023 (GLOBE NEWSWIRE) -- Gain Therap… [+7640 chars]"
        ],
        [
         "Phys.Org",
         "Angela Nicoletti",
         "Matchmaking (with AI) to help proteins pair up",
         "Successful matchmaking with protein molecules is like all other kinds of matchmaking: The two must click for it to work.",
         "https://phys.org/news/2023-09-matchmaking-ai-proteins-pair.html",
         "2023-09-14T14:20:04Z",
         "Successful matchmaking with protein molecules is like all other kinds of matchmaking: The two must click for it to work.\r\nExcept for proteinsthe estimated 200 million unique molecular building blocks… [+6085 chars]"
        ],
        [
         "National Institutes of Health",
         null,
         "Notice of Upcoming Prize Competition Announcement for the Complement-Animal Research in Experimentation (Complement-ARIE) Challenge",
         "NIH Funding Opportunities and Notices in the NIH Guide for Grants and Contracts: Notice of Upcoming Prize Competition Announcement for the Complement-Animal Research in Experimentation (Complement-ARIE) Challenge NOT-RM-23-025. RMOD",
         "https://grants.nih.gov/grants/guide/notice-files/NOT-RM-23-025.html",
         "2023-09-20T08:36:17Z",
         "The NIH Common Fund is beginning a strategic planning process for a potential Complement-Animal Research In Experimentation (Complement-ARIE) program to catalyze the development, standardization, val… [+12503 chars]"
        ],
        [
         "PRNewswire",
         null,
         "From AI to Patient Advocacy: The Comprehensive Orphan Drugs and Rare Diseases Conference: London, United Kingdom - October 9-10, 2023",
         "DUBLIN, Sept. 22, 2023 /PRNewswire/ -- ResearchAndMarkets.com announces the 4th Annual Orphan Drugs and Rare Diseases Conference, scheduled for October 9-10 in London, UK. This prestigious event offers an in-depth exploration into the ever-evolving world of o…",
         "https://www.prnewswire.com/news-releases/from-ai-to-patient-advocacy-the-comprehensive-orphan-drugs-and-rare-diseases-conference-london-united-kingdom---october-9-10-2023-301936108.html",
         "2023-09-22T23:45:00Z",
         "DUBLIN, Sept. 22, 2023 /PRNewswire/ -- ResearchAndMarkets.com announces the 4th Annual Orphan Drugs and Rare Diseases Conference, scheduled for October 9-10 in London, UK. This prestigious event offe… [+4959 chars]"
        ],
        [
         "Marketscreener.com",
         "GlobeNewswire",
         "Gain Therapeutics Presents New Preclinical Data Demonstrating a Reduction of Plasma Neurodegeneration Biomarker NfL after Administration of its Drug Candidate GT-02287 in GBA1 Parkinson's Disease Model",
         "(marketscreener.com) Treatment with GT-02287 also restored glucocerebrosidase enzymatic function, reduced aggregated α-synuclein, neuroinflammation and neuronal death, increased dopamine levels and improved motor function Data presented at the International C…",
         "https://www.marketscreener.com/quote/stock/GAIN-THERAPEUTICS-INC-120780704/news/Gain-Therapeutics-Presents-New-Preclinical-Data-Demonstrating-a-Reduction-of-Plasma-Neurodegeneratio-44710839/",
         "2023-08-28T11:01:02Z",
         "Treatment with GT-02287 also restored glucocerebrosidase (GCase) enzymatic function, reduced aggregated -synuclein, neuroinflammation and neuronal death, increased dopamine levels and improved motor … [+8782 chars]"
        ],
        [
         "GlobeNewswire",
         "Gain Therapeutics, Inc.",
         "Gain Therapeutics Presents New Preclinical Data Demonstrating a Reduction of Plasma Neurodegeneration Biomarker NfL after Administration of its Drug Candidate GT-02287 in GBA1 Parkinson’s Disease Model",
         "Treatment with GT-02287 also restored glucocerebrosidase (GCase) enzymatic function, reduced aggregated α-synuclein, neuroinflammation and neuronal death, increased dopamine levels and improved motor function",
         "https://www.globenewswire.com/news-release/2023/08/28/2732467/0/en/Gain-Therapeutics-Presents-New-Preclinical-Data-Demonstrating-a-Reduction-of-Plasma-Neurodegeneration-Biomarker-NfL-after-Administration-of-its-Drug-Candidate-GT-02287-in-GBA1-Park.html",
         "2023-08-28T11:00:00Z",
         "Treatment with GT-02287 also restored glucocerebrosidase (GCase) enzymatic function, reduced aggregated -synuclein, neuroinflammation and neuronal death, increased dopamine levels and improved motor … [+8782 chars]"
        ],
        [
         "GlobeNewswire",
         "Transparency Market Research",
         "Clinical Trials Market to Exceed USD 83.5 billion by 2030, Garnering 5.4% CAGR – Exclusive Report by Transparency Market Research",
         "The clinical trials market is expanding, driven by increased drug development activities and advancements in trial design and technology. The clinical trials market is expanding, driven by increased drug development activities and advancements in trial design…",
         "https://www.globenewswire.com/news-release/2023/09/27/2750351/32656/en/Clinical-Trials-Market-to-Exceed-USD-83-5-billion-by-2030-Garnering-5-4-CAGR-Exclusive-Report-by-Transparency-Market-Research.html",
         "2023-09-27T12:13:00Z",
         "Wilmington, Delaware, United States, Sept. 27, 2023 (GLOBE NEWSWIRE) -- Transparency Market Research Inc. - The clinical trials market was estimated to have acquired US$ 46.7 billion in 2019. It is a… [+7821 chars]"
        ],
        [
         "Slashdot.org",
         "feedfeeder",
         "DeepMind’s New AI Can Predict Genetic Diseases",
         "AlphaMissense, a new model from Google&rsquo;s artificial intelligence team, analyzes the effects of DNA mutations and will accelerate research into rare diseases.",
         "https://slashdot.org/firehose.pl?op=view&amp;id=171854934",
         "2023-09-19T14:52:29Z",
         "The Fine Print: The following comments are owned by whoever posted them. We are not responsible for them in any way."
        ],
        [
         "Plos.org",
         "Weiguang Liu, Rafael Delalibera Rodrigues, Jianglong Yan, Yu-tao Zhu, Everson José de Freitas Pereira, Gen Li, Qiusheng Zheng, Liang Zhao",
         "Complex network-based classification of radiographic images for COVID-19 diagnosis",
         "In this work, we present a network-based technique for chest X-ray image classification to help the diagnosis and prognosis of patients with COVID-19. From visual inspection, we perceive that healthy and COVID-19 chest radiographic images present different le…",
         "https://journals.plos.org/plosone/article?id=10.1371/journal.pone.0290968",
         "2023-09-01T14:00:00Z",
         "Abstract\r\nIn this work, we present a network-based technique for chest X-ray image classification to help the diagnosis and prognosis of patients with COVID-19. From visual inspection, we perceive th… [+72655 chars]"
        ],
        [
         "National Institutes of Health",
         null,
         "Fc-Dependent Mechanisms of Antibody-Mediated Killing (R01 Clinical Trial Not Allowed)",
         "Funding Opportunity RFA-AI-23-054 from the NIH Guide for Grants and Contracts. The purpose of this notice of funding opportunity (NOFO) is to support basic research that will elucidate mechanisms of Fc-mediated antibody functions, including antibody-dependent…",
         "https://grants.nih.gov/grants/guide/rfa-files/RFA-AI-23-054.html",
         "2023-09-26T08:17:39Z",
         "Participating Organization(s) \r\nNational Institutes of Health (NIH)\r\nComponents of Participating Organizations \r\nNational Institute of Allergy and Infectious Diseases (NIAID) \r\nFunding Opportunity Ti… [+56961 chars]"
        ],
        [
         "Mercola.com",
         "communities@mercola.com (Dr. Joseph Mercola)",
         "'ChatGPT' for Biology? A Dictatorship of Engineers",
         "Hopefully, [the ultimate search engine Google was building] would never have a bug like HAL did where he killed the occupants of the spaceship. ~ Sergey Brin (NewsHour with Jim Lehrer, November 2002)1\r\n\n\n\nAs if the ChatGPT craze weren’t bad enough, the $$$$$ …",
         "https://articles.mercola.com/sites/articles/archive/2023/09/01/chatgpt-for-biology.aspx",
         "2023-09-01T00:00:00Z",
         "Mercola proudly supports these charities and organizations. View All \r\nDisclaimer: The entire contents of this website are based upon the opinions of Dr. Mercola, unless otherwise noted. Individual a… [+1007 chars]"
        ],
        [
         "Plos.org",
         "Zeleke Tesema, Belay Deribe, Mekonnen Tilahun, Alemu Kefale, Getachew Worku Alebachew, Kefyalew Alemayehu, Tesfaye Getachew, Damitie Kebede, Mengistie Taye, Solomon Gizaw",
         "Estimation of crossbreeding and genetic parameters for reproductive traits of Boer x Central Highland goats in Ethiopia",
         "Additive genetic and non-additive parameters for reproductive traits of Boer x Central Highland goats were estimated. Pedigree and performance records comprised of Central Highland and their crosses with Boer goats were collected from 2009 to 2018 in the Siri…",
         "https://journals.plos.org/plosone/article?id=10.1371/journal.pone.0291996",
         "2023-09-27T14:00:00Z",
         "Ethics statement\r\nPrior to the study, data collection formats and procedures were reviewed and approved by the Researchers of Amhara Regional Agricultural Research Institute, Ethiopia (number Ls/Ru-3… [+7926 chars]"
        ],
        [
         "The BMJ",
         "Wang, S., Chen, R., Wang, S., Kong, D., Cao, R., Lin, C., Luo, L., Huang, J., Zhang, Q., Yu, H., Ding, Y. L.",
         "Comparative study on risk prediction model of type 2 diabetes based on machine learning theory: a cross-sectional study",
         "Objectives To compare the prediction effects of six models based on machine learning theories, which can provide a methodological reference for predicting the risk of type 2 diabetes mellitus (T2DM).\n\nSetting and participants This study was based on the monit…",
         "https://bmjopen.bmj.com/content/13/8/e069018?rss=1",
         "2023-08-29T15:35:18Z",
         "Introduction\r\nDiabetes mellitus (DM) is a metabolic disease characterised by a disorder of blood glucose metabolism, which is one of the major public health problems in the 21st century.1 In 2021, th… [+12451 chars]"
        ],
        [
         "Plos.org",
         "Ricki Lewis, PhD",
         "Why I’m Not Worried that ChatGTP Will Replace Me as a Biology Textbook Author",
         "I just used ChatGTP for the first time. Initially, I was concerned about my future as the chatbot near-instantaneously answered my queries…\nThe post Why I’m Not Worried that ChatGTP Will Replace Me as a Biology Textbook Author appeared first on DNA Science.",
         "https://dnascience.plos.org/2023/09/07/why-im-not-worried-that-chatgtp-will-replace-me-as-a-biology-textbook-author/",
         "2023-09-07T18:45:31Z",
         "I just used ChatGTP for the first time. Initially, I was concerned about my future as the chatbot near-instantaneously answered my queries on increasingly obscure terms from my field, genetics. Stump… [+11215 chars]"
        ],
        [
         "IPWatchdog.com",
         "Ben Hsing",
         "Artificial Intelligence in Drug Development: Patent Considerations",
         "Artificial intelligence (AI) is a field of computer science that creates software or models that mimic human reasoning or inference. Machine learning is a subset of AI which uses algorithms trained on massive amounts of data to allow the computer to learn wit…",
         "https://ipwatchdog.com/2023/09/25/artificial-intelligence-drug-development-patent-considerations/id=167125/",
         "2023-09-25T12:15:22Z",
         "The transformative potential of AI, encompassing machine learning and generative capabilities, holds great promise for revolutionizing drug discovery and development. This promising horizon is accomp… [+16440 chars]"
        ],
        [
         "Plos.org",
         "Antonio Charlys da Costa, Maria C. Mendes-Correa, Tania Regina Tozetto-Mendoza, Lucy S. Villas-Boas, Anderson Vicente de Paula, Heuder Gustavo Oliveira Paiao, Fabio E. Leal, Noely E. Ferreira, Layla Honorato, Elcio Leal, Giuliano Grandi, Vanessa dos Santos Morais, Erika R. Manuli, Ester C. Sabino, Steven S. Witkin",
         "Detailed characterization of Redondovirus in saliva of SARS-CoV-2-infected individuals in Sao Paulo, Brazil",
         "Background Redondovirus (ReDoV) is a DNA virus present in the respiratory tract of many healthy individuals. Since SARS-CoV-2, the virus responsible for COVID-19, also primarily infects the same site, we evaluated whether ReDoV was present at increased freque…",
         "https://journals.plos.org/plosone/article?id=10.1371/journal.pone.0291027",
         "2023-08-31T14:00:00Z",
         "Abstract\r\nBackground\r\nRedondovirus (ReDoV) is a DNA virus present in the respiratory tract of many healthy individuals. Since SARS-CoV-2, the virus responsible for COVID-19, also primarily infects th… [+24787 chars]"
        ],
        [
         "Plos.org",
         "Zhaohong Huang, Xinyue Cui, Yuhao Xia, Kailong Zhao, Guijun Zhang",
         "Pathfinder: Protein folding pathway prediction based on conformational sampling",
         "Author summary The study of protein folding mechanism is an important part of basic science and has vital significance in many aspects. The key to the study of protein folding mechanism is to capture the conformational changes from the fast protein folding pr…",
         "https://journals.plos.org/ploscompbiol/article?id=10.1371/journal.pcbi.1011438",
         "2023-09-11T14:00:00Z",
         "Abstract\r\nThe study of protein folding mechanism is a challenge in molecular biology, which is of great significance for revealing the movement rules of biological macromolecules, understanding the p… [+51456 chars]"
        ],
        [
         "Plos.org",
         "Bayarbaatar Amgalan, Chi-Ping Day, Teresa M. Przytycka",
         "Exploring tumor-normal cross-talk with TranNet: Role of the environment in tumor progression",
         "Author summary In oncological studies, control samples are usually biopsied from tumor-adjacent normal tissue. However, there is an increasing understanding that such samples represent a state that is intermediate between tumor and normal, and is influenced b…",
         "https://journals.plos.org/ploscompbiol/article?id=10.1371/journal.pcbi.1011472",
         "2023-09-18T14:00:00Z",
         "Abstract\r\nThere is a growing awareness that tumor-adjacent normal tissues used as control samples in cancer studies do not represent fully healthy tissues. Instead, they are intermediates between hea… [+61681 chars]"
        ],
        [
         "Plos.org",
         "Shotaro Asano, Ryo Asaoka, Akio Oishi, Yuri Fujino, Hiroshi Murata, Keiko Azuma, Manabu Miyata, Ryo Obata, Tatsuya Inoue",
         "Investigating the clinical validity of the guided progression analysis definition with 10–2 visual field in retinitis pigmentosa",
         "Purpose To investigate the clinical validity of the Guided Progression Analysis definition (GPAD) and cluster-based definition (CBD) with the Humphrey Field Analyzer (HFA) 10–2 test in retinitis pigmentosa (RP).   Methods Ten non-progressive RP visual fields …",
         "https://journals.plos.org/plosone/article?id=10.1371/journal.pone.0291208",
         "2023-09-08T14:00:00Z",
         "Abstract\r\nPurpose\r\nTo investigate the clinical validity of the Guided Progression Analysis definition (GPAD) and cluster-based definition (CBD) with the Humphrey Field Analyzer (HFA) 102 test in reti… [+32571 chars]"
        ]
       ],
       "datasetInfos": [],
       "dbfsResultPath": null,
       "isJsonSchema": true,
       "metadata": {},
       "overflow": false,
       "plotOptions": {
        "customPlotOptions": {},
        "displayType": "table",
        "pivotAggregation": null,
        "pivotColumns": null,
        "xColumns": null,
        "yColumns": null
       },
       "removedWidgets": [],
       "schema": [
        {
         "metadata": "{}",
         "name": "name",
         "type": "\"string\""
        },
        {
         "metadata": "{}",
         "name": "author",
         "type": "\"string\""
        },
        {
         "metadata": "{}",
         "name": "title",
         "type": "\"string\""
        },
        {
         "metadata": "{}",
         "name": "description",
         "type": "\"string\""
        },
        {
         "metadata": "{}",
         "name": "url",
         "type": "\"string\""
        },
        {
         "metadata": "{}",
         "name": "publishedAt",
         "type": "\"string\""
        },
        {
         "metadata": "{}",
         "name": "content",
         "type": "\"string\""
        }
       ],
       "type": "table"
      }
     },
     "output_type": "display_data"
    }
   ],
   "source": [
    "df3 = df.rdd.map(lambda x: \\\n",
    "    (x.source['id'], x.source['name'], x.author, x.title, x.description, x.url, x.publishedAt, x.content)) \\\n",
    "    .toDF(['id','name','author','title','description','url','publishedAt','content'])\n",
    "\n",
    "df3 = df3.drop(\"id\")\n",
    "\n",
    "df3.display()"
   ]
  }
 ],
 "metadata": {
  "application/vnd.databricks.v1+notebook": {
   "dashboards": [],
   "language": "python",
   "notebookMetadata": {
    "pythonIndentUnit": 4
   },
   "notebookName": "Projeto NewsAPI",
   "widgets": {}
  },
  "language_info": {
   "name": "python"
  }
 },
 "nbformat": 4,
 "nbformat_minor": 0
}
